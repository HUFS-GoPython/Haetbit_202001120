{
 "cells": [
  {
   "cell_type": "markdown",
   "id": "b58932ed-ca72-4c12-b5bf-b08851f9757f",
   "metadata": {},
   "source": [
    "# 10주차 (0506) Review\n",
    "---"
   ]
  },
  {
   "cell_type": "markdown",
   "id": "60887401-b654-4440-9d72-79f5775dd78a",
   "metadata": {},
   "source": [
    "## 객체와 클래스\n",
    "- `객체를 구현하는 것` => 클래스\n",
    "    - 객체란? object\n",
    "    - 객체지향 프로그래밍\n",
    "- `속성과 행동을 가지는 개념` (실존하지 않아도 됨, 실존할 수도, 아닐 수도 있는 것!)\n",
    "    - 예: 자동차, 강아지, 꽃, `...thing`\n",
    "        - 자동차의 속성: 브랜드, 색, 속도, 모델, ... => `변수`\n",
    "        - 자동차의 행동: 가다, 서다, 회전, 주차, ... => `메소드(함수)`\n",
    "        - 강아지의 속성: 이름, 종, 색, 몸무게, ...\n",
    "        - 강아지의 행동: 뛰다, 짖다, 자다, 핥다, ...\n",
    "- `객체를 지향한다`는 것은?\n",
    "    - 만약, 편의점 프로그램을 만들고 싶다 => \"고객이 편의점에서 과자를 샀다.\"\n",
    "    - `객체를 만들고, 쪼갠다.`\n",
    "    - 객체: 고객, 편의점, 판매하는 물건\n",
    "        - 고객: 이름, 돈 // 편의점: 재고, 수익 // 판매하는 물건: 이름, 브랜드, 가격\n",
    "        - 물건을 사다, 돈을 내다. // 팔다, 수익을 남기다, 물건을 등록하다, ... // X (행동은 굳이 설정 안 해도 됨.)\n",
    "    - 이 셋의 상호작용으로 코드를 구성하는 것.\n",
    "- **코드를 짤 때 중요한 것**\n",
    "    - 내가 필요한 속성을 부여하는 것!"
   ]
  },
  {
   "cell_type": "markdown",
   "id": "41ccdfe6-249e-4e59-915f-43776e7b0df1",
   "metadata": {},
   "source": [
    "---\n",
    "### 클래스 선언\n",
    "- 첫 글자는 대문자로!\n",
    "- 카멜 표기법을 주로 사용!\n",
    "- nice car -> Nice_car(X)\n",
    "- NiceCar (O)\n",
    "- 그리고, 바로 ':' 이 온다.\n",
    "- 아무 설정을 안 한다면 'pass'를 쓰면 된다.\n",
    "- 정의부와 선언부가 있다.\n",
    "    - 정의부 = 붕어빵 틀\n",
    "    - 선언부 = 붕어빵"
   ]
  },
  {
   "cell_type": "code",
   "execution_count": 1,
   "id": "a6c72c05-e442-4bb8-a9a6-55b3d8c7dde2",
   "metadata": {},
   "outputs": [
    {
     "data": {
      "text/plain": [
       "<__main__.Car at 0x7f95a02ec7f0>"
      ]
     },
     "execution_count": 1,
     "metadata": {},
     "output_type": "execute_result"
    }
   ],
   "source": [
    "# 정의부\n",
    "class Car:\n",
    "    pass\n",
    "    \n",
    "    \n",
    "# 선언부\n",
    "my_car = Car()\n",
    "my_car # my_car는 instance, 즉 붕어빵"
   ]
  },
  {
   "cell_type": "code",
   "execution_count": 2,
   "id": "943ca333-c77d-4875-bdb6-6573d80a6757",
   "metadata": {},
   "outputs": [
    {
     "data": {
      "text/plain": [
       "'bmw'"
      ]
     },
     "execution_count": 2,
     "metadata": {},
     "output_type": "execute_result"
    }
   ],
   "source": [
    "my_car.name = 'bmw'\n",
    "my_car.color = 'white'\n",
    "\n",
    "# 이렇게 접근이 가능함!\n",
    "my_car.name"
   ]
  },
  {
   "cell_type": "code",
   "execution_count": 3,
   "id": "bead2e02-79d7-4bd8-bbb8-975000ac43ad",
   "metadata": {},
   "outputs": [],
   "source": [
    "class Car:\n",
    "    # 1. 이 방법의 문제점: 자동차 종류는 많은데, 변경하기에 번거로움이 있다.\n",
    "    name = 'BMW'"
   ]
  },
  {
   "cell_type": "code",
   "execution_count": 4,
   "id": "60b5e8b1-0076-4acd-9412-7ac59c6ef4c1",
   "metadata": {},
   "outputs": [
    {
     "data": {
      "text/plain": [
       "'BMW'"
      ]
     },
     "execution_count": 4,
     "metadata": {},
     "output_type": "execute_result"
    }
   ],
   "source": [
    "# 속성이 정의되었음\n",
    "your_car = Car()\n",
    "your_car.name"
   ]
  },
  {
   "cell_type": "code",
   "execution_count": 5,
   "id": "5a9412fd-ed6c-49ac-817d-cbd17e47eb30",
   "metadata": {},
   "outputs": [],
   "source": [
    "# 2. 더 커스터마이징을 하고 싶을 때!\n",
    "# init을 통해서, 객체를 만들 때 지정을 해주는 방법\n",
    "class Car:\n",
    "    def __init__(self, name): # init - 속성을 초기화하는 함수\n",
    "        # 어떤 속성을 초기화?\n",
    "        # :객체 만들 때 들어오는 값으로 이름을 값으로 설정하고 싶다.\n",
    "        self.name = name # 여기서 self는 instance (나 자신, 인스턴스 자신)"
   ]
  },
  {
   "cell_type": "code",
   "execution_count": 6,
   "id": "473452a9-bdcd-4fc8-b5e1-d7c5a278bfff",
   "metadata": {},
   "outputs": [
    {
     "name": "stdout",
     "output_type": "stream",
     "text": [
      "Hyundai\n",
      "Toyota\n"
     ]
    }
   ],
   "source": [
    "her_car = Car(name='Hyundai') # name을 정해줘야 함!\n",
    "print(her_car.name)\n",
    "\n",
    "his_car = Car('Toyota')\n",
    "print(his_car.name)"
   ]
  },
  {
   "cell_type": "code",
   "execution_count": 7,
   "id": "5c31c263-5984-4c39-8443-e59570dca38d",
   "metadata": {},
   "outputs": [
    {
     "data": {
      "text/plain": [
       "('Kia', 'SM6', 'black')"
      ]
     },
     "execution_count": 7,
     "metadata": {},
     "output_type": "execute_result"
    }
   ],
   "source": [
    "# car에 속성 추가하기 - 모델, 색\n",
    "\n",
    "class Car:\n",
    "    def __init__(self, name, model, color):\n",
    "        self.name = name\n",
    "        self.model = model\n",
    "        self.color = color\n",
    "\n",
    "\n",
    "# 순서대로 쓰면 순서대로 들어감!\n",
    "car1 = Car('Kia', 'SM6', 'black')\n",
    "car1.name, car1.model, car1.color"
   ]
  },
  {
   "cell_type": "code",
   "execution_count": 8,
   "id": "4a561d99-6d83-4578-a633-5f4adf723904",
   "metadata": {},
   "outputs": [
    {
     "name": "stdout",
     "output_type": "stream",
     "text": [
      "Kia SM6 black\n",
      "Kia가 출발합니다.\n",
      "차가 섭니다.\n",
      "\n",
      "색을 변경합니다!\n",
      "gray\n"
     ]
    }
   ],
   "source": [
    "# 클래스에 행동 추가하기\n",
    "\n",
    "class Car:\n",
    "    def __init__(self, name, model, color):\n",
    "        self.name = name\n",
    "        self.model = model\n",
    "        self.color = color\n",
    "        \n",
    "    def drive(self):\n",
    "        # 1. {브랜드 이름}가 출발합니다.\n",
    "        print(f'{self.name}가 출발합니다.')\n",
    "    \n",
    "    def stop(self):\n",
    "        print('차가 섭니다.')\n",
    "        \n",
    "    def change_color(self):\n",
    "        # 2. 컬러를 gray로 바꾼다.\n",
    "        self.color = 'gray'\n",
    "        \n",
    "        \n",
    "car2 = Car('Kia', 'SM6', 'black')\n",
    "print(car2.name, car2.model, car2.color)\n",
    "car2.drive()\n",
    "car2.stop()\n",
    "\n",
    "print()\n",
    "print('색을 변경합니다!')\n",
    "car2.change_color()\n",
    "print(car2.color)"
   ]
  },
  {
   "cell_type": "code",
   "execution_count": 9,
   "id": "4d65379f-cab1-4389-ba57-d541db30719f",
   "metadata": {},
   "outputs": [
    {
     "name": "stdout",
     "output_type": "stream",
     "text": [
      "emerald\n",
      "black\n"
     ]
    }
   ],
   "source": [
    "class Car:\n",
    "    def __init__(self, name, model, color='black'):\n",
    "        self.name = name\n",
    "        self.model = model\n",
    "        self.color = color\n",
    "        \n",
    "    def drive(self, name):\n",
    "        #1. {차 이름}가 출발합니다.\n",
    "        print(f'{self.name}가 출발합니다.')\n",
    "    \n",
    "    def stop(self):\n",
    "        print('차가 섭니다.')\n",
    "        \n",
    "    def change_color(self, color):\n",
    "        #3. color을 받아서 그걸로 지정하게\n",
    "        self.color = color\n",
    "        \n",
    "    # 4. color 값이 들어오면 그 값으로 설정하고, 아니라면 black으로 가기\n",
    "        \n",
    "        \n",
    "car3 = Car('Kia', 'SM6', 'black')\n",
    "\n",
    "car3.change_color('emerald')\n",
    "print(car3.color)\n",
    "\n",
    "car4 = Car('Kia', 'SM6')\n",
    "print(car4.color)"
   ]
  },
  {
   "cell_type": "code",
   "execution_count": 10,
   "id": "26892678-14dc-40f5-9166-833429add660",
   "metadata": {},
   "outputs": [
    {
     "name": "stdout",
     "output_type": "stream",
     "text": [
      "None\n",
      "SM6\n"
     ]
    }
   ],
   "source": [
    "class Car:\n",
    "    def __init__(self, name, model=None, color='black'):\n",
    "        self.name = name\n",
    "        self.model = model\n",
    "        self.color = color\n",
    "        \n",
    "    def drive(self, name):\n",
    "        #1. {차 이름}가 출발합니다.\n",
    "        print(f'{self.name}가 출발합니다.')\n",
    "    \n",
    "    def stop(self):\n",
    "        print('차가 섭니다.')\n",
    "        \n",
    "    def change_color(self, color):\n",
    "        self.color = color\n",
    "    \n",
    "    # 5. 모델을 생성할 때 안 넣어도 되게 설정하기. \n",
    "    # 나중에 구체화하고 싶을 때 어떻게 하면 좋을지?\n",
    "        \n",
    "\n",
    "car5 = Car('Kia')\n",
    "print(car5.model)\n",
    "\n",
    "car5.model = 'SM6'\n",
    "print(car5.model)"
   ]
  },
  {
   "cell_type": "markdown",
   "id": "2ab41469-bc6f-409e-867e-2a898f49a17d",
   "metadata": {},
   "source": [
    "---\n",
    "### 캡슐화, 정보 은닉\n",
    "- public변수를 private으로 바꾸는 작업\n",
    "- getter, setter"
   ]
  },
  {
   "cell_type": "code",
   "execution_count": 11,
   "id": "d06a8ab8-dc9b-42c5-b711-e16aab1b4ef8",
   "metadata": {},
   "outputs": [
    {
     "data": {
      "text/plain": [
       "'red'"
      ]
     },
     "execution_count": 11,
     "metadata": {},
     "output_type": "execute_result"
    }
   ],
   "source": [
    "class Fruit:\n",
    "    color = 'red'\n",
    "    \n",
    "kiwi = Fruit()\n",
    "kiwi.color"
   ]
  },
  {
   "cell_type": "code",
   "execution_count": 12,
   "id": "0d3064fa-ce55-4df5-9930-2e160d9f1783",
   "metadata": {},
   "outputs": [
    {
     "data": {
      "text/plain": [
       "'black'"
      ]
     },
     "execution_count": 12,
     "metadata": {},
     "output_type": "execute_result"
    }
   ],
   "source": [
    "Fruit.color = 'black' # 밖에서 변경\n",
    "\n",
    "apple = Fruit()\n",
    "apple.color # 내가 알지도 못한 사이에 컬러가 바뀐다."
   ]
  },
  {
   "cell_type": "markdown",
   "id": "37c275c3-ae97-4b6d-8171-ea2f1d84489f",
   "metadata": {},
   "source": [
    "#### get, set\n",
    "- setter로 설정하고 getter로 반환\n",
    "- getter: 클래스 내 객체 변수 반환\n",
    "- setter: == 변수 설정"
   ]
  },
  {
   "cell_type": "code",
   "execution_count": 13,
   "id": "d8a14fe1-0dd2-4620-8991-99de926cf337",
   "metadata": {},
   "outputs": [
    {
     "name": "stdout",
     "output_type": "stream",
     "text": [
      "name1\n",
      "name2\n",
      "name3\n"
     ]
    }
   ],
   "source": [
    "# java ver.\n",
    "class Car:\n",
    "    def __init__(self, input_name):\n",
    "        self.name = input_name\n",
    "        \n",
    "    def get_name(self):\n",
    "        # 함수 반환\n",
    "        return self.name \n",
    "        \n",
    "    def set_name(self, input_name):\n",
    "        # 설정이기 때문에 return 값은 없음\n",
    "        self.name = input_name\n",
    "        \n",
    "        \n",
    "c = Car('name1')\n",
    "print(c.get_name())\n",
    "\n",
    "c.set_name('name2')\n",
    "print(c.name)\n",
    "\n",
    "c.name = 'name3'\n",
    "print(c.name)"
   ]
  },
  {
   "cell_type": "code",
   "execution_count": 14,
   "id": "9ba8269b-6651-4776-8a12-31935d609e76",
   "metadata": {},
   "outputs": [
    {
     "data": {
      "text/plain": [
       "'name_1'"
      ]
     },
     "execution_count": 14,
     "metadata": {},
     "output_type": "execute_result"
    }
   ],
   "source": [
    "# python ver.\n",
    "class Car:\n",
    "    def __init__(self, input_name):\n",
    "        self.hidden_name = input_name\n",
    "        \n",
    "    def get_name(self):\n",
    "        # 함수 반환\n",
    "        return self.hidden_name\n",
    "        \n",
    "    def set_name(self, input_name):\n",
    "        self.hidden_name = input_name  \n",
    "        \n",
    "    # name을 지정해주고, property 사용\n",
    "    name = property(get_name, set_name)\n",
    "    \n",
    "\n",
    "d = Car('name_1')\n",
    "d.name"
   ]
  },
  {
   "cell_type": "code",
   "execution_count": 15,
   "id": "4aac95b4-09d0-409b-ae93-83777c1e6a69",
   "metadata": {},
   "outputs": [
    {
     "data": {
      "text/plain": [
       "'name a'"
      ]
     },
     "execution_count": 15,
     "metadata": {},
     "output_type": "execute_result"
    }
   ],
   "source": [
    "# 3. 완성형 - 밖에서 쉽게 교체하지 못하도록 가리는 작업.\n",
    "class Car:\n",
    "    def __init__(self, input_name):\n",
    "        self.hidden_name = input_name\n",
    "     \n",
    "    # @로 표시 - decorator\n",
    "    @property # getter\n",
    "    def name(self):\n",
    "        # 함수 반환\n",
    "        return self.hidden_name\n",
    "        \n",
    "    @name.setter # setter\n",
    "    def name(self, input_name):\n",
    "        self.hidden_name = input_name\n",
    "        \n",
    "\n",
    "e = Car('name a')\n",
    "e.name"
   ]
  },
  {
   "cell_type": "code",
   "execution_count": 16,
   "id": "f1443771-e6bf-4d9b-bb08-ac8fd907678d",
   "metadata": {},
   "outputs": [
    {
     "data": {
      "text/plain": [
       "'name a'"
      ]
     },
     "execution_count": 16,
     "metadata": {},
     "output_type": "execute_result"
    }
   ],
   "source": [
    "# 근데, 아예 못가리는 것은 아님!\n",
    "e.hidden_name"
   ]
  },
  {
   "cell_type": "code",
   "execution_count": 17,
   "id": "15777e1e-56b7-4ad7-bd45-1e8934814674",
   "metadata": {},
   "outputs": [
    {
     "ename": "AttributeError",
     "evalue": "'Car' object has no attribute '__name'",
     "output_type": "error",
     "traceback": [
      "\u001b[0;31m---------------------------------------------------------------------------\u001b[0m",
      "\u001b[0;31mAttributeError\u001b[0m                            Traceback (most recent call last)",
      "\u001b[0;32m/var/folders/mj/8pckvyp56672pjbch70f49440000gn/T/ipykernel_7381/1156770521.py\u001b[0m in \u001b[0;36m<module>\u001b[0;34m\u001b[0m\n\u001b[1;32m     18\u001b[0m \u001b[0;31m# 접근 불가, 오류!\u001b[0m\u001b[0;34m\u001b[0m\u001b[0;34m\u001b[0m\u001b[0m\n\u001b[1;32m     19\u001b[0m \u001b[0mf\u001b[0m \u001b[0;34m=\u001b[0m \u001b[0mCar\u001b[0m\u001b[0;34m(\u001b[0m\u001b[0;34m'name b'\u001b[0m\u001b[0;34m)\u001b[0m\u001b[0;34m\u001b[0m\u001b[0;34m\u001b[0m\u001b[0m\n\u001b[0;32m---> 20\u001b[0;31m \u001b[0mf\u001b[0m\u001b[0;34m.\u001b[0m\u001b[0m__name\u001b[0m\u001b[0;34m\u001b[0m\u001b[0;34m\u001b[0m\u001b[0m\n\u001b[0m",
      "\u001b[0;31mAttributeError\u001b[0m: 'Car' object has no attribute '__name'"
     ]
    }
   ],
   "source": [
    "# 따라서, 완전 가려야 할 때 (진짜 접근하지 못하게!) - '__name'\n",
    "# 던더바 + 변수 => 접근하기 못하는 변수라는 의미\n",
    "class Car:\n",
    "    def __init__(self, input_name):\n",
    "        self.__name = input_name\n",
    "     \n",
    "    # decorator\n",
    "    @property\n",
    "    def name(self):\n",
    "        # 함수 반환\n",
    "        return self.__name\n",
    "        \n",
    "    @name.setter\n",
    "    def name(self, input_name):\n",
    "        self.__name = input_name\n",
    "        \n",
    "\n",
    "# 접근 불가, 오류!\n",
    "f = Car('name b')\n",
    "f.__name"
   ]
  },
  {
   "cell_type": "code",
   "execution_count": 18,
   "id": "a216f090-6e91-4b8c-8d67-44338503b920",
   "metadata": {},
   "outputs": [
    {
     "name": "stdout",
     "output_type": "stream",
     "text": [
      "10\n",
      "38\n"
     ]
    }
   ],
   "source": [
    "class Circle:\n",
    "    def __init__(self, radius):\n",
    "        self.radius = radius\n",
    "        \n",
    "    # property: 메소드를 통해 속성을 만드는 아이.   \n",
    "    @property\n",
    "    def parameter(self):\n",
    "        return self.radius * 2\n",
    "    \n",
    "    \n",
    "ex = Circle(5)\n",
    "print(ex.parameter)\n",
    "\n",
    "ex.radius = 19\n",
    "print(ex.parameter)"
   ]
  },
  {
   "cell_type": "markdown",
   "id": "38c821d9-f1ab-4a73-b714-f8f90780ecec",
   "metadata": {},
   "source": [
    "---\n",
    "#### `실습`\n",
    "- 메모장, 메모 구현하기\n",
    "- 메모장\n",
    "    - 속성: 제목, 페이지 번호, 메모\n",
    "    - 행동: 메모 추가하다, 메모 삭제하다, 페이지 번호 확인하다\n",
    "- 메모\n",
    "    - 속성: 글귀\n",
    "    - 행동: 쓰다, 지우다\n",
    "- 사용\n",
    "    - 메모 쓴다\n",
    "    - 메모장에 추가\n",
    "        - 페이지 번호가 추가한 만큼 늘어난다\n",
    "    - 메모 삭제\n",
    "        - 페이지 번호가 줄어든다\n",
    "    - 메모장의 제목만 은닉시키다\n",
    "+++ 페이지 넘버는, 한 페이지에 한 라인이 들어갈 수 있게 작성하기!"
   ]
  },
  {
   "cell_type": "code",
   "execution_count": 19,
   "id": "391eb35b-946d-4e88-8f00-c80e6dc23021",
   "metadata": {},
   "outputs": [
    {
     "name": "stdout",
     "output_type": "stream",
     "text": [
      ">>> Note\n",
      "우리 모두 스스로가 원하는 리더가 됩시다.\n",
      "page | 1\n",
      "@$^(@ 낙서~...~@#!?!!@!!#\n",
      "page | 2\n",
      "모두가 함께 앞으로 나아가면 성공은 저절로 따라옵니다.\n",
      "page | 3\n",
      "혼자서는 작은 한 방울이지만 함께 모이면 바다를 이룹니다.\n",
      "page | 4\n",
      "낙서 @@@@@\n",
      "page | 5\n",
      "\n",
      ">>> Note\n",
      "우리 모두 스스로가 원하는 리더가 됩시다.\n",
      "page | 1\n",
      "모두가 함께 앞으로 나아가면 성공은 저절로 따라옵니다.\n",
      "page | 2\n",
      "혼자서는 작은 한 방울이지만 함께 모이면 바다를 이룹니다.\n",
      "page | 3\n",
      "\n",
      ">>> Notebook\n",
      "우리 모두 스스로가 원하는 리더가 됩시다.\n",
      "page | 1\n",
      "모두가 함께 앞으로 나아가면 성공은 저절로 따라옵니다.\n",
      "page | 2\n",
      "혼자서는 작은 한 방울이지만 함께 모이면 바다를 이룹니다.\n",
      "page | 3\n",
      "\n",
      ">>> Notebook\n",
      "우리 모두 스스로가 원하는 리더가 됩시다.\n",
      "page | 1\n",
      "혼자서는 작은 한 방울이지만 함께 모이면 바다를 이룹니다.\n",
      "page | 2\n",
      "\n"
     ]
    },
    {
     "data": {
      "text/plain": [
       "2"
      ]
     },
     "execution_count": 19,
     "metadata": {},
     "output_type": "execute_result"
    }
   ],
   "source": [
    "class Notebook:\n",
    "    def __init__(self, title, memos=[], page=0):\n",
    "        self.__title = title\n",
    "        self.memos = memos\n",
    "        self.page = page\n",
    "        \n",
    "    @property\n",
    "    def title(self):\n",
    "        return self.__title\n",
    "    \n",
    "    def add_note(self, note=[]):\n",
    "        self.memos.extend(note)\n",
    "        self.page += len(note)\n",
    "    \n",
    "    def delete_note(self, note):\n",
    "        self.memos.remove(note)\n",
    "        self.page -= 1\n",
    "    \n",
    "    def get_page_num(self):\n",
    "        return self.page\n",
    "    \n",
    "    def print_book(self):\n",
    "        print('>>> Notebook')\n",
    "        for p, m in enumerate(self.memos, start = 1):\n",
    "            print(m)\n",
    "            print(f'page | {p}')\n",
    "        print()\n",
    "    \n",
    "    \n",
    "class Note:\n",
    "    def __init__(self, memo=[]):\n",
    "        self.memo = memo\n",
    "        \n",
    "    def write(self, line):\n",
    "        self.memo.append(line)\n",
    "    \n",
    "    def erase(self, line):\n",
    "        self.memo.remove(line)\n",
    "        \n",
    "    def print_memo(self):\n",
    "        print('>>> Note')\n",
    "        for p, m in enumerate(self.memo, start = 1):\n",
    "            print(m)\n",
    "            print(f'page | {p}')\n",
    "        print()\n",
    "    \n",
    "    \n",
    "# 사용\n",
    "line1 = '우리 모두 스스로가 원하는 리더가 됩시다.'\n",
    "line2 = '@$^(@ 낙서~...~@#!?!!@!!#'\n",
    "line3 = '모두가 함께 앞으로 나아가면 성공은 저절로 따라옵니다.'\n",
    "line4 = '혼자서는 작은 한 방울이지만 함께 모이면 바다를 이룹니다.'\n",
    "line5 = '낙서 @@@@@'\n",
    "\n",
    "# 메모 추가\n",
    "my_note = Note()\n",
    "my_note.write(line1)\n",
    "my_note.write(line2)\n",
    "my_note.write(line3)\n",
    "my_note.write(line4)\n",
    "my_note.write(line5)\n",
    "my_note.print_memo()\n",
    "\n",
    "# 메모 삭제\n",
    "my_note.erase(line2)\n",
    "my_note.erase(line5)\n",
    "my_note.print_memo()\n",
    "\n",
    "# 메모장에 추가\n",
    "my_book = Notebook('오늘 일기')\n",
    "my_book.add_note(my_note.memo)\n",
    "my_book.print_book()\n",
    "\n",
    "# 메모장의 제목 은닉\n",
    "# my_book.__title\n",
    "\n",
    "# 메모장 삭제\n",
    "my_book.delete_note(line3)\n",
    "my_book.print_book()\n",
    "\n",
    "# 페이지 번호 확인하기\n",
    "my_book.get_page_num()"
   ]
  }
 ],
 "metadata": {
  "kernelspec": {
   "display_name": "Python 3 (ipykernel)",
   "language": "python",
   "name": "python3"
  },
  "language_info": {
   "codemirror_mode": {
    "name": "ipython",
    "version": 3
   },
   "file_extension": ".py",
   "mimetype": "text/x-python",
   "name": "python",
   "nbconvert_exporter": "python",
   "pygments_lexer": "ipython3",
   "version": "3.9.7"
  }
 },
 "nbformat": 4,
 "nbformat_minor": 5
}
