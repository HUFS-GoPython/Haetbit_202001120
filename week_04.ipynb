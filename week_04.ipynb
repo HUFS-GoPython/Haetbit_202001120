{
 "cells": [
  {
   "cell_type": "markdown",
   "id": "99efe7ab-1200-42a0-b056-1c7c2fac5732",
   "metadata": {},
   "source": [
    "# 4주차 (0325) Review"
   ]
  },
  {
   "cell_type": "markdown",
   "id": "fdf06265-60ca-4ccd-8123-11ed6d0a4935",
   "metadata": {},
   "source": [
    "---\n",
    "## `ch05_ex04_1`"
   ]
  },
  {
   "cell_type": "markdown",
   "id": "742bab4e-7fef-47b6-b242-529fe23d156b",
   "metadata": {},
   "source": [
    "## String with NLTK"
   ]
  },
  {
   "cell_type": "code",
   "execution_count": 1,
   "id": "6eda820a-77e1-4344-b912-a1b7236f1849",
   "metadata": {},
   "outputs": [
    {
     "name": "stdout",
     "output_type": "stream",
     "text": [
      "*** Introductory Examples for the NLTK Book ***\n",
      "Loading text1, ..., text9 and sent1, ..., sent9\n",
      "Type the name of the text or sentence to view it.\n",
      "Type: 'texts()' or 'sents()' to list the materials.\n",
      "text1: Moby Dick by Herman Melville 1851\n",
      "text2: Sense and Sensibility by Jane Austen 1811\n",
      "text3: The Book of Genesis\n",
      "text4: Inaugural Address Corpus\n",
      "text5: Chat Corpus\n",
      "text6: Monty Python and the Holy Grail\n",
      "text7: Wall Street Journal\n",
      "text8: Personals Corpus\n",
      "text9: The Man Who Was Thursday by G . K . Chesterton 1908\n"
     ]
    },
    {
     "data": {
      "text/plain": [
       "True"
      ]
     },
     "execution_count": 1,
     "metadata": {},
     "output_type": "execute_result"
    }
   ],
   "source": [
    "import nltk\n",
    "from nltk.book import *\n",
    "\n",
    "nltk.download('book', quiet=True)"
   ]
  },
  {
   "cell_type": "markdown",
   "id": "01bb8247-cb23-421d-952b-5998d52364f4",
   "metadata": {},
   "source": [
    "### 내장함수 I `python 내장 함수`\n",
    "\n",
    "- 사용 형식1 `string1.method(string2)`\n",
    "- 사용 형식2 `list.method(string)`\n",
    "\n",
    "\n",
    "- list.count(str): list에서 str이 나타내는 개수를 나타내는 함수!\n",
    "- str.replace(A, B): A를 B로 변경하는 기능\n",
    "- str.strip(): 공백, tab 등을 제거하는 기능\n",
    "    - rstrip(오른쪽 공백 제거), lstrip(왼쪽 공백 제거)\n",
    "- find(): 오프셋을 반환\n",
    "    - lfind, rfind\n",
    "    - 공백 포함\n",
    "    - 1번째 값의 인덱스\n",
    "    - 만족하는 값이 없는 경우 `-1` 반환\n",
    "- index(string)\n",
    "    - 만족하는 값이 없는 경우 `에러` 발생"
   ]
  },
  {
   "cell_type": "code",
   "execution_count": 3,
   "id": "1b208045-7baf-4435-b764-8ebcb48ac7bb",
   "metadata": {},
   "outputs": [
    {
     "data": {
      "text/plain": [
       "1661"
      ]
     },
     "execution_count": 3,
     "metadata": {},
     "output_type": "execute_result"
    }
   ],
   "source": [
    "# text1에서 'he'가 몇 번 나오는지?\n",
    "text1.count('he')"
   ]
  },
  {
   "cell_type": "code",
   "execution_count": 4,
   "id": "151f98f6-e98f-4d1f-8bc3-8387574d62fc",
   "metadata": {},
   "outputs": [
    {
     "data": {
      "text/plain": [
       "'Word'"
      ]
     },
     "execution_count": 4,
     "metadata": {},
     "output_type": "execute_result"
    }
   ],
   "source": [
    "# word에서 w를 대문자로 바꾸기 \n",
    "'word'.replace('w', 'W')"
   ]
  },
  {
   "cell_type": "code",
   "execution_count": 6,
   "id": "7be04590-1539-4713-bb2a-fc328e285948",
   "metadata": {},
   "outputs": [
    {
     "name": "stdout",
     "output_type": "stream",
     "text": [
      "word\n",
      "word\n"
     ]
    }
   ],
   "source": [
    "# 공백을 없애주는 기능,\n",
    "# 공백에는 tap도 포함이 됨\n",
    "print('       word'.strip())\n",
    "print('   \\t    word'.strip())"
   ]
  },
  {
   "cell_type": "code",
   "execution_count": 7,
   "id": "5e3527a0-34f4-43fb-84d0-e2476aacbeaa",
   "metadata": {},
   "outputs": [
    {
     "name": "stdout",
     "output_type": "stream",
     "text": [
      "     \t     word\n",
      "word     \n"
     ]
    }
   ],
   "source": [
    "# rstrip, lstrip 차이!\n",
    "print('     \\t     word     '.rstrip())\n",
    "print('     \\t     word     '.lstrip())"
   ]
  },
  {
   "cell_type": "code",
   "execution_count": 8,
   "id": "e8621d36-aa2e-46ba-af9b-f27fdd0586d6",
   "metadata": {},
   "outputs": [
    {
     "data": {
      "text/plain": [
       "'chorD'"
      ]
     },
     "execution_count": 8,
     "metadata": {},
     "output_type": "execute_result"
    }
   ],
   "source": [
    "# 함수 같이 사용 가능!\n",
    "word = '    \\t   word'\n",
    "\n",
    "# w를 ch로 바꾼 다음, 공백 제거, 그리고 d를 대문자로 바꾸기!\n",
    "word = word.replace('w', 'ch').strip().replace('d', 'D')\n",
    "word"
   ]
  },
  {
   "cell_type": "code",
   "execution_count": 9,
   "id": "20f10611-5dea-4b28-bdb0-3639fe6fac2b",
   "metadata": {},
   "outputs": [
    {
     "data": {
      "text/plain": [
       "6"
      ]
     },
     "execution_count": 9,
     "metadata": {},
     "output_type": "execute_result"
    }
   ],
   "source": [
    "word2 = 'hello wwworld'\n",
    "\n",
    "word2.find('w')"
   ]
  },
  {
   "cell_type": "code",
   "execution_count": 10,
   "id": "f540f492-85cf-4825-81c4-7c43bf2959b7",
   "metadata": {},
   "outputs": [
    {
     "data": {
      "text/plain": [
       "6"
      ]
     },
     "execution_count": 10,
     "metadata": {},
     "output_type": "execute_result"
    }
   ],
   "source": [
    "word2.index('w')"
   ]
  },
  {
   "cell_type": "code",
   "execution_count": 11,
   "id": "67863203-1bb9-4169-ad3b-f7445f116da0",
   "metadata": {},
   "outputs": [
    {
     "data": {
      "text/plain": [
       "-1"
      ]
     },
     "execution_count": 11,
     "metadata": {},
     "output_type": "execute_result"
    }
   ],
   "source": [
    "# 만족하는 값이 없는 경우, -1을 반환!\n",
    "word2.find('1')"
   ]
  },
  {
   "cell_type": "code",
   "execution_count": 12,
   "id": "85cceb1b-2ad7-4939-80d9-34576db96346",
   "metadata": {},
   "outputs": [
    {
     "ename": "ValueError",
     "evalue": "substring not found",
     "output_type": "error",
     "traceback": [
      "\u001b[0;31m---------------------------------------------------------------------------\u001b[0m",
      "\u001b[0;31mValueError\u001b[0m                                Traceback (most recent call last)",
      "\u001b[0;32m/var/folders/mj/8pckvyp56672pjbch70f49440000gn/T/ipykernel_31427/2985683907.py\u001b[0m in \u001b[0;36m<module>\u001b[0;34m\u001b[0m\n\u001b[1;32m      1\u001b[0m \u001b[0;31m# 만족하는 값이 없는 경우, Error\u001b[0m\u001b[0;34m\u001b[0m\u001b[0;34m\u001b[0m\u001b[0m\n\u001b[0;32m----> 2\u001b[0;31m \u001b[0mword2\u001b[0m\u001b[0;34m.\u001b[0m\u001b[0mindex\u001b[0m\u001b[0;34m(\u001b[0m\u001b[0;34m'1'\u001b[0m\u001b[0;34m)\u001b[0m\u001b[0;34m\u001b[0m\u001b[0;34m\u001b[0m\u001b[0m\n\u001b[0m",
      "\u001b[0;31mValueError\u001b[0m: substring not found"
     ]
    }
   ],
   "source": [
    "# 만족하는 값이 없는 경우, Error\n",
    "word2.index('1')"
   ]
  },
  {
   "cell_type": "markdown",
   "id": "0c6d174b-e5bb-4056-b4c4-750e72ac2753",
   "metadata": {},
   "source": [
    "### 내장함수 II NLTK 전용\n",
    "- 사용 형식: `list.method(var)`\n",
    "- 자연어 처리와 관련된 함수들\n",
    "\n",
    "\n",
    "- concordance(): string 앞 뒤의 문맥을 알 수 있음!\n",
    "- similar(): 문맥이 비슷하게 쓰인 단어들\n",
    "- common_contexts(): 주어진 스트링이 어떤 문맥을 공유하는지\n",
    "- dispersion_plot(): 주어진 스트링이 텍스트에서 출현하는 위치를 이미지로 보여주는 기능"
   ]
  },
  {
   "cell_type": "code",
   "execution_count": 13,
   "id": "3db49e99-9513-45f1-a97d-87d809087084",
   "metadata": {},
   "outputs": [
    {
     "name": "stdout",
     "output_type": "stream",
     "text": [
      "Displaying 25 of 1226 matches:\n",
      "s , and to teach them by what name a whale - fish is to be called in our tongue\n",
      "t which is not true .\" -- HACKLUYT \" WHALE . ... Sw . and Dan . HVAL . This ani\n",
      "ulted .\" -- WEBSTER ' S DICTIONARY \" WHALE . ... It is more immediately from th\n",
      "ISH . WAL , DUTCH . HWAL , SWEDISH . WHALE , ICELANDIC . WHALE , ENGLISH . BALE\n",
      "HWAL , SWEDISH . WHALE , ICELANDIC . WHALE , ENGLISH . BALEINE , FRENCH . BALLE\n",
      "least , take the higgledy - piggledy whale statements , however authentic , in \n",
      " dreadful gulf of this monster ' s ( whale ' s ) mouth , are immediately lost a\n",
      " patient Job .\" -- RABELAIS . \" This whale ' s liver was two cartloads .\" -- ST\n",
      " Touching that monstrous bulk of the whale or ork we have received nothing cert\n",
      " of oil will be extracted out of one whale .\" -- IBID . \" HISTORY OF LIFE AND D\n",
      "ise .\" -- KING HENRY . \" Very like a whale .\" -- HAMLET . \" Which to secure , n\n",
      "restless paine , Like as the wounded whale to shore flies thro ' the maine .\" -\n",
      ". OF SPERMA CETI AND THE SPERMA CETI WHALE . VIDE HIS V . E . \" Like Spencer ' \n",
      "t had been a sprat in the mouth of a whale .\" -- PILGRIM ' S PROGRESS . \" That \n",
      "EN ' S ANNUS MIRABILIS . \" While the whale is floating at the stern of the ship\n",
      "e ship called The Jonas - in - the - Whale . ... Some say the whale can ' t ope\n",
      " in - the - Whale . ... Some say the whale can ' t open his mouth , but that is\n",
      " masts to see whether they can see a whale , for the first discoverer has a duc\n",
      " for his pains . ... I was told of a whale taken near Shetland , that had above\n",
      "oneers told me that he caught once a whale in Spitzbergen that was white all ov\n",
      "2 , one eighty feet in length of the whale - bone kind came in , which ( as I w\n",
      "n master and kill this Sperma - ceti whale , for I could never hear of any of t\n",
      " . 1729 . \"... and the breath of the whale is frequendy attended with such an i\n",
      "ed with hoops and armed with ribs of whale .\" -- RAPE OF THE LOCK . \" If we com\n",
      "contemptible in the comparison . The whale is doubtless the largest animal in c\n"
     ]
    }
   ],
   "source": [
    "# 여기는 리스트 넣으면 에러, 스트링 넣어야 함\n",
    "text1.concordance('whale') "
   ]
  },
  {
   "cell_type": "code",
   "execution_count": 14,
   "id": "1c255670-d47d-40b7-a8ad-0f4ceea255e8",
   "metadata": {},
   "outputs": [
    {
     "name": "stdout",
     "output_type": "stream",
     "text": [
      "ship boat sea time captain world man deck pequod other whales air\n",
      "water head crew line thing side way body\n"
     ]
    }
   ],
   "source": [
    "text1.similar('whale')"
   ]
  },
  {
   "cell_type": "code",
   "execution_count": 15,
   "id": "db8b5985-e856-442f-90e3-92493b5e3b84",
   "metadata": {},
   "outputs": [
    {
     "name": "stdout",
     "output_type": "stream",
     "text": [
      "am_glad a_pretty a_lucky is_pretty be_glad\n"
     ]
    }
   ],
   "source": [
    "# []안의 단어들이 어떤 비슷한 문맥에서 쓰이는가?\n",
    "text2.common_contexts(['monstrous', 'very'])"
   ]
  },
  {
   "cell_type": "code",
   "execution_count": 16,
   "id": "046b0f43-d599-4596-8cda-78eb4699bf8c",
   "metadata": {},
   "outputs": [
    {
     "name": "stdout",
     "output_type": "stream",
     "text": [
      "Requirement already satisfied: matplotlib in /Users/haetbit/opt/anaconda3/lib/python3.9/site-packages (3.4.3)\n",
      "Requirement already satisfied: python-dateutil>=2.7 in /Users/haetbit/opt/anaconda3/lib/python3.9/site-packages (from matplotlib) (2.8.2)\n",
      "Requirement already satisfied: pillow>=6.2.0 in /Users/haetbit/opt/anaconda3/lib/python3.9/site-packages (from matplotlib) (8.4.0)\n",
      "Requirement already satisfied: pyparsing>=2.2.1 in /Users/haetbit/opt/anaconda3/lib/python3.9/site-packages (from matplotlib) (3.0.4)\n",
      "Requirement already satisfied: kiwisolver>=1.0.1 in /Users/haetbit/opt/anaconda3/lib/python3.9/site-packages (from matplotlib) (1.3.1)\n",
      "Requirement already satisfied: cycler>=0.10 in /Users/haetbit/opt/anaconda3/lib/python3.9/site-packages (from matplotlib) (0.10.0)\n",
      "Requirement already satisfied: numpy>=1.16 in /Users/haetbit/opt/anaconda3/lib/python3.9/site-packages (from matplotlib) (1.20.3)\n",
      "Requirement already satisfied: six in /Users/haetbit/opt/anaconda3/lib/python3.9/site-packages (from cycler>=0.10->matplotlib) (1.16.0)\n"
     ]
    }
   ],
   "source": [
    "!pip install matplotlib"
   ]
  },
  {
   "cell_type": "code",
   "execution_count": 17,
   "id": "9b65c765-74f6-416a-9e63-bfccf921a8a6",
   "metadata": {},
   "outputs": [
    {
     "data": {
      "image/png": "[encoded data removed]",
      "text/plain": [
       "<Figure size 432x288 with 1 Axes>"
      ]
     },
     "metadata": {
      "needs_background": "light"
     },
     "output_type": "display_data"
    }
   ],
   "source": [
    "# 단어들이 텍스트에서 어느 위치에 있는지, \n",
    "# 그림으로 보여주는 함수! \n",
    "# matplotlib을 설치해야 함!\n",
    "text4.dispersion_plot(['citizens', 'America', 'freedom'])"
   ]
  },
  {
   "cell_type": "markdown",
   "id": "f42d5e96-c282-4b10-a188-df07079c3333",
   "metadata": {},
   "source": [
    "### Frequency Distribution\n",
    "- 단어의 빈도수를 활용할 수 있는 많은 메소드를 제공 \n",
    "- 인간의 언어를 컴퓨터가 인식할 수 있도록 하는 것이 `자연어처리`\n",
    "    - 어떤 텍스트인지 특징을 뽑아낼 때 사용하는 것\n",
    "        - 전체 단어 수\n",
    "        - 특정 단어의 빈도수"
   ]
  },
  {
   "cell_type": "code",
   "execution_count": 22,
   "id": "fb9525f6-f93e-404f-9680-5a95b6d44bdd",
   "metadata": {},
   "outputs": [
    {
     "data": {
      "text/plain": [
       "FreqDist({',': 18713, 'the': 13721, '.': 6862, 'of': 6536, 'and': 6024, 'a': 4569, 'to': 4542, ';': 4072, 'in': 3916, 'that': 2982, ...})"
      ]
     },
     "execution_count": 22,
     "metadata": {},
     "output_type": "execute_result"
    }
   ],
   "source": [
    "# dictionary => key:value 타입\n",
    "# 여기서 key는 단어, value는 빈도수\n",
    "\n",
    "fdist = FreqDist(text1)\n",
    "fdist"
   ]
  },
  {
   "cell_type": "code",
   "execution_count": 23,
   "id": "4fcce6db-55f1-4f21-9b0a-afdcc38848f4",
   "metadata": {},
   "outputs": [
    {
     "data": {
      "text/plain": [
       "[(',', 18713),\n",
       " ('the', 13721),\n",
       " ('.', 6862),\n",
       " ('of', 6536),\n",
       " ('and', 6024),\n",
       " ('a', 4569),\n",
       " ('to', 4542),\n",
       " (';', 4072),\n",
       " ('in', 3916),\n",
       " ('that', 2982)]"
      ]
     },
     "execution_count": 23,
     "metadata": {},
     "output_type": "execute_result"
    }
   ],
   "source": [
    "# 가장 빈번한 단어 10개를 출력해라!\n",
    "fdist.most_common(10)"
   ]
  },
  {
   "cell_type": "code",
   "execution_count": 24,
   "id": "1aaa57b6-654d-423b-9876-73979a8b8aa9",
   "metadata": {},
   "outputs": [
    {
     "data": {
      "text/plain": [
       "(906, 906)"
      ]
     },
     "execution_count": 24,
     "metadata": {},
     "output_type": "execute_result"
    }
   ],
   "source": [
    "# 이 둘은 같은 기능!\n",
    "fdist['whale'], text1.count('whale')"
   ]
  },
  {
   "cell_type": "code",
   "execution_count": 25,
   "id": "a721b46b-eb73-4745-a620-cab9339dd71d",
   "metadata": {},
   "outputs": [
    {
     "data": {
      "text/plain": [
       "0.003473673313677301"
      ]
     },
     "execution_count": 25,
     "metadata": {},
     "output_type": "execute_result"
    }
   ],
   "source": [
    "# 전체에서 이 단어가 차지하는 비율 (퍼센트)\n",
    "fdist.freq('whale')"
   ]
  },
  {
   "cell_type": "code",
   "execution_count": 26,
   "id": "8be28bcf-b741-4481-a03e-3d6f234df5aa",
   "metadata": {},
   "outputs": [
    {
     "data": {
      "image/png": "[encoded data removed]",
      "text/plain": [
       "<Figure size 432x288 with 1 Axes>"
      ]
     },
     "metadata": {
      "needs_background": "light"
     },
     "output_type": "display_data"
    },
    {
     "data": {
      "text/plain": [
       "<AxesSubplot:xlabel='Samples', ylabel='Cumulative Counts'>"
      ]
     },
     "execution_count": 26,
     "metadata": {},
     "output_type": "execute_result"
    }
   ],
   "source": [
    "# 제일 빈번한 것부터 축적되게 그려줌,\n",
    "# 기울기가 완만해질수록 덜 나타나는 단어\n",
    "fdist.plot(50, cumulative=True)"
   ]
  },
  {
   "cell_type": "code",
   "execution_count": 27,
   "id": "1b2c0e2f-8a69-46e4-bff1-a720e58c735a",
   "metadata": {},
   "outputs": [
    {
     "data": {
      "image/png": "[encoded data removed]",
      "text/plain": [
       "<Figure size 432x288 with 1 Axes>"
      ]
     },
     "metadata": {
      "needs_background": "light"
     },
     "output_type": "display_data"
    },
    {
     "data": {
      "text/plain": [
       "<AxesSubplot:xlabel='Samples', ylabel='Counts'>"
      ]
     },
     "execution_count": 27,
     "metadata": {},
     "output_type": "execute_result"
    }
   ],
   "source": [
    "# cumulative=False\n",
    "# 많이 나타나지 않는 단어 순서대로!\n",
    "fdist.plot(50, cumulative=False)"
   ]
  },
  {
   "cell_type": "code",
   "execution_count": 28,
   "id": "80c7e77e-4099-4e76-9c7a-a971181ce899",
   "metadata": {},
   "outputs": [
    {
     "data": {
      "text/plain": [
       "9002"
      ]
     },
     "execution_count": 28,
     "metadata": {},
     "output_type": "execute_result"
    }
   ],
   "source": [
    "# 1번 나타나는 단어들 hapaxes()\n",
    "# 중복 안 됨, 대소문자는 구분되어 있음.\n",
    "len(fdist.hapaxes())"
   ]
  },
  {
   "cell_type": "markdown",
   "id": "c3856ae7-459d-44df-b5db-9a45e77d2c40",
   "metadata": {},
   "source": [
    "### 리스트 & 리스트 컴프리헨션\n",
    "- 리스트: 배열(array), 리스트(list)\n",
    "- 하나의 변수에 여러 값을 할당하는 자료형\n",
    "    - ```\n",
    "    a = [1, 2, 3, 4]\n",
    "    ```\n",
    "- 대괄호로 선언 [ ]\n",
    "- 내부 요소들은 자료형이 달라도 됨.\n",
    "    - ```\n",
    "    a = [1, True, 'hello']\n",
    "    ```\n",
    "- 순서가 있다 ==> 인덱싱, 슬라이싱이 가능하다.\n",
    "- 빈 리스트 선언 list(), [ ]"
   ]
  },
  {
   "cell_type": "code",
   "execution_count": 36,
   "id": "b9c280a4-79d0-45a4-ab17-d2bce441dbfa",
   "metadata": {},
   "outputs": [
    {
     "data": {
      "text/plain": [
       "['hello', True, 1]"
      ]
     },
     "execution_count": 36,
     "metadata": {},
     "output_type": "execute_result"
    }
   ],
   "source": [
    "a = [1, True, 'hello']\n",
    "a[::-1] # 거꾸로 출력!"
   ]
  },
  {
   "cell_type": "code",
   "execution_count": 37,
   "id": "8804b36f-ab27-443f-9d0a-93f52cc9e571",
   "metadata": {},
   "outputs": [],
   "source": [
    "# 빈 리스트를 선언하는 방법\n",
    "b = []\n",
    "b = list()"
   ]
  },
  {
   "cell_type": "code",
   "execution_count": 38,
   "id": "039672ec-cc89-4e4e-bd53-58ccfa360f15",
   "metadata": {},
   "outputs": [
    {
     "name": "stdout",
     "output_type": "stream",
     "text": [
      "soju\n",
      "rum\n"
     ]
    }
   ],
   "source": [
    "drinks = ['rum', 'mojito', 'soju']\n",
    "print(drinks[-1]) # 마지막\n",
    "print(drinks[0]) # 처음"
   ]
  },
  {
   "cell_type": "code",
   "execution_count": 42,
   "id": "5c3c53df-a7b3-4dc9-bb04-911b1246b4a2",
   "metadata": {},
   "outputs": [
    {
     "name": "stdout",
     "output_type": "stream",
     "text": [
      "2\n"
     ]
    }
   ],
   "source": [
    "# drinks에서 soju의 위치를 알고 싶다.\n",
    "print(drinks.index('soju'))"
   ]
  },
  {
   "cell_type": "markdown",
   "id": "31587b18-f220-42eb-a4b6-6b82475bd85c",
   "metadata": {},
   "source": [
    "### list comprehension\n",
    "- 지능형 리스트\n",
    "- 주어진 리스트를 포함하는 새로운 리스트를 형성하는 것\n",
    "- list + for_loop을 한 줄로 해결\n",
    "- [A for A' in B]\n",
    "    - B에 있는 A'에서 A를 가진 리스트를 반환\n",
    "    - B: 기존의 리스트\n",
    "    - A': B의 자료 형태\n",
    "    - A: 새로운 리스트 요소\n",
    "- `조건을 만족시키는 것들만!` : [A for A' in B if <조건식>]\n",
    "    - [A for A' in B if <조건식> and <조건식>, ...]"
   ]
  },
  {
   "cell_type": "code",
   "execution_count": 43,
   "id": "79116471-d3c6-4613-b9f5-2cd3c00aec2d",
   "metadata": {},
   "outputs": [
    {
     "name": "stdout",
     "output_type": "stream",
     "text": [
      "['rum', 'mojito', 'soju']\n",
      "['r', 'm', 's']\n"
     ]
    }
   ],
   "source": [
    "print([d for d in drinks])\n",
    "print([d[0] for d in drinks])"
   ]
  },
  {
   "cell_type": "code",
   "execution_count": 45,
   "id": "6111a5a6-6f45-4fb8-8dde-2e0b6a6972ad",
   "metadata": {},
   "outputs": [
    {
     "data": {
      "text/plain": [
       "['Consumptive',\n",
       " 'threadbare',\n",
       " 'handkerchief',\n",
       " 'embellished',\n",
       " 'signification',\n",
       " 'DICTIONARY',\n",
       " 'immediately',\n",
       " 'RICHARDSON',\n",
       " 'DICTIONARY',\n",
       " 'ERROMANGOAN']"
      ]
     },
     "execution_count": 45,
     "metadata": {},
     "output_type": "execute_result"
    }
   ],
   "source": [
    "# text1에서 알파벳 수가 10이상인 단어, 10개만 뽑기!\n",
    "[word for word in text1 if len(word) >= 10][:10]"
   ]
  },
  {
   "cell_type": "code",
   "execution_count": 46,
   "id": "723ddf0a-be99-489b-8f56-8744538580ef",
   "metadata": {},
   "outputs": [
    {
     "data": {
      "text/plain": [
       "['sovereignty',\n",
       " 'sovereignty',\n",
       " 'sovereignty',\n",
       " 'sovereignty',\n",
       " 'sovereignty',\n",
       " 'sovereignty',\n",
       " 'sovereignty',\n",
       " 'sovereignty',\n",
       " 'sovereignty',\n",
       " 'sovereignties',\n",
       " 'sovereignties',\n",
       " 'sovereignty',\n",
       " 'sovereignties',\n",
       " 'sovereignty',\n",
       " 'sovereignty',\n",
       " 'sovereignty',\n",
       " 'sovereignty',\n",
       " 'sovereignty',\n",
       " 'sovereignty',\n",
       " 'sovereignty',\n",
       " 'sovereignty',\n",
       " 'sovereignty',\n",
       " 'sovereignty',\n",
       " 'sovereignty',\n",
       " 'sovereignty',\n",
       " 'sovereignty',\n",
       " 'sovereignties',\n",
       " 'sovereignty',\n",
       " 'Sovereignty',\n",
       " 'sovereignty',\n",
       " 'sovereignty']"
      ]
     },
     "execution_count": 46,
     "metadata": {},
     "output_type": "execute_result"
    }
   ],
   "source": [
    "# text4에서 'gnt'를 포함하는 단어 반환\n",
    "[word for word in text4 if 'gnt' in word]\n",
    "\n",
    "# 창의적인 답!\n",
    "[word for word in text4 if word.find('gnt') > 0]"
   ]
  },
  {
   "cell_type": "code",
   "execution_count": 47,
   "id": "68dcfac2-c30b-4659-b8df-c9dc373ec0a2",
   "metadata": {},
   "outputs": [
    {
     "data": {
      "text/plain": [
       "True"
      ]
     },
     "execution_count": 47,
     "metadata": {},
     "output_type": "execute_result"
    }
   ],
   "source": [
    "'gnt' in 'sovergnty'"
   ]
  },
  {
   "cell_type": "code",
   "execution_count": 48,
   "id": "9e38ffbe-572e-48d4-8875-1c7e47bd4941",
   "metadata": {},
   "outputs": [
    {
     "name": "stdout",
     "output_type": "stream",
     "text": [
      "\n"
     ]
    }
   ],
   "source": [
    "# if 할 때, \n",
    "# if a == True: 이런 식으로 안 씀!\n",
    "a = True\n",
    "if a:\n",
    "    print()"
   ]
  },
  {
   "cell_type": "code",
   "execution_count": 49,
   "id": "e2e60c5a-cd9e-4dc6-9177-6f80d3cf1280",
   "metadata": {},
   "outputs": [],
   "source": [
    "# 이 둘의 차이: 순서\n",
    "# a는 중복을 먼저 제거한 뒤 진행 \n",
    "# b는 전부 진행을 한 뒤, 마지막에 중복을 제거 \n",
    "\n",
    "a = [word for word in set(text4) if 'gnt' in word]\n",
    "b = set([word for word in text4 if 'gnt' in word])"
   ]
  },
  {
   "cell_type": "code",
   "execution_count": 50,
   "id": "f30b389c-0ec9-4ad5-922b-2bfbe4b3eaef",
   "metadata": {},
   "outputs": [],
   "source": [
    "# 대소문자 중복의 차이! 有\n",
    "# a는 중복을 먼저 제거한 뒤 소문자로 만듦, \n",
    "# 이 경우, the와 The의 경우와 같이 중복이 제대로 제거되지 않았을 수 있음.\n",
    "# b는 소문자로 만든 다음에 중복을 제거!\n",
    "a = [word.lower() for word in set(text4) if 'gnt' in word]\n",
    "b = set([word.lower() for word in text4 if 'gnt' in word])"
   ]
  },
  {
   "cell_type": "code",
   "execution_count": 51,
   "id": "ba26af5f-4423-4a78-9cf8-437f7d290647",
   "metadata": {},
   "outputs": [
    {
     "data": {
      "text/plain": [
       "(['sovereignty', 'sovereignties', 'sovereignty'],\n",
       " {'sovereignties', 'sovereignty'})"
      ]
     },
     "execution_count": 51,
     "metadata": {},
     "output_type": "execute_result"
    }
   ],
   "source": [
    "a, b"
   ]
  },
  {
   "cell_type": "markdown",
   "id": "a461f99c-e31c-431b-b37f-1c1c59a9c2e6",
   "metadata": {},
   "source": [
    "### 조건을 위한 함수: uncased, cased\n",
    "- 대소문자 구분 => 'the' != 'The'\n",
    "- upper(), lower(), title()\n",
    "- capitalize()\n",
    "- swapcase() => 대문자를 소문자로, 소문자를 대문자로 바꿔주는 함수\n",
    "- 진리를 확인: True, False 반환\n",
    "    - isupper(), islower(), istitle()\n",
    "- 무엇으로 끝나나?\n",
    "    - endswith(), startswith()\n",
    "- 문자열 확인하는 함수! 전체 텍스트 중 알파벳만 골라내고 싶을 때.\n",
    "    - isalpha()"
   ]
  },
  {
   "cell_type": "code",
   "execution_count": 53,
   "id": "ca6c723f-2ef8-44c3-956c-a6f91186b2da",
   "metadata": {},
   "outputs": [
    {
     "data": {
      "text/plain": [
       "False"
      ]
     },
     "execution_count": 53,
     "metadata": {},
     "output_type": "execute_result"
    }
   ],
   "source": [
    "'word'.isupper()"
   ]
  },
  {
   "cell_type": "code",
   "execution_count": 55,
   "id": "b7d5aef1-82f2-44f2-a872-fe6dc10abd98",
   "metadata": {},
   "outputs": [
    {
     "data": {
      "text/plain": [
       "True"
      ]
     },
     "execution_count": 55,
     "metadata": {},
     "output_type": "execute_result"
    }
   ],
   "source": [
    "# w로 시작하는가?\n",
    "'word'.startswith('w')"
   ]
  },
  {
   "cell_type": "code",
   "execution_count": 56,
   "id": "c5280f39-a845-4a51-ab4d-5b9829122f39",
   "metadata": {},
   "outputs": [
    {
     "data": {
      "text/plain": [
       "False"
      ]
     },
     "execution_count": 56,
     "metadata": {},
     "output_type": "execute_result"
    }
   ],
   "source": [
    "# 알파벳으로 되어있는가?\n",
    "'.'.isalpha()"
   ]
  },
  {
   "cell_type": "code",
   "execution_count": 57,
   "id": "61876419-5a52-422e-b091-ecb6e225e58e",
   "metadata": {},
   "outputs": [
    {
     "data": {
      "text/plain": [
       "['uncomfortableness',\n",
       " 'comfortableness',\n",
       " 'intolerableness',\n",
       " 'immutableness',\n",
       " 'indomitableness',\n",
       " 'reasonableness',\n",
       " 'indispensableness',\n",
       " 'indomitableness',\n",
       " 'honourableness',\n",
       " 'palpableness']"
      ]
     },
     "execution_count": 57,
     "metadata": {},
     "output_type": "execute_result"
    }
   ],
   "source": [
    "# text1에서 'ableness'로 끝나는 단어 반환\n",
    "[word for word in text1 if word.endswith('ableness')]"
   ]
  },
  {
   "cell_type": "code",
   "execution_count": 60,
   "id": "3fb38556-bcb6-4c7a-9e00-2fe904cadcdc",
   "metadata": {},
   "outputs": [],
   "source": [
    "# text3 대문자로 시작하는 단어들 중, 길이가 3 이상인 단어\n",
    "# -> 중복 없이 뽑자 -> 대문자로 반환\n",
    "\n",
    "# 정답은 a!\n",
    "# b는 God, GOD를 걸러주지 않음,,\n",
    "a = set([word.upper() for word in text3 if word[0].isupper() and len(word) >= 3])\n",
    "b = [word.upper() for word in set(text3) if word[0].isupper() and len(word) >= 3]"
   ]
  },
  {
   "cell_type": "code",
   "execution_count": 67,
   "id": "3532478f-9f45-451b-b239-3a8ec49db74b",
   "metadata": {
    "tags": []
   },
   "outputs": [
    {
     "data": {
      "text/plain": [
       "[6, 8, 6, 5, 15, 12, 8, 4, 5, 5]"
      ]
     },
     "execution_count": 67,
     "metadata": {},
     "output_type": "execute_result"
    }
   ],
   "source": [
    "# text4에서 알파벳인 단어 중, 길이가 4개 이상이고, 빈도수가 5이상인 단어의 길이 반환 \n",
    "# => 너무 길게 나오므로 10개만!\n",
    "\n",
    "# fdist를 쓰는 이유; 찾아놓은 결과물\n",
    "# 만약 count를 쓴다면? text4.count(word) == 5\n",
    "# 비효율적인 코드 - 텍스트에서 각 단어마다 계속 찾음! 시간이 너무 오래 걸림!\n",
    "\n",
    "fdist4 = FreqDist(text4)\n",
    "[len(word) for word in text4 \\\n",
    " if word.isalpha() and (len(word) >= 4) and fdist4[word] >= 5][:10]"
   ]
  },
  {
   "cell_type": "code",
   "execution_count": 69,
   "id": "75021037-9a97-47ee-9f3d-59e34bafb8b5",
   "metadata": {},
   "outputs": [
    {
     "data": {
      "text/plain": [
       "[6, 8, 6, 5, 15, 12, 8, 4, 5, 5]"
      ]
     },
     "execution_count": 69,
     "metadata": {},
     "output_type": "execute_result"
    }
   ],
   "source": [
    "# fdist로 접근해서 가져가는 방법!\n",
    "\n",
    "fdist4 = FreqDist(text4)\n",
    "[len(word) for (word, count) in fdist4.items() \\\n",
    " if word.isalpha() and (len(word) >= 4) and (count >= 5)][:10]"
   ]
  },
  {
   "cell_type": "markdown",
   "id": "a0a61e67-abc6-4334-bd72-91704b5465a8",
   "metadata": {},
   "source": [
    "### 리스트, 스트링\n",
    "- list.split(): str에서 list로!\n",
    "- sep.join(list): list에서 str로!"
   ]
  },
  {
   "cell_type": "code",
   "execution_count": 81,
   "id": "0b966abc-9f34-4a02-b58a-1d5e015fab51",
   "metadata": {},
   "outputs": [
    {
     "data": {
      "text/plain": [
       "['I', 'am', 'thirsty']"
      ]
     },
     "execution_count": 81,
     "metadata": {},
     "output_type": "execute_result"
    }
   ],
   "source": [
    "sent = 'I am thirsty'\n",
    "['I', 'am', 'thirsty'] # 이렇게 만들고 싶다! tokens\n",
    "\n",
    "# split()에서 default는 공백\n",
    "sent.split()"
   ]
  },
  {
   "cell_type": "code",
   "execution_count": 83,
   "id": "5e596bae-458f-4771-b15e-00e314c62567",
   "metadata": {},
   "outputs": [
    {
     "data": {
      "text/plain": [
       "['I', 'am', 'thirsty']"
      ]
     },
     "execution_count": 83,
     "metadata": {},
     "output_type": "execute_result"
    }
   ],
   "source": [
    "sent = 'I, am, thirsty'\n",
    "['I', 'am', 'thirsty'] \n",
    "\n",
    "# 쉼표로 나눌 때, strip() 활용!\n",
    "# list comprehension\n",
    "[word.strip() for word in sent.split(',')]"
   ]
  },
  {
   "cell_type": "code",
   "execution_count": 84,
   "id": "148aaab9-e0c2-4acb-b4b8-b493032df785",
   "metadata": {},
   "outputs": [
    {
     "data": {
      "text/plain": [
       "['I', 'am', 'thirsty']"
      ]
     },
     "execution_count": 84,
     "metadata": {},
     "output_type": "execute_result"
    }
   ],
   "source": [
    "tokens = sent.split(',')\n",
    "\n",
    "[word.strip() for word in tokens]"
   ]
  },
  {
   "cell_type": "code",
   "execution_count": 85,
   "id": "29c98eab-8487-4718-8ef2-ee660c6f8234",
   "metadata": {},
   "outputs": [
    {
     "name": "stdout",
     "output_type": "stream",
     "text": [
      "I am thirsty\n",
      "I-am-thirsty\n"
     ]
    }
   ],
   "source": [
    "# 구분자를 앞에! join 뒤에는 list를 쓰면!\n",
    "tokens = [word.strip() for word in tokens]\n",
    "\n",
    "print(' '.join(tokens))\n",
    "print('-'.join(tokens))"
   ]
  },
  {
   "cell_type": "markdown",
   "id": "8707fcb1-6b02-4ec9-9bdf-5cfd7c09e225",
   "metadata": {},
   "source": [
    "---\n",
    "## `ch06_for_ex01`"
   ]
  },
  {
   "cell_type": "markdown",
   "id": "bfd70906-a5bf-42bf-92ff-7e140f1f2afd",
   "metadata": {},
   "source": [
    "### 반복문\n",
    "- [word `for word in text1`]\n",
    "- 자료구조를 순회할 때 사용\n",
    "- 정해진 동작을 반복적으로 수행할 때 내리는 명령어\n",
    "- 시작조건, 종료조건, 수행명령으로 구성\n",
    "- \n",
    "```\n",
    "for 요소 in 반복범위:\n",
    "    수행명령\n",
    "    ```  \n",
    "- for, while\n",
    "- 들여쓰기, 블록 => 논리구조를 나타냄!\n",
    "- `무한루프가 되지 않도록 주의!`"
   ]
  },
  {
   "cell_type": "code",
   "execution_count": 86,
   "id": "4bcba384-3cfa-4b85-a9bc-26f53cde1274",
   "metadata": {},
   "outputs": [
    {
     "data": {
      "text/plain": [
       "True"
      ]
     },
     "execution_count": 86,
     "metadata": {},
     "output_type": "execute_result"
    }
   ],
   "source": [
    "import nltk\n",
    "from nltk.book import *\n",
    "\n",
    "nltk.download('book', quiet=True)"
   ]
  },
  {
   "cell_type": "code",
   "execution_count": 87,
   "id": "4e36a61c-a010-47ee-b334-b1ae889a64e8",
   "metadata": {},
   "outputs": [
    {
     "name": "stdout",
     "output_type": "stream",
     "text": [
      "[\n",
      "Moby\n",
      "Dick\n",
      "by\n",
      "Herman\n",
      "Melville\n",
      "1851\n",
      "]\n",
      "ETYMOLOGY\n",
      ".\n"
     ]
    }
   ],
   "source": [
    "# text1에 있는 word에서 word를 print\n",
    "for word in text1[:10]:\n",
    "    print(word)"
   ]
  },
  {
   "cell_type": "code",
   "execution_count": 88,
   "id": "76a40ad1-28b0-411e-9c4a-8d5f6c19430e",
   "metadata": {},
   "outputs": [
    {
     "data": {
      "text/plain": [
       "['[',\n",
       " 'Moby',\n",
       " 'Dick',\n",
       " 'by',\n",
       " 'Herman',\n",
       " 'Melville',\n",
       " '1851',\n",
       " ']',\n",
       " 'ETYMOLOGY',\n",
       " '.']"
      ]
     },
     "execution_count": 88,
     "metadata": {},
     "output_type": "execute_result"
    }
   ],
   "source": [
    "[word for word in text1[:10]]"
   ]
  },
  {
   "cell_type": "code",
   "execution_count": 89,
   "id": "f3ff8713-51a2-4a68-ad11-b788d18b77f5",
   "metadata": {},
   "outputs": [
    {
     "name": "stdout",
     "output_type": "stream",
     "text": [
      "a\n",
      "b\n",
      "c\n"
     ]
    }
   ],
   "source": [
    "alphabet = ['a', 'b', 'c']\n",
    "\n",
    "# 하나하나 요소 반복!\n",
    "for w in alphabet:\n",
    "    print(w)"
   ]
  },
  {
   "cell_type": "code",
   "execution_count": 90,
   "id": "d253f98a-1bbc-4a21-92e3-d8336f701c1d",
   "metadata": {},
   "outputs": [
    {
     "name": "stdout",
     "output_type": "stream",
     "text": [
      "1\n",
      "3\n",
      "5\n",
      "7\n",
      "9\n"
     ]
    }
   ],
   "source": [
    "# 숫자 반복: range(start, end, step)\n",
    "\n",
    "# 1부터 9까지, 2씩 증가\n",
    "for i in range(1, 10, 2):\n",
    "    print(i)"
   ]
  },
  {
   "cell_type": "code",
   "execution_count": 91,
   "id": "c8d5cb9f-e8d9-4edb-9e2a-cd6aab08cb50",
   "metadata": {},
   "outputs": [
    {
     "name": "stdout",
     "output_type": "stream",
     "text": [
      "260819\n",
      "141576\n",
      "44764\n",
      "152901\n",
      "45010\n",
      "16967\n",
      "100676\n",
      "4867\n",
      "69213\n"
     ]
    }
   ],
   "source": [
    "# text1-9 각 텍스트의 단어 수를 반환\n",
    "# 10만, 20만, 24만, ...\n",
    "\n",
    "texts = [text1, text2, text3, text4, text5, text6, text7, text8, text9]\n",
    "for text in texts:\n",
    "    print(len(text))"
   ]
  },
  {
   "cell_type": "markdown",
   "id": "bbbf12f5-5c81-4d94-ba8e-6d3c711e76d8",
   "metadata": {},
   "source": [
    "### 출력 포매팅\n",
    "`1, 3번 방식을 주로 사용!`\n",
    "- 1. f''\n",
    "    - f, F 둘다 가능\n",
    "- 2. %\n",
    "    - str 안에 %를 쓰고, %var\n",
    "- 3. '.....{}'.format(var)"
   ]
  },
  {
   "cell_type": "code",
   "execution_count": 94,
   "id": "b1eed55f-d7b2-404a-bb6a-f0421bc38dcb",
   "metadata": {},
   "outputs": [
    {
     "name": "stdout",
     "output_type": "stream",
     "text": [
      "My name is kim, and I am 7 years old.\n"
     ]
    }
   ],
   "source": [
    "name = 'kim'\n",
    "age = 7\n",
    "\n",
    "# print 하고 싶은 문장!\n",
    "print('My name is kim, and I am 7 years old.')"
   ]
  },
  {
   "cell_type": "code",
   "execution_count": 101,
   "id": "38633459-c2c7-460b-98f7-94ab154ee8f4",
   "metadata": {},
   "outputs": [
    {
     "name": "stdout",
     "output_type": "stream",
     "text": [
      "My name is kim, and I am 7 years old.\n"
     ]
    }
   ],
   "source": [
    "# 1차원적인 방법\n",
    "print('My name is', name + ', and I am', age, 'years old.')"
   ]
  },
  {
   "cell_type": "code",
   "execution_count": 102,
   "id": "0ce78699-426f-4aa4-9b27-f0e1a4560b73",
   "metadata": {},
   "outputs": [
    {
     "name": "stdout",
     "output_type": "stream",
     "text": [
      "My name is kim, and I am 7 years old.\n"
     ]
    }
   ],
   "source": [
    "# 1번 방식 - 좋은 방식!\n",
    "print(f'My name is {name}, and I am {age} years old.')"
   ]
  },
  {
   "cell_type": "code",
   "execution_count": 103,
   "id": "e788a86f-2bf4-4a52-a651-9d9ee0f087df",
   "metadata": {},
   "outputs": [
    {
     "name": "stdout",
     "output_type": "stream",
     "text": [
      "My name is kim, and I am 7 years old.\n"
     ]
    }
   ],
   "source": [
    "# 2번 방식 - 옛날 방식,,\n",
    "print('My name is %s, and I am %d years old.' %(name, age))"
   ]
  },
  {
   "cell_type": "code",
   "execution_count": 105,
   "id": "5d283cc6-dfbd-47ab-9edc-aae27aff088e",
   "metadata": {},
   "outputs": [
    {
     "name": "stdout",
     "output_type": "stream",
     "text": [
      "My name is kim, and I am 7 years old.\n",
      "My name is kim, and I am 7 years old.\n"
     ]
    }
   ],
   "source": [
    "# 3번 방식 \n",
    "# {} 안에 순서를 바꿔줄 수 있음, default는 순서대로 출력\n",
    "print('My name is {}, and I am {} years old.'.format(name, age))\n",
    "print('My name is {1}, and I am {0} years old.'.format(age, name))"
   ]
  },
  {
   "cell_type": "code",
   "execution_count": 107,
   "id": "f1e871d4-c6a0-4900-9e28-93670fce4bf5",
   "metadata": {},
   "outputs": [
    {
     "name": "stdout",
     "output_type": "stream",
     "text": [
      "My name is kim, and I am 7.6 years old.\n"
     ]
    }
   ],
   "source": [
    "a = 7.5555555\n",
    "print('My name is {}, and I am {:.2} years old.'.format(name, a))"
   ]
  },
  {
   "cell_type": "markdown",
   "id": "0bef8630-2b0c-4d47-8928-94b52d9083d1",
   "metadata": {},
   "source": [
    "---\n",
    "#### `연습 1`\n",
    "- nltk를 import한 뒤,\n",
    "- text4에서 소문자로 시작하는 단어들 중 길이가 16 이상인 단어를\n",
    "- 중복 없이 뽑으며, 소문자로 반환하기 + 개수도 출력."
   ]
  },
  {
   "cell_type": "code",
   "execution_count": 117,
   "id": "bc683c79-9097-4635-8d81-ea12248c4b8f",
   "metadata": {},
   "outputs": [
    {
     "name": "stdout",
     "output_type": "stream",
     "text": [
      "{'discountenancing', 'sentimentalizing', 'contradistinction', 'misunderstanding', 'irresponsibility', 'unconstitutional', 'transcontinental', 'antiphilosophists', 'uncharitableness', 'misrepresentation', 'misappropriation', 'enthusiastically', 'instrumentalities', 'internationality', 'disqualification', 'constitutionally', 'responsibilities'}\n",
      "소문자로 시작하는 단어들 중 길이가 16인 단어의 개수는 17개 입니다.\n"
     ]
    }
   ],
   "source": [
    "import nltk\n",
    "from nltk.book import *\n",
    "\n",
    "nltk.download('book', quiet=True)\n",
    "\n",
    "ans = set([word.lower() for word in text4 if word[0].lower() and len(word) >= 16])\n",
    "print(ans)\n",
    "print(f'소문자로 시작하는 단어들 중 길이가 16인 단어의 개수는 {len(ans)}개 입니다.')"
   ]
  },
  {
   "cell_type": "markdown",
   "id": "75b8bcb0-fd53-42bd-8fdf-444fbe8f5f2d",
   "metadata": {},
   "source": [
    "#### `연습 2`\n",
    "- nltk를 import한 뒤,\n",
    "- text6에서 알파벳인 단어 중, 길이가 10 이상이고, \n",
    "- 빈도수가 5 이상인 단어를 앞 글자만 대문자로 바꾸어 반환\n",
    "- 중복을 제거하며, 마지막 줄에 개수도 출력하기"
   ]
  },
  {
   "cell_type": "code",
   "execution_count": 119,
   "id": "57e94640-7fcf-47be-8679-ea66e6ba37d5",
   "metadata": {},
   "outputs": [
    {
     "name": "stdout",
     "output_type": "stream",
     "text": [
      "{'Shrubberies', 'Bridgekeeper'}\n",
      "알파벳인 단어 중, 길이가 10 이상이고 빈도수가 5이상인 단어는 2개 입니다.\n"
     ]
    }
   ],
   "source": [
    "import nltk\n",
    "from nltk.book import *\n",
    "\n",
    "nltk.download('book', quiet=True)\n",
    "\n",
    "fdist6 = FreqDist(text6)\n",
    "\n",
    "ans = set([word.title() for word in text6 \\\n",
    "       if word.isalpha() and len(word) >= 10 and fdist6[word] >= 5])\n",
    "print(ans)\n",
    "print(f'알파벳인 단어 중, 길이가 10 이상이고 빈도수가 5이상인 단어는 {len(ans)}개 입니다.')"
   ]
  },
  {
   "cell_type": "markdown",
   "id": "9e83e4aa-c384-48bd-87be-15f16ad2856a",
   "metadata": {},
   "source": [
    "#### `연습 3`\n",
    "- nltk를 import한 뒤,\n",
    "- text2에서는 한 번 출현하지만, text6에서는 여러 번 출현하는 단어의 개수 출력\n",
    "- 중복을 제거하며, 알파벳으로 이루어진 단어만 인정"
   ]
  },
  {
   "cell_type": "code",
   "execution_count": 121,
   "id": "17dc8690-4b45-4228-b4e5-105bf28e3f48",
   "metadata": {},
   "outputs": [
    {
     "name": "stdout",
     "output_type": "stream",
     "text": [
      "정답은 40개 입니다.\n"
     ]
    }
   ],
   "source": [
    "import nltk\n",
    "from nltk.book import *\n",
    "\n",
    "nltk.download('book', quiet=True)\n",
    "\n",
    "fdist2 = FreqDist(text2)\n",
    "fdist6 = FreqDist(text6)\n",
    "\n",
    "txt2 = set([word for word in fdist2.hapaxes() if word.isalpha()])\n",
    "txt6 = set([word for word in txt2 if fdist6[word] >= 2])\n",
    "\n",
    "ans = len(txt6)\n",
    "print(f'정답은 {ans}개 입니다.')"
   ]
  }
 ],
 "metadata": {
  "kernelspec": {
   "display_name": "Python 3 (ipykernel)",
   "language": "python",
   "name": "python3"
  },
  "language_info": {
   "codemirror_mode": {
    "name": "ipython",
    "version": 3
   },
   "file_extension": ".py",
   "mimetype": "text/x-python",
   "name": "python",
   "nbconvert_exporter": "python",
   "pygments_lexer": "ipython3",
   "version": "3.9.7"
  }
 },
 "nbformat": 4,
 "nbformat_minor": 5
}
