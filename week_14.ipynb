{
 "cells": [
  {
   "cell_type": "markdown",
   "id": "d96f2671-500a-4efc-a4b6-dc4dd4154773",
   "metadata": {},
   "source": [
    "# 14주차 (0603) Review\n",
    "---\n",
    "---"
   ]
  },
  {
   "cell_type": "markdown",
   "id": "2001bf3b-50b2-42ef-ae59-451d1e2c823a",
   "metadata": {},
   "source": [
    "## 함수II\n",
    "1. 일급 객체\n",
    "2. 중첩 함수\n",
    "    1. 클로저\n",
    "    2. 데코레이터\n",
    "    3. 범위\n",
    "3. 익명 함수\n",
    "4. 제너레이터\n",
    "5. 재귀 함수"
   ]
  },
  {
   "cell_type": "markdown",
   "id": "938259a6-8b4d-4166-9b9e-629938b3b83b",
   "metadata": {},
   "source": [
    "---\n",
    "### 1. 일급 객체\n",
    "- first class object, first class citizen\n",
    "- 함수도 파이썬에서는 일급 객체\n",
    "    - 다른 언어에서는 안 되는데, 파이썬에서는 함수도 이런 역할이 주어졌다는 것!\n",
    "- 일급 객체의 조건\n",
    "    - 함수의 인자로 전달된다.\n",
    "    ```\n",
    "        def fx(func)  # >>> 여기서 func는 `함수`\n",
    "    ```\n",
    "    - 함수의 반환값이 된다. \n",
    "    ```\n",
    "        def fx(func):\n",
    "            return func  # >>> 함수를 내보낼 수도 있다.\n",
    "    ```\n",
    "    - 수정, 할당이 된다.\n",
    "    ```\n",
    "        var = fx()\n",
    "    ```"
   ]
  },
  {
   "cell_type": "code",
   "execution_count": 1,
   "id": "7ba18d8f-dd48-4d52-aaf0-73ceaa673dc3",
   "metadata": {},
   "outputs": [
    {
     "name": "stdout",
     "output_type": "stream",
     "text": [
      "815\n"
     ]
    }
   ],
   "source": [
    "def answer():\n",
    "    print(815)\n",
    "    \n",
    "def run_sth(func):\n",
    "    func() # func vs. func() 차이! => ()가 붙으면, 실행을 하라는 의미\n",
    "    \n",
    "run_sth(answer) # 함수인 answer이 들어가서, run_sth이 실행이 됨!"
   ]
  },
  {
   "cell_type": "code",
   "execution_count": 2,
   "id": "bad5e2f6-8727-4a21-9f06-3b514fbfe1e1",
   "metadata": {},
   "outputs": [
    {
     "name": "stdout",
     "output_type": "stream",
     "text": [
      "60\n"
     ]
    }
   ],
   "source": [
    "def add_args(arg1, arg2, arg3):\n",
    "    print(arg1 + arg2 + arg3)\n",
    "    \n",
    "def run_sth2(func, *args): # asterisk 사용\n",
    "    func(*args)\n",
    "    \n",
    "run_sth2(add_args, 10, 20, 30)"
   ]
  },
  {
   "cell_type": "markdown",
   "id": "771b6c92-ecc1-47ea-9f6d-4689678ebc26",
   "metadata": {},
   "source": [
    "---\n",
    "### 2. 중첩함수\n",
    "- 일급 객체 활용, 함수 내에서 또 다른 함수를 정의하는 것\n",
    "- 내부함수 캡슐화\n",
    "    - 사용하는 이유?\n",
    "        1. 메모리 절약 (외부함수를 지워도, 내부함수를 돌아가게 할 수 있음)\n",
    "        2. 변수가 섞여서 불필요하게 충돌하는 것을 방지함 (내용에 맞게 바운더리를 주는 역할)\n",
    "        3. 목적에 맞게 변수를 그룹화할 수 있음. 관리, 책임 명확히!"
   ]
  },
  {
   "cell_type": "code",
   "execution_count": 3,
   "id": "774739b9-2edb-4011-88b7-8f4fa4a524fb",
   "metadata": {},
   "outputs": [
    {
     "data": {
      "text/plain": [
       "2"
      ]
     },
     "execution_count": 3,
     "metadata": {},
     "output_type": "execute_result"
    }
   ],
   "source": [
    "# 중첩함수의 기본 형식\n",
    "\n",
    "def outer(a, b): # 외부함수\n",
    "    def inner(c, d): # 내부함수\n",
    "        return c + d\n",
    "    return inner(a, b)\n",
    "\n",
    "outer(1, 1)"
   ]
  },
  {
   "cell_type": "code",
   "execution_count": 4,
   "id": "77b0f70b-17c6-41a9-a0e7-38e339bdc0a9",
   "metadata": {},
   "outputs": [
    {
     "ename": "NameError",
     "evalue": "name 'inner' is not defined",
     "output_type": "error",
     "traceback": [
      "\u001b[0;31m---------------------------------------------------------------------------\u001b[0m",
      "\u001b[0;31mNameError\u001b[0m                                 Traceback (most recent call last)",
      "\u001b[0;32m/var/folders/mj/8pckvyp56672pjbch70f49440000gn/T/ipykernel_3500/225153890.py\u001b[0m in \u001b[0;36m<module>\u001b[0;34m\u001b[0m\n\u001b[1;32m      1\u001b[0m \u001b[0;31m# 이렇게하면 Error\u001b[0m\u001b[0;34m\u001b[0m\u001b[0;34m\u001b[0m\u001b[0m\n\u001b[1;32m      2\u001b[0m \u001b[0;31m# inner는 안에 있기 때문에, 밖에서 건드릴 수 없는 함수!\u001b[0m\u001b[0;34m\u001b[0m\u001b[0;34m\u001b[0m\u001b[0m\n\u001b[0;32m----> 3\u001b[0;31m \u001b[0minner\u001b[0m\u001b[0;34m(\u001b[0m\u001b[0;36m1\u001b[0m\u001b[0;34m,\u001b[0m \u001b[0;36m1\u001b[0m\u001b[0;34m)\u001b[0m\u001b[0;34m\u001b[0m\u001b[0;34m\u001b[0m\u001b[0m\n\u001b[0m",
      "\u001b[0;31mNameError\u001b[0m: name 'inner' is not defined"
     ]
    }
   ],
   "source": [
    "# 이렇게하면 Error \n",
    "# inner는 안에 있기 때문에, 밖에서 건드릴 수 없는 함수!\n",
    "inner(1, 1) "
   ]
  },
  {
   "cell_type": "code",
   "execution_count": 5,
   "id": "b2e0b8e0-8610-437e-8fd0-3349452be3ee",
   "metadata": {},
   "outputs": [
    {
     "ename": "NameError",
     "evalue": "name 'c' is not defined",
     "output_type": "error",
     "traceback": [
      "\u001b[0;31m---------------------------------------------------------------------------\u001b[0m",
      "\u001b[0;31mNameError\u001b[0m                                 Traceback (most recent call last)",
      "\u001b[0;32m/var/folders/mj/8pckvyp56672pjbch70f49440000gn/T/ipykernel_3500/1011534935.py\u001b[0m in \u001b[0;36m<module>\u001b[0;34m\u001b[0m\n\u001b[0;32m----> 1\u001b[0;31m \u001b[0mc\u001b[0m \u001b[0;31m# 역시 Error\u001b[0m\u001b[0;34m\u001b[0m\u001b[0;34m\u001b[0m\u001b[0m\n\u001b[0m",
      "\u001b[0;31mNameError\u001b[0m: name 'c' is not defined"
     ]
    }
   ],
   "source": [
    "c # 역시 Error"
   ]
  },
  {
   "cell_type": "code",
   "execution_count": 6,
   "id": "332395e7-c5dc-4239-9c42-96d2d8d839f2",
   "metadata": {},
   "outputs": [],
   "source": [
    "def dog(saying):\n",
    "    def inner():\n",
    "        return f'we are the dogs who say: {saying}'\n",
    "    return inner\n",
    "\n",
    "a = dog('arf')\n",
    "b = dog('woof')"
   ]
  },
  {
   "cell_type": "code",
   "execution_count": 7,
   "id": "5c16686a-49c2-42d0-aad4-aacfbbd82519",
   "metadata": {},
   "outputs": [
    {
     "data": {
      "text/plain": [
       "(<function __main__.dog.<locals>.inner()>,\n",
       " <function __main__.dog.<locals>.inner()>)"
      ]
     },
     "execution_count": 7,
     "metadata": {},
     "output_type": "execute_result"
    }
   ],
   "source": [
    "a, b # 함수"
   ]
  },
  {
   "cell_type": "code",
   "execution_count": 8,
   "id": "8bce6fa2-e7ac-41c7-9724-48ab4dcdef00",
   "metadata": {},
   "outputs": [
    {
     "data": {
      "text/plain": [
       "('we are the dogs who say: arf', 'we are the dogs who say: woof')"
      ]
     },
     "execution_count": 8,
     "metadata": {},
     "output_type": "execute_result"
    }
   ],
   "source": [
    "a(), b() # 실행시키고 싶다"
   ]
  },
  {
   "cell_type": "code",
   "execution_count": 9,
   "id": "1521db72-157f-4b08-8a30-510119d8b299",
   "metadata": {},
   "outputs": [
    {
     "ename": "NameError",
     "evalue": "name 'saying' is not defined",
     "output_type": "error",
     "traceback": [
      "\u001b[0;31m---------------------------------------------------------------------------\u001b[0m",
      "\u001b[0;31mNameError\u001b[0m                                 Traceback (most recent call last)",
      "\u001b[0;32m/var/folders/mj/8pckvyp56672pjbch70f49440000gn/T/ipykernel_3500/1705661915.py\u001b[0m in \u001b[0;36m<module>\u001b[0;34m\u001b[0m\n\u001b[1;32m      2\u001b[0m     \u001b[0;32mreturn\u001b[0m \u001b[0;34mf'we are the knights who say: {saying}'\u001b[0m\u001b[0;34m\u001b[0m\u001b[0;34m\u001b[0m\u001b[0m\n\u001b[1;32m      3\u001b[0m \u001b[0;34m\u001b[0m\u001b[0m\n\u001b[0;32m----> 4\u001b[0;31m \u001b[0minner\u001b[0m\u001b[0;34m(\u001b[0m\u001b[0;34m)\u001b[0m \u001b[0;31m# Error\u001b[0m\u001b[0;34m\u001b[0m\u001b[0;34m\u001b[0m\u001b[0m\n\u001b[0m",
      "\u001b[0;32m/var/folders/mj/8pckvyp56672pjbch70f49440000gn/T/ipykernel_3500/1705661915.py\u001b[0m in \u001b[0;36minner\u001b[0;34m()\u001b[0m\n\u001b[1;32m      1\u001b[0m \u001b[0;32mdef\u001b[0m \u001b[0minner\u001b[0m\u001b[0;34m(\u001b[0m\u001b[0;34m)\u001b[0m\u001b[0;34m:\u001b[0m\u001b[0;34m\u001b[0m\u001b[0;34m\u001b[0m\u001b[0m\n\u001b[0;32m----> 2\u001b[0;31m     \u001b[0;32mreturn\u001b[0m \u001b[0;34mf'we are the knights who say: {saying}'\u001b[0m\u001b[0;34m\u001b[0m\u001b[0;34m\u001b[0m\u001b[0m\n\u001b[0m\u001b[1;32m      3\u001b[0m \u001b[0;34m\u001b[0m\u001b[0m\n\u001b[1;32m      4\u001b[0m \u001b[0minner\u001b[0m\u001b[0;34m(\u001b[0m\u001b[0;34m)\u001b[0m \u001b[0;31m# Error\u001b[0m\u001b[0;34m\u001b[0m\u001b[0;34m\u001b[0m\u001b[0m\n",
      "\u001b[0;31mNameError\u001b[0m: name 'saying' is not defined"
     ]
    }
   ],
   "source": [
    "def inner():\n",
    "    return f'we are the knights who say: {saying}'\n",
    "\n",
    "inner() # Error"
   ]
  },
  {
   "cell_type": "markdown",
   "id": "f9a98137-9525-4cae-8a5a-7dc91b39c106",
   "metadata": {},
   "source": [
    "#### 여기서 알 수 있는 `inner 함수의 장점`\n",
    "- 외부함수의 인자를 참조할 수 있다; saying을 inner에서 안 받았는데, 잘 출력이 된다.\n",
    "- 수정/활용은 안 됨.\n",
    "- 이런 게 바로 클로저, 중첩함수의 일부분."
   ]
  },
  {
   "cell_type": "markdown",
   "id": "f31745ac-0e74-41b1-aeb3-8df7057d217c",
   "metadata": {},
   "source": [
    "#### A. 클로저 | closure\n",
    "- 조건\n",
    "    1. 중첩함수일 것\n",
    "    2. 내부함수가 외부함수의 상태값을 참조할 것 \n",
    "    3. 외부함수의 리턴값이 내부함수일 것\n",
    "- 정의\n",
    "    - 외부함수의 상태값을 기억하는 함수 (호출 시 사용가능)"
   ]
  },
  {
   "cell_type": "code",
   "execution_count": 10,
   "id": "fb7daeb3-4c3e-4086-8113-10a63928fb7a",
   "metadata": {},
   "outputs": [],
   "source": [
    "def multiply(x):\n",
    "    def inner(y):     # 조건 1.\n",
    "        return x * y  # 조건 2.\n",
    "    return inner      # 조건 3."
   ]
  },
  {
   "cell_type": "code",
   "execution_count": 11,
   "id": "7de7f113-349d-42fe-a8db-063cf4ec017e",
   "metadata": {},
   "outputs": [
    {
     "name": "stdout",
     "output_type": "stream",
     "text": [
      "<function multiply.<locals>.inner at 0x7fc8a1c48940>\n",
      "<function multiply.<locals>.inner at 0x7fc8a1c48160>\n",
      "10 20\n"
     ]
    }
   ],
   "source": [
    "m = multiply(1)\n",
    "n = multiply(2)\n",
    "\n",
    "print(m) # 함수\n",
    "print(n) # 함수\n",
    "print(m(10), n(10)) # 함수 실행!"
   ]
  },
  {
   "cell_type": "code",
   "execution_count": 12,
   "id": "0a51c201-170e-4ee8-97d8-caa0c8312d9f",
   "metadata": {},
   "outputs": [
    {
     "ename": "NameError",
     "evalue": "name 'multiply' is not defined",
     "output_type": "error",
     "traceback": [
      "\u001b[0;31m---------------------------------------------------------------------------\u001b[0m",
      "\u001b[0;31mNameError\u001b[0m                                 Traceback (most recent call last)",
      "\u001b[0;32m/var/folders/mj/8pckvyp56672pjbch70f49440000gn/T/ipykernel_3500/35994158.py\u001b[0m in \u001b[0;36m<module>\u001b[0;34m\u001b[0m\n\u001b[1;32m      1\u001b[0m \u001b[0;32mdel\u001b[0m\u001b[0;34m(\u001b[0m\u001b[0mmultiply\u001b[0m\u001b[0;34m)\u001b[0m \u001b[0;31m# 메모리에서 multiply 지우기\u001b[0m\u001b[0;34m\u001b[0m\u001b[0;34m\u001b[0m\u001b[0m\n\u001b[0;32m----> 2\u001b[0;31m \u001b[0mmultiply\u001b[0m\u001b[0;34m\u001b[0m\u001b[0;34m\u001b[0m\u001b[0m\n\u001b[0m",
      "\u001b[0;31mNameError\u001b[0m: name 'multiply' is not defined"
     ]
    }
   ],
   "source": [
    "del(multiply) # 메모리에서 multiply 지우기\n",
    "multiply"
   ]
  },
  {
   "cell_type": "code",
   "execution_count": 13,
   "id": "31e8ff56-3b27-4afa-ace4-4cd101649696",
   "metadata": {},
   "outputs": [
    {
     "data": {
      "text/plain": [
       "20"
      ]
     },
     "execution_count": 13,
     "metadata": {},
     "output_type": "execute_result"
    }
   ],
   "source": [
    "# multiply를 지워도 얘는 계속 돌아간다. \n",
    "# 외부함수는 지워졌지만, 객체를 따로 기억한다 -> 메모리 효율적 사용 가능\n",
    "n(10)"
   ]
  },
  {
   "cell_type": "markdown",
   "id": "11930bc8-5976-494b-adbf-fc5c9f058ed0",
   "metadata": {},
   "source": [
    "#### `실습1`\n",
    "- 클로저 함수 만들기\n",
    "- 리턴값 * 리턴값 (예 - 8 * 8)"
   ]
  },
  {
   "cell_type": "code",
   "execution_count": 14,
   "id": "f7c9fc70-22a8-4dda-afed-283b76d64640",
   "metadata": {},
   "outputs": [
    {
     "data": {
      "text/plain": [
       "64"
      ]
     },
     "execution_count": 14,
     "metadata": {},
     "output_type": "execute_result"
    }
   ],
   "source": [
    "def add(a, b):\n",
    "    return a + b\n",
    "\n",
    "def square(func):\n",
    "    def inner(a, b): # func의 인자가 둘 => inner에서 설정함.\n",
    "        result = func(a, b)\n",
    "        return result * result\n",
    "    return inner\n",
    "\n",
    "s = square(add)\n",
    "s(2, 6)"
   ]
  },
  {
   "cell_type": "markdown",
   "id": "375e9e21-8019-4eb0-994a-11c1ebf10516",
   "metadata": {},
   "source": [
    "#### B. 데코레이터\n",
    "- 클로저 - 데코레이터 사용이 가능하다.\n",
    "- 메인 함수에 또 다른 함수를 취해 반환할 수 있게 한다.\n",
    "- 재사용성 높다.\n",
    "- 가독성, 직관성 좋다."
   ]
  },
  {
   "cell_type": "code",
   "execution_count": 15,
   "id": "d9b86d66-4291-4967-a31b-135f798cc8d0",
   "metadata": {},
   "outputs": [
    {
     "data": {
      "text/plain": [
       "144"
      ]
     },
     "execution_count": 15,
     "metadata": {},
     "output_type": "execute_result"
    }
   ],
   "source": [
    "@square\n",
    "def plus(a, b):\n",
    "    return a * b\n",
    "\n",
    "plus(2, 6) # square를 탄다."
   ]
  },
  {
   "cell_type": "markdown",
   "id": "a6b5e64d-e5a7-470a-a425-4f7cad2b4990",
   "metadata": {},
   "source": [
    "#### C. scope | 범위\n",
    "- 전역: global\n",
    "- 지역: local (참조만 가능)\n",
    "- nonlocal"
   ]
  },
  {
   "cell_type": "code",
   "execution_count": 16,
   "id": "d767d87a-07aa-40ea-b052-4656ab4bc738",
   "metadata": {},
   "outputs": [],
   "source": [
    "### 범위\n",
    "\n",
    "x = 4            # global\n",
    "def add(a, b):\n",
    "    y = 8        # local\n",
    "    return a + b\n",
    "\n",
    "def square(func):\n",
    "    # local\n",
    "    def inner(a, b): \n",
    "        # nonlocal\n",
    "        result = func(a, b)\n",
    "        return result * result\n",
    "    return inner"
   ]
  },
  {
   "cell_type": "code",
   "execution_count": 17,
   "id": "f5631e62-7d0a-4587-9dc7-d9b3cf5a6f38",
   "metadata": {},
   "outputs": [
    {
     "data": {
      "text/plain": [
       "999"
      ]
     },
     "execution_count": 17,
     "metadata": {},
     "output_type": "execute_result"
    }
   ],
   "source": [
    "x = 4            # global\n",
    "def outer(c):\n",
    "    y = 8        # local\n",
    "    def inner():\n",
    "        # 여기까지도 c는 9였음.\n",
    "        c = 999  # nonlocal\n",
    "        return c\n",
    "    return inner()\n",
    "\n",
    "outer(9) # 결과는 999"
   ]
  },
  {
   "cell_type": "code",
   "execution_count": 18,
   "id": "56a5b31b-833f-4981-8e39-f0d2f5c47389",
   "metadata": {},
   "outputs": [
    {
     "ename": "UnboundLocalError",
     "evalue": "local variable 'c' referenced before assignment",
     "output_type": "error",
     "traceback": [
      "\u001b[0;31m---------------------------------------------------------------------------\u001b[0m",
      "\u001b[0;31mUnboundLocalError\u001b[0m                         Traceback (most recent call last)",
      "\u001b[0;32m/var/folders/mj/8pckvyp56672pjbch70f49440000gn/T/ipykernel_3500/1301124921.py\u001b[0m in \u001b[0;36m<module>\u001b[0;34m\u001b[0m\n\u001b[1;32m      7\u001b[0m     \u001b[0;32mreturn\u001b[0m \u001b[0minner\u001b[0m\u001b[0;34m(\u001b[0m\u001b[0;34m)\u001b[0m\u001b[0;34m\u001b[0m\u001b[0;34m\u001b[0m\u001b[0m\n\u001b[1;32m      8\u001b[0m \u001b[0;34m\u001b[0m\u001b[0m\n\u001b[0;32m----> 9\u001b[0;31m \u001b[0mouter\u001b[0m\u001b[0;34m(\u001b[0m\u001b[0;36m9\u001b[0m\u001b[0;34m)\u001b[0m\u001b[0;34m\u001b[0m\u001b[0;34m\u001b[0m\u001b[0m\n\u001b[0m",
      "\u001b[0;32m/var/folders/mj/8pckvyp56672pjbch70f49440000gn/T/ipykernel_3500/1301124921.py\u001b[0m in \u001b[0;36mouter\u001b[0;34m(c)\u001b[0m\n\u001b[1;32m      5\u001b[0m         \u001b[0mc\u001b[0m \u001b[0;34m*=\u001b[0m \u001b[0;36m1\u001b[0m   \u001b[0;31m# Error\u001b[0m\u001b[0;34m\u001b[0m\u001b[0;34m\u001b[0m\u001b[0m\n\u001b[1;32m      6\u001b[0m         \u001b[0;32mreturn\u001b[0m \u001b[0mc\u001b[0m\u001b[0;34m\u001b[0m\u001b[0;34m\u001b[0m\u001b[0m\n\u001b[0;32m----> 7\u001b[0;31m     \u001b[0;32mreturn\u001b[0m \u001b[0minner\u001b[0m\u001b[0;34m(\u001b[0m\u001b[0;34m)\u001b[0m\u001b[0;34m\u001b[0m\u001b[0;34m\u001b[0m\u001b[0m\n\u001b[0m\u001b[1;32m      8\u001b[0m \u001b[0;34m\u001b[0m\u001b[0m\n\u001b[1;32m      9\u001b[0m \u001b[0mouter\u001b[0m\u001b[0;34m(\u001b[0m\u001b[0;36m9\u001b[0m\u001b[0;34m)\u001b[0m\u001b[0;34m\u001b[0m\u001b[0;34m\u001b[0m\u001b[0m\n",
      "\u001b[0;32m/var/folders/mj/8pckvyp56672pjbch70f49440000gn/T/ipykernel_3500/1301124921.py\u001b[0m in \u001b[0;36minner\u001b[0;34m()\u001b[0m\n\u001b[1;32m      3\u001b[0m     \u001b[0my\u001b[0m \u001b[0;34m=\u001b[0m \u001b[0;36m8\u001b[0m        \u001b[0;31m# local\u001b[0m\u001b[0;34m\u001b[0m\u001b[0;34m\u001b[0m\u001b[0m\n\u001b[1;32m      4\u001b[0m     \u001b[0;32mdef\u001b[0m \u001b[0minner\u001b[0m\u001b[0;34m(\u001b[0m\u001b[0;34m)\u001b[0m\u001b[0;34m:\u001b[0m\u001b[0;34m\u001b[0m\u001b[0;34m\u001b[0m\u001b[0m\n\u001b[0;32m----> 5\u001b[0;31m         \u001b[0mc\u001b[0m \u001b[0;34m*=\u001b[0m \u001b[0;36m1\u001b[0m   \u001b[0;31m# Error\u001b[0m\u001b[0;34m\u001b[0m\u001b[0;34m\u001b[0m\u001b[0m\n\u001b[0m\u001b[1;32m      6\u001b[0m         \u001b[0;32mreturn\u001b[0m \u001b[0mc\u001b[0m\u001b[0;34m\u001b[0m\u001b[0;34m\u001b[0m\u001b[0m\n\u001b[1;32m      7\u001b[0m     \u001b[0;32mreturn\u001b[0m \u001b[0minner\u001b[0m\u001b[0;34m(\u001b[0m\u001b[0;34m)\u001b[0m\u001b[0;34m\u001b[0m\u001b[0;34m\u001b[0m\u001b[0m\n",
      "\u001b[0;31mUnboundLocalError\u001b[0m: local variable 'c' referenced before assignment"
     ]
    }
   ],
   "source": [
    "x = 4            # global\n",
    "def outer(c):\n",
    "    y = 8        # local\n",
    "    def inner():\n",
    "        c *= 1   # Error\n",
    "        return c\n",
    "    return inner()\n",
    "\n",
    "outer(9)"
   ]
  },
  {
   "cell_type": "code",
   "execution_count": 19,
   "id": "9252ded2-4b04-4dd9-9785-b4e12dc32515",
   "metadata": {},
   "outputs": [
    {
     "data": {
      "text/plain": [
       "9"
      ]
     },
     "execution_count": 19,
     "metadata": {},
     "output_type": "execute_result"
    }
   ],
   "source": [
    "# 위 Error 해결 방법?\n",
    "\n",
    "x = 4            # global\n",
    "def outer(c):\n",
    "    y = 8        # local\n",
    "    def inner():\n",
    "        # c의 범위를 바꿔주기!\n",
    "        nonlocal c\n",
    "        c *= 1\n",
    "        return c\n",
    "    return inner()\n",
    "\n",
    "outer(9)"
   ]
  },
  {
   "cell_type": "markdown",
   "id": "cc759ca1-5dc4-47b8-b0df-68677297a7c2",
   "metadata": {},
   "source": [
    "#### `실습2`\n",
    "- fx1: spped, limit를 받아서 내 속도가 제한속도를 위반하는지 t/f\n",
    "- fx2: 클로저, 초과할 경우 얼마나 초과하는지 프린트하는 함수\n",
    "- 실행은 데코레이터로 fx1를 실행하면 되도록 만들기"
   ]
  },
  {
   "cell_type": "code",
   "execution_count": 20,
   "id": "f2ffc6bd-fc9c-48e2-9e9c-9884e1134a91",
   "metadata": {},
   "outputs": [
    {
     "data": {
      "text/plain": [
       "'20km/h 초과되었습니다.'"
      ]
     },
     "execution_count": 20,
     "metadata": {},
     "output_type": "execute_result"
    }
   ],
   "source": [
    "def violate(func):\n",
    "    def inner(speed, limit):\n",
    "        if func(speed, limit):\n",
    "            return f'{speed - limit}km/h 초과되었습니다.'\n",
    "        return f'현재 속도는 {speed}km/h, 정상 속도입니다.'\n",
    "    return inner\n",
    "\n",
    "@violate\n",
    "def is_speeding(speed, limit):\n",
    "    return speed > limit\n",
    "\n",
    "is_speeding(100, 80)"
   ]
  },
  {
   "cell_type": "code",
   "execution_count": 21,
   "id": "d4abfceb-33ad-4ed0-8640-de7a37f96433",
   "metadata": {},
   "outputs": [
    {
     "name": "stdout",
     "output_type": "stream",
     "text": [
      "현재 속도는 60km/h, 정상 속도입니다.\n",
      "현재 속도는 50km/h, 정상 속도입니다.\n"
     ]
    }
   ],
   "source": [
    "print(is_speeding(60, 70))\n",
    "print(is_speeding(50, 50))"
   ]
  },
  {
   "cell_type": "markdown",
   "id": "6a941139-ade7-49ba-886a-8e7ad354219c",
   "metadata": {},
   "source": [
    "---\n",
    "### 3. 익명함수 | lambda\n",
    "- 이름이 없다. 예약어가 없다.\n",
    "```\n",
    "    def is_speeding():\n",
    "        return\n",
    "```\n",
    "- def, return  => 이런 예약어를 안 씀!\n",
    "- is_speeding  => 이름은 써도 되고, 안 써도 됨!\n",
    "- 단순한 용도의 함수가 필요할 경우 사용, 재사용할 필요 없을 때.\n",
    "- 잦은 사용은 권하지 않음. 직관적이지 않기 때문에!\n",
    "- 형식 - lambda x: <x를 요리할 코드>"
   ]
  },
  {
   "cell_type": "code",
   "execution_count": 22,
   "id": "c461a495-d22e-4261-bf87-3282faba1df9",
   "metadata": {},
   "outputs": [
    {
     "name": "stdout",
     "output_type": "stream",
     "text": [
      "6\n",
      "6\n"
     ]
    }
   ],
   "source": [
    "def add_one(x):\n",
    "    return x + 1\n",
    "\n",
    "print(add_one(5))\n",
    "\n",
    "# 위의 def와 같은 코드를 한 줄로, 번거로움을 줄일 수 있다\n",
    "print((lambda x: x + 1)(5))"
   ]
  },
  {
   "cell_type": "code",
   "execution_count": 23,
   "id": "0f49322c-a4b1-4cb7-af2b-7370561a0bf4",
   "metadata": {},
   "outputs": [
    {
     "data": {
      "text/plain": [
       "6"
      ]
     },
     "execution_count": 23,
     "metadata": {},
     "output_type": "execute_result"
    }
   ],
   "source": [
    "# 이름을 만들어 주는 방법\n",
    "fx = lambda x: x + 1\n",
    "fx(5)"
   ]
  },
  {
   "cell_type": "code",
   "execution_count": 24,
   "id": "30dc0175-5d3c-4ead-9701-0e377ddfaca5",
   "metadata": {},
   "outputs": [
    {
     "data": {
      "text/plain": [
       "15"
      ]
     },
     "execution_count": 24,
     "metadata": {},
     "output_type": "execute_result"
    }
   ],
   "source": [
    "# 변수를 여러 개 사용하고 싶으면 ,로 가져가면 됨\n",
    "f = lambda x, y: x + y\n",
    "f(5, 10)"
   ]
  },
  {
   "cell_type": "markdown",
   "id": "c5e0a4f0-e2b5-41de-bbc3-357d2e3e2b89",
   "metadata": {},
   "source": [
    "#### `실습3`\n",
    "- 단어가 들어왔을 때 첫 글자를 대문자로 바꾸고 단어 끝에 !를 붙이도록 람다를 만들기\n",
    "- 예: hello -> Hello!"
   ]
  },
  {
   "cell_type": "code",
   "execution_count": 25,
   "id": "04a89ebd-54f0-4aa5-b561-22c63fc4e482",
   "metadata": {},
   "outputs": [
    {
     "data": {
      "text/plain": [
       "'Hello woori!'"
      ]
     },
     "execution_count": 25,
     "metadata": {},
     "output_type": "execute_result"
    }
   ],
   "source": [
    "(lambda word: word.capitalize() + '!')('hello woori')"
   ]
  },
  {
   "cell_type": "markdown",
   "id": "c58d32ed-3115-42cd-bc52-5a213d44c0d2",
   "metadata": {},
   "source": [
    "---\n",
    "### 4. 제너레이터\n",
    "- return -> yield\n",
    "- 시퀀스를 순회할 때 그 시퀀스를 생성하는 객체.\n",
    "- 한 번 사용되고 사라짐 => 메모리 효율 좋음."
   ]
  },
  {
   "cell_type": "code",
   "execution_count": 26,
   "id": "45c501d9-e5e7-4ed3-8bd7-a4a84dd215c9",
   "metadata": {},
   "outputs": [
    {
     "name": "stdout",
     "output_type": "stream",
     "text": [
      "0\n",
      "1\n",
      "2\n",
      "3\n",
      "4\n"
     ]
    }
   ],
   "source": [
    "def print_number(num):\n",
    "    for i in range(num):\n",
    "        yield i\n",
    "        \n",
    "# generator 생성\n",
    "fx = print_number(5)\n",
    "\n",
    "# 객체 순회\n",
    "for i in fx:\n",
    "    print(i)"
   ]
  },
  {
   "cell_type": "code",
   "execution_count": 27,
   "id": "9f25bfda-6da1-41ca-b46c-78fa79e3afaf",
   "metadata": {},
   "outputs": [],
   "source": [
    "# 이미 메모리에서 사라짐, 아무것도 안 뜸!\n",
    "for i in fx:\n",
    "    print(i)"
   ]
  },
  {
   "cell_type": "markdown",
   "id": "dfc99d00-2fe8-419a-9bf7-696593837924",
   "metadata": {},
   "source": [
    "#### `실습4`\n",
    "- range() 구현하기\n",
    "- 제너레이터 사용\n",
    "- \n",
    "```\n",
    "def my_range(start, end, step):\n",
    "    yield\n",
    "```"
   ]
  },
  {
   "cell_type": "code",
   "execution_count": 28,
   "id": "80d61955-0523-46fd-b4c3-e45ff40a165b",
   "metadata": {},
   "outputs": [
    {
     "name": "stdout",
     "output_type": "stream",
     "text": [
      "-5\n",
      "-3\n",
      "-1\n",
      "1\n",
      "3\n",
      "5\n"
     ]
    }
   ],
   "source": [
    "def my_range(start, end, step=1):\n",
    "    while start < end:\n",
    "        yield start\n",
    "        start += step\n",
    "    \n",
    "ranger = my_range(-5, 6, 2)\n",
    "for i in ranger:\n",
    "    print(i)"
   ]
  },
  {
   "cell_type": "code",
   "execution_count": 29,
   "id": "08d4f5b6-86b6-4ef0-90c8-77de04ff6073",
   "metadata": {},
   "outputs": [
    {
     "name": "stdout",
     "output_type": "stream",
     "text": [
      "<class 'generator'>\n",
      "\n",
      "0\n",
      "1\n",
      "2\n",
      "3\n",
      "4\n"
     ]
    }
   ],
   "source": [
    "# generator 더 쉽게 만들기\n",
    "# 리스트 컴프리헨션처럼 만들고, []가 아닌 ()로 담아주면 됨!\n",
    "\n",
    "ranger = (i for i in range(5))\n",
    "print(type(ranger))\n",
    "print()\n",
    "\n",
    "for i in ranger:\n",
    "    print(i)"
   ]
  },
  {
   "cell_type": "markdown",
   "id": "cbd27503-0a17-4c5d-be8a-96c2bcab1a6f",
   "metadata": {},
   "source": [
    "---\n",
    "### 5. 재귀함수\n",
    "- 너무 깊으면 예외 발생 => !주의!\n",
    "- 자기 자신을 호출하는 함수\n",
    "- [[1, 2, 3], [[1, 1]], 4, 5] -> [1, 2, 3, 1, 1, 4, 5]\n",
    "- 차원이 다른 모든 요소를 하나의 리스트에 담고 싶을 때"
   ]
  },
  {
   "cell_type": "code",
   "execution_count": 30,
   "id": "117568b2-ad5c-4b0e-82f0-231325e1dec5",
   "metadata": {},
   "outputs": [
    {
     "data": {
      "text/plain": [
       "False"
      ]
     },
     "execution_count": 30,
     "metadata": {},
     "output_type": "execute_result"
    }
   ],
   "source": [
    "isinstance('h', int) # 'h'가 int인가? t/f 반환"
   ]
  },
  {
   "cell_type": "code",
   "execution_count": 31,
   "id": "fb474d4e-a97b-47af-8a77-e801b0cb3d93",
   "metadata": {},
   "outputs": [],
   "source": [
    "def flatten(sent):\n",
    "    for word in sent:\n",
    "        if isinstance(word, list):\n",
    "            # true\n",
    "            for sub_word in flatten(word):\n",
    "                yield sub_word\n",
    "        else:\n",
    "            # false\n",
    "            yield word"
   ]
  },
  {
   "cell_type": "code",
   "execution_count": 32,
   "id": "fc294aee-bac6-4b78-8563-426caf68566f",
   "metadata": {},
   "outputs": [
    {
     "name": "stdout",
     "output_type": "stream",
     "text": [
      "4\n",
      "5\n",
      "6\n",
      "1\n",
      "2\n",
      "3\n",
      "7\n",
      "8\n"
     ]
    }
   ],
   "source": [
    "a = [[4, 5, 6], [[1, [2, 3]]], 7, 8]\n",
    "flatten(a)\n",
    "\n",
    "for i in flatten(a):\n",
    "    print(i)"
   ]
  },
  {
   "cell_type": "code",
   "execution_count": 33,
   "id": "6d3694ac-68a4-4896-ae1f-87d67447aab0",
   "metadata": {},
   "outputs": [],
   "source": [
    "# python 3.3부터 가능한 기능\n",
    "def flatten(sent):\n",
    "    for word in sent:\n",
    "        if isinstance(word, list):\n",
    "            # for sub_word in flatten(word):\n",
    "            #     yield sub_word\n",
    "            yield from flatten(word) # 위 두 줄의 코드를 한 줄로 축약해서 사용 가능!\n",
    "        else:\n",
    "            yield word"
   ]
  },
  {
   "cell_type": "markdown",
   "id": "bbc1bf59-7ace-4669-8c74-69657b86a266",
   "metadata": {},
   "source": [
    "---\n",
    "---\n",
    "## 예외 처리 | exception handling\n",
    "1. 예외 처리\n",
    "2. 예외 발생시키기\n",
    "     1. raise\n",
    "     2. assert\n",
    "3. 예외 정의하기"
   ]
  },
  {
   "cell_type": "markdown",
   "id": "26ce1335-8546-4425-8949-3f4517a71c56",
   "metadata": {},
   "source": [
    "---\n",
    "### 1. 예외 처리\n",
    "- 목적은 프로그램를 정상적으로 종료하기 위함.\n",
    "- 예외 발생 시, 사용자(우리)에게 알리고 조치를 취함.\n",
    "- 소프트렌딩\n",
    "- 형식?\n",
    "```\n",
    "try:\n",
    "    <에러 발생될 법한 코드 블럭>\n",
    "except <에러 타입>:\n",
    "    <처리할 방법>\n",
    "```"
   ]
  },
  {
   "cell_type": "code",
   "execution_count": 34,
   "id": "7c741bef-128f-4eed-8650-2306df59570d",
   "metadata": {},
   "outputs": [
    {
     "ename": "ZeroDivisionError",
     "evalue": "division by zero",
     "output_type": "error",
     "traceback": [
      "\u001b[0;31m---------------------------------------------------------------------------\u001b[0m",
      "\u001b[0;31mZeroDivisionError\u001b[0m                         Traceback (most recent call last)",
      "\u001b[0;32m/var/folders/mj/8pckvyp56672pjbch70f49440000gn/T/ipykernel_3500/4127104973.py\u001b[0m in \u001b[0;36m<module>\u001b[0;34m\u001b[0m\n\u001b[0;32m----> 1\u001b[0;31m \u001b[0;36m1\u001b[0m \u001b[0;34m/\u001b[0m \u001b[0;36m0\u001b[0m     \u001b[0;31m# 1. ZeroDivisionError\u001b[0m\u001b[0;34m\u001b[0m\u001b[0;34m\u001b[0m\u001b[0m\n\u001b[0m",
      "\u001b[0;31mZeroDivisionError\u001b[0m: division by zero"
     ]
    }
   ],
   "source": [
    "1 / 0     # 1. ZeroDivisionError"
   ]
  },
  {
   "cell_type": "code",
   "execution_count": 35,
   "id": "cdeacdf2-c504-4134-9cd7-44e3ad293530",
   "metadata": {},
   "outputs": [
    {
     "ename": "ValueError",
     "evalue": "invalid literal for int() with base 10: 'woori'",
     "output_type": "error",
     "traceback": [
      "\u001b[0;31m---------------------------------------------------------------------------\u001b[0m",
      "\u001b[0;31mValueError\u001b[0m                                Traceback (most recent call last)",
      "\u001b[0;32m/var/folders/mj/8pckvyp56672pjbch70f49440000gn/T/ipykernel_3500/196049413.py\u001b[0m in \u001b[0;36m<module>\u001b[0;34m\u001b[0m\n\u001b[0;32m----> 1\u001b[0;31m \u001b[0mint\u001b[0m\u001b[0;34m(\u001b[0m\u001b[0;34m'woori'\u001b[0m\u001b[0;34m)\u001b[0m     \u001b[0;31m# 2. ValueError\u001b[0m\u001b[0;34m\u001b[0m\u001b[0;34m\u001b[0m\u001b[0m\n\u001b[0m",
      "\u001b[0;31mValueError\u001b[0m: invalid literal for int() with base 10: 'woori'"
     ]
    }
   ],
   "source": [
    "int('woori')     # 2. ValueError"
   ]
  },
  {
   "cell_type": "code",
   "execution_count": 36,
   "id": "d95b0b6f-02e6-43bd-a7cc-0e6679dd6515",
   "metadata": {},
   "outputs": [
    {
     "ename": "NameError",
     "evalue": "name 'woori' is not defined",
     "output_type": "error",
     "traceback": [
      "\u001b[0;31m---------------------------------------------------------------------------\u001b[0m",
      "\u001b[0;31mNameError\u001b[0m                                 Traceback (most recent call last)",
      "\u001b[0;32m/var/folders/mj/8pckvyp56672pjbch70f49440000gn/T/ipykernel_3500/2679229838.py\u001b[0m in \u001b[0;36m<module>\u001b[0;34m\u001b[0m\n\u001b[0;32m----> 1\u001b[0;31m \u001b[0mwoori\u001b[0m \u001b[0;34m+=\u001b[0m \u001b[0;36m1\u001b[0m     \u001b[0;31m# 3. NameError\u001b[0m\u001b[0;34m\u001b[0m\u001b[0;34m\u001b[0m\u001b[0m\n\u001b[0m",
      "\u001b[0;31mNameError\u001b[0m: name 'woori' is not defined"
     ]
    }
   ],
   "source": [
    "woori += 1     # 3. NameError"
   ]
  },
  {
   "cell_type": "code",
   "execution_count": 37,
   "id": "4ba4d589-d6f0-46e9-a9dd-a7921745f97f",
   "metadata": {},
   "outputs": [
    {
     "ename": "IndexError",
     "evalue": "string index out of range",
     "output_type": "error",
     "traceback": [
      "\u001b[0;31m---------------------------------------------------------------------------\u001b[0m",
      "\u001b[0;31mIndexError\u001b[0m                                Traceback (most recent call last)",
      "\u001b[0;32m/var/folders/mj/8pckvyp56672pjbch70f49440000gn/T/ipykernel_3500/340643597.py\u001b[0m in \u001b[0;36m<module>\u001b[0;34m\u001b[0m\n\u001b[0;32m----> 1\u001b[0;31m \u001b[0;34m'woori'\u001b[0m\u001b[0;34m[\u001b[0m\u001b[0;36m10\u001b[0m\u001b[0;34m]\u001b[0m     \u001b[0;31m# 4. IndexError\u001b[0m\u001b[0;34m\u001b[0m\u001b[0;34m\u001b[0m\u001b[0m\n\u001b[0m",
      "\u001b[0;31mIndexError\u001b[0m: string index out of range"
     ]
    }
   ],
   "source": [
    "'woori'[10]     # 4. IndexError"
   ]
  },
  {
   "cell_type": "code",
   "execution_count": 38,
   "id": "3321684c-58b8-4a8c-aa6e-35be03486ec5",
   "metadata": {},
   "outputs": [
    {
     "name": "stdout",
     "output_type": "stream",
     "text": [
      "0으로 나눌 수 없습니다.\n"
     ]
    }
   ],
   "source": [
    "try:\n",
    "    # <에러 발생될 법한 코드 블럭>\n",
    "    1 / 0\n",
    "except ZeroDivisionError: # <에러 타입>\n",
    "    # <처리할 방법>\n",
    "    print('0으로 나눌 수 없습니다.')"
   ]
  },
  {
   "cell_type": "code",
   "execution_count": 39,
   "id": "c63aacb7-f3b1-4f4a-988c-9393dd9093df",
   "metadata": {},
   "outputs": [
    {
     "name": "stdout",
     "output_type": "stream",
     "text": [
      "error\n"
     ]
    }
   ],
   "source": [
    "# 바로 error만 프린트하고, 끝남\n",
    "# exception을 잡는 위치가 중요함!\n",
    "\n",
    "try:\n",
    "    for i in range(10):\n",
    "        print(10 / i)\n",
    "except ZeroDivisionError:\n",
    "    print('error')"
   ]
  },
  {
   "cell_type": "code",
   "execution_count": 40,
   "id": "b555915a-441e-4203-b2a6-4ec53b0de3e2",
   "metadata": {},
   "outputs": [
    {
     "name": "stdout",
     "output_type": "stream",
     "text": [
      "error\n",
      "10.0\n",
      "5.0\n",
      "3.3333333333333335\n",
      "2.5\n",
      "2.0\n",
      "1.6666666666666667\n",
      "1.4285714285714286\n",
      "1.25\n",
      "1.1111111111111112\n"
     ]
    }
   ],
   "source": [
    "# 이렇게 수정하면, 0일 때 빼고는 돌아간다!\n",
    "\n",
    "for i in range(10):\n",
    "    try:\n",
    "        print(10 / i)\n",
    "    except ZeroDivisionError:\n",
    "        print('error')"
   ]
  },
  {
   "cell_type": "code",
   "execution_count": 41,
   "id": "a7d9f4d7-ad1c-4d93-9c87-e3b69a87543a",
   "metadata": {},
   "outputs": [
    {
     "name": "stdin",
     "output_type": "stream",
     "text": [
      "인덱스를 입력하세요. q)종료 >>>  100\n"
     ]
    },
    {
     "name": "stdout",
     "output_type": "stream",
     "text": [
      "index error\n",
      "string index out of range\n"
     ]
    },
    {
     "name": "stdin",
     "output_type": "stream",
     "text": [
      "인덱스를 입력하세요. q)종료 >>>  우리\n"
     ]
    },
    {
     "name": "stdout",
     "output_type": "stream",
     "text": [
      "type error\n",
      "invalid literal for int() with base 10: '우리'\n"
     ]
    },
    {
     "name": "stdin",
     "output_type": "stream",
     "text": [
      "인덱스를 입력하세요. q)종료 >>>  7\n"
     ]
    },
    {
     "name": "stdout",
     "output_type": "stream",
     "text": [
      "o\n"
     ]
    },
    {
     "name": "stdin",
     "output_type": "stream",
     "text": [
      "인덱스를 입력하세요. q)종료 >>>  q\n"
     ]
    }
   ],
   "source": [
    "# input 받을 때, error 잡기!\n",
    "\n",
    "word = 'hello woori'\n",
    "while True:\n",
    "    index = input('인덱스를 입력하세요. q)종료 >>> ')\n",
    "    if index == 'q':\n",
    "        break\n",
    "        \n",
    "    try:\n",
    "        print(word[int(index)])\n",
    "    except IndexError as e1:\n",
    "        print('index error')\n",
    "        print(e1)\n",
    "    except ValueError as e2:\n",
    "        print('type error')\n",
    "        print(e2)"
   ]
  },
  {
   "cell_type": "markdown",
   "id": "793ea2ae-282d-425b-9cfb-7ab25f524eb0",
   "metadata": {},
   "source": [
    "---\n",
    "### 2. 예외 발생시키기\n",
    "- 프로그램을 강제 종료하고자 할 때 사용\n"
   ]
  },
  {
   "cell_type": "markdown",
   "id": "6a17f113-6a4a-4baf-a7ca-e89ff68c2d9f",
   "metadata": {},
   "source": [
    "#### A. raise\n",
    "```\n",
    "raise ValueError('print ...')\n",
    "```"
   ]
  },
  {
   "cell_type": "code",
   "execution_count": 42,
   "id": "aee439b1-ebea-4f13-a4e6-b0db1800b392",
   "metadata": {},
   "outputs": [
    {
     "name": "stdin",
     "output_type": "stream",
     "text": [
      "number >>  우리\n"
     ]
    },
    {
     "ename": "ValueError",
     "evalue": "숫자가 아닙니다.",
     "output_type": "error",
     "traceback": [
      "\u001b[0;31m---------------------------------------------------------------------------\u001b[0m",
      "\u001b[0;31mValueError\u001b[0m                                Traceback (most recent call last)",
      "\u001b[0;32m/var/folders/mj/8pckvyp56672pjbch70f49440000gn/T/ipykernel_3500/3318516046.py\u001b[0m in \u001b[0;36m<module>\u001b[0;34m\u001b[0m\n\u001b[1;32m      3\u001b[0m     \u001b[0;31m# 숫자가 아니면, error를 발생시키겠다!\u001b[0m\u001b[0;34m\u001b[0m\u001b[0;34m\u001b[0m\u001b[0m\n\u001b[1;32m      4\u001b[0m     \u001b[0;32mif\u001b[0m \u001b[0;32mnot\u001b[0m \u001b[0mnum\u001b[0m\u001b[0;34m.\u001b[0m\u001b[0misdigit\u001b[0m\u001b[0;34m(\u001b[0m\u001b[0;34m)\u001b[0m\u001b[0;34m:\u001b[0m\u001b[0;34m\u001b[0m\u001b[0;34m\u001b[0m\u001b[0m\n\u001b[0;32m----> 5\u001b[0;31m         \u001b[0;32mraise\u001b[0m \u001b[0mValueError\u001b[0m\u001b[0;34m(\u001b[0m\u001b[0;34m'숫자가 아닙니다.'\u001b[0m\u001b[0;34m)\u001b[0m\u001b[0;34m\u001b[0m\u001b[0;34m\u001b[0m\u001b[0m\n\u001b[0m\u001b[1;32m      6\u001b[0m     \u001b[0;32melse\u001b[0m\u001b[0;34m:\u001b[0m\u001b[0;34m\u001b[0m\u001b[0;34m\u001b[0m\u001b[0m\n\u001b[1;32m      7\u001b[0m         \u001b[0mprint\u001b[0m\u001b[0;34m(\u001b[0m\u001b[0mnum\u001b[0m\u001b[0;34m)\u001b[0m\u001b[0;34m\u001b[0m\u001b[0;34m\u001b[0m\u001b[0m\n",
      "\u001b[0;31mValueError\u001b[0m: 숫자가 아닙니다."
     ]
    }
   ],
   "source": [
    "while True:\n",
    "    num = input('number >> ')\n",
    "    # 숫자가 아니면, error를 발생시키겠다!\n",
    "    if not num.isdigit():\n",
    "        raise ValueError('숫자가 아닙니다.')\n",
    "    else:\n",
    "        print(num)\n",
    "        break"
   ]
  },
  {
   "cell_type": "markdown",
   "id": "7edfddcc-40bf-4df4-bd77-0f10563326b1",
   "metadata": {},
   "source": [
    "#### B. assert\n",
    "```\n",
    "assert <참인 조건>, '예외 메시지' # AssertionError\n",
    "```"
   ]
  },
  {
   "cell_type": "code",
   "execution_count": 43,
   "id": "655a1e57-4bad-419f-8955-b7f0eed5be21",
   "metadata": {},
   "outputs": [
    {
     "ename": "AssertionError",
     "evalue": "정수가 아닙니다.",
     "output_type": "error",
     "traceback": [
      "\u001b[0;31m---------------------------------------------------------------------------\u001b[0m",
      "\u001b[0;31mAssertionError\u001b[0m                            Traceback (most recent call last)",
      "\u001b[0;32m/var/folders/mj/8pckvyp56672pjbch70f49440000gn/T/ipykernel_3500/2674570996.py\u001b[0m in \u001b[0;36m<module>\u001b[0;34m\u001b[0m\n\u001b[1;32m      4\u001b[0m     \u001b[0;32mreturn\u001b[0m \u001b[0mbin\u001b[0m\u001b[0;34m(\u001b[0m\u001b[0mnum\u001b[0m\u001b[0;34m)\u001b[0m\u001b[0;34m\u001b[0m\u001b[0;34m\u001b[0m\u001b[0m\n\u001b[1;32m      5\u001b[0m \u001b[0;34m\u001b[0m\u001b[0m\n\u001b[0;32m----> 6\u001b[0;31m \u001b[0mget_binary\u001b[0m\u001b[0;34m(\u001b[0m\u001b[0;34m'woori'\u001b[0m\u001b[0;34m)\u001b[0m\u001b[0;34m\u001b[0m\u001b[0;34m\u001b[0m\u001b[0m\n\u001b[0m",
      "\u001b[0;32m/var/folders/mj/8pckvyp56672pjbch70f49440000gn/T/ipykernel_3500/2674570996.py\u001b[0m in \u001b[0;36mget_binary\u001b[0;34m(num)\u001b[0m\n\u001b[1;32m      1\u001b[0m \u001b[0;32mdef\u001b[0m \u001b[0mget_binary\u001b[0m\u001b[0;34m(\u001b[0m\u001b[0mnum\u001b[0m\u001b[0;34m)\u001b[0m\u001b[0;34m:\u001b[0m\u001b[0;34m\u001b[0m\u001b[0;34m\u001b[0m\u001b[0m\n\u001b[1;32m      2\u001b[0m     \u001b[0;31m# 어디에서 에러가 뜨는지 내가 확인할 수 있음, *체크의 기능*\u001b[0m\u001b[0;34m\u001b[0m\u001b[0;34m\u001b[0m\u001b[0m\n\u001b[0;32m----> 3\u001b[0;31m     \u001b[0;32massert\u001b[0m \u001b[0misinstance\u001b[0m\u001b[0;34m(\u001b[0m\u001b[0mnum\u001b[0m\u001b[0;34m,\u001b[0m \u001b[0mint\u001b[0m\u001b[0;34m)\u001b[0m\u001b[0;34m,\u001b[0m \u001b[0;34m'정수가 아닙니다.'\u001b[0m\u001b[0;34m\u001b[0m\u001b[0;34m\u001b[0m\u001b[0m\n\u001b[0m\u001b[1;32m      4\u001b[0m     \u001b[0;32mreturn\u001b[0m \u001b[0mbin\u001b[0m\u001b[0;34m(\u001b[0m\u001b[0mnum\u001b[0m\u001b[0;34m)\u001b[0m\u001b[0;34m\u001b[0m\u001b[0;34m\u001b[0m\u001b[0m\n\u001b[1;32m      5\u001b[0m \u001b[0;34m\u001b[0m\u001b[0m\n",
      "\u001b[0;31mAssertionError\u001b[0m: 정수가 아닙니다."
     ]
    }
   ],
   "source": [
    "def get_binary(num):\n",
    "    # 어디에서 에러가 뜨는지 내가 확인할 수 있음, *체크의 기능*\n",
    "    assert isinstance(num, int), '정수가 아닙니다.'\n",
    "    return bin(num)\n",
    "\n",
    "get_binary('woori')"
   ]
  },
  {
   "cell_type": "markdown",
   "id": "76ef51d9-67a3-46f5-a021-4147adc5b10a",
   "metadata": {},
   "source": [
    "---\n",
    "### 3. 예외 정의하기\n",
    "- 사용자 정의 예외\n",
    "- Exception이라는 부모 클래스를 상속받아야 한다."
   ]
  },
  {
   "cell_type": "code",
   "execution_count": 44,
   "id": "1dccdd92-f7b8-432e-8b3e-44d8f1a2a8f1",
   "metadata": {},
   "outputs": [],
   "source": [
    "# 내용은 안 써도 되는데, 꼭 Exception 클래스를 상속 받아야 함!\n",
    "class MyException(Exception):\n",
    "    pass"
   ]
  },
  {
   "cell_type": "code",
   "execution_count": 45,
   "id": "55142b29-4296-42b7-a366-a107904cd1a5",
   "metadata": {},
   "outputs": [
    {
     "name": "stdout",
     "output_type": "stream",
     "text": [
      "A\n",
      "B\n"
     ]
    },
    {
     "ename": "MyException",
     "evalue": "소문자 안 됨!",
     "output_type": "error",
     "traceback": [
      "\u001b[0;31m---------------------------------------------------------------------------\u001b[0m",
      "\u001b[0;31mMyException\u001b[0m                               Traceback (most recent call last)",
      "\u001b[0;32m/var/folders/mj/8pckvyp56672pjbch70f49440000gn/T/ipykernel_3500/3222517158.py\u001b[0m in \u001b[0;36m<module>\u001b[0;34m\u001b[0m\n\u001b[1;32m      2\u001b[0m \u001b[0;32mfor\u001b[0m \u001b[0mword\u001b[0m \u001b[0;32min\u001b[0m \u001b[0;34m[\u001b[0m\u001b[0;34m'A'\u001b[0m\u001b[0;34m,\u001b[0m \u001b[0;34m'B'\u001b[0m\u001b[0;34m,\u001b[0m \u001b[0;34m'c'\u001b[0m\u001b[0;34m,\u001b[0m \u001b[0;34m'D'\u001b[0m\u001b[0;34m]\u001b[0m\u001b[0;34m:\u001b[0m\u001b[0;34m\u001b[0m\u001b[0;34m\u001b[0m\u001b[0m\n\u001b[1;32m      3\u001b[0m     \u001b[0;32mif\u001b[0m \u001b[0mword\u001b[0m\u001b[0;34m.\u001b[0m\u001b[0mislower\u001b[0m\u001b[0;34m(\u001b[0m\u001b[0;34m)\u001b[0m\u001b[0;34m:\u001b[0m\u001b[0;34m\u001b[0m\u001b[0;34m\u001b[0m\u001b[0m\n\u001b[0;32m----> 4\u001b[0;31m         \u001b[0;32mraise\u001b[0m \u001b[0mMyException\u001b[0m\u001b[0;34m(\u001b[0m\u001b[0;34m'소문자 안 됨!'\u001b[0m\u001b[0;34m)\u001b[0m\u001b[0;34m\u001b[0m\u001b[0;34m\u001b[0m\u001b[0m\n\u001b[0m\u001b[1;32m      5\u001b[0m     \u001b[0;32melse\u001b[0m\u001b[0;34m:\u001b[0m\u001b[0;34m\u001b[0m\u001b[0;34m\u001b[0m\u001b[0m\n\u001b[1;32m      6\u001b[0m         \u001b[0mprint\u001b[0m\u001b[0;34m(\u001b[0m\u001b[0mword\u001b[0m\u001b[0;34m)\u001b[0m\u001b[0;34m\u001b[0m\u001b[0;34m\u001b[0m\u001b[0m\n",
      "\u001b[0;31mMyException\u001b[0m: 소문자 안 됨!"
     ]
    }
   ],
   "source": [
    "# 방법 1.\n",
    "for word in ['A', 'B', 'c', 'D']:\n",
    "    if word.islower():\n",
    "        raise MyException('소문자 안 됨!')\n",
    "    else:\n",
    "        print(word)"
   ]
  },
  {
   "cell_type": "code",
   "execution_count": 46,
   "id": "9f03bc53-b2fb-41c5-a8f5-e7b51ae63a6a",
   "metadata": {},
   "outputs": [
    {
     "name": "stdout",
     "output_type": "stream",
     "text": [
      "A\n",
      "B\n"
     ]
    },
    {
     "ename": "LowercaseMyException",
     "evalue": "소문자 안 됨!!!!!",
     "output_type": "error",
     "traceback": [
      "\u001b[0;31m---------------------------------------------------------------------------\u001b[0m",
      "\u001b[0;31mLowercaseMyException\u001b[0m                      Traceback (most recent call last)",
      "\u001b[0;32m/var/folders/mj/8pckvyp56672pjbch70f49440000gn/T/ipykernel_3500/2333407480.py\u001b[0m in \u001b[0;36m<module>\u001b[0;34m\u001b[0m\n\u001b[1;32m      7\u001b[0m \u001b[0;32mfor\u001b[0m \u001b[0mword\u001b[0m \u001b[0;32min\u001b[0m \u001b[0;34m[\u001b[0m\u001b[0;34m'A'\u001b[0m\u001b[0;34m,\u001b[0m \u001b[0;34m'B'\u001b[0m\u001b[0;34m,\u001b[0m \u001b[0;34m'c'\u001b[0m\u001b[0;34m,\u001b[0m \u001b[0;34m'D'\u001b[0m\u001b[0;34m]\u001b[0m\u001b[0;34m:\u001b[0m\u001b[0;34m\u001b[0m\u001b[0;34m\u001b[0m\u001b[0m\n\u001b[1;32m      8\u001b[0m     \u001b[0;32mif\u001b[0m \u001b[0mword\u001b[0m\u001b[0;34m.\u001b[0m\u001b[0mislower\u001b[0m\u001b[0;34m(\u001b[0m\u001b[0;34m)\u001b[0m\u001b[0;34m:\u001b[0m\u001b[0;34m\u001b[0m\u001b[0;34m\u001b[0m\u001b[0m\n\u001b[0;32m----> 9\u001b[0;31m         \u001b[0;32mraise\u001b[0m \u001b[0mLowercaseMyException\u001b[0m\u001b[0;34m\u001b[0m\u001b[0;34m\u001b[0m\u001b[0m\n\u001b[0m\u001b[1;32m     10\u001b[0m     \u001b[0;32melse\u001b[0m\u001b[0;34m:\u001b[0m\u001b[0;34m\u001b[0m\u001b[0;34m\u001b[0m\u001b[0m\n\u001b[1;32m     11\u001b[0m         \u001b[0mprint\u001b[0m\u001b[0;34m(\u001b[0m\u001b[0mword\u001b[0m\u001b[0;34m)\u001b[0m\u001b[0;34m\u001b[0m\u001b[0;34m\u001b[0m\u001b[0m\n",
      "\u001b[0;31mLowercaseMyException\u001b[0m: 소문자 안 됨!!!!!"
     ]
    }
   ],
   "source": [
    "# 방법 2.\n",
    "class LowercaseMyException(Exception):\n",
    "    def __init__(self):\n",
    "        super().__init__('소문자 안 됨!!!!!')\n",
    "        \n",
    "        \n",
    "for word in ['A', 'B', 'c', 'D']:\n",
    "    if word.islower():\n",
    "        raise LowercaseMyException\n",
    "    else:\n",
    "        print(word)"
   ]
  }
 ],
 "metadata": {
  "kernelspec": {
   "display_name": "Python 3 (ipykernel)",
   "language": "python",
   "name": "python3"
  },
  "language_info": {
   "codemirror_mode": {
    "name": "ipython",
    "version": 3
   },
   "file_extension": ".py",
   "mimetype": "text/x-python",
   "name": "python",
   "nbconvert_exporter": "python",
   "pygments_lexer": "ipython3",
   "version": "3.9.7"
  }
 },
 "nbformat": 4,
 "nbformat_minor": 5
}
