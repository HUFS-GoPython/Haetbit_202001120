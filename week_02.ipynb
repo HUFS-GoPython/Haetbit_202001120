{
 "cells": [
  {
   "cell_type": "markdown",
   "id": "8629b228-caa5-485b-a79c-60b3c8192603",
   "metadata": {},
   "source": [
    "# 2주차(0311) Review\n"
   ]
  },
  {
   "cell_type": "markdown",
   "id": "9b0ebd2f-7b8c-43dd-abae-ad08788368a9",
   "metadata": {
    "tags": []
   },
   "source": [
    "---\n",
    "## `ch02_ex02`\n",
    "\n",
    "## Ch02. Variable (변수)"
   ]
  },
  {
   "cell_type": "markdown",
   "id": "2dfe8b28-c896-4bcc-a680-adec1faf60bd",
   "metadata": {},
   "source": [
    "- string (문자열)\n",
    "- float (실수형)\n",
    "- integer (정수형)\n",
    "- boolean (불형 T/F) "
   ]
  },
  {
   "cell_type": "code",
   "execution_count": 2,
   "id": "b9c068ea-69a2-4c6b-9ff2-5673cc9ff19b",
   "metadata": {},
   "outputs": [
    {
     "data": {
      "text/plain": [
       "2"
      ]
     },
     "execution_count": 2,
     "metadata": {},
     "output_type": "execute_result"
    }
   ],
   "source": [
    "# 여러 이름을 동시에 할당하는 방법!\n",
    "# 순서는 할당하는 숫자와 가까운 변수부터\n",
    "# 아래 예시에서는, dos -> deux -> two\n",
    "\n",
    "two = deux = dos = 2\n",
    "two"
   ]
  },
  {
   "cell_type": "code",
   "execution_count": 4,
   "id": "55dd35bc-ca76-4976-b10b-8c5251730e4c",
   "metadata": {},
   "outputs": [
    {
     "name": "stdout",
     "output_type": "stream",
     "text": [
      "4 2 2\n"
     ]
    }
   ],
   "source": [
    "# 그렇다면, two를 4로 바꾸면,\n",
    "# deux나 dos도 같이 바뀌게 되는가?\n",
    "# integer는 불변객체이므로, 바뀌지 않음!\n",
    "\n",
    "two = 4\n",
    "print(two, deux, dos)"
   ]
  },
  {
   "cell_type": "code",
   "execution_count": 6,
   "id": "53d690cb-c2c1-4663-a8b1-611a462b5c50",
   "metadata": {},
   "outputs": [
    {
     "data": {
      "text/plain": [
       "(140492541192592, 140492541192528)"
      ]
     },
     "execution_count": 6,
     "metadata": {},
     "output_type": "execute_result"
    }
   ],
   "source": [
    "# 저장하는 공간에 대한 주소: id\n",
    "# id는 바뀌었을까? id는 바뀜!\n",
    "\n",
    "id(two), id(deux)"
   ]
  },
  {
   "cell_type": "code",
   "execution_count": 8,
   "id": "6de883e0-a390-4b69-bec8-95cfee19bcd8",
   "metadata": {},
   "outputs": [
    {
     "data": {
      "text/plain": [
       "([1, 2, 3], [1, 2, 3])"
      ]
     },
     "execution_count": 8,
     "metadata": {},
     "output_type": "execute_result"
    }
   ],
   "source": [
    "# 가변객체의 예: list\n",
    "\n",
    "p = [1, 2, 3]\n",
    "q = p\n",
    "p, q"
   ]
  },
  {
   "cell_type": "code",
   "execution_count": 9,
   "id": "43f2477e-6737-453f-994e-bc81091aad15",
   "metadata": {},
   "outputs": [
    {
     "data": {
      "text/plain": [
       "(140492546582592, 140492546582592)"
      ]
     },
     "execution_count": 9,
     "metadata": {},
     "output_type": "execute_result"
    }
   ],
   "source": [
    "# id도 같음!\n",
    "\n",
    "id(p), id(q)"
   ]
  },
  {
   "cell_type": "code",
   "execution_count": 10,
   "id": "55a12e47-482c-44d9-9696-b56a1cb2a66c",
   "metadata": {},
   "outputs": [
    {
     "data": {
      "text/plain": [
       "([5, 2, 3], [5, 2, 3])"
      ]
     },
     "execution_count": 10,
     "metadata": {},
     "output_type": "execute_result"
    }
   ],
   "source": [
    "# p만 변경을 해도, q도 같이 변경!\n",
    "\n",
    "p[0] = 5\n",
    "p, q"
   ]
  },
  {
   "cell_type": "code",
   "execution_count": 11,
   "id": "9f504f71-ecba-4716-8603-a4181421c721",
   "metadata": {},
   "outputs": [
    {
     "data": {
      "text/plain": [
       "(140492546582592, 140492546582592)"
      ]
     },
     "execution_count": 11,
     "metadata": {},
     "output_type": "execute_result"
    }
   ],
   "source": [
    "# 바뀌어도 id는 그대로!\n",
    "\n",
    "id(p), id(q)"
   ]
  },
  {
   "cell_type": "markdown",
   "id": "c1cbb3a8-4cb7-4c1a-add1-20bb7d0fc4c4",
   "metadata": {},
   "source": [
    "### 좋은 변수명\n",
    "\n",
    "- 간결하고, 명확해야 한다.\n",
    "- 의미가 담겨야 한다. (a, b, c와 같은 변수는 사용하지 않는 것이 좋다.)\n",
    "- **코드에는 `의미`가 담기고, 주석에는 `의도`가 담긴다.**\n",
    "    - 예: `the number of students`\n",
    "    - n(가장 안 좋은 예) < the_number_of_student(너무 길면 문제,, 오타가 날 가능성도) < `num_student` (좋은 예!)\n",
    "    - 간결하고, 명확하게 짓는 것이 포인트\n",
    "    - 카멜표기법| numStudent (자바에서 주로 많이!)"
   ]
  },
  {
   "cell_type": "markdown",
   "id": "6eeb31e0-4d05-472d-8321-3111201067d7",
   "metadata": {},
   "source": [
    "### 자료형 변환, 형 변환\n",
    "- str(`변환할 값`), int(), float(), bool()\n",
    "- `변환할 값`을 변환하고 싶은 자료형으로 감싸준다.\n",
    "- 물론 예외가 있긴 하다."
   ]
  },
  {
   "cell_type": "code",
   "execution_count": 14,
   "id": "0fc2cfc5-e5fe-4640-a875-006d943d2a88",
   "metadata": {},
   "outputs": [
    {
     "name": "stdout",
     "output_type": "stream",
     "text": [
      "10\n",
      "10.0\n",
      "True\n"
     ]
    }
   ],
   "source": [
    "a = 10\n",
    "\n",
    "# str으로 바꾸기\n",
    "print(str(a))\n",
    "\n",
    "# float으로 바꾸기\n",
    "print(float(a))\n",
    "\n",
    "# bool로 바꾸기\n",
    "# 어떤 값이 False로 변환이 되는지만 알고 있으면 됨!\n",
    "# (False로 바뀌는 갯수가 더 적기 때문에!)\n",
    "print(bool(a)) "
   ]
  },
  {
   "cell_type": "markdown",
   "id": "17662aab-09ca-4d61-9b55-dc78df37d385",
   "metadata": {
    "tags": []
   },
   "source": [
    "- 주의할 점 1: float에서 int로 변환할 때"
   ]
  },
  {
   "cell_type": "code",
   "execution_count": 16,
   "id": "cbc18494-92f0-4f73-933d-9a2e49da017b",
   "metadata": {},
   "outputs": [
    {
     "name": "stdout",
     "output_type": "stream",
     "text": [
      "17\n",
      "16\n"
     ]
    }
   ],
   "source": [
    "# 소수를 int로 바꾸면 소수점 내림\n",
    "# 한 번에 더하고 바꾸었을 때와, \n",
    "# 각각 바꾸고 더했을 때의 값이 달라질 수 있다.\n",
    "\n",
    "x = 6.5 \n",
    "y = 10.8\n",
    "\n",
    "print(int(x+y))\n",
    "print(int(x)+int(y))"
   ]
  },
  {
   "cell_type": "markdown",
   "id": "945949b0-7cd1-43e7-9474-1d04130f0561",
   "metadata": {},
   "source": [
    "- 주의할 점 2: str에서 int/float으로 변환할 때 "
   ]
  },
  {
   "cell_type": "code",
   "execution_count": 19,
   "id": "657f72c2-42c6-473e-9baf-2f53e4e84db6",
   "metadata": {},
   "outputs": [
    {
     "data": {
      "text/plain": [
       "(100, 100.0)"
      ]
     },
     "execution_count": 19,
     "metadata": {},
     "output_type": "execute_result"
    }
   ],
   "source": [
    "i = '100'\n",
    "\n",
    "int(i), float(i)"
   ]
  },
  {
   "cell_type": "code",
   "execution_count": 21,
   "id": "3200ee62-a7b8-4c0e-9110-e85118f1ed5e",
   "metadata": {},
   "outputs": [
    {
     "ename": "ValueError",
     "evalue": "invalid literal for int() with base 10: '3.7'",
     "output_type": "error",
     "traceback": [
      "\u001b[0;31m---------------------------------------------------------------------------\u001b[0m",
      "\u001b[0;31mValueError\u001b[0m                                Traceback (most recent call last)",
      "\u001b[0;32m/var/folders/mj/8pckvyp56672pjbch70f49440000gn/T/ipykernel_1758/2343833945.py\u001b[0m in \u001b[0;36m<module>\u001b[0;34m\u001b[0m\n\u001b[1;32m      2\u001b[0m \u001b[0;34m\u001b[0m\u001b[0m\n\u001b[1;32m      3\u001b[0m \u001b[0mj\u001b[0m \u001b[0;34m=\u001b[0m \u001b[0;34m'3.7'\u001b[0m\u001b[0;34m\u001b[0m\u001b[0;34m\u001b[0m\u001b[0m\n\u001b[0;32m----> 4\u001b[0;31m \u001b[0mint\u001b[0m\u001b[0;34m(\u001b[0m\u001b[0mj\u001b[0m\u001b[0;34m)\u001b[0m\u001b[0;34m\u001b[0m\u001b[0;34m\u001b[0m\u001b[0m\n\u001b[0m",
      "\u001b[0;31mValueError\u001b[0m: invalid literal for int() with base 10: '3.7'"
     ]
    }
   ],
   "source": [
    "# 만약, float으로 예상되는 것을 int로 바꾸려고 하면 Error\n",
    "\n",
    "j = '3.7'\n",
    "int(j)"
   ]
  },
  {
   "cell_type": "markdown",
   "id": "a25697da-d421-4d30-b5a2-ab33818d38cc",
   "metadata": {},
   "source": [
    "### 꿀팁 `print()`"
   ]
  },
  {
   "cell_type": "code",
   "execution_count": 22,
   "id": "b5ef36e6-f16b-4b20-af47-08a8a8398e3f",
   "metadata": {},
   "outputs": [
    {
     "name": "stdout",
     "output_type": "stream",
     "text": [
      "dogcatlion\n",
      "dog cat lion\n"
     ]
    }
   ],
   "source": [
    "dog = 'dog'\n",
    "cat = 'cat'\n",
    "lion = 'lion'\n",
    "\n",
    "# 원소들 간 스페이스 없이 연결, \\n\n",
    "print(dog + cat + lion) \n",
    "\n",
    "# 원소들 간 스페이스가 있다, \\n\n",
    "print(dog, cat, lion) "
   ]
  },
  {
   "cell_type": "code",
   "execution_count": 23,
   "id": "cf61b77d-00ef-4e10-893c-b0880bb015a6",
   "metadata": {},
   "outputs": [
    {
     "name": "stdout",
     "output_type": "stream",
     "text": [
      "dog cat lion\n",
      "dog/cat/lion\n",
      "\n",
      "EDL\n"
     ]
    }
   ],
   "source": [
    "# argument 안에서는 스페이스 없이 종종 붙여쓰기도 한다. (예: sep='', end='')\n",
    "# 아래는 default 값\n",
    "print(dog, cat, lion, sep=' ', end='\\n') \n",
    "\n",
    "print(dog, cat, lion, sep='/', end='\\n\\n')\n",
    "print('EDL')"
   ]
  },
  {
   "cell_type": "code",
   "execution_count": 24,
   "id": "f821413f-8f57-49c9-a1c7-02e6852c4eb8",
   "metadata": {},
   "outputs": [
    {
     "name": "stdout",
     "output_type": "stream",
     "text": [
      "My favorite animal is  dog\n",
      "My favorite animal is dog.\n"
     ]
    }
   ],
   "source": [
    "# print 방법 1. (바람직하지는 않다!)\n",
    "print(\"My favorite animal is \", dog)\n",
    "\n",
    "# print 방법 2. (추천하는 방법, f-string)\n",
    "print(f\"My favorite animal is {dog}.\")"
   ]
  },
  {
   "cell_type": "markdown",
   "id": "824b7c13-7aaa-4c52-ad06-ba864faec516",
   "metadata": {},
   "source": [
    "- 코드 줄이 짧을 때, `;(semicolon)`을 이용하여 한 줄로 쓸 수 있다."
   ]
  },
  {
   "cell_type": "code",
   "execution_count": 25,
   "id": "a85e50d8-fc3a-4293-9c5f-34be68b06ac7",
   "metadata": {},
   "outputs": [
    {
     "name": "stdout",
     "output_type": "stream",
     "text": [
      "dog cat lion\n"
     ]
    }
   ],
   "source": [
    "dog = 'dog'; cat = 'cat'; lion = 'lion'\n",
    "print(dog, cat, lion)"
   ]
  },
  {
   "cell_type": "markdown",
   "id": "2ad1328b-cc09-4042-94e9-35298682aa65",
   "metadata": {
    "tags": []
   },
   "source": [
    "## `ch02_ex03`"
   ]
  },
  {
   "cell_type": "markdown",
   "id": "fbe8a7db-3b06-480c-afdb-35880235def3",
   "metadata": {},
   "source": [
    "### `input()` 함수\n",
    "- console에서 사용자가 입력하는 값을 받을 수 있는 함수이다.\n",
    "- 입력 받는 값은 문자열로 인식이 된다. (type이 문자열!)\n",
    "- 입력 받은 값을 변수에 담아서 사용한다. 안 그러면 사라진다!\n",
    "- **주의할 것: 숫자일 경우 형 변환을 해준다.**"
   ]
  },
  {
   "cell_type": "code",
   "execution_count": 26,
   "id": "4571cb2e-7c96-4962-8c97-e10f30308b37",
   "metadata": {},
   "outputs": [
    {
     "name": "stdin",
     "output_type": "stream",
     "text": [
      "Hello? Hi!\n"
     ]
    },
    {
     "data": {
      "text/plain": [
       "'Hi!'"
      ]
     },
     "execution_count": 26,
     "metadata": {},
     "output_type": "execute_result"
    }
   ],
   "source": [
    "input('Hello?')"
   ]
  },
  {
   "cell_type": "code",
   "execution_count": 27,
   "id": "6172ad92-a35c-4167-ae7f-0b6419898f35",
   "metadata": {},
   "outputs": [
    {
     "name": "stdin",
     "output_type": "stream",
     "text": [
      "나이가 어떻게 되나요? 30\n"
     ]
    },
    {
     "data": {
      "text/plain": [
       "30"
      ]
     },
     "execution_count": 27,
     "metadata": {},
     "output_type": "execute_result"
    }
   ],
   "source": [
    "int(input('나이가 어떻게 되나요?'))"
   ]
  },
  {
   "cell_type": "markdown",
   "id": "e3e75840-850b-4d34-866e-db256c020547",
   "metadata": {},
   "source": [
    "- 변수에 할당하는 방법 (변수를 받는 방법)"
   ]
  },
  {
   "cell_type": "code",
   "execution_count": 28,
   "id": "42690b4f-c8f4-486d-b403-a37092275120",
   "metadata": {},
   "outputs": [
    {
     "name": "stdin",
     "output_type": "stream",
     "text": [
      "나이가 어떻게 되나요? 30\n"
     ]
    },
    {
     "data": {
      "text/plain": [
       "30"
      ]
     },
     "execution_count": 28,
     "metadata": {},
     "output_type": "execute_result"
    }
   ],
   "source": [
    "# 방법 1.\n",
    "age = int(input('나이가 어떻게 되나요?'))\n",
    "age"
   ]
  },
  {
   "cell_type": "code",
   "execution_count": 30,
   "id": "3ddbf496-8464-486a-9564-dc371114e957",
   "metadata": {},
   "outputs": [
    {
     "name": "stdout",
     "output_type": "stream",
     "text": [
      "나이가 어떻게 되나요?\n"
     ]
    },
    {
     "name": "stdin",
     "output_type": "stream",
     "text": [
      " 30\n"
     ]
    },
    {
     "data": {
      "text/plain": [
       "'30'"
      ]
     },
     "execution_count": 30,
     "metadata": {},
     "output_type": "execute_result"
    }
   ],
   "source": [
    "# 방법 2.\n",
    "print('나이가 어떻게 되나요?')\n",
    "age = input()\n",
    "age"
   ]
  },
  {
   "cell_type": "markdown",
   "id": "a644cf37-99d9-4dba-8abb-a670aedb7257",
   "metadata": {},
   "source": [
    "#### `Quiz 1`\n",
    "- 섭씨를 입력 받아서 화씨로 변환하기\n",
    "- \"섭씨 * 1.8 + 32 = 화씨\""
   ]
  },
  {
   "cell_type": "code",
   "execution_count": 32,
   "id": "57b351ff-e513-48b2-99fd-d7146264330a",
   "metadata": {},
   "outputs": [
    {
     "name": "stdin",
     "output_type": "stream",
     "text": [
      "섭씨 몇 도 인가요? 3.5\n"
     ]
    },
    {
     "name": "stdout",
     "output_type": "stream",
     "text": [
      "화씨는 38.3도 입니다.\n"
     ]
    }
   ],
   "source": [
    "celsius = float(input(\"섭씨 몇 도 인가요?\"))\n",
    "fahrenheit = celsius * 1.8 + 32\n",
    "\n",
    "print(f\"화씨는 {fahrenheit}도 입니다.\")"
   ]
  },
  {
   "cell_type": "markdown",
   "id": "e09e39ca-cdda-44d3-a32a-afb8e7aa34f0",
   "metadata": {},
   "source": [
    "#### `Quiz 2`\n",
    "- 택배 정보를 입력 받고, 총 합계 계산하기\n",
    "- 출력값:\n",
    "    - \"==택배 정보==\"\n",
    "    - 수취인 성명: <이름>\n",
    "    - 수취인 주소: <주소>\n",
    "    - 배송비: 3000원\n",
    "    - 물건 비용: <가격>원\n",
    "    - 총 합계: <가격>원\n",
    "- 물건 비용 = 무게(g) * 5\n",
    "- 합계 = 배송비 + 물건 비용\n",
    "\n",
    "**입력값: 이름, 주소, 무게**"
   ]
  },
  {
   "cell_type": "code",
   "execution_count": 34,
   "id": "bebd8009-f165-447e-a418-45145e5f571d",
   "metadata": {},
   "outputs": [
    {
     "name": "stdin",
     "output_type": "stream",
     "text": [
      "수취인 성명을 입력해주세요. 김우리\n",
      "수취인 주소를 입력해주세요. 강원도\n",
      "무게(g)를 입력해주세요. 123.45\n"
     ]
    },
    {
     "name": "stdout",
     "output_type": "stream",
     "text": [
      "\n",
      "==택배 정보==\n",
      "수취인 성명: 김우리\n",
      "수취인 주소: 강원도\n",
      "배송비: 3000원\n",
      "물건 비용: 617.25원\n",
      "총 합계: 3617.25원\n"
     ]
    }
   ],
   "source": [
    "name = input(\"수취인 성명을 입력해주세요.\")\n",
    "address = input(\"수취인 주소를 입력해주세요.\")\n",
    "weight = float(input(\"무게(g)를 입력해주세요.\"))\n",
    "\n",
    "delivery_fee = 3_000\n",
    "cost = weight * 5\n",
    "total = delivery_fee + cost\n",
    "\n",
    "print()\n",
    "print(\"==택배 정보==\")\n",
    "print(f\"수취인 성명: {name}\")\n",
    "print(f\"수취인 주소: {address}\")\n",
    "print(f\"배송비: {delivery_fee}원\")\n",
    "print(f\"물건 비용: {cost}원\")\n",
    "print(f\"총 합계: {total}원\")"
   ]
  },
  {
   "cell_type": "markdown",
   "id": "b16310c9-8760-4c3c-b4a3-08d9b8a56398",
   "metadata": {},
   "source": [
    "---"
   ]
  },
  {
   "cell_type": "markdown",
   "id": "98175565-8534-4c22-8cdb-72e3889f8ded",
   "metadata": {
    "tags": []
   },
   "source": [
    "## `ch03_ex01`\n",
    "\n",
    "## Ch03. Numbers"
   ]
  },
  {
   "cell_type": "markdown",
   "id": "a8d171d1-eff5-40ce-965a-39a1cb333971",
   "metadata": {
    "tags": []
   },
   "source": [
    "### boolean\n",
    "- 형 변환할 때 어떤 것이 True, False인지 기억하라\n",
    "    - False인 값 ~ 주로 빈 값, 예: '', None, 0, ...\n",
    "- 조건식에서 많이 쓴다. 예: 만약 이 조건이 True라면, ~"
   ]
  },
  {
   "cell_type": "code",
   "execution_count": 2,
   "id": "80e1c5cf-b32e-4c74-8f50-a450553ea1cb",
   "metadata": {},
   "outputs": [
    {
     "name": "stdout",
     "output_type": "stream",
     "text": [
      "True\n",
      "False\n"
     ]
    }
   ],
   "source": [
    "print(bool(1)) # True\n",
    "print(bool('')) # False"
   ]
  },
  {
   "cell_type": "markdown",
   "id": "2c98f261-d942-4149-b82d-c1fa103604db",
   "metadata": {},
   "source": [
    "### integer\n",
    "- 소수점이 없는 것!\n",
    "- default 양수이고, 음수는 앞에 -를 붙여 표현한다.\n",
    "- 특히, 숫자 앞에는 0을 붙일 수 없다. 예: 05 (안 됨!)\n",
    "    - 예외적으로 0bxxx, => 십진수 이외의, 다른 진수 표현법 (우리는 십진수만 쓴다!)\n",
    "- 리터럴(글자 자체): 4\n",
    "- 숫자는 중간에 공백이 많아도 무시가 된다.\n",
    "- 10,000원 -> 10, 000원 두 개로 인식 => _ 사용\n",
    "    - '언더바(_)'는 숫자 사이에 있을 때 무시가 된다.\n",
    "    - 예: 10_000 "
   ]
  },
  {
   "cell_type": "code",
   "execution_count": 4,
   "id": "a8f38e57-7d9b-4ace-98be-d73d0a8cca48",
   "metadata": {},
   "outputs": [
    {
     "data": {
      "text/plain": [
       "-1"
      ]
     },
     "execution_count": 4,
     "metadata": {},
     "output_type": "execute_result"
    }
   ],
   "source": [
    "# 음수 표현 방법\n",
    "\n",
    "a = -9\n",
    "8 + a"
   ]
  },
  {
   "cell_type": "code",
   "execution_count": 5,
   "id": "0d59b9c1-d973-4994-8ff1-be96da6c02e3",
   "metadata": {},
   "outputs": [
    {
     "ename": "SyntaxError",
     "evalue": "leading zeros in decimal integer literals are not permitted; use an 0o prefix for octal integers (1072046867.py, line 3)",
     "output_type": "error",
     "traceback": [
      "\u001b[0;36m  File \u001b[0;32m\"/var/folders/mj/8pckvyp56672pjbch70f49440000gn/T/ipykernel_1513/1072046867.py\"\u001b[0;36m, line \u001b[0;32m3\u001b[0m\n\u001b[0;31m    a = 05\u001b[0m\n\u001b[0m         ^\u001b[0m\n\u001b[0;31mSyntaxError\u001b[0m\u001b[0;31m:\u001b[0m leading zeros in decimal integer literals are not permitted; use an 0o prefix for octal integers\n"
     ]
    }
   ],
   "source": [
    "# 숫자 앞에는 0을 붙일 수 없음 ! Error\n",
    "\n",
    "a = 05"
   ]
  },
  {
   "cell_type": "code",
   "execution_count": 6,
   "id": "2e51e983-ac89-4ed6-8a03-71588f252292",
   "metadata": {},
   "outputs": [
    {
     "data": {
      "text/plain": [
       "-12"
      ]
     },
     "execution_count": 6,
     "metadata": {},
     "output_type": "execute_result"
    }
   ],
   "source": [
    "# 숫자 중간에 공백이 많아도 무시가 되는 예\n",
    "\n",
    "-9 + 5            -8"
   ]
  },
  {
   "cell_type": "code",
   "execution_count": 7,
   "id": "3f33f8d2-dea2-4b2f-9b46-8a0406043a9d",
   "metadata": {},
   "outputs": [
    {
     "name": "stdout",
     "output_type": "stream",
     "text": [
      "10000\n"
     ]
    }
   ],
   "source": [
    "# 돈 10,000원으로 표현하고 싶을 때, 언더바(_)로 구분할 수 있다!\n",
    "\n",
    "a = 10_000\n",
    "print(a)"
   ]
  },
  {
   "cell_type": "markdown",
   "id": "4ecb312c-0013-43d0-9228-ffa0e598885d",
   "metadata": {},
   "source": [
    "### 연산\n",
    "- 연산자(operator): +, -, *, /, ...\n",
    "- 피연산자(operand): 4, 5, ...\n",
    "- 수식(expression)"
   ]
  },
  {
   "cell_type": "code",
   "execution_count": 8,
   "id": "6ed81ee1-066f-4cc1-a0e7-8355f25b33b5",
   "metadata": {},
   "outputs": [
    {
     "name": "stdout",
     "output_type": "stream",
     "text": [
      "17\n",
      "-7\n",
      "60\n",
      "0.4166666666666667\n",
      "244140625\n"
     ]
    }
   ],
   "source": [
    "x = 5\n",
    "y = 12\n",
    "\n",
    "print(x + y)\n",
    "print(x - y)\n",
    "print(x * y)\n",
    "print(x / y)\n",
    "\n",
    "# 거듭제곱(exponential)\n",
    "print(x ** y)"
   ]
  },
  {
   "cell_type": "markdown",
   "id": "11900f13-4fde-49ae-a8a6-b3da98cf50b8",
   "metadata": {},
   "source": [
    "**! 나눗셈에서 주의할 사항**\n",
    "1. division by zero => 주의) 0으로 나눌 수 없다!\n",
    "2. 몫과 나머지 출력 방법"
   ]
  },
  {
   "cell_type": "code",
   "execution_count": 9,
   "id": "69a9eb6e-5f9e-4ace-9a16-1a4d38d0f409",
   "metadata": {},
   "outputs": [
    {
     "data": {
      "text/plain": [
       "(0, 5, 0.4166666666666667)"
      ]
     },
     "execution_count": 9,
     "metadata": {},
     "output_type": "execute_result"
    }
   ],
   "source": [
    "# 몫과 나머지 그리고 나눗셈\n",
    "\n",
    "x // y, x % y, x / y"
   ]
  },
  {
   "cell_type": "code",
   "execution_count": 10,
   "id": "19021bef-d6ff-4155-bc4f-77e26b811caa",
   "metadata": {},
   "outputs": [
    {
     "data": {
      "text/plain": [
       "(0, 5)"
      ]
     },
     "execution_count": 10,
     "metadata": {},
     "output_type": "execute_result"
    }
   ],
   "source": [
    "# 몫과 나머지를 한 번에 출력하는 방법!\n",
    "\n",
    "divmod(x, y)"
   ]
  },
  {
   "cell_type": "markdown",
   "id": "64e696e6-c79c-412f-966b-666ebc2e5b1e",
   "metadata": {},
   "source": [
    "### 복합 대입연산자 | compound assignment operator"
   ]
  },
  {
   "cell_type": "code",
   "execution_count": 11,
   "id": "2321d6c2-88d4-4b2e-8705-da15a6b31917",
   "metadata": {},
   "outputs": [
    {
     "name": "stdout",
     "output_type": "stream",
     "text": [
      "10\n"
     ]
    }
   ],
   "source": [
    "a = 10\n",
    "a - 5\n",
    "print(a)"
   ]
  },
  {
   "cell_type": "code",
   "execution_count": 12,
   "id": "51720efc-1862-4fdf-a89b-ba39ee50dec6",
   "metadata": {},
   "outputs": [],
   "source": [
    "# 아래 식에 들어있는 로직!\n",
    "# 1. a - 3을 계산 한다.\n",
    "# 2. 임시변수 temp = a - 3 할당한다.\n",
    "# 3. a = a - 3 할당.\n",
    "a = a - 3\n",
    "\n",
    "# 그리고 이것을 복합 대입연산자로 아래와 같이 표현할 수 있다.\n",
    "a -= 3"
   ]
  },
  {
   "cell_type": "code",
   "execution_count": 13,
   "id": "7e221721-c51d-4b62-b702-c9c2cc59fd67",
   "metadata": {},
   "outputs": [],
   "source": [
    "# 다 됨!\n",
    "\n",
    "a += 3\n",
    "a -= 3\n",
    "a *= 3\n",
    "a /= 3"
   ]
  },
  {
   "cell_type": "code",
   "execution_count": 17,
   "id": "9e002b77-0d6b-4594-b9aa-fb9742c05f01",
   "metadata": {},
   "outputs": [
    {
     "ename": "NameError",
     "evalue": "name 'u' is not defined",
     "output_type": "error",
     "traceback": [
      "\u001b[0;31m---------------------------------------------------------------------------\u001b[0m",
      "\u001b[0;31mNameError\u001b[0m                                 Traceback (most recent call last)",
      "\u001b[0;32m/var/folders/mj/8pckvyp56672pjbch70f49440000gn/T/ipykernel_1513/2528298323.py\u001b[0m in \u001b[0;36m<module>\u001b[0;34m\u001b[0m\n\u001b[1;32m      2\u001b[0m \u001b[0;31m# 변수를 초기화하지 않은 경우 ! Error\u001b[0m\u001b[0;34m\u001b[0m\u001b[0;34m\u001b[0m\u001b[0m\n\u001b[1;32m      3\u001b[0m \u001b[0;34m\u001b[0m\u001b[0m\n\u001b[0;32m----> 4\u001b[0;31m \u001b[0mu\u001b[0m \u001b[0;34m=\u001b[0m \u001b[0mu\u001b[0m \u001b[0;34m+\u001b[0m \u001b[0;36m1\u001b[0m\u001b[0;34m\u001b[0m\u001b[0;34m\u001b[0m\u001b[0m\n\u001b[0m",
      "\u001b[0;31mNameError\u001b[0m: name 'u' is not defined"
     ]
    }
   ],
   "source": [
    "# 그런데, 안 되는 경우 ?!\n",
    "# 변수를 초기화하지 않은 경우 ! Error\n",
    "\n",
    "u = u + 1"
   ]
  },
  {
   "cell_type": "code",
   "execution_count": 18,
   "id": "238d123d-84c3-4c79-871e-065f3575fd1f",
   "metadata": {},
   "outputs": [
    {
     "data": {
      "text/plain": [
       "11"
      ]
     },
     "execution_count": 18,
     "metadata": {},
     "output_type": "execute_result"
    }
   ],
   "source": [
    "# 아래와 같이 변수를 초기화해줘야 한다.\n",
    "u = 10\n",
    "u = u + 1\n",
    "\n",
    "u"
   ]
  },
  {
   "cell_type": "markdown",
   "id": "c043468d-ef73-44ff-9836-214dda34239c",
   "metadata": {},
   "source": [
    "#### `Quiz 1`\n",
    "- 정수를 입력 받고 3의 배수인지 확인하세요.\n",
    "- 그리고, 홀수인지 확인하세요.\n",
    "- 조건문 if 사용하지 않고 해보기!"
   ]
  },
  {
   "cell_type": "code",
   "execution_count": 19,
   "id": "e4dc84a9-969e-4f4b-b500-7b9716e767bc",
   "metadata": {},
   "outputs": [
    {
     "name": "stdin",
     "output_type": "stream",
     "text": [
      " 5\n"
     ]
    },
    {
     "name": "stdout",
     "output_type": "stream",
     "text": [
      "False\n",
      "True\n"
     ]
    }
   ],
   "source": [
    "number = int(input())\n",
    "print((number % 3) == 0)\n",
    "print((number % 2) != 0)"
   ]
  },
  {
   "cell_type": "markdown",
   "id": "a6895a37-6dfe-4a6e-90cd-f31f84bc9893",
   "metadata": {},
   "source": [
    "### 지수 표현 \n",
    "- e, E 둘다 사용 가능하다.\n",
    "- 앞부분은 float, int 둘다 올 수 있고,\n",
    "- 뒷부분은 int 만 올 수 있다.\n",
    "    - 만약 뒤에 오는 숫자가 양수라면 0이 앞으로,\n",
    "    - 음수라면 0 뒤로 붙는다. (소수점)"
   ]
  },
  {
   "cell_type": "code",
   "execution_count": 20,
   "id": "0a21bb84-1a96-4b6d-86c6-9f80c8a4c2cd",
   "metadata": {},
   "outputs": [
    {
     "data": {
      "text/plain": [
       "100000.0"
      ]
     },
     "execution_count": 20,
     "metadata": {},
     "output_type": "execute_result"
    }
   ],
   "source": [
    "1.0e5 # 1.0 * 10^6, float"
   ]
  },
  {
   "cell_type": "code",
   "execution_count": 22,
   "id": "d849646e-2f8a-4a80-96ea-c46f94d4e01b",
   "metadata": {},
   "outputs": [
    {
     "data": {
      "text/plain": [
       "0.000789"
      ]
     },
     "execution_count": 22,
     "metadata": {},
     "output_type": "execute_result"
    }
   ],
   "source": [
    "# 0.000789를 지수로 표현하기!\n",
    "\n",
    "789e-6"
   ]
  },
  {
   "cell_type": "code",
   "execution_count": 23,
   "id": "19372cda-419a-4962-8c56-72b98157039e",
   "metadata": {},
   "outputs": [
    {
     "data": {
      "text/plain": [
       "34.567"
      ]
     },
     "execution_count": 23,
     "metadata": {},
     "output_type": "execute_result"
    }
   ],
   "source": [
    "# 34.567을 지수로 표현하기!\n",
    "\n",
    "34567e-3"
   ]
  },
  {
   "cell_type": "markdown",
   "id": "7e6d4bc4-4e05-4b2f-9edc-f96dd3eb7701",
   "metadata": {},
   "source": [
    "---"
   ]
  },
  {
   "cell_type": "markdown",
   "id": "7454187a-63a9-4eb1-aaa3-1ed7f32ec48d",
   "metadata": {
    "tags": []
   },
   "source": [
    "## `ch04_ex01`\n",
    "\n",
    "## Ch04. 조건문, if"
   ]
  },
  {
   "cell_type": "markdown",
   "id": "07654cfa-91f8-4474-aba4-ab4b2e82781d",
   "metadata": {},
   "source": [
    "- code structure 등장! 들여쓰기 ~"
   ]
  },
  {
   "cell_type": "markdown",
   "id": "da100e55-51e0-4154-ac3f-f9e314f1777b",
   "metadata": {},
   "source": [
    "### 코드 짜는 룰\n",
    "- 주석을 다는 방법\n",
    "    - 주석이란? 설명을 하는 부분\n",
    "    - 주석을 사용하는 목적: 의도를 표현한다! 혹은 협업 시 의사소통!\n",
    "    - 방법: '#' hash, sharp, ...\n",
    "    - #가 시작된 부분부터 그 라인 끝까지가 주석처리 된다.\n",
    "    - 주의! 만약, 문자열 안에 #가 들어있다면 문자열로 인식된다.\n",
    "    - 주석을 길게 달고 싶은 경우, \"\"\"<주석~>\"\"\"\n",
    "- 라인 유지하기!\n",
    "    - 들여쓰기: 공백 4개 혹은 탭1개\n",
    "    - 되도록이면, 한 줄에 최대 80자가 넘지 않게 해준다.\n",
    "    - 만약, 넘는다면 백슬래쉬를 이용하여 끊어준다. (\\\\)\n",
    "    - 가독성이 좋은 코드를 작성하도록 노력!"
   ]
  },
  {
   "cell_type": "code",
   "execution_count": 25,
   "id": "c309aeb4-04f9-4621-81e4-7f6c827d7cd6",
   "metadata": {},
   "outputs": [],
   "source": [
    "a = 3 #여기부터 라인 끝까지!\n",
    "b = 2"
   ]
  },
  {
   "cell_type": "code",
   "execution_count": 28,
   "id": "7a2e4e95-081d-4e5d-b610-7b74abdd870a",
   "metadata": {},
   "outputs": [
    {
     "data": {
      "text/plain": [
       "'hey! ###'"
      ]
     },
     "execution_count": 28,
     "metadata": {},
     "output_type": "execute_result"
    }
   ],
   "source": [
    "# 문자열 안에 #이 들어있는 경우: 문자열로 인식!\n",
    "\n",
    "example = 'hey! ###'\n",
    "example"
   ]
  },
  {
   "cell_type": "code",
   "execution_count": 35,
   "id": "1e86db46-3dc0-4864-815d-206410cec935",
   "metadata": {},
   "outputs": [
    {
     "data": {
      "text/plain": [
       "'\\n주석1\\n주석2\\n주석3\\n'"
      ]
     },
     "execution_count": 35,
     "metadata": {},
     "output_type": "execute_result"
    }
   ],
   "source": [
    "# 주석을 길게 달고 싶은 경우의 예!\n",
    "\n",
    "\"\"\"\n",
    "주석1\n",
    "주석2\n",
    "주석3\n",
    "\"\"\""
   ]
  },
  {
   "cell_type": "markdown",
   "id": "1e1b99f2-51be-4570-8289-1b42b596accd",
   "metadata": {},
   "source": [
    "### 조건문\n",
    "\n",
    "- 조건이 1개인 경우\n",
    "    - if 뒤 조건식 앞에는 스페이스, : 앞에는 스페이스 사용 X\n",
    "    \n",
    "```\n",
    "if <조건식>:\n",
    "    <실행할 코드>\n",
    "```"
   ]
  },
  {
   "cell_type": "code",
   "execution_count": 31,
   "id": "6f68defc-5232-440a-b8bf-132409a6670f",
   "metadata": {},
   "outputs": [],
   "source": [
    "# 조건식이 False이므로, 아무것도 print되지 않음!\n",
    "\n",
    "if 4 == 9:\n",
    "    print('Yaay!')"
   ]
  },
  {
   "cell_type": "code",
   "execution_count": 32,
   "id": "b52ef9b5-ccfe-4b78-8144-0eb957652b29",
   "metadata": {},
   "outputs": [
    {
     "name": "stdout",
     "output_type": "stream",
     "text": [
      "Yaay!\n"
     ]
    }
   ],
   "source": [
    "# 이렇게 수정한다면, print됨.\n",
    "\n",
    "if 4 != 9:\n",
    "    print('Yaay!')"
   ]
  },
  {
   "cell_type": "markdown",
   "id": "fa770da8-4b65-48da-b1e7-bc23948599ad",
   "metadata": {},
   "source": [
    "- 조건이 2개인 경우\n",
    "\n",
    "```\n",
    "if <조건식>:\n",
    "    <실행할 코드1>\n",
    "else:\n",
    "    <실행할 코드2>\n",
    "```"
   ]
  },
  {
   "cell_type": "code",
   "execution_count": 33,
   "id": "35a6d03d-2176-4223-9aa5-3b45a7ff815d",
   "metadata": {},
   "outputs": [
    {
     "name": "stdout",
     "output_type": "stream",
     "text": [
      "Hey!\n"
     ]
    }
   ],
   "source": [
    "# 4 == 9이므로, 'Hey!'가 출력될 것이다.\n",
    "\n",
    "if 4 == 9:\n",
    "    print('Yaay!')\n",
    "else:\n",
    "    print('Hey!')"
   ]
  },
  {
   "cell_type": "markdown",
   "id": "f547ad5b-47ac-4db6-a222-7b8682748d9e",
   "metadata": {},
   "source": [
    "- 조건이 3개 이상인 경우\n",
    "\n",
    "```\n",
    "if <조건식>:\n",
    "    <실행할 코드1>\n",
    "elif <조건식2>:\n",
    "    <실행할 코드2>\n",
    "    \n",
    "...<여러개 있을 수 있다!>...\n",
    "\n",
    "else:\n",
    "    <실행할 코드3>\n",
    "```"
   ]
  },
  {
   "cell_type": "code",
   "execution_count": 34,
   "id": "0caeab3c-29b2-4074-b3a4-ed82ded84f7f",
   "metadata": {},
   "outputs": [
    {
     "name": "stdout",
     "output_type": "stream",
     "text": [
      "Yeah!\n"
     ]
    }
   ],
   "source": [
    "# 2 != 8이므로, 'Yeah!'가 출력될 것이다.\n",
    "\n",
    "if 4 == 9:\n",
    "    print('Yaay!')\n",
    "elif 5 == 10:\n",
    "    print('Hey!')\n",
    "elif 2 != 8:\n",
    "    print('Yeah!')\n",
    "else:\n",
    "    print('oh!')"
   ]
  },
  {
   "cell_type": "markdown",
   "id": "2619e78c-874b-4476-a475-24ee043f69f6",
   "metadata": {},
   "source": [
    "### 비교연산자\n",
    "- x < y, x <= y\n",
    "- x > y, x >= y\n",
    "- x == y (값)\n",
    "- x != y (값)\n",
    "- x is y (값, 메모리 주소)\n",
    "- x is not y (값, 메모리 주소)"
   ]
  },
  {
   "cell_type": "markdown",
   "id": "969fd279-7d2f-4c31-bb47-3627621ee636",
   "metadata": {},
   "source": [
    "#### `Quiz 1`\n",
    "- 학점 부여하기\n",
    "- 학점을 입력 받아서\n",
    "    - 90점 이상이면 A\n",
    "    - 80, B\n",
    "    - 70, C\n",
    "    - 그외, D\n",
    "    \n",
    "- 변수 설정 유의 \n",
    "- print할 때, 예쁘게 하기!"
   ]
  },
  {
   "cell_type": "code",
   "execution_count": 37,
   "id": "415a63db-22b1-485d-be03-e191983ad24c",
   "metadata": {},
   "outputs": [
    {
     "name": "stdin",
     "output_type": "stream",
     "text": [
      "성적을 입력해주세요. 85.3\n"
     ]
    },
    {
     "name": "stdout",
     "output_type": "stream",
     "text": [
      "성적은 85.3, 학점은 B입니다.\n"
     ]
    }
   ],
   "source": [
    "score = float(input('성적을 입력해주세요.'))\n",
    "\n",
    "if score >= 90:\n",
    "    grade = 'A'\n",
    "elif score >= 80:\n",
    "    grade = 'B'\n",
    "elif score >= 70:\n",
    "    grade = 'C'\n",
    "else:\n",
    "    grade = 'D'\n",
    "    \n",
    "print(f'성적은 {score}, 학점은 {grade}입니다.')"
   ]
  },
  {
   "cell_type": "markdown",
   "id": "015f2279-f1ae-4b94-b510-d93df122131c",
   "metadata": {},
   "source": [
    "#### `Quiz 2`\n",
    "- 아이디와 비번 입력 받아서 둘다 일치하면 로그인 하기\n",
    "- 아이디, 비번 각자 정해놓기\n",
    "- 일치하지 않을 때에는 창의적으로 어떤 걸로 반환하기"
   ]
  },
  {
   "cell_type": "code",
   "execution_count": 40,
   "id": "7820eb58-3901-4fe7-b481-2449a797b42f",
   "metadata": {},
   "outputs": [
    {
     "name": "stdin",
     "output_type": "stream",
     "text": [
      "아이디를 입력해주세요. woori\n",
      "비밀번호를 입력해주세요. 0815\n"
     ]
    },
    {
     "name": "stdout",
     "output_type": "stream",
     "text": [
      "로그인 되었습니다.\n"
     ]
    }
   ],
   "source": [
    "# 첫 번째 방법 \n",
    "\n",
    "user_id = 'woori'\n",
    "user_pw = '0815'\n",
    "\n",
    "input_id = input('아이디를 입력해주세요.')\n",
    "input_pw = input('비밀번호를 입력해주세요.')\n",
    "\n",
    "if (user_id == input_id) and (user_pw == input_pw):\n",
    "    print('로그인 되었습니다.')\n",
    "else:\n",
    "    print('아이디 또는 비밀번호를 잘못 입력하셨습니다.')"
   ]
  },
  {
   "cell_type": "code",
   "execution_count": 45,
   "id": "cdf6b47d-8ede-4bb4-84e0-491cd3f7fe70",
   "metadata": {},
   "outputs": [
    {
     "name": "stdin",
     "output_type": "stream",
     "text": [
      "아이디를 입력해주세요. woorively\n",
      "비밀번호를 입력해주세요. 0815\n"
     ]
    },
    {
     "name": "stdout",
     "output_type": "stream",
     "text": [
      "아이디를 잘못 입력하셨습니다.\n"
     ]
    }
   ],
   "source": [
    "# 두 번째 방법\n",
    "\n",
    "user_id = 'woori'\n",
    "user_pw = '0815'\n",
    "\n",
    "input_id = input('아이디를 입력해주세요.')\n",
    "input_pw = input('비밀번호를 입력해주세요.')\n",
    "\n",
    "if user_id == input_id:\n",
    "    if user_pw == input_pw:\n",
    "        print('로그인 되었습니다.')\n",
    "    else:\n",
    "        print('비밀번호를 잘못 입력하셨습니다.')\n",
    "else:\n",
    "    if user_pw == input_pw:\n",
    "        print('아이디를 잘못 입력하셨습니다.')\n",
    "    else:\n",
    "        print('아이디와 비밀번호를 잘못 입력하셨습니다.')"
   ]
  },
  {
   "cell_type": "markdown",
   "id": "e693e77a-1f73-493d-a91f-6b0b39de2c0d",
   "metadata": {},
   "source": [
    "### 논리연산자\n",
    "- 여러 조건식을 비교할 때 사용한다.\n",
    "- 예: 10 < x < 20\n",
    "    - 위 표현은 파이썬에서만 가능한 표현!\n",
    "    - (x > 10) 혹은 (x < 20)\n",
    "- and(&): 둘다 참일 때 True\n",
    "- or(|): 둘 중 하나만 참이여도 True\n",
    "- not: 참 -> False, 거짓 -> True"
   ]
  },
  {
   "cell_type": "markdown",
   "id": "38ae6ed6-2031-4786-9611-363b2b4666c4",
   "metadata": {},
   "source": [
    "#### `Quiz 3`\n",
    "- quiz 1 확장판\n",
    "- 결석 횟수를 받아서, 점수가 80점 이상인데 결석이 2번 이상이면 F, 나머지는 점수대로 (Quiz 1에서 결석만 추가되어 F를 부여하는 버전으로!)\n",
    "- 두 방법으로 해보기\n",
    "    - 논리연산자 사용\n",
    "    - if구조를 크게 2번 가져갈 수 있다."
   ]
  },
  {
   "cell_type": "code",
   "execution_count": 50,
   "id": "8f75a009-737e-4421-90f5-031299675dd7",
   "metadata": {},
   "outputs": [
    {
     "name": "stdin",
     "output_type": "stream",
     "text": [
      "성적을 입력해주세요. 99.8\n",
      "결석한 횟수를 입력해주세요. 2\n"
     ]
    },
    {
     "name": "stdout",
     "output_type": "stream",
     "text": [
      "성적은 99.8, 결석 횟수는 2, 학점은 F입니다.\n"
     ]
    }
   ],
   "source": [
    "# 논리연산자를 사용한 방법\n",
    "\n",
    "score = float(input('성적을 입력해주세요.'))\n",
    "absence = int(input('결석한 횟수를 입력해주세요.'))\n",
    "\n",
    "if score >= 90 and absence < 2:\n",
    "    grade = 'A'\n",
    "elif score >= 80 and absence < 2:\n",
    "    grade = 'B'\n",
    "elif score >= 70 and absence < 2:\n",
    "    grade = 'C'\n",
    "elif absence < 2:\n",
    "    grade = 'D'\n",
    "else:\n",
    "    grade = 'F'\n",
    "\n",
    "print(f'성적은 {score}, 결석 횟수는 {absence}, 학점은 {grade}입니다.')"
   ]
  },
  {
   "cell_type": "code",
   "execution_count": 55,
   "id": "c6ec21ad-6cbb-44e6-8774-aa35ea2edb5c",
   "metadata": {},
   "outputs": [
    {
     "name": "stdin",
     "output_type": "stream",
     "text": [
      "성적을 입력해주세요. 54.2\n",
      "결석한 횟수를 입력해주세요. 0\n"
     ]
    },
    {
     "name": "stdout",
     "output_type": "stream",
     "text": [
      "성적은 54.2, 결석 횟수는 0, 학점은 D입니다.\n"
     ]
    }
   ],
   "source": [
    "# if구조를 2번 사용한 방법\n",
    "\n",
    "score = float(input('성적을 입력해주세요.'))\n",
    "absence = int(input('결석한 횟수를 입력해주세요.'))\n",
    "\n",
    "if absence >= 2:\n",
    "    grade = 'F'\n",
    "else:\n",
    "    if score >= 90:\n",
    "        grade = 'A'\n",
    "    elif score >= 80:\n",
    "        grade = 'B'\n",
    "    elif score >= 70:\n",
    "        grade = 'C'\n",
    "    else:\n",
    "        grade = 'D'\n",
    "    \n",
    "print(f'성적은 {score}, 결석 횟수는 {absence}, 학점은 {grade}입니다.')"
   ]
  }
 ],
 "metadata": {
  "kernelspec": {
   "display_name": "Python 3 (ipykernel)",
   "language": "python",
   "name": "python3"
  },
  "language_info": {
   "codemirror_mode": {
    "name": "ipython",
    "version": 3
   },
   "file_extension": ".py",
   "mimetype": "text/x-python",
   "name": "python",
   "nbconvert_exporter": "python",
   "pygments_lexer": "ipython3",
   "version": "3.9.7"
  }
 },
 "nbformat": 4,
 "nbformat_minor": 5
}
