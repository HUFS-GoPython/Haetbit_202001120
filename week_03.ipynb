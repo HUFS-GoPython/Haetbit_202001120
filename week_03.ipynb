{
 "cells": [
  {
   "cell_type": "markdown",
   "id": "e1b069d9-4e27-474a-8ea8-699d2734955f",
   "metadata": {},
   "source": [
    "# 3주차 (0318) Review"
   ]
  },
  {
   "cell_type": "markdown",
   "id": "85ec4ca2-8c52-49a1-9585-997ef28635e9",
   "metadata": {},
   "source": [
    "---\n",
    "## `ch04_ex03`"
   ]
  },
  {
   "cell_type": "markdown",
   "id": "585e60d8-364c-4515-a725-fcf7b064ea44",
   "metadata": {},
   "source": [
    "## 중첩 조건문 | Nested conditional\n",
    "- if 블록 안에 또 if 블록이 만들어지는 경우\n",
    "    - 예 : \n",
    "    ```\n",
    "        if ...\n",
    "            if ....\n",
    "                if ....\n",
    "    ```\n",
    "    - if절 구분은 들여쓰기로 한다.\n",
    "    - 조건이 여러 개일 경우 사용한다.\n",
    "    - 이 방법은 사실 지양하고, 더 예쁜 방법을 찾아본다."
   ]
  },
  {
   "cell_type": "code",
   "execution_count": 2,
   "id": "1f23fe39-4a28-4dbf-9eed-645e509a66f1",
   "metadata": {},
   "outputs": [
    {
     "name": "stdout",
     "output_type": "stream",
     "text": [
      "Block B\n"
     ]
    }
   ],
   "source": [
    "# 지양해야 할 방법 예시\n",
    "\n",
    "x = 0\n",
    "y = 4\n",
    "\n",
    "if x == y:\n",
    "    print(\"Block A\")\n",
    "else:\n",
    "    if x < y:\n",
    "        print(\"Block B\")\n",
    "    else:\n",
    "        print(\"Block C\")"
   ]
  },
  {
   "cell_type": "code",
   "execution_count": 3,
   "id": "ef601c4f-1ba6-4a44-add5-a875a15ae21c",
   "metadata": {},
   "outputs": [
    {
     "name": "stdout",
     "output_type": "stream",
     "text": [
      "Block B\n"
     ]
    }
   ],
   "source": [
    "# 가독성 좋게 해결하는 방법! \n",
    "\n",
    "if x == y:\n",
    "    print('Block A')\n",
    "elif x < y:\n",
    "    print('Block B')\n",
    "else:\n",
    "    print('Block C')"
   ]
  },
  {
   "cell_type": "code",
   "execution_count": 4,
   "id": "bd30e890-f16d-40b7-aeeb-7db85a517072",
   "metadata": {},
   "outputs": [
    {
     "name": "stdout",
     "output_type": "stream",
     "text": [
      "Block B\n"
     ]
    }
   ],
   "source": [
    "# 지양해야 할 방법 예시 2\n",
    "# 0 < x < 10 인 경우에 A를,\n",
    "# 그 외의 경우에는 B를 프린트하기\n",
    "\n",
    "if x > 0:\n",
    "    if x < 10:\n",
    "        print('Block A')\n",
    "    else:\n",
    "        print('Block B')\n",
    "else:\n",
    "    print('Block B')"
   ]
  },
  {
   "cell_type": "code",
   "execution_count": 5,
   "id": "c861d935-9bb9-478a-bb3e-73fa2f7f3023",
   "metadata": {},
   "outputs": [
    {
     "name": "stdout",
     "output_type": "stream",
     "text": [
      "Block B\n",
      "Block B\n"
     ]
    }
   ],
   "source": [
    "# 방법 1 - 논리 연산자를 사용하는 방법\n",
    "\n",
    "if (x > 0) and (x < 10):\n",
    "    print('Block A')\n",
    "else:\n",
    "    print('Block B')\n",
    "    \n",
    "\n",
    "# 방법 2 - 파이썬에서만 사용할 수 있는 방법\n",
    "\n",
    "if 0 < x < 10:\n",
    "    print('Block A')\n",
    "else:\n",
    "    print('Block B')\n",
    "    "
   ]
  },
  {
   "cell_type": "markdown",
   "id": "dda822d5-0829-4bc3-8340-7041d2e67901",
   "metadata": {},
   "source": [
    "### 논리연산자\n",
    "- 비교연산 조건을 여러 번 사용해야 하는 경우\n",
    "    - x > 0 그리고 x < 10\n",
    "- and(&), or(|), not(~) `헷갈리지 않게 주의!`\n",
    "    - A and B : A 그리고 B, A와 B가 둘다 참일 때 True\n",
    "    - A or B : A 혹은 B, 둘 중 하나만 참이면 True\n",
    "    - not A : A가 참이면 False, 거짓이면 True"
   ]
  },
  {
   "cell_type": "markdown",
   "id": "2bde0205-0d8e-4d35-b9f4-5ca88f5128ca",
   "metadata": {},
   "source": [
    "### True, False로 조건을 세우는 경우!\n",
    "- A = True\n",
    "- \"만약 A가 참이면, ...\""
   ]
  },
  {
   "cell_type": "code",
   "execution_count": 6,
   "id": "35b327c9-636a-4358-b765-7de84afd8325",
   "metadata": {},
   "outputs": [
    {
     "name": "stdout",
     "output_type": "stream",
     "text": [
      "True\n",
      "True\n"
     ]
    }
   ],
   "source": [
    "a = True\n",
    "\n",
    "# 이렇게 쓰는 거 아님,,\n",
    "if a == True:\n",
    "    print('True')\n",
    "else:\n",
    "    print('False')\n",
    "    \n",
    "# 이렇게 !\n",
    "# 아무것도 안 쓰면 'a가 참일 때'의 의미\n",
    "if a:\n",
    "    print('True')\n",
    "else:\n",
    "    print('False')"
   ]
  },
  {
   "cell_type": "markdown",
   "id": "ed718398-c000-4448-be63-caaf6eb9b7f1",
   "metadata": {},
   "source": [
    "### in\n",
    "- membership operator\n",
    "- 어떤 요소가 안에 포함되어 있는가 \n",
    "- 혹은, 비슷한 조건문이 여럿일 때\n",
    "- A in B => A가 B에 포함되어 있나?"
   ]
  },
  {
   "cell_type": "code",
   "execution_count": 7,
   "id": "2da35f16-2133-439d-9221-e481b9bdeb77",
   "metadata": {},
   "outputs": [
    {
     "name": "stdout",
     "output_type": "stream",
     "text": [
      "k : 자음\n"
     ]
    }
   ],
   "source": [
    "# ex1 \n",
    "# letter이 모음인지 아닌지 판단하라. 모음 => (a, e, i, o, u)\n",
    "letter = 'k'\n",
    "\n",
    "# if letter == 'a' or letter == 'e', .... (안 좋은 방법!)\n",
    "if letter in ['a', 'e', 'i', 'o', 'u']:\n",
    "    print(f\"{letter} : 모음\")\n",
    "else: \n",
    "    print(f\"{letter} : 자음\")"
   ]
  },
  {
   "cell_type": "code",
   "execution_count": 8,
   "id": "c83590ba-35d1-4b80-99a5-8cd92fa81f59",
   "metadata": {},
   "outputs": [
    {
     "name": "stdout",
     "output_type": "stream",
     "text": [
      "yes\n"
     ]
    }
   ],
   "source": [
    "# 주어진 단어에 모음이 있나 없나?!\n",
    "\n",
    "word = 'apple'\n",
    "   \n",
    "# # TypeError가 나는 예시\n",
    "# if ['a', 'e', 'i', 'o', 'u'] in word:\n",
    "#     print('yes')\n",
    "# TypeError: 'in <string>' requires string as left operand, not list\n",
    "    \n",
    "if ('a' or 'e' or 'i' or 'o' or 'u') in word:\n",
    "    print('yes')"
   ]
  },
  {
   "cell_type": "markdown",
   "id": "5a7d4cc6-e345-435b-b9cc-2c7000db3827",
   "metadata": {},
   "source": [
    "### 코끼리 연산자\n",
    "- walrus operator\n",
    "- 사용하는 방식 ===> :=\n",
    "- 할당과 테스트를 동시에 하는 기능 "
   ]
  },
  {
   "cell_type": "code",
   "execution_count": 9,
   "id": "1a67743c-14e6-45b5-aee8-4d1c81347ddc",
   "metadata": {},
   "outputs": [
    {
     "data": {
      "text/plain": [
       "'blahblahblahblahblahblahblahblahblahblahblahblahblahblahblahblahblahblahblahblahblahblahblahblahblahblahblahblahblahblahblahblahblahblahblahblahblahblahblahblahblahblahblahblahblahblahblahblahblahblah'"
      ]
     },
     "execution_count": 9,
     "metadata": {},
     "output_type": "execute_result"
    }
   ],
   "source": [
    "tweet_limit = 200\n",
    "\n",
    "# 공백 없이 붙인다는 의미,\n",
    "# 개수는, 4(blah의 길이) * 50 = 200\n",
    "tweet_string = 'blah' * 50 \n",
    "tweet_string"
   ]
  },
  {
   "cell_type": "code",
   "execution_count": 10,
   "id": "4007e370-52bb-4358-a1fa-ef9c911105d1",
   "metadata": {},
   "outputs": [
    {
     "name": "stdout",
     "output_type": "stream",
     "text": [
      "불가능하다.\n"
     ]
    }
   ],
   "source": [
    "# 이 str이 200을 넘는 건지, 안 넘는 건지 확인하기\n",
    "\n",
    "diff = tweet_limit - len(tweet_string)\n",
    "if diff > 0:\n",
    "    print(\"가능하다.\")\n",
    "else:\n",
    "    print(\"불가능하다.\")"
   ]
  },
  {
   "cell_type": "code",
   "execution_count": 11,
   "id": "bf8acc6f-1a38-49fb-b39e-31acc3a6f509",
   "metadata": {},
   "outputs": [
    {
     "name": "stdout",
     "output_type": "stream",
     "text": [
      "no\n"
     ]
    }
   ],
   "source": [
    "# 코끼리 연산자 사용\n",
    "# 한 줄로 줄이기 가능 (할당 + 테스트)\n",
    "\n",
    "if diff := tweet_limit - len(tweet_string) > 0:\n",
    "    print('yes')\n",
    "else: print('no')"
   ]
  },
  {
   "cell_type": "markdown",
   "id": "abe50b2c-90e8-4c59-b4b0-a4e363d58a9d",
   "metadata": {},
   "source": [
    "#### `Quiz`\n",
    "- 윤년을 구해봅시다.\n",
    "    - 연도를 입력받는다.\n",
    "    - 해당 연도가 4로 나눠지면 윤년\n",
    "    - 그러나 100으로 나눠지면 안 된다.\n",
    "    - 그런데 또, 400으로 나눠지면 윤년\n",
    "- 출력 : '{}년은 윤년입니다.' 혹은 '윤년이 아닙니다.'"
   ]
  },
  {
   "cell_type": "code",
   "execution_count": 12,
   "id": "cbb3747e-8944-4254-9882-aacd9d5207e1",
   "metadata": {},
   "outputs": [
    {
     "name": "stdin",
     "output_type": "stream",
     "text": [
      "연도를 입력해주세요. 2024\n"
     ]
    },
    {
     "name": "stdout",
     "output_type": "stream",
     "text": [
      "2024년은 윤년입니다.\n"
     ]
    }
   ],
   "source": [
    "year = int(input('연도를 입력해주세요.'))\n",
    "\n",
    "if (year % 4 == 0 and year % 100 != 0) or (year % 400 == 0):\n",
    "    print(f'{year}년은 윤년입니다.')\n",
    "else:\n",
    "    print(f'{year}년은 윤년이 아닙니다.')"
   ]
  },
  {
   "cell_type": "markdown",
   "id": "59fb7712-4927-4bd9-837c-5f92cbe7b508",
   "metadata": {},
   "source": [
    "---"
   ]
  },
  {
   "cell_type": "markdown",
   "id": "3c8a6b95-6764-40e8-af75-f4dc2194f6bb",
   "metadata": {},
   "source": [
    "## `ch05_ex01`\n",
    "\n",
    "## Ch05. 문자열, String"
   ]
  },
  {
   "cell_type": "markdown",
   "id": "5255d732-6c8c-43de-9eac-5e3fbb08ff33",
   "metadata": {},
   "source": [
    "### String | 문자열\n",
    "- 시스템에서 가장 작은 단위\n",
    "- 즉, 하나의 캐릭터가 차지하는 바이트가 제일 작다!\n",
    "- 불변적인 성격을 가진다. immutable\n",
    "    - 예 : jack -> jeck 으로 중간만 수정할 수는 없다.\n",
    "    - 아예 할당을 다시 할 수는 있다.\n",
    "- ', \"으로 선언한다.\n",
    "    - 예 : \"25.5\" (타입: str)\n",
    "    - 참고로, ''', \"\"\"으로 사용하면 주석이다.\n",
    "- 형변환은 str()"
   ]
  },
  {
   "cell_type": "markdown",
   "id": "d0ec1140-28c4-429c-b221-039db5210a3c",
   "metadata": {},
   "source": [
    "### escape character | 이스케이프 문자\n",
    "- 특수한 형태의 문자열로, 눈에 보이는 대로 인식되지 않는 문자 \n",
    "- \\ + char\n",
    "- 예: \\n, \\t, \\b, \\', \\\", ... (이것을 그대로 인식하라는 뜻!)\n",
    "    - 만약, \\n을 그대로 출력하고 싶다?\n",
    "        - 방법 1: \\를 하나 더 쓰면 됨.\n",
    "        - 방법 2: raw string 사용하기 (r'')\n",
    "- 주의할 사항: 다른 스트링을 만드는 것이 아니라, 출력의 문제인 것."
   ]
  },
  {
   "cell_type": "code",
   "execution_count": 13,
   "id": "f5d2ec17-4efd-46c3-be37-19f425cec5fe",
   "metadata": {},
   "outputs": [
    {
     "name": "stdout",
     "output_type": "stream",
     "text": [
      "hello\n",
      "world\n"
     ]
    }
   ],
   "source": [
    "sent = 'hello\\nworld'\n",
    "print(sent)"
   ]
  },
  {
   "cell_type": "code",
   "execution_count": 14,
   "id": "6ef503fd-7cad-47d5-8acc-94262b1f3d9e",
   "metadata": {},
   "outputs": [
    {
     "name": "stdout",
     "output_type": "stream",
     "text": [
      "hello\tworld\n"
     ]
    }
   ],
   "source": [
    "sent = 'hello\\tworld'\n",
    "print(sent)"
   ]
  },
  {
   "cell_type": "code",
   "execution_count": 15,
   "id": "a8ff7608-d6e5-42f6-897e-8c30f8cf5c75",
   "metadata": {},
   "outputs": [
    {
     "name": "stdout",
     "output_type": "stream",
     "text": [
      "hellworld\n"
     ]
    }
   ],
   "source": [
    "sent = 'hello\\bworld'\n",
    "print(sent)"
   ]
  },
  {
   "cell_type": "code",
   "execution_count": 16,
   "id": "b9560128-68ff-4f80-a244-2e331ae414e3",
   "metadata": {},
   "outputs": [
    {
     "name": "stdout",
     "output_type": "stream",
     "text": [
      "hello\\nworld\n",
      "hello\\nworld\n"
     ]
    }
   ],
   "source": [
    "# \\n을 그대로 출력하고 싶을 때,\n",
    "\n",
    "# 방법 1 - \\ 한번 더 쓰기\n",
    "sent = 'hello\\\\nworld'\n",
    "print(sent)\n",
    "\n",
    "# 방법 2 - raw string\n",
    "sent = r'hello\\nworld'\n",
    "print(sent)"
   ]
  },
  {
   "cell_type": "code",
   "execution_count": 17,
   "id": "e550f114-ed29-46e5-979a-fb4a076af26a",
   "metadata": {},
   "outputs": [
    {
     "data": {
      "text/plain": [
       "\"I'm a student.\""
      ]
     },
     "execution_count": 17,
     "metadata": {},
     "output_type": "execute_result"
    }
   ],
   "source": [
    "# 문자열 원하는 대로 나타내기!\n",
    "\n",
    "'I\\'m a student.'"
   ]
  },
  {
   "cell_type": "code",
   "execution_count": 18,
   "id": "92c77d2d-d25c-485b-a16d-83f56a1016dc",
   "metadata": {},
   "outputs": [
    {
     "data": {
      "text/plain": [
       "'hello\\nworld'"
      ]
     },
     "execution_count": 18,
     "metadata": {},
     "output_type": "execute_result"
    }
   ],
   "source": [
    "# 그냥 사용하면, \\n이 보임\n",
    "\n",
    "sent = 'hello\\nworld'\n",
    "sent"
   ]
  },
  {
   "cell_type": "code",
   "execution_count": 19,
   "id": "353b1b2a-3a76-4352-bc40-d09c5d2dcec2",
   "metadata": {},
   "outputs": [
    {
     "name": "stdout",
     "output_type": "stream",
     "text": [
      "hello\n",
      "world\n"
     ]
    }
   ],
   "source": [
    "# 프린트하면 \\n이 안 보임\n",
    "\n",
    "print(sent)"
   ]
  },
  {
   "cell_type": "markdown",
   "id": "b41d5202-5f6a-4ae3-8852-e5117d4eaf08",
   "metadata": {},
   "source": [
    "### 연산\n",
    "- concatenatation\n",
    "    - ' ' + ' ' => 공백 없이 결합하는 방법\n",
    "- 곱하기\n",
    "    - ' ' * 5 => 복제의 의미 "
   ]
  },
  {
   "cell_type": "code",
   "execution_count": 20,
   "id": "0d2ad9d0-c9a8-49b5-afac-7de3b9713c3f",
   "metadata": {},
   "outputs": [
    {
     "data": {
      "text/plain": [
       "'jackjack'"
      ]
     },
     "execution_count": 20,
     "metadata": {},
     "output_type": "execute_result"
    }
   ],
   "source": [
    "# 공백 없이 출력\n",
    "\n",
    "name = 'jack'\n",
    "name + name"
   ]
  },
  {
   "cell_type": "code",
   "execution_count": 21,
   "id": "df3bf260-201f-4b58-9ba5-8d35822926c5",
   "metadata": {},
   "outputs": [
    {
     "data": {
      "text/plain": [
       "'jackjackjackjack'"
      ]
     },
     "execution_count": 21,
     "metadata": {},
     "output_type": "execute_result"
    }
   ],
   "source": [
    "# 4번 반복 (스페이스 X)\n",
    "\n",
    "name * 4"
   ]
  },
  {
   "cell_type": "code",
   "execution_count": null,
   "id": "dd1893fa-a884-47e4-a5d1-f5c1cb7e99dd",
   "metadata": {},
   "outputs": [],
   "source": [
    "# immutable 하다는 것\n",
    "# name의 첫 번째인 'a'를 'e'로 바꿀 수 있는가?\n",
    "# 안 됨, Type Error\n",
    "\n",
    "name[1] = 'e'"
   ]
  },
  {
   "cell_type": "markdown",
   "id": "729c5fb3-4180-4e5d-a579-db1551c71493",
   "metadata": {},
   "source": [
    "### 슬라이싱, 추출\n",
    "- 문자열의 일부분을 떼어내는 작업\n",
    "- 대괄호 사용하고, 그 안에 오프셋을 지정\n",
    "- 오프셋은 정해진 자리, 상대적인 주소라고 생각.\n",
    "- **중요** `오프셋은 0부터 시작한다.`\n",
    "```\n",
    "    # 오프셋\n",
    "    0123\n",
    "    jack\n",
    "    -4-3-2-1\n",
    "```\n",
    "- 음수도 가능함, 대신, -1부터 시작!\n",
    "- 오프셋은 [시작: 끝: 스텝] # default 값: step = 1\n",
    "- 오프셋의 시작은 포함하고, 끝은 포함하지 않는다. ('이상 ~ 미만'의 의미)"
   ]
  },
  {
   "cell_type": "code",
   "execution_count": 23,
   "id": "31bb7f86-7177-44c1-aec1-b4da449ebdd6",
   "metadata": {},
   "outputs": [
    {
     "data": {
      "text/plain": [
       "'j'"
      ]
     },
     "execution_count": 23,
     "metadata": {},
     "output_type": "execute_result"
    }
   ],
   "source": [
    "# j를 뽑고 싶으면 0\n",
    "\n",
    "name = 'jack'\n",
    "name[0]"
   ]
  },
  {
   "cell_type": "code",
   "execution_count": 24,
   "id": "7d616518-6057-4ec6-a1ea-a6001c11e08a",
   "metadata": {},
   "outputs": [
    {
     "data": {
      "text/plain": [
       "'k'"
      ]
     },
     "execution_count": 24,
     "metadata": {},
     "output_type": "execute_result"
    }
   ],
   "source": [
    "# -1이면 k가 나옴\n",
    "\n",
    "name = 'jack'\n",
    "name[-1]"
   ]
  },
  {
   "cell_type": "code",
   "execution_count": 25,
   "id": "bd478768-03ba-487b-8d34-4d7425e42efe",
   "metadata": {},
   "outputs": [
    {
     "data": {
      "text/plain": [
       "'hello\\nworld'"
      ]
     },
     "execution_count": 25,
     "metadata": {},
     "output_type": "execute_result"
    }
   ],
   "source": [
    "# 현재의 sent\n",
    "sent"
   ]
  },
  {
   "cell_type": "code",
   "execution_count": 26,
   "id": "9341ebe9-7ac8-434d-98a0-44e31194ed3d",
   "metadata": {},
   "outputs": [
    {
     "data": {
      "text/plain": [
       "'l'"
      ]
     },
     "execution_count": 26,
     "metadata": {},
     "output_type": "execute_result"
    }
   ],
   "source": [
    "# 0부터 시작한다는 것, \n",
    "# 그리고 step을 지정해주지 않았을 때, \n",
    "# defalut 값이 1이라는 것을 알 수 있다.\n",
    "\n",
    "sent[3:4]"
   ]
  },
  {
   "cell_type": "code",
   "execution_count": 27,
   "id": "03fa0cc7-3837-4eaf-abb4-a5f1817347dc",
   "metadata": {},
   "outputs": [
    {
     "data": {
      "text/plain": [
       "('hello\\n', 'hello\\n')"
      ]
     },
     "execution_count": 27,
     "metadata": {},
     "output_type": "execute_result"
    }
   ],
   "source": [
    "# 처음부터 5까지 출력하고 싶을 때!\n",
    "\n",
    "# 후자의 방식으로 쓰는 것이 좋다!\n",
    "sent[0:6], sent[:6]"
   ]
  },
  {
   "cell_type": "code",
   "execution_count": 28,
   "id": "32632b88-4561-4afe-8246-0e188bd65c36",
   "metadata": {},
   "outputs": [
    {
     "data": {
      "text/plain": [
       "'hlowrd'"
      ]
     },
     "execution_count": 28,
     "metadata": {},
     "output_type": "execute_result"
    }
   ],
   "source": [
    "# 처음부터 끝까지 2스텝씩 출력하고 싶다면?\n",
    "\n",
    "sent[::2]"
   ]
  },
  {
   "cell_type": "code",
   "execution_count": 29,
   "id": "b28e716e-db7a-4b61-b533-ccb9a1225984",
   "metadata": {},
   "outputs": [
    {
     "data": {
      "text/plain": [
       "'dlrow\\nolleh'"
      ]
     },
     "execution_count": 29,
     "metadata": {},
     "output_type": "execute_result"
    }
   ],
   "source": [
    "# 모든 글자를 거꾸로 출력하기! \n",
    "\n",
    "sent[::-1]"
   ]
  },
  {
   "cell_type": "code",
   "execution_count": 30,
   "id": "c4d81ad0-1904-4080-a5b9-06eaa566bf7f",
   "metadata": {},
   "outputs": [
    {
     "data": {
      "text/plain": [
       "'benz'"
      ]
     },
     "execution_count": 30,
     "metadata": {},
     "output_type": "execute_result"
    }
   ],
   "source": [
    "# 문자열 뿐만 아니라, 리스트에서도 됨!\n",
    "\n",
    "cars = ['benz', 'kia', 'porsche']\n",
    "cars[0]"
   ]
  },
  {
   "cell_type": "markdown",
   "id": "ef41ba0f-2fac-460c-9814-9c0a040f75e5",
   "metadata": {},
   "source": [
    "## `ch05_ex02`"
   ]
  },
  {
   "cell_type": "markdown",
   "id": "e7ee9038-7a15-4172-8645-47926008e0bf",
   "metadata": {},
   "source": [
    "### NLTK\n",
    "- natural language toolkit\n",
    "- 자연어 분석을 위해 만들어져 교육용으로 배포된 패키지\n",
    "- 텍스트가 정제가 되어있고, 다양한 것을 할 수 있도록 내장된 함수나 기능이 추가되어 있다.\n",
    "    - 토크나이즈, 파싱, 태깅 "
   ]
  },
  {
   "cell_type": "code",
   "execution_count": 31,
   "id": "9328cb97-b9bf-43e9-a2f9-8b3789963b32",
   "metadata": {},
   "outputs": [],
   "source": [
    "# !pip install nltk # 설치"
   ]
  },
  {
   "cell_type": "code",
   "execution_count": 32,
   "id": "34239a4d-0bc6-4a80-8464-b5dd0fdbf50e",
   "metadata": {},
   "outputs": [
    {
     "data": {
      "text/plain": [
       "True"
      ]
     },
     "execution_count": 32,
     "metadata": {},
     "output_type": "execute_result"
    }
   ],
   "source": [
    "import nltk # nltk 가져오기\n",
    "\n",
    "# 부분적으로 다운받기\n",
    "# 깔끔하게 보고 싶다면, 'quiet=True' 추가!\n",
    "nltk.download('book', quiet=True)"
   ]
  },
  {
   "cell_type": "code",
   "execution_count": 33,
   "id": "8d2b4f5a-80cb-4c7b-84b3-2200b5f81e8f",
   "metadata": {},
   "outputs": [
    {
     "name": "stdout",
     "output_type": "stream",
     "text": [
      "*** Introductory Examples for the NLTK Book ***\n",
      "Loading text1, ..., text9 and sent1, ..., sent9\n",
      "Type the name of the text or sentence to view it.\n",
      "Type: 'texts()' or 'sents()' to list the materials.\n",
      "text1: Moby Dick by Herman Melville 1851\n",
      "text2: Sense and Sensibility by Jane Austen 1811\n",
      "text3: The Book of Genesis\n",
      "text4: Inaugural Address Corpus\n",
      "text5: Chat Corpus\n",
      "text6: Monty Python and the Holy Grail\n",
      "text7: Wall Street Journal\n",
      "text8: Personals Corpus\n",
      "text9: The Man Who Was Thursday by G . K . Chesterton 1908\n"
     ]
    }
   ],
   "source": [
    "from nltk import book # 가져오기"
   ]
  },
  {
   "cell_type": "code",
   "execution_count": 34,
   "id": "b03348a5-90ea-4f8e-bc8f-08661c2acf8c",
   "metadata": {},
   "outputs": [
    {
     "data": {
      "text/plain": [
       "['[',\n",
       " 'Moby',\n",
       " 'Dick',\n",
       " 'by',\n",
       " 'Herman',\n",
       " 'Melville',\n",
       " '1851',\n",
       " ']',\n",
       " 'ETYMOLOGY',\n",
       " '.']"
      ]
     },
     "execution_count": 34,
     "metadata": {},
     "output_type": "execute_result"
    }
   ],
   "source": [
    "# book에 접근하는 방법\n",
    "moby = book.text1\n",
    "\n",
    "# moby에 있는 단어들에 접근할 때 (토큰에 접근하는 방법)\n",
    "# 앞에서 10개만 출력!\n",
    "moby.tokens[:10]\n",
    "\n",
    "# 토큰? 프로그래밍에서 사용하는 단어의 단위\n",
    "# 예 : hello world => hello, world \n",
    "# I'm not a coward\n",
    "# I'm / I, 'm / I, am 의 세 방법으로!"
   ]
  },
  {
   "cell_type": "code",
   "execution_count": 35,
   "id": "6e083bc4-13a0-4cb5-9caa-608dccca6f8f",
   "metadata": {},
   "outputs": [
    {
     "data": {
      "text/plain": [
       "260819"
      ]
     },
     "execution_count": 35,
     "metadata": {},
     "output_type": "execute_result"
    }
   ],
   "source": [
    "# 1. 길이 세기\n",
    "len(moby)"
   ]
  },
  {
   "cell_type": "code",
   "execution_count": 36,
   "id": "cf52167f-8037-43c7-a392-915d367369f3",
   "metadata": {},
   "outputs": [
    {
     "data": {
      "text/plain": [
       "19317"
      ]
     },
     "execution_count": 36,
     "metadata": {},
     "output_type": "execute_result"
    }
   ],
   "source": [
    "# 2. 중복 없이 단어는 몇 개일까?\n",
    "# list -> set으로 형변환\n",
    "len(set(moby)) "
   ]
  },
  {
   "cell_type": "markdown",
   "id": "573c59e8-22cd-4275-862f-384039b79887",
   "metadata": {},
   "source": [
    "- list\n",
    "    - ['a', 1, True]\n",
    "    - 순서가 있고, 중복이 허용된다.\n",
    "    - list()\n",
    "- set\n",
    "    - {'a', 2, Ture}\n",
    "    - 순서가 없고, 중복 허용이 안 된다.\n",
    "    - set()\n",
    "    - 수학의 집합 개념이랑 동일\n",
    "    \n",
    "`list는 인덱싱이 되지만, set은 안 된다!`"
   ]
  },
  {
   "cell_type": "code",
   "execution_count": 37,
   "id": "1e9c261b-088b-47bb-9b4b-34dc1fd11d1d",
   "metadata": {},
   "outputs": [
    {
     "data": {
      "text/plain": [
       "['kia', 'hyundai', 'renault', 'benz', 'benz', 'kia']"
      ]
     },
     "execution_count": 37,
     "metadata": {},
     "output_type": "execute_result"
    }
   ],
   "source": [
    "cars = ['kia', 'hyundai', 'renault', 'benz', 'benz', 'kia']\n",
    "cars"
   ]
  },
  {
   "cell_type": "code",
   "execution_count": 38,
   "id": "d696ed65-6b47-477c-b369-1eb78c3b548e",
   "metadata": {},
   "outputs": [
    {
     "data": {
      "text/plain": [
       "{'benz', 'hyundai', 'kia', 'renault'}"
      ]
     },
     "execution_count": 38,
     "metadata": {},
     "output_type": "execute_result"
    }
   ],
   "source": [
    "# set으로 가져가면, 중복이 다 사라짐!\n",
    "\n",
    "set(cars)"
   ]
  },
  {
   "cell_type": "code",
   "execution_count": 39,
   "id": "7411d9ec-fe38-4bc8-a6ed-09c4c3f0aeb6",
   "metadata": {},
   "outputs": [
    {
     "data": {
      "text/plain": [
       "0.07406285585022564"
      ]
     },
     "execution_count": 39,
     "metadata": {},
     "output_type": "execute_result"
    }
   ],
   "source": [
    "# lexical diversity\n",
    "# 얼마나 다양한 언어를 썼는지 알 수 있음.\n",
    "len(set(moby)) / len(moby)"
   ]
  },
  {
   "cell_type": "code",
   "execution_count": 40,
   "id": "76e5afeb-a15b-42c9-b921-eaa3a8102e85",
   "metadata": {},
   "outputs": [
    {
     "data": {
      "text/plain": [
       "['benz', 'benz', 'hyundai', 'kia', 'kia', 'renault']"
      ]
     },
     "execution_count": 40,
     "metadata": {},
     "output_type": "execute_result"
    }
   ],
   "source": [
    "# 정렬\n",
    "sorted(cars)"
   ]
  },
  {
   "cell_type": "code",
   "execution_count": 41,
   "id": "954dbbf8-9e62-4011-ae61-e6c61b1c8b7c",
   "metadata": {},
   "outputs": [
    {
     "data": {
      "text/plain": [
       "['renault', 'kia', 'kia', 'hyundai', 'benz', 'benz']"
      ]
     },
     "execution_count": 41,
     "metadata": {},
     "output_type": "execute_result"
    }
   ],
   "source": [
    "# 역순으로 정렬\n",
    "sorted(cars, reverse=True)"
   ]
  },
  {
   "cell_type": "code",
   "execution_count": 42,
   "id": "d76473f8-baf3-43c5-aa18-036b8ee2dd7e",
   "metadata": {},
   "outputs": [
    {
     "name": "stdout",
     "output_type": "stream",
     "text": [
      "['.', '1851', 'Dick', 'ETYMOLOGY', 'Herman', 'Melville', 'Moby', '[', ']', 'by']\n",
      "['!', '!', '!', '!', '!', '!', '!', '!', '!', '!']\n"
     ]
    }
   ],
   "source": [
    "# 10개만 뽑아서 정렬\n",
    "print(sorted(moby[:10]))\n",
    "\n",
    "# 정렬을 먼저 하고 10개를 뽑는 것\n",
    "print(sorted(moby)[:10])"
   ]
  },
  {
   "cell_type": "markdown",
   "id": "3d4c6d26-0f02-479b-91a5-279d21449d64",
   "metadata": {},
   "source": [
    "#### `Quiz 1`\n",
    "- text6 가져와서 토큰을 변수에 담고\n",
    "- 중복 없는 집합으로 저장하고 내림차순\n",
    "    - 앞에서 10개 단어 출력\n",
    "    - 만약, 단어에 z가 있으면 z를 대문자로 바꾸시오.\n",
    "    - z가 없는데 4자 이상이면 끝 글자를 대문자로 바꿔라."
   ]
  },
  {
   "cell_type": "code",
   "execution_count": 43,
   "id": "12e91561-0750-4905-9655-de45f9b533e8",
   "metadata": {},
   "outputs": [
    {
     "name": "stdout",
     "output_type": "stream",
     "text": [
      "Zoosh\n",
      "Zoop\n",
      "Zoo\n",
      "Zone\n",
      "Zhiv\n",
      "yourselF\n",
      "yourS\n",
      "youR\n",
      "younG\n",
      "you\n"
     ]
    }
   ],
   "source": [
    "monty = book.text6\n",
    "monty = sorted(set(monty), reverse=True)\n",
    "\n",
    "ans = monty[:10]\n",
    "\n",
    "for i in range(len(ans)):\n",
    "    word = ans[i]\n",
    "\n",
    "    if 'z' in word:\n",
    "        ans[i] = word.replace('z', 'Z')\n",
    "    elif len(word) >= 4:\n",
    "        ans[i] = word.replace(word[-1], word[-1].upper())\n",
    "        \n",
    "for elem in ans:\n",
    "    print(elem)"
   ]
  },
  {
   "cell_type": "markdown",
   "id": "2b7a33a9-4dcd-4984-ac4f-872e23cc392d",
   "metadata": {},
   "source": [
    "#### `Quiz 2`\n",
    "- 주민번호, 휴대폰번호, 이메일주소를 입력 받는다.\n",
    "- 주민번호, 휴대폰번호는 숫자만 입력 받는다. (- 없이)\n",
    "- 이메일 주소는 아이디만 입력 받는다. (@xx 없이)\n",
    "    - \"당신은 {}년 {}월 {}일 출생의 {남성/여성}입니다.\"\n",
    "    - 휴대폰 번호: 000-0000-0000\n",
    "    - 이메일주소: xxx@gmail.com"
   ]
  },
  {
   "cell_type": "code",
   "execution_count": 44,
   "id": "a1c91edf-f088-4097-9ee3-fd0b8e929530",
   "metadata": {},
   "outputs": [
    {
     "name": "stdin",
     "output_type": "stream",
     "text": [
      "주민번호를 입력해주세요. 201608153333333\n",
      "휴대폰번호를 입력해주세요. 01012345678\n",
      "이메일주소를 입력해주세요. woorively\n"
     ]
    },
    {
     "name": "stdout",
     "output_type": "stream",
     "text": [
      "당신은 1920년 16월 8일 출생의 남성입니다.\n",
      "휴대폰 번호: 010-1234-5678\n",
      "이메일주소: woorively@gmail.com\n"
     ]
    }
   ],
   "source": [
    "id_num = input('주민번호를 입력해주세요.')\n",
    "phone_num = input('휴대폰번호를 입력해주세요.')\n",
    "email = input('이메일주소를 입력해주세요.')\n",
    "\n",
    "if int(id_num[6]) in [1, 2]:\n",
    "    year = '19' + id_num[:2]\n",
    "else:\n",
    "    year = '20' + id_num[:2]\n",
    "    \n",
    "month = int(id_num[2:4])\n",
    "day = int(id_num[4:6])\n",
    "    \n",
    "if int(id_num[6]) % 2 == 0:\n",
    "    gender = '여성'\n",
    "else:\n",
    "    gender = '남성'\n",
    "\n",
    "print(f'당신은 {year}년 {month}월 {day}일 출생의 {gender}입니다.')\n",
    "print(f'휴대폰 번호: {phone_num[:3]}-{phone_num[3:7]}-{phone_num[7:]}')\n",
    "print(f'이메일주소: {email}@gmail.com')"
   ]
  }
 ],
 "metadata": {
  "kernelspec": {
   "display_name": "Python 3 (ipykernel)",
   "language": "python",
   "name": "python3"
  },
  "language_info": {
   "codemirror_mode": {
    "name": "ipython",
    "version": 3
   },
   "file_extension": ".py",
   "mimetype": "text/x-python",
   "name": "python",
   "nbconvert_exporter": "python",
   "pygments_lexer": "ipython3",
   "version": "3.9.7"
  }
 },
 "nbformat": 4,
 "nbformat_minor": 5
}
