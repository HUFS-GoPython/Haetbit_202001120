{
 "cells": [
  {
   "cell_type": "markdown",
   "id": "9ae0b577-040a-461b-b93a-a6de6d3c3eaa",
   "metadata": {},
   "source": [
    "# 6주차 (0408) Review"
   ]
  },
  {
   "cell_type": "markdown",
   "id": "dd700f21-e8d3-4bce-9d99-19c8438128d6",
   "metadata": {},
   "source": [
    "---\n",
    "## `ch07.ex01`"
   ]
  },
  {
   "cell_type": "markdown",
   "id": "7bcb736d-f198-4799-ab55-cdab145b3bd9",
   "metadata": {},
   "source": [
    "## NLTK lnaugural"
   ]
  },
  {
   "cell_type": "code",
   "execution_count": null,
   "id": "2c619639-639e-4355-9f40-ab102c86bfe7",
   "metadata": {},
   "outputs": [],
   "source": [
    "# lookup error가 나는 경우,\n",
    "# 아래를 실행하여 전체 코퍼스를 다운로드\n",
    "# 그렇지 않은 경우 그냥 평소대로\n",
    "\n",
    "import nltk\n",
    "nltk.download() "
   ]
  },
  {
   "cell_type": "code",
   "execution_count": 1,
   "id": "27c471cd-bf9e-438e-a72a-da4f2e78728e",
   "metadata": {},
   "outputs": [
    {
     "name": "stderr",
     "output_type": "stream",
     "text": [
      "[nltk_data] Downloading package brown to inaugural...\n",
      "[nltk_data]   Unzipping corpora/brown.zip.\n"
     ]
    },
    {
     "data": {
      "text/plain": [
       "True"
      ]
     },
     "execution_count": 1,
     "metadata": {},
     "output_type": "execute_result"
    }
   ],
   "source": [
    "import nltk\n",
    "nltk.download('brown', 'inaugural') "
   ]
  },
  {
   "cell_type": "code",
   "execution_count": 2,
   "id": "b8cdd83d-9209-4b37-8a20-7f3536d88a88",
   "metadata": {},
   "outputs": [],
   "source": [
    "brown = nltk.corpus.brown"
   ]
  },
  {
   "cell_type": "code",
   "execution_count": 3,
   "id": "d09e57e9-587f-406d-bd19-982ab6cf434b",
   "metadata": {},
   "outputs": [
    {
     "name": "stdout",
     "output_type": "stream",
     "text": [
      "                  can could  will would   may might \n",
      "      adventure    48   154    51   194     7    59 \n",
      " belles_lettres   249   216   246   397   221   113 \n",
      "      editorial   124    57   235   185    79    39 \n",
      "        fiction    39   168    56   291    10    44 \n",
      "     government   119    38   244   120   179    13 \n",
      "        hobbies   276    59   269    83   143    22 \n",
      "          humor    17    33    13    56     8     8 \n",
      "        learned   367   159   340   321   336   128 \n",
      "           lore   170   142   178   188   170    50 \n",
      "        mystery    45   145    25   189    15    57 \n",
      "           news    94    87   389   246    93    38 \n",
      "       religion    84    59    72    69    79    12 \n",
      "        reviews    45    40    61    48    47    26 \n",
      "        romance    79   195    49   247    11    51 \n",
      "science_fiction    16    49    17    80     4    12 \n"
     ]
    }
   ],
   "source": [
    "# cfd\n",
    "\n",
    "cfd = nltk.ConditionalFreqDist(\n",
    "    (genre, word.lower())\n",
    "    for genre in brown.categories()\n",
    "    for word in brown.words(categories=genre) # fileids도 정해줄 수 있기 때문에\n",
    ")\n",
    "\n",
    "modals = ['can', 'could', 'will', 'would', 'may', 'might']\n",
    "\n",
    "# conditions은 모든 장르, samples은 조동사\n",
    "# tabulate은 표로 나타내주는 기능\n",
    "cfd.tabulate(conditions=brown.categories(), samples=modals)"
   ]
  },
  {
   "cell_type": "code",
   "execution_count": 4,
   "id": "244202e0-4359-4d50-8700-9c9a10282078",
   "metadata": {},
   "outputs": [
    {
     "name": "stdout",
     "output_type": "stream",
     "text": [
      "                  can could   may might  will would \n",
      "      adventure    48   154     7    59    51   194 \n",
      " belles_lettres   249   216   221   113   246   397 \n",
      "      editorial   124    57    79    39   235   185 \n",
      "        fiction    39   168    10    44    56   291 \n",
      "     government   119    38   179    13   244   120 \n",
      "        hobbies   276    59   143    22   269    83 \n",
      "          humor    17    33     8     8    13    56 \n",
      "        learned   367   159   336   128   340   321 \n",
      "           lore   170   142   170    50   178   188 \n",
      "        mystery    45   145    15    57    25   189 \n",
      "           news    94    87    93    38   389   246 \n",
      "       religion    84    59    79    12    72    69 \n",
      "        reviews    45    40    47    26    61    48 \n",
      "        romance    79   195    11    51    49   247 \n",
      "science_fiction    16    49     4    12    17    80 \n"
     ]
    }
   ],
   "source": [
    "# modals의 빈도수가 포함된 cfd \n",
    "# word에서 modal_verb가 되는 것\n",
    "\n",
    "cfd1 = nltk.ConditionalFreqDist(\n",
    "    (genre, modal)\n",
    "    for genre in brown.categories()\n",
    "    for modal in ['can', 'could', 'will', 'would', 'may', 'might']\n",
    "    \n",
    "    for word in brown.words(categories=genre)\n",
    "    \n",
    "        # word 중에서 modal이 포함된 것만 추출\n",
    "        if word.lower() == modal\n",
    ")\n",
    "\n",
    "cfd1.tabulate()"
   ]
  },
  {
   "cell_type": "markdown",
   "id": "ffaf5241-75a5-4b81-a39e-f5e5a1e05987",
   "metadata": {},
   "source": [
    "### Inaugural\n",
    "- 연설문 코퍼스"
   ]
  },
  {
   "cell_type": "code",
   "execution_count": 5,
   "id": "154ce175-f9c3-4e36-b55c-620665900bd3",
   "metadata": {},
   "outputs": [],
   "source": [
    "# import는 동일\n",
    "inaugural = nltk.corpus.inaugural"
   ]
  },
  {
   "cell_type": "code",
   "execution_count": 7,
   "id": "a1c9a7ca-93dc-4d95-8e84-ca7edc8de289",
   "metadata": {},
   "outputs": [
    {
     "data": {
      "text/plain": [
       "['1789-Washington.txt',\n",
       " '1793-Washington.txt',\n",
       " '1797-Adams.txt',\n",
       " '1801-Jefferson.txt',\n",
       " '1805-Jefferson.txt',\n",
       " '1809-Madison.txt',\n",
       " '1813-Madison.txt',\n",
       " '1817-Monroe.txt',\n",
       " '1821-Monroe.txt',\n",
       " '1825-Adams.txt',\n",
       " '1829-Jackson.txt',\n",
       " '1833-Jackson.txt',\n",
       " '1837-VanBuren.txt',\n",
       " '1841-Harrison.txt',\n",
       " '1845-Polk.txt',\n",
       " '1849-Taylor.txt',\n",
       " '1853-Pierce.txt',\n",
       " '1857-Buchanan.txt',\n",
       " '1861-Lincoln.txt',\n",
       " '1865-Lincoln.txt',\n",
       " '1869-Grant.txt',\n",
       " '1873-Grant.txt',\n",
       " '1877-Hayes.txt',\n",
       " '1881-Garfield.txt',\n",
       " '1885-Cleveland.txt',\n",
       " '1889-Harrison.txt',\n",
       " '1893-Cleveland.txt',\n",
       " '1897-McKinley.txt',\n",
       " '1901-McKinley.txt',\n",
       " '1905-Roosevelt.txt',\n",
       " '1909-Taft.txt',\n",
       " '1913-Wilson.txt',\n",
       " '1917-Wilson.txt',\n",
       " '1921-Harding.txt',\n",
       " '1925-Coolidge.txt',\n",
       " '1929-Hoover.txt',\n",
       " '1933-Roosevelt.txt',\n",
       " '1937-Roosevelt.txt',\n",
       " '1941-Roosevelt.txt',\n",
       " '1945-Roosevelt.txt',\n",
       " '1949-Truman.txt',\n",
       " '1953-Eisenhower.txt',\n",
       " '1957-Eisenhower.txt',\n",
       " '1961-Kennedy.txt',\n",
       " '1965-Johnson.txt',\n",
       " '1969-Nixon.txt',\n",
       " '1973-Nixon.txt',\n",
       " '1977-Carter.txt',\n",
       " '1981-Reagan.txt',\n",
       " '1985-Reagan.txt',\n",
       " '1989-Bush.txt',\n",
       " '1993-Clinton.txt',\n",
       " '1997-Clinton.txt',\n",
       " '2001-Bush.txt',\n",
       " '2005-Bush.txt',\n",
       " '2009-Obama.txt',\n",
       " '2013-Obama.txt',\n",
       " '2017-Trump.txt',\n",
       " '2021-Biden.txt']"
      ]
     },
     "execution_count": 7,
     "metadata": {},
     "output_type": "execute_result"
    }
   ],
   "source": [
    "inaugural.fileids() # 연도-이름.txt"
   ]
  },
  {
   "cell_type": "code",
   "execution_count": 13,
   "id": "60997bf9-ccf2-41ba-b499-60586cee4795",
   "metadata": {},
   "outputs": [
    {
     "name": "stdout",
     "output_type": "stream",
     "text": [
      "        1789-Washington 1793-Washington      1797-Adams  1801-Jefferson  1805-Jefferson    1809-Madison    1813-Madison     1817-Monroe     1821-Monroe      1825-Adams    1829-Jackson    1833-Jackson   1837-VanBuren   1841-Harrison       1845-Polk     1849-Taylor     1853-Pierce   1857-Buchanan    1861-Lincoln    1865-Lincoln      1869-Grant      1873-Grant      1877-Hayes   1881-Garfield  1885-Cleveland   1889-Harrison  1893-Cleveland   1897-McKinley   1901-McKinley  1905-Roosevelt       1909-Taft     1917-Wilson    1921-Harding   1925-Coolidge     1929-Hoover  1933-Roosevelt  1937-Roosevelt  1941-Roosevelt  1945-Roosevelt     1949-Truman 1953-Eisenhower 1957-Eisenhower    1961-Kennedy    1965-Johnson      1969-Nixon      1973-Nixon     1977-Carter     1981-Reagan     1985-Reagan       1989-Bush    1993-Clinton    1997-Clinton       2001-Bush       2005-Bush      2009-Obama      2013-Obama      2017-Trump      2021-Biden \n",
      "america               2               1               8               0               1               0               1               1               2               0               0               2               2               7               0               2               2               3               2               1               0               0               1               2               4               6               9               9               7               0              12               4              24              11              12               2               5              12               2               4               6               7               7              10              10              23               5              16              21              11              33              31              20              30              15              19              35              40 \n",
      "citizen               5               1               6               7              10               1               4              14              15               3               2               3               7              38              11               2               4               7               7               0               5               3               9               9              13              12              10              10               2               1               6               3               6               5              12               1               2               1               1               1               7               0               5               4               1               1               0               3               6               3               2              10              11               7               2               8               4               1 \n"
     ]
    }
   ],
   "source": [
    "# ['america', 'citizen'] 빈도수를 cfd로 만드시오.\n",
    "# 각 단어가 연설문에서 얼마나 쓰였는지를 알기 위함.\n",
    "# 위에랑 똑같은데, modal => 'america', 'citizen' 단어가 바뀐 차이\n",
    "# == 보다는 다른 기호로 가는 게 좋음.\n",
    "\n",
    "cfd2 = nltk.ConditionalFreqDist(\n",
    "    (target_word, fileid[:-4])\n",
    "    for fileid in inaugural.fileids()\n",
    "    for target_word in ['america', 'citizen']\n",
    "    \n",
    "    for word in inaugural.words(fileid) \n",
    "        # 3가지 방법이 有\n",
    "        # if word.lower() == target_word\n",
    "        # if target_word in word.lower()\n",
    "        if word.lower().startswith(target_word)\n",
    ")\n",
    "\n",
    "# 표보다는 plot이 예쁨\n",
    "# 아래 참고\n",
    "cfd2.tabulate()"
   ]
  },
  {
   "cell_type": "code",
   "execution_count": 14,
   "id": "ac5c207a-d208-4bcf-a48f-2821a362ac5e",
   "metadata": {},
   "outputs": [
    {
     "data": {
      "image/png": "[encoded data removed]",
      "text/plain": [
       "<Figure size 864x360 with 1 Axes>"
      ]
     },
     "metadata": {
      "needs_background": "light"
     },
     "output_type": "display_data"
    },
    {
     "data": {
      "text/plain": [
       "<AxesSubplot:xlabel='Samples', ylabel='Counts'>"
      ]
     },
     "execution_count": 14,
     "metadata": {},
     "output_type": "execute_result"
    }
   ],
   "source": [
    "# !pip install maplotlib\n",
    "\n",
    "import matplotlib.pyplot as plt\n",
    "\n",
    "# 이미지가 너무 작아서 추가한 코드\n",
    "plt.figure(figsize=(12, 5))\n",
    "\n",
    "cfd2.plot()"
   ]
  },
  {
   "cell_type": "code",
   "execution_count": 16,
   "id": "2bb6d720-5469-4f85-9241-a0215bad7341",
   "metadata": {},
   "outputs": [
    {
     "data": {
      "image/png": "[encoded data removed]",
      "text/plain": [
       "<Figure size 864x360 with 1 Axes>"
      ]
     },
     "metadata": {
      "needs_background": "light"
     },
     "output_type": "display_data"
    },
    {
     "data": {
      "text/plain": [
       "<AxesSubplot:xlabel='Samples', ylabel='Counts'>"
      ]
     },
     "execution_count": 16,
     "metadata": {},
     "output_type": "execute_result"
    }
   ],
   "source": [
    "# 위에서 했던 modals의 빈도수가 포함된 cfd도 표로 보기\n",
    "plt.figure(figsize=(12, 5))\n",
    "cfd1.plot()"
   ]
  },
  {
   "cell_type": "markdown",
   "id": "6568e7eb-2544-42b3-93c1-ce3ccd00111f",
   "metadata": {},
   "source": [
    "## `ch07.ex02`"
   ]
  },
  {
   "cell_type": "markdown",
   "id": "0c59c5f6-5053-41aa-b4bb-7e0fab19c22b",
   "metadata": {},
   "source": [
    "## Tuple & List\n",
    "- 둘은 되게 비슷함.\n",
    "- `유의` 불변 객체(튜플) vs. 가변 객체(리스트)\n",
    "- 주로 리스트를 쓰되, 불변이 필요한 경우에만 튜플을 사용"
   ]
  },
  {
   "cell_type": "code",
   "execution_count": 17,
   "id": "5c135c0e-cfc0-434c-86e4-feeda1b6b1da",
   "metadata": {},
   "outputs": [
    {
     "data": {
      "text/plain": [
       "((), [])"
      ]
     },
     "execution_count": 17,
     "metadata": {},
     "output_type": "execute_result"
    }
   ],
   "source": [
    "# 생성하는 방법\n",
    "emptyT = ()\n",
    "emptyT = tuple()\n",
    "\n",
    "emptyL = []\n",
    "emptyL = list()\n",
    "\n",
    "emptyT, emptyL"
   ]
  },
  {
   "cell_type": "code",
   "execution_count": 18,
   "id": "656d048f-fa3c-45b0-a6cc-03c26fc86cf9",
   "metadata": {},
   "outputs": [
    {
     "name": "stdout",
     "output_type": "stream",
     "text": [
      "('a', 'b')\n",
      "['a', 'b']\n"
     ]
    }
   ],
   "source": [
    "# <요소가 여러 개일 때>\n",
    "\n",
    "## tuple\n",
    "alphabetT = ('a', 'b')\n",
    "\n",
    "# 이렇게 괄호 없이도 튜플 만들어짐.\n",
    "# 따라서 얘를 더 많이 씀\n",
    "alphabetT = 'a', 'b'\n",
    "print(alphabetT)\n",
    "\n",
    "\n",
    "## list\n",
    "alphabetL = ['a', 'b']\n",
    "print(alphabetL)"
   ]
  },
  {
   "cell_type": "code",
   "execution_count": 19,
   "id": "ffee4fd1-579e-4d5d-a56d-3d108e27c460",
   "metadata": {},
   "outputs": [
    {
     "data": {
      "text/plain": [
       "str"
      ]
     },
     "execution_count": 19,
     "metadata": {},
     "output_type": "execute_result"
    }
   ],
   "source": [
    "# <요소 1개 일 때> `주의`\n",
    "\n",
    "# 이렇게 하면, 튜플이 아니라 스트링으로 인식\n",
    "alphaT = ('a')\n",
    "type(alphaT)"
   ]
  },
  {
   "cell_type": "code",
   "execution_count": 20,
   "id": "4a277d95-d914-4080-b2e1-aa09fe6abb3d",
   "metadata": {},
   "outputs": [
    {
     "data": {
      "text/plain": [
       "tuple"
      ]
     },
     "execution_count": 20,
     "metadata": {},
     "output_type": "execute_result"
    }
   ],
   "source": [
    "# 요소가 하나일 땐, 괄호를 쳐도 튜플로 인식하지 않으니,\n",
    "# 아래와 같은 방식으로 사용해야 함.\n",
    "alphaT = ('b', )\n",
    "type(alphaT)"
   ]
  },
  {
   "cell_type": "markdown",
   "id": "ec436a61-d1cb-4812-8e7e-3aa57b6e1e6d",
   "metadata": {},
   "source": [
    "- `packing`: 한 변수에 여러 데이터를 할당하는 것.\n",
    "    - list, tuple 자체를 말함. 예) a = [1, 2, 3, 4]\n",
    "- `unpacking`: 한 변수에 여러 데이터가 들어 있을 때 여러 변수에 나누어주는 것"
   ]
  },
  {
   "cell_type": "code",
   "execution_count": 21,
   "id": "eaf2e62a-9145-499b-bcfa-140ba4ecd300",
   "metadata": {},
   "outputs": [
    {
     "data": {
      "text/plain": [
       "('k', 'i', 'm')"
      ]
     },
     "execution_count": 21,
     "metadata": {},
     "output_type": "execute_result"
    }
   ],
   "source": [
    "# 할당할 때 여러개 가능\n",
    "# unpacking\n",
    "\n",
    "a, b, c = 'kim'\n",
    "\n",
    "# 이 경우 a = kim, b = kim, c = kim 이 되는 것은 아님.\n",
    "# a = 'k', b = 'i', c = 'm'\n",
    "a, b, c"
   ]
  },
  {
   "cell_type": "code",
   "execution_count": 22,
   "id": "4786c577-4d06-4efe-8e4a-7c1527a87609",
   "metadata": {},
   "outputs": [
    {
     "data": {
      "text/plain": [
       "('sky', 'abcd')"
      ]
     },
     "execution_count": 22,
     "metadata": {},
     "output_type": "execute_result"
    }
   ],
   "source": [
    "# 튜플 => 값을 교환해야 할 때, 편함\n",
    "\n",
    "# pwd와 userId를 바꾸고 싶을 때,\n",
    "pwd = 'abcd'\n",
    "userId = 'sky'\n",
    "\n",
    "'''\n",
    "# 이 방법으로 안 해도 됨\n",
    "temp1 = userId\n",
    "temp2 = pwd\n",
    "\n",
    "pwd = temp1\n",
    "userId = temp2\n",
    "'''\n",
    "\n",
    "# 이 방법 가능!\n",
    "pwd, userId = userId, pwd \n",
    "pwd, userId"
   ]
  },
  {
   "cell_type": "code",
   "execution_count": 23,
   "id": "43e12254-c1bd-4290-a6c6-c16dab6c8212",
   "metadata": {},
   "outputs": [
    {
     "data": {
      "text/plain": [
       "(1, 2, 1, 2, 1, 2)"
      ]
     },
     "execution_count": 23,
     "metadata": {},
     "output_type": "execute_result"
    }
   ],
   "source": [
    "# 튜플 연산할 때, \n",
    "# 리스트와 비슷하게 다 가능함.\n",
    "\n",
    "('a', ) + (1, 2)\n",
    "(1, 2) * 3"
   ]
  },
  {
   "cell_type": "code",
   "execution_count": 24,
   "id": "df250de1-a002-4887-8177-f48ca5f55010",
   "metadata": {},
   "outputs": [
    {
     "data": {
      "text/plain": [
       "('a', 1, 2)"
      ]
     },
     "execution_count": 24,
     "metadata": {},
     "output_type": "execute_result"
    }
   ],
   "source": [
    "# 튜플은 불변객체라면서\n",
    "# 이게 어떻게 더해지나? => id 값을 확인해 보면 됨!\n",
    "\n",
    "x = ('a', )\n",
    "y = (1, 2)\n",
    "x + y"
   ]
  },
  {
   "cell_type": "code",
   "execution_count": 25,
   "id": "f834cf64-0bbb-4e63-95b1-9da55aa5bf93",
   "metadata": {},
   "outputs": [
    {
     "data": {
      "text/plain": [
       "(140218649060544, 140218079440832)"
      ]
     },
     "execution_count": 25,
     "metadata": {},
     "output_type": "execute_result"
    }
   ],
   "source": [
    "# id 값이 다름!\n",
    "# 더했다고 해서 x, y가 바뀌는 것이 아니라,\n",
    "# 새로운 변수에 할당이 되는 것!\n",
    "id(x), id(x + y)"
   ]
  },
  {
   "cell_type": "code",
   "execution_count": 26,
   "id": "e1af20f0-0c78-4784-8127-991adc701974",
   "metadata": {},
   "outputs": [
    {
     "data": {
      "text/plain": [
       "True"
      ]
     },
     "execution_count": 26,
     "metadata": {},
     "output_type": "execute_result"
    }
   ],
   "source": [
    "# 비교도 가능함\n",
    "# 첫 인자부터 비교\n",
    "\n",
    "x = 1, 2\n",
    "y = 1, 6\n",
    "\n",
    "# 결과: True\n",
    "x < y"
   ]
  },
  {
   "cell_type": "code",
   "execution_count": null,
   "id": "8b7b344e-503d-4f5e-95a3-17221ebc6d31",
   "metadata": {},
   "outputs": [],
   "source": []
  },
  {
   "cell_type": "code",
   "execution_count": 27,
   "id": "f538eb22-19ab-4148-b909-7310654f7f7d",
   "metadata": {},
   "outputs": [
    {
     "name": "stdout",
     "output_type": "stream",
     "text": [
      "(1, 2)\n",
      "(1, 2)\n"
     ]
    }
   ],
   "source": [
    "# 순회도 가능함!\n",
    "\n",
    "for i in x:\n",
    "    print(x)"
   ]
  },
  {
   "cell_type": "code",
   "execution_count": 28,
   "id": "629257fa-d2b9-406d-a6d7-565033db0723",
   "metadata": {},
   "outputs": [
    {
     "data": {
      "text/plain": [
       "[1, 2]"
      ]
     },
     "execution_count": 28,
     "metadata": {},
     "output_type": "execute_result"
    }
   ],
   "source": [
    "# 리스트 컴프리헨션에서 사용도 가능,\n",
    "# 다만 얘네가 리스트로 바뀌는 것\n",
    "[i for i in x] "
   ]
  },
  {
   "cell_type": "code",
   "execution_count": 29,
   "id": "8d0a4dce-4db2-4350-98fb-3be6ca700197",
   "metadata": {},
   "outputs": [
    {
     "data": {
      "text/plain": [
       "(1, 2)"
      ]
     },
     "execution_count": 29,
     "metadata": {},
     "output_type": "execute_result"
    }
   ],
   "source": [
    "# tuple comprehension이 있나..? => 없다!\n",
    "# tuple로 변경은 가능함.\n",
    "\n",
    "# 리스트컴프리헨션을 tuple에 넣는 방법\n",
    "tuple([i for i in x])\n",
    "\n",
    "# *를 하고, 리스트컴프리헨션을 가져오고, 쉼표(,)를 넣는 방법\n",
    "# 근데 이 방법은 위 방법에 비해 느리다.\n",
    "*[i for i in x], \n",
    "\n",
    "# 그냥 원래 리스트컴프리헨션 사용하는 것이 가장 좋음. \n",
    "# 정말 필요한 경우 아니면, 튜플로 굳이 바꿀 필요가 없다."
   ]
  },
  {
   "cell_type": "code",
   "execution_count": 32,
   "id": "ab38b1b4-dc49-4a89-8628-58a4cef0632a",
   "metadata": {},
   "outputs": [
    {
     "name": "stdout",
     "output_type": "stream",
     "text": [
      "('d', 'o', 'g')\n",
      "('dog',)\n",
      "['d', 'o', 'g']\n",
      "['dog']\n"
     ]
    }
   ],
   "source": [
    "# 형 변환\n",
    "dog = 'dog'\n",
    "\n",
    "# 방법1 - 각 인자를 하나하나 넣어서 튜플로 만듦\n",
    "print(tuple(dog))\n",
    "\n",
    "# 방법2 - 전체를 튜플에 넣음\n",
    "print((dog,))\n",
    "\n",
    "# 형 변환할 때, 두 방법의 차이를 주의해야 함.\n",
    "# 리스트도 동일\n",
    "print(list(dog))\n",
    "print([dog])"
   ]
  },
  {
   "cell_type": "code",
   "execution_count": 33,
   "id": "f5c028aa-ea85-42e3-a5b2-669ef2572846",
   "metadata": {},
   "outputs": [
    {
     "data": {
      "text/plain": [
       "'d'"
      ]
     },
     "execution_count": 33,
     "metadata": {},
     "output_type": "execute_result"
    }
   ],
   "source": [
    "# slicing도 동일하게 가능\n",
    "\n",
    "dogT = tuple(dog)\n",
    "dogT[0]"
   ]
  },
  {
   "cell_type": "markdown",
   "id": "8904fe7b-5bea-45ee-b2dc-433de2fcf85e",
   "metadata": {},
   "source": [
    "#### **정리**\n",
    "- tuple 장점\n",
    "    - 변하지 않은 데이터 시퀀스를 만들 수 있다. \n",
    "    - 다른 사람이 실수로 변경할 수도 있는데, 타인의 접근을 막을 수 있다.\n",
    "        - blue = 1, white = 2, ... <= 내가 만든 코드를 못 바꾸게 할 때\n",
    "    - 메모리 사용이 적다.\n",
    "    - 중복 데이터 사용 가능 (set과 비교하여!)\n",
    "- list 장점\n",
    "    - 튜플 장점이 필요없을 때, 전부 리스트 사용\n",
    "    - 데이터를 순차적으로 파악할 때\n",
    "    - 중복 데이터를 사용 가능 (set과 비교하여!)"
   ]
  },
  {
   "cell_type": "markdown",
   "id": "8bdf5cb7-292c-46d5-bb7f-f75aee7a9ea8",
   "metadata": {},
   "source": [
    "### 리스트의 유용한 함수들\n",
    "- 주로 변경, 삭제, 추가와 관련된 함수!\n",
    "- 리스트 컴프리헨션 업그레이드 "
   ]
  },
  {
   "cell_type": "code",
   "execution_count": 38,
   "id": "45cc07f5-cb71-48f9-9012-80f62f652522",
   "metadata": {},
   "outputs": [
    {
     "data": {
      "text/plain": [
       "[0, 1, 2, 3, 4]"
      ]
     },
     "execution_count": 38,
     "metadata": {},
     "output_type": "execute_result"
    }
   ],
   "source": [
    "# 숫자가 막 넣어짐!@!\n",
    "# num = [0, 1, 2, 3, 4]\n",
    "\n",
    "num = list(range(5))\n",
    "num"
   ]
  },
  {
   "cell_type": "code",
   "execution_count": 39,
   "id": "cdb34a79-c583-4e92-8335-cd6e11c3b95f",
   "metadata": {},
   "outputs": [
    {
     "data": {
      "text/plain": [
       "[0, 1, 2, 3, 4, 6]"
      ]
     },
     "execution_count": 39,
     "metadata": {},
     "output_type": "execute_result"
    }
   ],
   "source": [
    "# 추가 | append: 맨 뒤에 요소 추가. 여러 개 한 번에 추가는 안 됨.\n",
    "# num = [0, 1, 2, 3, 4, 6]\n",
    "\n",
    "num.append(6)\n",
    "num"
   ]
  },
  {
   "cell_type": "code",
   "execution_count": 40,
   "id": "d15a8962-2243-4b59-9672-73c32e2b0f10",
   "metadata": {},
   "outputs": [
    {
     "data": {
      "text/plain": [
       "[8, 0, 1, 2, 3, 4, 6]"
      ]
     },
     "execution_count": 40,
     "metadata": {},
     "output_type": "execute_result"
    }
   ],
   "source": [
    "# 추가2 | insert(index, item): index 위치에 item을 추가하겠다.\n",
    "# num = [8, 0, 1, 2, 3, 4, 6]\n",
    "\n",
    "num.insert(0, 8)\n",
    "num"
   ]
  },
  {
   "cell_type": "code",
   "execution_count": 41,
   "id": "8a70c7d9-6407-4c14-b1ca-9f78d47378ab",
   "metadata": {},
   "outputs": [
    {
     "data": {
      "text/plain": [
       "[8, 0, 1, 2, 3, 4, 6, 7, 7]"
      ]
     },
     "execution_count": 41,
     "metadata": {},
     "output_type": "execute_result"
    }
   ],
   "source": [
    "# 추가3 | extend(list): 여러 개를 추가하고 싶다\n",
    "# 이때, 리스트로 가져가야 함. 리스트를 리스트로 확장! \n",
    "# num = [8, 0, 1, 2, 3, 4, 6, 7, 7]\n",
    "\n",
    "x = [7, 7]\n",
    "num.extend(x)\n",
    "num"
   ]
  },
  {
   "cell_type": "code",
   "execution_count": 42,
   "id": "d59c2894-ebb6-4d29-88b4-56df9f78e480",
   "metadata": {},
   "outputs": [
    {
     "data": {
      "text/plain": [
       "[8, 0, 1, 2, 3, 4, 6, 7, 7, [7, 7]]"
      ]
     },
     "execution_count": 42,
     "metadata": {},
     "output_type": "execute_result"
    }
   ],
   "source": [
    "# append(list)로 하면, list가 통째로 들어감!\n",
    "# num = [8, 0, 1, 2, 3, 4, 6, 7, 7, [7, 7]]\n",
    "\n",
    "num.append(x)\n",
    "num"
   ]
  },
  {
   "cell_type": "code",
   "execution_count": 43,
   "id": "357c3caf-5199-4ced-8256-9b30dd138941",
   "metadata": {},
   "outputs": [
    {
     "data": {
      "text/plain": [
       "[8, 0, 1, 2, 3, 4, 6, 7, 7, [7, 7], 7, 7]"
      ]
     },
     "execution_count": 43,
     "metadata": {},
     "output_type": "execute_result"
    }
   ],
   "source": [
    "# 즉, extend는 +와 같은 의미로 볼 수 있음!\n",
    "# num = [8, 0, 1, 2, 3, 4, 6, 7, 7, [7, 7], 7, 7]\n",
    "\n",
    "num += x \n",
    "num"
   ]
  },
  {
   "cell_type": "code",
   "execution_count": 44,
   "id": "49f3589b-7b1b-4632-aaf3-49382e83848e",
   "metadata": {},
   "outputs": [
    {
     "data": {
      "text/plain": [
       "[9, 0, 1, 2, 3, 4, 6, 7, 7, [7, 7], 7, 7]"
      ]
     },
     "execution_count": 44,
     "metadata": {},
     "output_type": "execute_result"
    }
   ],
   "source": [
    "# offset을 활용할 수도 있음.\n",
    "# num = [9, 0, 1, 2, 3, 4, 6, 7, 7, [7, 7], 7, 7]\n",
    "\n",
    "num[0] = 9\n",
    "num"
   ]
  },
  {
   "cell_type": "code",
   "execution_count": 45,
   "id": "0d5b0198-ee53-4649-afc7-a440125a1a00",
   "metadata": {},
   "outputs": [
    {
     "data": {
      "text/plain": [
       "[2, 2, 2, 2, 3, 4, 6, 7, 7, [7, 7], 7, 7]"
      ]
     },
     "execution_count": 45,
     "metadata": {},
     "output_type": "execute_result"
    }
   ],
   "source": [
    "# slice도 가능\n",
    "# num = [2, 2, 2, 2, 3, 4, 6, 7, 7, [7, 7], 7, 7]\n",
    "\n",
    "# 3번째까지 2, 2, 2로 바꾸겠다!\n",
    "num[:3] = 2, 2, 2\n",
    "num"
   ]
  },
  {
   "cell_type": "code",
   "execution_count": 46,
   "id": "51ec82e7-bf58-4c64-8972-d962debcb178",
   "metadata": {},
   "outputs": [
    {
     "data": {
      "text/plain": [
       "['c', 'a', 't', 2, 3, 4, 6, 7, 7, [7, 7], 7, 7]"
      ]
     },
     "execution_count": 46,
     "metadata": {},
     "output_type": "execute_result"
    }
   ],
   "source": [
    "# str 넣었을 때 주의해야 함\n",
    "# 하나하나씩 언패킹되어 들어감!\n",
    "# num = ['c', 'a', 't', 2, 3, 4, 6, 7, 7, [7, 7], 7, 7]\n",
    "\n",
    "num[:3] = 'cat' \n",
    "num"
   ]
  },
  {
   "cell_type": "code",
   "execution_count": 47,
   "id": "0c0d3e13-84b6-4c8b-ac55-8456d4ed495b",
   "metadata": {},
   "outputs": [
    {
     "data": {
      "text/plain": [
       "[2, 3, 4, 6, 7, 7, [7, 7], 7, 7]"
      ]
     },
     "execution_count": 47,
     "metadata": {},
     "output_type": "execute_result"
    }
   ],
   "source": [
    "# 삭제 | del list[삭제하고 싶은 idx]\n",
    "# num = [2, 3, 4, 6, 7, 7, [7, 7], 7, 7]\n",
    "\n",
    "del num[:3]\n",
    "num"
   ]
  },
  {
   "cell_type": "code",
   "execution_count": 48,
   "id": "ddae001c-5b3d-4cd9-acb9-ec8c1cf67be5",
   "metadata": {},
   "outputs": [
    {
     "data": {
      "text/plain": [
       "[3, 4, 6, 7, 7, [7, 7], 7, 7]"
      ]
     },
     "execution_count": 48,
     "metadata": {},
     "output_type": "execute_result"
    }
   ],
   "source": [
    "# 삭제2 | remove(value)\n",
    "# num = [3, 4, 6, 7, 7, [7, 7], 7, 7]\n",
    "\n",
    "num.remove(2)\n",
    "num"
   ]
  },
  {
   "cell_type": "code",
   "execution_count": 49,
   "id": "d7c1262a-eac3-40b8-bdb2-9757cc8905b7",
   "metadata": {},
   "outputs": [
    {
     "data": {
      "text/plain": [
       "[3, 4, 6, 7, 7, [7, 7], 7]"
      ]
     },
     "execution_count": 49,
     "metadata": {},
     "output_type": "execute_result"
    }
   ],
   "source": [
    "# 삭제3 | pop(index): index를 설정하지 않으면, 기본값은 -1\n",
    "# num = [3, 4, 6, 7, 7, [7, 7], 7]\n",
    "\n",
    "num.pop()\n",
    "num"
   ]
  },
  {
   "cell_type": "code",
   "execution_count": 50,
   "id": "5aa74db3-ea9b-4a39-a7ad-afa6f54e3be9",
   "metadata": {},
   "outputs": [
    {
     "data": {
      "text/plain": [
       "[4, 6, 7, 7, [7, 7], 7]"
      ]
     },
     "execution_count": 50,
     "metadata": {},
     "output_type": "execute_result"
    }
   ],
   "source": [
    "# 맨 앞에 있는 요소 삭제\n",
    "# num = [4, 6, 7, 7, [7, 7], 7]\n",
    "\n",
    "num.pop(0)\n",
    "num"
   ]
  },
  {
   "cell_type": "code",
   "execution_count": 51,
   "id": "364b789b-b4a6-4518-b6ba-12616b8dd7f8",
   "metadata": {},
   "outputs": [
    {
     "data": {
      "text/plain": [
       "[]"
      ]
     },
     "execution_count": 51,
     "metadata": {},
     "output_type": "execute_result"
    }
   ],
   "source": [
    "# 다 지우는 것: clear\n",
    "\n",
    "num.clear()\n",
    "num"
   ]
  },
  {
   "cell_type": "code",
   "execution_count": 52,
   "id": "73d09919-6698-4d0b-8941-99dea0eac779",
   "metadata": {},
   "outputs": [
    {
     "data": {
      "text/plain": [
       "4"
      ]
     },
     "execution_count": 52,
     "metadata": {},
     "output_type": "execute_result"
    }
   ],
   "source": [
    "# 인덱스 찾기 - index(value), find(value)\n",
    "\n",
    "# num list 다시 초기화\n",
    "# num = [0, 1, 2, 3, 4]\n",
    "num = list(range(5))\n",
    "num.index(4)"
   ]
  },
  {
   "cell_type": "code",
   "execution_count": 53,
   "id": "aa3d1e59-b70c-4360-a8a2-5d20c9f3bdd4",
   "metadata": {},
   "outputs": [
    {
     "data": {
      "text/plain": [
       "True"
      ]
     },
     "execution_count": 53,
     "metadata": {},
     "output_type": "execute_result"
    }
   ],
   "source": [
    "# 요소가 있는지 파악하는 것\n",
    "# True\n",
    "\n",
    "0 in num"
   ]
  },
  {
   "cell_type": "code",
   "execution_count": 54,
   "id": "e4b99d38-1527-4d8d-9602-937271a52d7f",
   "metadata": {},
   "outputs": [
    {
     "data": {
      "text/plain": [
       "[4, 3, 2, 1, 0]"
      ]
     },
     "execution_count": 54,
     "metadata": {},
     "output_type": "execute_result"
    }
   ],
   "source": [
    "# 정렬 | sort(), sorted()\n",
    "\n",
    "# 그냥 변한 값만 복사해서 출력하는 것 뿐\n",
    "sorted(num, reverse=True) "
   ]
  },
  {
   "cell_type": "code",
   "execution_count": 55,
   "id": "2250b02d-bc74-454e-81f4-f6d1b72d0523",
   "metadata": {},
   "outputs": [
    {
     "data": {
      "text/plain": [
       "[0, 1, 2, 3, 4]"
      ]
     },
     "execution_count": 55,
     "metadata": {},
     "output_type": "execute_result"
    }
   ],
   "source": [
    "num # 안 변했음."
   ]
  },
  {
   "cell_type": "code",
   "execution_count": 56,
   "id": "8c92360a-7e78-476f-9874-974841fddfd3",
   "metadata": {},
   "outputs": [],
   "source": [
    "# 정말 변화시킴! \n",
    "# 접근방법: list.sort()\n",
    "# 이때 값을 할당하지 않아도 된다.\n",
    "\n",
    "num.sort(reverse=True) "
   ]
  },
  {
   "cell_type": "code",
   "execution_count": 57,
   "id": "6f9e7102-680c-47be-8045-a31366093b31",
   "metadata": {},
   "outputs": [
    {
     "data": {
      "text/plain": [
       "[4, 3, 2, 1, 0]"
      ]
     },
     "execution_count": 57,
     "metadata": {},
     "output_type": "execute_result"
    }
   ],
   "source": [
    "num # 변했음."
   ]
  },
  {
   "cell_type": "code",
   "execution_count": null,
   "id": "a39b3008-2ca8-43a5-b9de-e85498ad12ad",
   "metadata": {},
   "outputs": [],
   "source": [
    "# 정렬2 | reverse(), reversed()\n",
    "\n",
    "num.reverse() # 값 반환 O\n",
    "reversed(num) # 값 반환 X"
   ]
  },
  {
   "cell_type": "code",
   "execution_count": 60,
   "id": "19b79cc1-2e5f-457e-bdd8-c9f128a2197b",
   "metadata": {},
   "outputs": [
    {
     "data": {
      "text/plain": [
       "[1, 2, 3, 4]"
      ]
     },
     "execution_count": 60,
     "metadata": {},
     "output_type": "execute_result"
    }
   ],
   "source": [
    "# 할당\n",
    "# a = [1, 2, 3, 4]\n",
    "\n",
    "a = list(range(1, 5))\n",
    "a"
   ]
  },
  {
   "cell_type": "code",
   "execution_count": 61,
   "id": "6626fa9b-bd71-4400-8700-3762e12587f8",
   "metadata": {},
   "outputs": [
    {
     "data": {
      "text/plain": [
       "([6, 2, 3, 4], [6, 2, 3, 4])"
      ]
     },
     "execution_count": 61,
     "metadata": {},
     "output_type": "execute_result"
    }
   ],
   "source": [
    "# 이퀄사인: 같은 메모리 주소를 참조하고 있는 것\n",
    "# a가 바뀌면 b도 같이 변하는 것.\n",
    "\n",
    "b = a \n",
    "b[0] = 6\n",
    "a, b"
   ]
  },
  {
   "cell_type": "code",
   "execution_count": 62,
   "id": "aeef9e5c-6d12-428b-978a-99f768b3bacd",
   "metadata": {},
   "outputs": [
    {
     "data": {
      "text/plain": [
       "(140218649978368, 140218649978368)"
      ]
     },
     "execution_count": 62,
     "metadata": {},
     "output_type": "execute_result"
    }
   ],
   "source": [
    "# 메모리주소는 id로 찾을 수 있음!\n",
    "id(a), id(b)"
   ]
  },
  {
   "cell_type": "code",
   "execution_count": 63,
   "id": "c0c4ce09-b3e0-4e80-a13e-61558ae50884",
   "metadata": {},
   "outputs": [
    {
     "data": {
      "text/plain": [
       "(140218649978368, 140218369122496, 140218649980032, 140218369238784)"
      ]
     },
     "execution_count": 63,
     "metadata": {},
     "output_type": "execute_result"
    }
   ],
   "source": [
    "# shallow copy: 참조하지 않고 객체에 할당하는 방법. (얕은 복사)\n",
    "c = a.copy()\n",
    "d = list(a)\n",
    "e = a[:]\n",
    "\n",
    "# 다 다른 리스트가 된다!\n",
    "id(a), id(c), id(d), id(e)"
   ]
  },
  {
   "cell_type": "code",
   "execution_count": 64,
   "id": "b2d0daf1-9b9a-46df-84d3-bf3e3f956e8a",
   "metadata": {},
   "outputs": [
    {
     "data": {
      "text/plain": [
       "[6, 2, 3, 4, [1, 2, 3]]"
      ]
     },
     "execution_count": 64,
     "metadata": {},
     "output_type": "execute_result"
    }
   ],
   "source": [
    "# deepcopy: 하위에 충접된 리스트 요소가 안 바뀌도록하는 방법. (깊은 복사)\n",
    "a.append([1, 2, 3])\n",
    "a"
   ]
  },
  {
   "cell_type": "code",
   "execution_count": 65,
   "id": "5b7942db-7ffa-4343-93ef-2804015868a0",
   "metadata": {},
   "outputs": [
    {
     "name": "stdout",
     "output_type": "stream",
     "text": [
      "140218649978368 140218649979456\n",
      "[6, 2, 3, 4, [9, 2, 3]] [6, 2, 3, 4, [9, 2, 3]]\n"
     ]
    }
   ],
   "source": [
    "f = a.copy()\n",
    "\n",
    "# 리스트 안에 있는 어떤 요소가 가변 객체일 때 \n",
    "# (a의 경우 지금 가변 객체인 리스트가 들어가 있음)\n",
    "# 주소는 다르지만,,\n",
    "print(id(a), id(f))\n",
    "\n",
    "# 쉘로우 카피를 했는데도, 같이 변함.\n",
    "f[-1][0] = 9 \n",
    "print(a, f)"
   ]
  },
  {
   "cell_type": "code",
   "execution_count": 66,
   "id": "fe657bb2-2e8b-4d34-9fc3-52a4b4de1ad3",
   "metadata": {},
   "outputs": [
    {
     "data": {
      "text/plain": [
       "[6, 2, 3, 4, [9, 2, 3]]"
      ]
     },
     "execution_count": 66,
     "metadata": {},
     "output_type": "execute_result"
    }
   ],
   "source": [
    "# 위와 같은 경우까지 막고 싶을 때, 하는 것이\n",
    "# deepcopy를 사용하는 것!\n",
    "# 이 경우, 차원이 다른 것까지 복사가 되지 않음.\n",
    "\n",
    "import copy\n",
    "g = copy.deepcopy(a)\n",
    "g"
   ]
  },
  {
   "cell_type": "code",
   "execution_count": 67,
   "id": "05dfe731-f1c3-4a53-8e62-f391d32ac694",
   "metadata": {},
   "outputs": [
    {
     "data": {
      "text/plain": [
       "([6, 2, 3, 4, [9, 2, 3]], [6, 2, 3, 4, [10, 2, 3]])"
      ]
     },
     "execution_count": 67,
     "metadata": {},
     "output_type": "execute_result"
    }
   ],
   "source": [
    "# a는 바뀌지 않는 것을 확인할 수 있음.\n",
    "g[-1][0] = 10\n",
    "a, g"
   ]
  },
  {
   "cell_type": "code",
   "execution_count": 68,
   "id": "a48cefb4-3b08-45b8-bfea-4fea9748e64e",
   "metadata": {},
   "outputs": [
    {
     "name": "stdout",
     "output_type": "stream",
     "text": [
      "('kate', 77)\n",
      "('royce', 44)\n",
      "('phill', 54)\n"
     ]
    }
   ],
   "source": [
    "# 순회 | zip, enumerate\n",
    "\n",
    "# zip: 여러 리스트 동시 순회,\n",
    "# 만약 리스트 길이가 다르다면\n",
    "# 짧은 애를 기준으로 순회.\n",
    "\n",
    "name = ['kate', 'royce', 'phill']\n",
    "age = [77, 44, 54]\n",
    "\n",
    "# (name, age)\n",
    "for item1, item2 in zip(name, age):\n",
    "    print((item1, item2))"
   ]
  },
  {
   "cell_type": "code",
   "execution_count": 69,
   "id": "1ad72524-54a0-4a60-b04c-a075dc69a5aa",
   "metadata": {},
   "outputs": [
    {
     "name": "stdout",
     "output_type": "stream",
     "text": [
      "('phill', 77)\n",
      "('phill', 44)\n",
      "('phill', 54)\n",
      "('phill', 77)\n",
      "('phill', 44)\n",
      "('phill', 54)\n",
      "('phill', 77)\n",
      "('phill', 44)\n",
      "('phill', 54)\n"
     ]
    }
   ],
   "source": [
    "# 위에랑 다름!\n",
    "\n",
    "for item in name:\n",
    "    for item2 in age:\n",
    "        print((item1, item2))"
   ]
  },
  {
   "cell_type": "code",
   "execution_count": 70,
   "id": "976a9d87-eb43-4bbd-831f-791b765f2050",
   "metadata": {},
   "outputs": [
    {
     "data": {
      "text/plain": [
       "[('kate', 77), ('royce', 44), ('phill', 54)]"
      ]
     },
     "execution_count": 70,
     "metadata": {},
     "output_type": "execute_result"
    }
   ],
   "source": [
    "# 더 쉽게 가져가는 방법!\n",
    "list(zip(name, age))"
   ]
  },
  {
   "cell_type": "code",
   "execution_count": 71,
   "id": "2b8529b9-ad53-4097-a742-42597b9db32b",
   "metadata": {},
   "outputs": [
    {
     "name": "stdout",
     "output_type": "stream",
     "text": [
      "0 kate\n",
      "1 royce\n",
      "2 phill\n"
     ]
    }
   ],
   "source": [
    "# 만약, 리스트를 도는데, 나는 인덱스가 필요하다\n",
    "# enumerate: 리스트 + 인덱스\n",
    "for idx, item in enumerate(name):\n",
    "    print(idx, item)"
   ]
  },
  {
   "cell_type": "code",
   "execution_count": 72,
   "id": "0879d70b-be91-4d24-97bd-a60e5563a607",
   "metadata": {},
   "outputs": [
    {
     "data": {
      "text/plain": [
       "[('kate', 77), ('royce', 44), ('phill', 54)]"
      ]
     },
     "execution_count": 72,
     "metadata": {},
     "output_type": "execute_result"
    }
   ],
   "source": [
    "# list(zip(name, age))을 리스트 컴프리헨션으로 바꾸기!\n",
    "\n",
    "[(item1, item2) for item1, item2 in zip(name, age)]"
   ]
  },
  {
   "cell_type": "code",
   "execution_count": 73,
   "id": "edc009e1-e1b0-45c4-baa0-439a467de3d0",
   "metadata": {},
   "outputs": [
    {
     "data": {
      "text/plain": [
       "[('kate', 77), ('royce', 44), ('phill', 54)]"
      ]
     },
     "execution_count": 73,
     "metadata": {},
     "output_type": "execute_result"
    }
   ],
   "source": [
    "# name, age를 이용해서 새로운 리스트를 생성하는데 \n",
    "# (이름, 나이)로 이루어져 있고, for문을 사용 (리스트컴프리헨션 사용 x)\n",
    "\n",
    "info = []\n",
    "for i, j in zip(name, age):\n",
    "    info.append((i, j))\n",
    "    \n",
    "info"
   ]
  },
  {
   "cell_type": "code",
   "execution_count": 74,
   "id": "a8397ff9-9ca5-4f58-9e45-d9f91a0963da",
   "metadata": {},
   "outputs": [
    {
     "data": {
      "text/plain": [
       "[('kate', 77),\n",
       " ('kate', 44),\n",
       " ('kate', 54),\n",
       " ('royce', 77),\n",
       " ('royce', 44),\n",
       " ('royce', 54),\n",
       " ('phill', 77),\n",
       " ('phill', 44),\n",
       " ('phill', 54)]"
      ]
     },
     "execution_count": 74,
     "metadata": {},
     "output_type": "execute_result"
    }
   ],
   "source": [
    "# 1. for 문의 리스트컴프리헨션으로 바꿔보기\n",
    "\n",
    "'''\n",
    "# 원하는 출력 결과\n",
    "[('kate', 77),\n",
    " ('kate', 44),\n",
    " ('kate', 54),\n",
    " ('royce', 77),\n",
    " ('royce', 44),\n",
    " ('royce', 54),\n",
    " ('phill', 77),\n",
    " ('phill', 44),\n",
    " ('phill', 54)]\n",
    "'''\n",
    "\n",
    "[(i, j) for i in name for j in age]"
   ]
  },
  {
   "cell_type": "code",
   "execution_count": 75,
   "id": "e1e73d0f-210e-4e7b-9ebe-70666d5626a9",
   "metadata": {},
   "outputs": [
    {
     "data": {
      "text/plain": [
       "[[('kate', 77), ('royce', 77), ('phill', 77)],\n",
       " [('kate', 44), ('royce', 44), ('phill', 44)],\n",
       " [('kate', 54), ('royce', 54), ('phill', 54)]]"
      ]
     },
     "execution_count": 75,
     "metadata": {},
     "output_type": "execute_result"
    }
   ],
   "source": [
    "# 2. [i, j]가 리스트로 들어가는 리스트로 바꿔보기 (리스트컴프리헨션 사용)\n",
    "\n",
    "'''\n",
    "# 원하는 출력 결과\n",
    "[[('kate', 77), ('royce', 77), ('phill', 77)],\n",
    " [('kate', 44), ('royce', 44), ('phill', 44)],\n",
    " [('kate', 54), ('royce', 54), ('phill', 54)]]\n",
    "'''\n",
    "\n",
    "[\n",
    "    [(i, j) for i in name] for j in age\n",
    "]"
   ]
  },
  {
   "cell_type": "code",
   "execution_count": 76,
   "id": "d7151b36-115a-4940-8747-5d1954ce8137",
   "metadata": {},
   "outputs": [
    {
     "data": {
      "text/plain": [
       "[('DO', 'Do', 2),\n",
       " ('NOT', 'Not', 3),\n",
       " ('JUDGE', 'Judge', 5),\n",
       " ('A', 'A', 1),\n",
       " ('BOOK', 'Book', 4),\n",
       " ('BY', 'By', 2),\n",
       " ('ITS', 'Its', 3),\n",
       " ('COVER', 'Cover', 5)]"
      ]
     },
     "execution_count": 76,
     "metadata": {},
     "output_type": "execute_result"
    }
   ],
   "source": [
    "sentence = \"do not judge a book by its cover\"\n",
    "\n",
    "# 출력 형식 => [(대문자, 첫 글자 대문자, 글자 수), ...] \n",
    "# (튜플의 형식)으로 되어 있는 리스트 만들기\n",
    "\n",
    "words = sentence.split()\n",
    "[(word.upper(), word.title(), len(word)) for word in words]"
   ]
  },
  {
   "cell_type": "code",
   "execution_count": 77,
   "id": "69e11527-8848-4789-ba1c-39d647fcc3a7",
   "metadata": {},
   "outputs": [
    {
     "name": "stdout",
     "output_type": "stream",
     "text": [
      "#1\n",
      "['Sunja said goodnight to her mother', 'Hansu was no longer in Busan']\n",
      "\n",
      "#2\n",
      "Sunja said goodnight to her mother Hansu was no longer in Busan\n",
      "\n",
      "#3\n",
      "['Sunja', 'said', 'goodnight', 'to', 'her', 'mother', 'Hansu', 'was', 'no', 'longer', 'in', 'Busan']\n"
     ]
    }
   ],
   "source": [
    "text = [\n",
    "    ['Sunja', 'said', 'goodnight', 'to', 'her', 'mother'],\n",
    "    ['Hansu', 'was', 'no', 'longer', 'in', 'Busan']\n",
    "]\n",
    "\n",
    "# 1. 문장마다 스트링으로 변환해서 리스트로 반환\n",
    "# 예시: ['문장1', '문장2']\n",
    "\n",
    "print('#1')\n",
    "print([' '.join(sent) for sent in text])\n",
    "print()\n",
    "\n",
    "# 2. 전체를 스트링으로 반환.\n",
    "# 예시: '문장1 문장2'\n",
    "print('#2')\n",
    "print(' '.join([' '.join(sent) for sent in text]))\n",
    "print()\n",
    "\n",
    "# 3. 전체 단어 리스트 가져오기\n",
    "print('#3')\n",
    "print([word for sent in text for word in sent])"
   ]
  },
  {
   "cell_type": "markdown",
   "id": "b36eed1c-3372-4e20-b1ec-debb468a070c",
   "metadata": {},
   "source": [
    "--- \n",
    "#### `리스트 컴프리헨션에서의 조건문`\n",
    "- if문 - else\n",
    "- else를 사용할 때는 조건문을 `반복문 앞으로 가져와서` 사용해야 한다."
   ]
  },
  {
   "cell_type": "code",
   "execution_count": 78,
   "id": "1fcd6384-fc45-4b49-a8ab-e7d9ebc405cc",
   "metadata": {},
   "outputs": [
    {
     "data": {
      "text/plain": [
       "[0, '홀수', 2, '홀수', 4, '홀수', 6, '홀수', 8, '홀수']"
      ]
     },
     "execution_count": 78,
     "metadata": {},
     "output_type": "execute_result"
    }
   ],
   "source": [
    "# 짝수이면 숫자로 가져오고, 홀수이면, '홀수'라는 스트링으로 바꾸시오.\n",
    "\n",
    "# [i for i in range(10) if i % 2 == 0 else '홀수'] # 이 방식은 nope\n",
    "[i if i % 2 == 0 else '홀수' for i in range(10)] # 이렇게 해야 함!"
   ]
  },
  {
   "cell_type": "markdown",
   "id": "06a292b2-c73e-43ed-b6d1-6033acb9ba3d",
   "metadata": {},
   "source": [
    "---\n",
    "### `과제` brown corpus 정제하기\n",
    "=> e-class에 코드 업로드\n",
    "- brown의 romance 사용\n",
    "- 정규식 사용 안 됨. 배운 것으로만 하기.\n",
    "- 문장 분절, 단어 분절.\n",
    "- 불필요한 것을 제거하기.\n",
    "    - 문장부호는 다 없애기, POS 제거\n",
    "    - 's 나 'nt 도 건드려 보자(여력이 된다면). (she's => she, 's)\n",
    "    - 'fly-dotted' => - 없애고 => fly, dotted\n",
    "- 글자는 5000개 만!\n",
    "- 최대한 하드코딩 지양..(품사 제거할 때 유의!)\n",
    "\n",
    "```\n",
    "[['They', 'neither', 'liked', ..], [...], ...]\n",
    "```"
   ]
  },
  {
   "cell_type": "code",
   "execution_count": null,
   "id": "1aa87fe0-31fb-4839-8035-971a3728ab8a",
   "metadata": {},
   "outputs": [],
   "source": [
    "from nltk.corpus import brown\n",
    "\n",
    "brown.raw(categories='romance')[:5000]"
   ]
  },
  {
   "cell_type": "markdown",
   "id": "3a5e069f-2218-4856-a598-2a8081510091",
   "metadata": {},
   "source": [
    "---\n",
    "\n",
    "### **대면 시험 유의사항**\n",
    "\n",
    "- 이클래스에 올린 코드는 평가 x\n",
    "- 대면 시험에서 제출한 코드로 평가하되, 답안 자체가 틀린 경우 점수 절반 깎음\n",
    "- 대면 시험에서 문제는 보여주지 않음\n",
    "- 시험 코드 작성 시 팀원과 상의 가능\n",
    "- 시간도 별로 안 주기 때문에 최대한 많이 쓰고 가는 것이 중요함\n",
    "- 대면 시험에서 종이 제공, 손코딩\n",
    "- 손코딩 연습 많이 해보기"
   ]
  }
 ],
 "metadata": {
  "kernelspec": {
   "display_name": "Python 3 (ipykernel)",
   "language": "python",
   "name": "python3"
  },
  "language_info": {
   "codemirror_mode": {
    "name": "ipython",
    "version": 3
   },
   "file_extension": ".py",
   "mimetype": "text/x-python",
   "name": "python",
   "nbconvert_exporter": "python",
   "pygments_lexer": "ipython3",
   "version": "3.9.7"
  }
 },
 "nbformat": 4,
 "nbformat_minor": 5
}
