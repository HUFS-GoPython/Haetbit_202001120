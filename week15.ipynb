{
 "cells": [
  {
   "cell_type": "markdown",
   "id": "db830b12-659b-4a69-9547-16f366480a58",
   "metadata": {},
   "source": [
    "# 15주차 (0610) Review\n",
    "---"
   ]
  },
  {
   "cell_type": "markdown",
   "id": "8d2d1443-21b5-4414-a932-8733ad5e2953",
   "metadata": {},
   "source": [
    "## 파일과 디렉터리\n",
    "- 디렉터리? 폴더의 다른 말로, 파일이 논리적으로 묶인 단위\n",
    "- 파일? 컴퓨터를 실행하는 기본 단위\n",
    "    - 파일명 + 확장자\n",
    "    - 확장자는 파일의 쓰임을 구분한다.\n",
    "        - 예) .pdf, .xlsx, .txt, ...\n",
    "    - 파일의 종류\n",
    "        1. `바이너리` 이진 정보로 저장되어있는 파일.\n",
    "            - 예: pdf, xlsx, ...\n",
    "            - 사용자가 내용을 확인할 수 없음\n",
    "            - 확인하려면? 해당 확장자를 열 수 있는 프로그램이 필요!\n",
    "            - 따라서 효율적이지만, 사용자에게는 살짝 불편\n",
    "        2. `텍스트` 사람이 이해할 수 있는 문자열로 저장됨.\n",
    "            - 예: 메모장, html, py\n",
    "            - 변경 기준? 아스키코드 혹은 유니코드\n",
    "            - 이렇게 표준에 맞춰 저장을 하는 것이 `인코딩 (encoding)`\n",
    "                - utf-8\n",
    "                - cp949               "
   ]
  },
  {
   "cell_type": "markdown",
   "id": "349df754-d4ca-4564-a749-53bab42bf997",
   "metadata": {},
   "source": [
    "---\n",
    "### 파일 열기\n",
    "- open(파일명, 모드)\n",
    "- 모드\n",
    "    1. 읽기 \n",
    "        - r: read (default)\n",
    "    2. 쓰기\n",
    "        - w: 파일이 있으면 덮어쓰고, 없으면 생성\n",
    "        - x: 파일이 없을 때만 생성 (기존의 data를 날릴 위험은 없음)\n",
    "        - a: 파일이 있을 때 마지막 라인에 추가하는 기능 (adding)\n",
    "- 추가 모드\n",
    "    1. b: binary\n",
    "    2. t: text (default)\n",
    "    - `rb`: 바이너리, `rt`: 텍스트"
   ]
  },
  {
   "cell_type": "markdown",
   "id": "fbb67420-6adb-473f-b1af-548a00e1ce21",
   "metadata": {},
   "source": [
    "<br>\n",
    "\n",
    "#### 1. 파일이 같은 dir 안에 있는 경우"
   ]
  },
  {
   "cell_type": "code",
   "execution_count": 1,
   "id": "9c8aa639-c22f-4610-8305-4b04247f7f87",
   "metadata": {},
   "outputs": [
    {
     "data": {
      "text/plain": [
       "<_io.TextIOWrapper name='text.txt' mode='r' encoding='UTF-8'>"
      ]
     },
     "execution_count": 1,
     "metadata": {},
     "output_type": "execute_result"
    }
   ],
   "source": [
    "file = 'text.txt'\n",
    "f = open(file, 'r')\n",
    "\n",
    "f"
   ]
  },
  {
   "cell_type": "markdown",
   "id": "3dee7793-da0b-4a91-9cac-685cbad19bda",
   "metadata": {},
   "source": [
    "<br>\n",
    "\n",
    "#### 파일 읽기\n",
    "- read(): 전체를 하나의 str\n",
    "- readline(): 한줄만 str\n",
    "- readlines(): 각 줄이 한 str으로 들어간 전체를 list\n",
    "- **read의 특성**\n",
    "     1. read는 포인터가 있음 \n",
    "     2. 장점) 파일이 엄청 클 때, 전체를 다 읽으면 시간이 오래 걸림 -> 유용"
   ]
  },
  {
   "cell_type": "code",
   "execution_count": 2,
   "id": "95f86d4b-5717-45d9-b35d-3d5d0db472cd",
   "metadata": {},
   "outputs": [
    {
     "name": "stdout",
     "output_type": "stream",
     "text": [
      "hello\n"
     ]
    }
   ],
   "source": [
    "print(f.read(5))"
   ]
  },
  {
   "cell_type": "code",
   "execution_count": 3,
   "id": "ee6a700c-7751-4797-a7b2-a4b25c047cbe",
   "metadata": {},
   "outputs": [],
   "source": [
    "f.close()"
   ]
  },
  {
   "cell_type": "code",
   "execution_count": 4,
   "id": "99953d5a-23f5-44d1-8ea3-302705b5e771",
   "metadata": {},
   "outputs": [
    {
     "data": {
      "text/plain": [
       "'hello world\\n'"
      ]
     },
     "execution_count": 4,
     "metadata": {},
     "output_type": "execute_result"
    }
   ],
   "source": [
    "file = 'text.txt'\n",
    "f = open(file, 'r')\n",
    "f.readline()"
   ]
  },
  {
   "cell_type": "code",
   "execution_count": 5,
   "id": "fe9efb6e-da8e-4d8a-a4e5-63bed8123136",
   "metadata": {},
   "outputs": [],
   "source": [
    "f.close()"
   ]
  },
  {
   "cell_type": "code",
   "execution_count": 6,
   "id": "064b6bb7-5dc1-47ec-bd74-0e2f8253b203",
   "metadata": {},
   "outputs": [
    {
     "data": {
      "text/plain": [
       "['hello world\\n',\n",
       " \"I'm reading a book.\\n\",\n",
       " '7 AM, the usual morning line-up.\\n',\n",
       " \"Start on the chores and sweep 'til the floor's all clean.\\n\",\n",
       " 'Polish and wax, do laundry, and mop and shine up.\\n',\n",
       " \"Sweep again, And by then It's like 7:15.\"]"
      ]
     },
     "execution_count": 6,
     "metadata": {},
     "output_type": "execute_result"
    }
   ],
   "source": [
    "file = 'text.txt'\n",
    "f = open(file, 'r')\n",
    "f.readlines()"
   ]
  },
  {
   "cell_type": "code",
   "execution_count": 7,
   "id": "a0df2058-8652-4bc7-be31-b121842c5fff",
   "metadata": {},
   "outputs": [],
   "source": [
    "f.close()"
   ]
  },
  {
   "cell_type": "markdown",
   "id": "c34857d4-b3b0-47aa-9204-9642e3957af9",
   "metadata": {},
   "source": [
    "<br>\n",
    "\n",
    "### 파일 닫기\n",
    "- 파일 여는 즉시 닫기\n",
    "- 여는 것보다 닫는 것을 더 신경써야 함\n",
    "- `자원 해제` \n",
    "- 메모리 절약, 에러가 날 수도 있음"
   ]
  },
  {
   "cell_type": "code",
   "execution_count": 8,
   "id": "6b64aa12-72e6-4109-bc8b-e26fd19c8589",
   "metadata": {},
   "outputs": [],
   "source": [
    "f = open(file, 'r')\n",
    "\n",
    "sents = f.readlines()\n",
    "sents = [s.strip() for s in sents]\n",
    "f.close()"
   ]
  },
  {
   "cell_type": "code",
   "execution_count": 9,
   "id": "1e756cca-9a71-498c-84ad-2e1aa5748b2b",
   "metadata": {},
   "outputs": [
    {
     "data": {
      "text/plain": [
       "['hello world',\n",
       " \"I'm reading a book.\",\n",
       " '7 AM, the usual morning line-up.',\n",
       " \"Start on the chores and sweep 'til the floor's all clean.\",\n",
       " 'Polish and wax, do laundry, and mop and shine up.',\n",
       " \"Sweep again, And by then It's like 7:15.\"]"
      ]
     },
     "execution_count": 9,
     "metadata": {},
     "output_type": "execute_result"
    }
   ],
   "source": [
    "sents # 파일을 닫았지만, 계속 쓸 수 있음!"
   ]
  },
  {
   "cell_type": "code",
   "execution_count": 10,
   "id": "2360c911-e28d-4e1e-91af-9488eb246404",
   "metadata": {},
   "outputs": [],
   "source": [
    "# 파일 닫는 것이 귀찮을 때!\n",
    "\n",
    "with open(file, 'r') as f:\n",
    "    # open()이 적용되는 블록\n",
    "    content = f.read()\n",
    "# close 안 해도 파일이 자동으로 닫힘!"
   ]
  },
  {
   "cell_type": "code",
   "execution_count": 11,
   "id": "61e3fc8d-c7df-46cc-9476-cb6bf9015854",
   "metadata": {},
   "outputs": [
    {
     "name": "stdout",
     "output_type": "stream",
     "text": [
      "hello world\n",
      "I'm reading a book.\n",
      "7 AM, the usual morning line-up.\n",
      "Start on the chores and sweep 'til the floor's all clean.\n",
      "Polish and wax, do laundry, and mop and shine up.\n",
      "Sweep again, And by then It's like 7:15.\n"
     ]
    }
   ],
   "source": [
    "print(content)"
   ]
  },
  {
   "cell_type": "markdown",
   "id": "e864277b-4003-4c29-98f0-bf8b1f273279",
   "metadata": {},
   "source": [
    "<br>\n",
    "\n",
    "#### `실습1`\n",
    "readline 파일 읽는데, \n",
    "while 사용해서 한줄씩 읽고 strip()해서 리스트로 반환하는 함수 만들기"
   ]
  },
  {
   "cell_type": "code",
   "execution_count": 12,
   "id": "3ea462a8-e319-479f-b329-290fdbdf59c7",
   "metadata": {},
   "outputs": [
    {
     "data": {
      "text/plain": [
       "['hello world',\n",
       " \"I'm reading a book.\",\n",
       " '7 AM, the usual morning line-up.',\n",
       " \"Start on the chores and sweep 'til the floor's all clean.\",\n",
       " 'Polish and wax, do laundry, and mop and shine up.',\n",
       " \"Sweep again, And by then It's like 7:15.\"]"
      ]
     },
     "execution_count": 12,
     "metadata": {},
     "output_type": "execute_result"
    }
   ],
   "source": [
    "def make_readlines(file):\n",
    "    sent = []\n",
    "    with open(file, 'r') as f:\n",
    "        while content := f.readline().strip():\n",
    "            sent.append(content)\n",
    "            \n",
    "    return sent\n",
    "\n",
    "make_readlines('text.txt')"
   ]
  },
  {
   "cell_type": "markdown",
   "id": "4ebf1a9f-ffee-4301-b128-87dddcbe8d2d",
   "metadata": {},
   "source": [
    "<br>\n",
    "\n",
    "#### 2. 경로가 달라질 때\n",
    "- .  : 현재 경로\n",
    "- .. : 상위 경로"
   ]
  },
  {
   "cell_type": "code",
   "execution_count": 13,
   "id": "c74f4628-fabe-47b2-b73c-ec461100063c",
   "metadata": {},
   "outputs": [
    {
     "name": "stdout",
     "output_type": "stream",
     "text": [
      "hello world\n",
      "I'm reading a book.\n",
      "7 AM, the usual morning line-up.\n",
      "Start on the chores and sweep 'til the floor's all clean.\n",
      "Polish and wax, do laundry, and mop and shine up.\n",
      "Sweep again, And by then It's like 7:15.\n"
     ]
    }
   ],
   "source": [
    "file = './folder/text.txt'\n",
    "\n",
    "with open(file) as f:\n",
    "    print(f.read())"
   ]
  },
  {
   "cell_type": "markdown",
   "id": "baa94883-1602-4a59-be3d-dc5790a7fe0c",
   "metadata": {},
   "source": [
    "<br>\n",
    "\n",
    "### 쓰기\n",
    "- 인코딩 유의"
   ]
  },
  {
   "cell_type": "code",
   "execution_count": 14,
   "id": "1ecec48b-9df8-4d08-b323-697fd60b8d5b",
   "metadata": {},
   "outputs": [],
   "source": [
    "with open('text2.txt', 'w', encoding='utf-8') as f:\n",
    "    for i in range(1, 11):\n",
    "        data = f'{i}번째 줄입니다.\\n' \n",
    "        f.write(data)"
   ]
  },
  {
   "cell_type": "code",
   "execution_count": 15,
   "id": "4f547194-4918-452e-abb5-41ad661ac1ca",
   "metadata": {},
   "outputs": [],
   "source": [
    "# print 함수로 파일에 저장하는 방법\n",
    "\n",
    "file_out = open('text2.txt', 'a', encoding='utf-8')\n",
    "\n",
    "# 파일을 열어서 print할 때, 파일에 print해라\n",
    "print('한 줄 추가했습니다.', file=file_out)\n",
    "\n",
    "file_out.close() # 닫아주는 것 중요!"
   ]
  },
  {
   "cell_type": "code",
   "execution_count": 16,
   "id": "65981014-64fe-4615-a835-f01f4da97585",
   "metadata": {},
   "outputs": [],
   "source": [
    "# 하위 folder를 만들어서 추가하는 방법\n",
    "# 1. 폴더를 만들어야 함\n",
    "# 2. 그 다음에 접근\n",
    "\n",
    "import os\n",
    "os.mkdir('folder2')\n",
    "\n",
    "with open('./folder2/text2.txt', 'w', encoding='utf-8') as f:\n",
    "    for i in range(1, 11):\n",
    "        data = f'{i}번째 줄입니다.\\n' \n",
    "        f.write(data)"
   ]
  },
  {
   "cell_type": "code",
   "execution_count": 17,
   "id": "fc846e2c-f6f6-4cde-9973-a616f6c9f257",
   "metadata": {},
   "outputs": [],
   "source": [
    "path = 'folder2'\n",
    "\n",
    "# 있는지 확인하기\n",
    "if not os.path.isdir(path):\n",
    "    # dir가 아니라면, 만들기!\n",
    "    os.mkdir(path)\n",
    "    \n",
    "dir_name = os.path.join(path, 'text2.txt')\n",
    "\n",
    "if not os.path.exists(dir_name):\n",
    "    # 없으면 쓰는 것이니까 덮어 쓸 가능성 배제!\n",
    "    with open(dir_name, 'a') as f:\n",
    "        f.write('한 줄 더 추가하기!')"
   ]
  },
  {
   "cell_type": "markdown",
   "id": "8d7f04fb-8873-45de-8c1e-307d6383b71e",
   "metadata": {
    "tags": []
   },
   "source": [
    "<br>\n",
    "\n",
    "### 지우기\n",
    "- os\n",
    "    1. 파일 지우기 remove\n",
    "    2. 폴더 지우기 rmdir (단, 이 경우 폴더 안에 파일이 있으면 삭제 못함!)\n",
    "- shutil\n",
    "    - 폴더 안에 뭐가 있어도 강제로 삭제 가능"
   ]
  },
  {
   "cell_type": "code",
   "execution_count": 18,
   "id": "14c92bd0-a3cf-46d6-aa2b-8a6131cf3532",
   "metadata": {},
   "outputs": [],
   "source": [
    "os.remove('text.txt') # 파일 삭제!"
   ]
  },
  {
   "cell_type": "code",
   "execution_count": 19,
   "id": "2df9d203-2f2d-4c62-8890-c6f3c2eb1a4e",
   "metadata": {},
   "outputs": [
    {
     "ename": "OSError",
     "evalue": "[Errno 66] Directory not empty: 'folder2'",
     "output_type": "error",
     "traceback": [
      "\u001b[0;31m---------------------------------------------------------------------------\u001b[0m",
      "\u001b[0;31mOSError\u001b[0m                                   Traceback (most recent call last)",
      "\u001b[0;32m/var/folders/mj/8pckvyp56672pjbch70f49440000gn/T/ipykernel_2950/3831428026.py\u001b[0m in \u001b[0;36m<module>\u001b[0;34m\u001b[0m\n\u001b[1;32m      1\u001b[0m \u001b[0;31m# 폴더 안에 파일이 있는 경우, 삭제 못함!\u001b[0m\u001b[0;34m\u001b[0m\u001b[0;34m\u001b[0m\u001b[0m\n\u001b[1;32m      2\u001b[0m \u001b[0;31m# OSError: [Errno 66] Directory not empty: 'folder2'\u001b[0m\u001b[0;34m\u001b[0m\u001b[0;34m\u001b[0m\u001b[0m\n\u001b[0;32m----> 3\u001b[0;31m \u001b[0mos\u001b[0m\u001b[0;34m.\u001b[0m\u001b[0mrmdir\u001b[0m\u001b[0;34m(\u001b[0m\u001b[0;34m'folder2'\u001b[0m\u001b[0;34m)\u001b[0m\u001b[0;34m\u001b[0m\u001b[0;34m\u001b[0m\u001b[0m\n\u001b[0m",
      "\u001b[0;31mOSError\u001b[0m: [Errno 66] Directory not empty: 'folder2'"
     ]
    }
   ],
   "source": [
    "# 폴더 안에 파일이 있는 경우, 삭제 못함!\n",
    "# OSError: [Errno 66] Directory not empty: 'folder2'\n",
    "os.rmdir('folder2')  "
   ]
  },
  {
   "cell_type": "code",
   "execution_count": 20,
   "id": "69d1622f-7106-4f11-ab11-fff0161d9d3e",
   "metadata": {},
   "outputs": [],
   "source": [
    "import shutil\n",
    "\n",
    "shutil.rmtree('folder2') # shutil 모듈 이용해서 강제로 삭제하기"
   ]
  },
  {
   "cell_type": "markdown",
   "id": "a58db3d1-4fe7-4105-a9cb-b25200501d0d",
   "metadata": {},
   "source": [
    "<br>\n",
    "\n",
    "#### `실습2` \n",
    "1. 폴더를 새로 만들어서\n",
    "2. 파일에 내용 쓰기 (있으면 쓰고, 없으면 만들어라; w)\n",
    "3. 파일 열기 (파일을 쓴 다음에 닫고, 다시 접근할 수 있는지 확인)"
   ]
  },
  {
   "cell_type": "code",
   "execution_count": 21,
   "id": "69b5ce57-5bd6-4e8b-9a02-e9758db97bd3",
   "metadata": {},
   "outputs": [
    {
     "name": "stdout",
     "output_type": "stream",
     "text": [
      "일기 쓰기 (enter 누르면 일기 그만쓰기) >>>\n"
     ]
    },
    {
     "name": "stdin",
     "output_type": "stream",
     "text": [
      " 오늘 일어나자마자 누나랑 모닝 산책 다녀왔다개.\n",
      " 갔다 와서 맛있는 간식도 먹었지롱 🐶🌟.\n",
      " 지금은 공부하는 누나 구경 중.\n",
      " - 오늘 일기 끄ㅌ -\n",
      " \n"
     ]
    },
    {
     "name": "stdout",
     "output_type": "stream",
     "text": [
      "오늘 일어나자마자 누나랑 모닝 산책 다녀왔다개.\n",
      "갔다 와서 맛있는 간식도 먹었지롱 🐶🌟.\n",
      "지금은 공부하는 누나 구경 중.\n",
      "- 오늘 일기 끄ㅌ -\n",
      "\n"
     ]
    }
   ],
   "source": [
    "# 1. 폴더가 기존에 있는지 확인하고, 만들기\n",
    "path = 'Woori'\n",
    "if not os.path.isdir(path):\n",
    "    os.mkdir(path) \n",
    "\n",
    "# 2. 파일에 내용 쓰기\n",
    "file_name = os.path.join(path, 'Woori\\'s diary.txt')\n",
    "with open(file_name, 'w', encoding='utf-8') as f:\n",
    "    print('일기 쓰기 (enter 누르면 일기 그만쓰기) >>>')\n",
    "    while sent := input():\n",
    "        f.write(sent + '\\n')\n",
    "\n",
    "# 3. 파일 열기\n",
    "with open(file_name, 'r', encoding='utf-8') as f:\n",
    "    diary = f.read()\n",
    "\n",
    "print(diary)"
   ]
  },
  {
   "cell_type": "markdown",
   "id": "bdb57222-5229-4393-87cb-42eae4a7683c",
   "metadata": {},
   "source": [
    "<br>\n",
    "\n",
    "##### **os 추가적인 기능 참고!**"
   ]
  },
  {
   "cell_type": "code",
   "execution_count": 22,
   "id": "6c6d49f9-98f3-41cf-9ccb-68130608bfee",
   "metadata": {},
   "outputs": [
    {
     "data": {
      "text/plain": [
       "'/Users/haetbit/Fri_456/Haetbit_202001120/week15'"
      ]
     },
     "execution_count": 22,
     "metadata": {},
     "output_type": "execute_result"
    }
   ],
   "source": [
    "# get current working directory\n",
    "# 지금 내가 있는 dir 알 수 있음\n",
    "os.getcwd()"
   ]
  },
  {
   "cell_type": "code",
   "execution_count": 23,
   "id": "ec521797-f60c-4f29-8bc6-c211c13e3ccf",
   "metadata": {},
   "outputs": [
    {
     "data": {
      "text/plain": [
       "'/Users/haetbit/Fri_456/Haetbit_202001120'"
      ]
     },
     "execution_count": 23,
     "metadata": {},
     "output_type": "execute_result"
    }
   ],
   "source": [
    "# change directory\n",
    "# dir 상위로 올라가기\n",
    "os.chdir('..')\n",
    "os.getcwd()"
   ]
  },
  {
   "cell_type": "markdown",
   "id": "33f98023-702c-4e07-9608-2f8c176d8966",
   "metadata": {},
   "source": [
    "<br>\n",
    "\n",
    "#### pickle\n",
    "- 객체를 파일로 저장하는 기능 제공\n",
    "    - 리스트, 클래스 등 다 됨\n",
    "- 어떤 작업을 많이 했을 때, 중간에 사용했던 각각의 변수를 저장해서 쓰고 싶을 때!\n",
    "- 확장자: .pickle\n",
    "- 바이너리로 써야 함! (wb, rb)\n",
    "- 예약어\n",
    "    1. 넘길 때는 dump\n",
    "    2. 읽을 때는 load"
   ]
  },
  {
   "cell_type": "code",
   "execution_count": 24,
   "id": "70bb67da-5d8c-46f8-9422-5ca7c1618e89",
   "metadata": {},
   "outputs": [],
   "source": [
    "import pickle\n",
    "\n",
    "wr_diary = diary.replace('\\n', '').split('.')\n",
    "with open('woori\\'s diary.pickle', 'wb') as f:\n",
    "    pickle.dump(wr_diary, f)"
   ]
  },
  {
   "cell_type": "code",
   "execution_count": 25,
   "id": "363c9566-d103-45cf-8b36-c0ded1342438",
   "metadata": {},
   "outputs": [
    {
     "data": {
      "text/plain": [
       "['오늘 일어나자마자 누나랑 모닝 산책 다녀왔다개',\n",
       " '갔다 와서 맛있는 간식도 먹었지롱 🐶🌟',\n",
       " '지금은 공부하는 누나 구경 중',\n",
       " '- 오늘 일기 끄ㅌ -']"
      ]
     },
     "execution_count": 25,
     "metadata": {},
     "output_type": "execute_result"
    }
   ],
   "source": [
    "with open('woori\\'s diary.pickle', 'rb') as f:\n",
    "    test_pickle = pickle.load(f)\n",
    "\n",
    "# print 되는 것이 아니라, 저장했던 리스트가 그대로!\n",
    "test_pickle"
   ]
  }
 ],
 "metadata": {
  "kernelspec": {
   "display_name": "Python 3 (ipykernel)",
   "language": "python",
   "name": "python3"
  },
  "language_info": {
   "codemirror_mode": {
    "name": "ipython",
    "version": 3
   },
   "file_extension": ".py",
   "mimetype": "text/x-python",
   "name": "python",
   "nbconvert_exporter": "python",
   "pygments_lexer": "ipython3",
   "version": "3.9.7"
  }
 },
 "nbformat": 4,
 "nbformat_minor": 5
}
