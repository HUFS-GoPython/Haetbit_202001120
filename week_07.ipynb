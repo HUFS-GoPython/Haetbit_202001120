{
 "cells": [
  {
   "cell_type": "markdown",
   "id": "cbdb9afd-da3e-498f-a3e4-eeda5c0ab548",
   "metadata": {},
   "source": [
    "# 7주차 (0415) Review"
   ]
  },
  {
   "cell_type": "markdown",
   "id": "4ea763b6-abaa-4c89-b6e0-27e1fe46d5ab",
   "metadata": {},
   "source": [
    "---\n",
    "## `ch08.ex03`"
   ]
  },
  {
   "cell_type": "markdown",
   "id": "44461646-6240-4909-8dfb-15d66e9497e0",
   "metadata": {},
   "source": [
    "## 함수\n",
    "1. 정의\n",
    "2. 인수\n",
    "3. 호출 방식"
   ]
  },
  {
   "cell_type": "markdown",
   "id": "82aaadf7-e1d0-4f8f-839c-6c38bdd4e3e3",
   "metadata": {},
   "source": [
    "---\n",
    "### 1. 정의\n",
    "- 함수란? 코드의 덩어리, 코드의 묶음\n",
    "- 함수를 사용하는 이유? 간편하게 재사용하기 위해서\n",
    "- 얼마나 간편한가? 한 줄로 재사용이 가능\n",
    "- 함수는 정의하는 부분(define)과 호출하는 부분(call)이 있다.\n",
    "    - 정의\n",
    "    ```def 함수이름(매개변수1, 2, 3, ...):\n",
    "        수행문1\n",
    "        수행문2\n",
    "        ....\n",
    "        return 반환값\n",
    "    ```\n",
    "    - 호출\n",
    "    ```\n",
    "    함수이름(인수1, 2, 3, ...)\n",
    "    ```\n",
    "- 함수의 4가지 케이스\n",
    "    1. 매개변수, 반환값 둘다 없는\n",
    "    2. 매개변수, 반환값 둘다 있는\n",
    "    3. 매개변수만 있는 (반환값 X)\n",
    "    4. 반환값만 있는 (매개변수 X)"
   ]
  },
  {
   "cell_type": "code",
   "execution_count": 1,
   "id": "003abaf2-72ef-4cba-8410-54c3ee31689f",
   "metadata": {},
   "outputs": [
    {
     "name": "stdout",
     "output_type": "stream",
     "text": [
      "quack\n"
     ]
    }
   ],
   "source": [
    "# case 1.\n",
    "# print는 되지만, 어떤 변수로 받아서 사용은 할 수 없다.\n",
    "\n",
    "def make_a_sound():\n",
    "    print('quack')\n",
    "# return값이 없을 때는 return None이 생략된 경우\n",
    "\n",
    "make_a_sound()"
   ]
  },
  {
   "cell_type": "code",
   "execution_count": 2,
   "id": "d59208fd-420b-4149-936e-4c044c4c203d",
   "metadata": {},
   "outputs": [
    {
     "data": {
      "text/plain": [
       "5"
      ]
     },
     "execution_count": 2,
     "metadata": {},
     "output_type": "execute_result"
    }
   ],
   "source": [
    "# case 2.\n",
    "# 'y = x + 1'를 함수로 짜보기 \n",
    "# x=매개변수, y=반환값, x+1=수행문\n",
    "\n",
    "def ex(x): # 매개변수 x\n",
    "    y = x + 1 # 수행문\n",
    "    return y # 반환값\n",
    "\n",
    "# 간단한 경우에 이와 같이 바로 return\n",
    "def ex(x):\n",
    "    return x + 1\n",
    "\n",
    "# 호출\n",
    "ex(4)"
   ]
  },
  {
   "cell_type": "code",
   "execution_count": 3,
   "id": "8dfda1d5-1b7b-4b82-8e4b-e832d204e875",
   "metadata": {},
   "outputs": [
    {
     "name": "stdout",
     "output_type": "stream",
     "text": [
      "yay\n"
     ]
    }
   ],
   "source": [
    "# case 3. 매개변수만\n",
    "\n",
    "def make_a_sound(sound):\n",
    "    print(sound)\n",
    "\n",
    "make_a_sound('yay')"
   ]
  },
  {
   "cell_type": "code",
   "execution_count": 4,
   "id": "0e2a4a22-11c9-494e-9a6d-d2256ecabc28",
   "metadata": {},
   "outputs": [
    {
     "name": "stdout",
     "output_type": "stream",
     "text": [
      "Splendid\n"
     ]
    }
   ],
   "source": [
    "# case 4. 반환값만\n",
    "\n",
    "def agree():\n",
    "    return True\n",
    "\n",
    "agree()\n",
    "\n",
    "if agree():\n",
    "    print('Splendid')\n",
    "else:\n",
    "    print('unexpected!')"
   ]
  },
  {
   "cell_type": "markdown",
   "id": "05736a02-ce5b-47cd-bd35-ca5e7f9b8951",
   "metadata": {},
   "source": [
    "#### **함수 이름 짓기**\n",
    "    - 소문자만 사용!\n",
    "        - splitWord => X\n",
    "        - split_word => O\n",
    "    - 동작과 관련되어 있기 때문에 `동사+명사`의 형태를 주로 사용\n",
    "    - i.e., 클래스는 주로 명사로 짓기 때문에, 함수는 명사로만 사용 X\n",
    "        - def word(): (x)\n",
    "    - 띄어쓰기는 언더바 사용\n",
    "    - 줄임말은 되도록 쓰지 X\n",
    "        - 내 마음대로 줄이기 X, splt_word (X)\n",
    "        - 코더들이 보통 줄이는 방식은 괜찮음 calculate -> calc (O) "
   ]
  },
  {
   "cell_type": "markdown",
   "id": "ec74ef65-8ce0-44d1-af27-fa71e171ccca",
   "metadata": {},
   "source": [
    "---\n",
    "### 2. 인수\n",
    "- 매개변수 vs. 인수\n",
    "    - 매개변수: 함수 내부(`인터페이스`)에서 유효한 변수\n",
    "    - 인수: 실제 매개변수에 대입되는 변수\n",
    "    - `호출 시에 인수가 매개변수에 복제됨`"
   ]
  },
  {
   "cell_type": "code",
   "execution_count": 5,
   "id": "e3d83516-c7ba-406b-9d58-5757a1f9bdb6",
   "metadata": {},
   "outputs": [
    {
     "name": "stdout",
     "output_type": "stream",
     "text": [
      "yay\n"
     ]
    }
   ],
   "source": [
    "# 여기서 sound는 매개변수, yay는 인수\n",
    "\n",
    "def make_a_sound(sound): \n",
    "    print(sound)\n",
    "\n",
    "make_a_sound('yay')"
   ]
  },
  {
   "cell_type": "code",
   "execution_count": 6,
   "id": "f437d9e4-ae08-46d3-a88e-19f16030b92f",
   "metadata": {},
   "outputs": [
    {
     "ename": "NameError",
     "evalue": "name 'sound' is not defined",
     "output_type": "error",
     "traceback": [
      "\u001b[0;31m---------------------------------------------------------------------------\u001b[0m",
      "\u001b[0;31mNameError\u001b[0m                                 Traceback (most recent call last)",
      "\u001b[0;32m/var/folders/mj/8pckvyp56672pjbch70f49440000gn/T/ipykernel_7107/1398790868.py\u001b[0m in \u001b[0;36m<module>\u001b[0;34m\u001b[0m\n\u001b[1;32m      1\u001b[0m \u001b[0;31m# 매개변수는 함수를 빠져나오면 유효 X\u001b[0m\u001b[0;34m\u001b[0m\u001b[0;34m\u001b[0m\u001b[0m\n\u001b[1;32m      2\u001b[0m \u001b[0;34m\u001b[0m\u001b[0m\n\u001b[0;32m----> 3\u001b[0;31m \u001b[0msound\u001b[0m\u001b[0;34m\u001b[0m\u001b[0;34m\u001b[0m\u001b[0m\n\u001b[0m",
      "\u001b[0;31mNameError\u001b[0m: name 'sound' is not defined"
     ]
    }
   ],
   "source": [
    "# 매개변수는 함수를 빠져나오면 유효 X\n",
    "\n",
    "sound "
   ]
  },
  {
   "cell_type": "code",
   "execution_count": 7,
   "id": "24327b10-e909-42d1-83b2-5ac59d36a4f6",
   "metadata": {},
   "outputs": [
    {
     "data": {
      "text/plain": [
       "'yay'"
      ]
     },
     "execution_count": 7,
     "metadata": {},
     "output_type": "execute_result"
    }
   ],
   "source": [
    "# 그렇지만, yay는 유효하다\n",
    "\n",
    "yay = 'yay'\n",
    "yay "
   ]
  },
  {
   "cell_type": "code",
   "execution_count": 8,
   "id": "61bed9eb-da8a-4719-927e-fa66963c6bd6",
   "metadata": {},
   "outputs": [
    {
     "name": "stdout",
     "output_type": "stream",
     "text": [
      "black\n",
      "green\n",
      "black\n",
      "black\n"
     ]
    }
   ],
   "source": [
    "# 함수 안에는 if 조건문이 올 수도 있다.\n",
    "# 함수 만들 때 들여쓰기 주의\n",
    "\n",
    "def commentary(color):\n",
    "    if color == 'g':\n",
    "        return 'green'\n",
    "    else:\n",
    "        return 'black'\n",
    "    \n",
    "color = 'white'\n",
    "print(commentary(color))\n",
    "\n",
    "\n",
    "# 함수의 실제적인 사용 예시\n",
    "colors = ['g', 'b', 't']\n",
    "\n",
    "for color in colors:\n",
    "    print(commentary(color))"
   ]
  },
  {
   "cell_type": "markdown",
   "id": "4d6a90d7-ae5a-46e0-a944-fc8d4036d1a6",
   "metadata": {},
   "source": [
    "#### 인수의 타입\n",
    "- 위치 인수\n",
    "    - positional argument\n",
    "    - 매개변수를 값의 순서에 따라 복제\n",
    "- 키워드 인수\n",
    "    - keyword argument\n",
    "    - 매개변수 키워드에 맞는 인수로 지정 => 위치 달라도 됨!\n",
    "- 디폴트 인수\n",
    "    - default argument\n",
    "    - 매개변수를 정의할 때 값을 미리 지정해놓는 것\n",
    "    - 만약, 호출 시에 값이 입력되지 않으면 디폴트값 사용\n",
    "    - 단, 디폴트 값이 언디폴트 값보다 앞에 위치할 수는 없음(뒤에 있어야!)"
   ]
  },
  {
   "cell_type": "code",
   "execution_count": 9,
   "id": "4202a60f-1bc8-4f74-9ac6-b42933667e47",
   "metadata": {},
   "outputs": [
    {
     "data": {
      "text/plain": [
       "{'wine': 'a', 'entree': 'b', 'dessert': 'c'}"
      ]
     },
     "execution_count": 9,
     "metadata": {},
     "output_type": "execute_result"
    }
   ],
   "source": [
    "# 위치 인수\n",
    "# 그 위치에 맞게 설정이 되는 것\n",
    "# 순차적으로 들어감\n",
    "\n",
    "def menu(wine, entree, dessert):\n",
    "    return {'wine':wine, 'entree':entree, 'dessert':dessert}\n",
    "\n",
    "menu('a', 'b', 'c')"
   ]
  },
  {
   "cell_type": "code",
   "execution_count": 10,
   "id": "265dd1bd-29c3-475a-a1d8-2d1659953ea2",
   "metadata": {},
   "outputs": [
    {
     "data": {
      "text/plain": [
       "{'wine': 'b', 'entree': 'c', 'dessert': 'a'}"
      ]
     },
     "execution_count": 10,
     "metadata": {},
     "output_type": "execute_result"
    }
   ],
   "source": [
    "# 키워드 인수\n",
    "menu(entree='c', wine='b', dessert='a')"
   ]
  },
  {
   "cell_type": "code",
   "execution_count": 11,
   "id": "49d65b8a-4d3a-4050-9edd-ef092adabb39",
   "metadata": {},
   "outputs": [
    {
     "data": {
      "text/plain": [
       "{'wine': 'rioja', 'entree': 'egg', 'dessert': 'strawberry'}"
      ]
     },
     "execution_count": 11,
     "metadata": {},
     "output_type": "execute_result"
    }
   ],
   "source": [
    "# 디폴트 인수\n",
    "# 언디폴트가 디폴트 앞에 와야 함\n",
    "# 앞이 정해져있는데 뒤에가 정해져있지 않으면 안 됨.\n",
    "\n",
    "# 아래는 오류나는 코드\n",
    "# def menu2(wine='rioja', entree, dessert):\n",
    "#     return {'wine':wine, 'entree':entree, 'dessert':dessert}\n",
    "\n",
    "def menu2(wine, entree, dessert='strawberry'):\n",
    "    return {'wine':wine, 'entree':entree, 'dessert':dessert}\n",
    "\n",
    "# 안 넣으면 디폴트 값, dessert => strawberry\n",
    "menu2('rioja', 'egg') "
   ]
  },
  {
   "cell_type": "code",
   "execution_count": 12,
   "id": "94f0d845-a0bc-4343-9b58-17f8b44ec9eb",
   "metadata": {},
   "outputs": [
    {
     "data": {
      "text/plain": [
       "{'wine': 'rioja', 'entree': 'egg', 'dessert': 'kiwi'}"
      ]
     },
     "execution_count": 12,
     "metadata": {},
     "output_type": "execute_result"
    }
   ],
   "source": [
    "# 넣으면 바뀌어 나옴, dessert => kiwi\n",
    "menu2('rioja', 'egg', 'kiwi') "
   ]
  },
  {
   "cell_type": "markdown",
   "id": "8da0cb47-bd04-477a-b2cc-4dd8f8a18e87",
   "metadata": {},
   "source": [
    "---\n",
    "### 3. 호출방식\n",
    "- 정의 부분은 호출 시 실행됨\n",
    "- 메모리에 저장되어 있다가 호출 시에 사용이 되는 방식"
   ]
  },
  {
   "cell_type": "code",
   "execution_count": 14,
   "id": "d16cee76-3b12-4ebd-8931-7df7f483f16f",
   "metadata": {},
   "outputs": [
    {
     "name": "stdout",
     "output_type": "stream",
     "text": [
      "2\n",
      "3\n",
      "1\n",
      "4\n"
     ]
    }
   ],
   "source": [
    "# 어떤 순서로 이 코드가 돌아가는지 확인하고 싶은 코드\n",
    "\n",
    "def multiply(x, y):\n",
    "    print('1')\n",
    "    return x + y\n",
    "\n",
    "print('2')\n",
    "i = 2\n",
    "j = 4\n",
    "\n",
    "print('3')\n",
    "multiply(i, j) ### i = 2, j = 4  --> x = i, y = j 대입 -> shallow copy\n",
    "\n",
    "print('4')"
   ]
  },
  {
   "cell_type": "markdown",
   "id": "144de3d6-b194-42b0-b9c8-e1baef284ea8",
   "metadata": {},
   "source": [
    "#### 매개변수 vs. 인수\n",
    "    - 참조에 의한 호출(call by reference)\n",
    "    - 매개변수 = 인수 => copy되기 때문에 나타나는 문제점\n",
    "        - 리스트처럼 가변 객체일 때 주소값을 공유하므로 같이 변하게 됨"
   ]
  },
  {
   "cell_type": "code",
   "execution_count": 15,
   "id": "82890b13-8c4d-40dd-b28a-7475cadd93f2",
   "metadata": {},
   "outputs": [
    {
     "name": "stdout",
     "output_type": "stream",
     "text": [
      "['a']\n",
      "['a', 'b']\n"
     ]
    }
   ],
   "source": [
    "def buggy(arg, result=[]):\n",
    "    result.append(arg)\n",
    "    print(result)\n",
    "    \n",
    "    \n",
    "a, b = 'a', 'b'\n",
    "buggy(a) # ['a']\n",
    "buggy(b) # 예상된 값: ['b'], 실제 값: ['a', 'b']"
   ]
  },
  {
   "cell_type": "code",
   "execution_count": 16,
   "id": "7eb1b611-ffcc-4c8c-860e-b8d4af76594d",
   "metadata": {},
   "outputs": [
    {
     "name": "stdout",
     "output_type": "stream",
     "text": [
      "['a']\n",
      "['b']\n"
     ]
    }
   ],
   "source": [
    "# 위 상황을 피하고 싶으면,\n",
    "# 빈 객체를 설정 (reset이 되도록)\n",
    "\n",
    "def buggy(arg):\n",
    "    result=[]\n",
    "    result.append(arg)\n",
    "    print(result)\n",
    "    \n",
    "    \n",
    "a, b = 'a', 'b'\n",
    "buggy(a) \n",
    "buggy(b) "
   ]
  },
  {
   "cell_type": "code",
   "execution_count": 18,
   "id": "8669a1f6-6e8a-4949-b483-dff28f6a25d9",
   "metadata": {},
   "outputs": [
    {
     "name": "stdout",
     "output_type": "stream",
     "text": [
      "None\n"
     ]
    }
   ],
   "source": [
    "# None은 True도, False도 아니다!\n",
    "\n",
    "thing = None\n",
    "\n",
    "if thing:\n",
    "    print(\"True\")\n",
    "elif thing == False:\n",
    "    print('False')\n",
    "else:\n",
    "    print('None')"
   ]
  },
  {
   "cell_type": "code",
   "execution_count": 19,
   "id": "862265ed-f58c-420a-96fb-25757962c945",
   "metadata": {},
   "outputs": [
    {
     "name": "stdout",
     "output_type": "stream",
     "text": [
      "['a']\n",
      "['a', 'b']\n",
      "['b']\n"
     ]
    }
   ],
   "source": [
    "# 둘다 조건식으로 포함하는 함수로 변경하기\n",
    "\n",
    "def nonbuggy(arg, result=[]):\n",
    "    # 리스트가 없으면(타입이 없을 때, 없는 값) \n",
    "    # 빈 리스트 생성하고, 있으면 그거 써라.\n",
    "    \n",
    "    # ==는 value만 같은 것, is는 value + id까지 같은 것!\n",
    "    if result is None: \n",
    "        result = []\n",
    "        \n",
    "    result.append(arg)\n",
    "    print(result)\n",
    "    \n",
    "\n",
    "nonbuggy('a')\n",
    "nonbuggy('b')\n",
    "nonbuggy('b', None) "
   ]
  },
  {
   "cell_type": "code",
   "execution_count": 20,
   "id": "a47350c1-596e-4a0d-abce-43cb11afd4f7",
   "metadata": {},
   "outputs": [
    {
     "name": "stdout",
     "output_type": "stream",
     "text": [
      "['a']\n",
      "['b']\n",
      "['c', 'a']\n",
      "['c', 'a', 'b']\n"
     ]
    }
   ],
   "source": [
    "# 둘다 조건식으로 포함하는 함수로 변경하기2\n",
    "# 더 편한 방법, result를 처음부터 None으로 해놓기\n",
    "\n",
    "def nonbuggy(arg, result=None):\n",
    "    if result is None:\n",
    "        result = []\n",
    "        \n",
    "    result.append(arg)\n",
    "    print(result)\n",
    "    \n",
    "# default 값이 None이라 쌓이지 않음\n",
    "nonbuggy('a')\n",
    "nonbuggy('b')\n",
    "    \n",
    "# 쌓임\n",
    "empty = ['c']\n",
    "nonbuggy('a', empty)\n",
    "nonbuggy('b', empty)"
   ]
  },
  {
   "cell_type": "markdown",
   "id": "e6310655-2f82-48b4-ae74-f574c6567204",
   "metadata": {},
   "source": [
    "#### 지역변수와 전역변수\n",
    "- 지역변수: 함수 내부에서만 유효\n",
    "- 전역변수: 함수 내부 + 외부에서도 유효"
   ]
  },
  {
   "cell_type": "code",
   "execution_count": 21,
   "id": "0cb63773-c576-48cd-82c6-d910eb307bf5",
   "metadata": {},
   "outputs": [
    {
     "name": "stdout",
     "output_type": "stream",
     "text": [
      "london\n",
      "paris == london?\n"
     ]
    }
   ],
   "source": [
    "# 틀린 코드\n",
    "\n",
    "def fx():\n",
    "    # 지역변수 city\n",
    "    city = 'london'\n",
    "    print(city)\n",
    "    \n",
    "    \n",
    "city = 'paris'\n",
    "fx()\n",
    "print(city, '== london?')"
   ]
  },
  {
   "cell_type": "code",
   "execution_count": 22,
   "id": "43f59530-57c1-4132-9c77-d9ba355fa41e",
   "metadata": {},
   "outputs": [
    {
     "name": "stdout",
     "output_type": "stream",
     "text": [
      "london\n",
      "london == london?\n"
     ]
    }
   ],
   "source": [
    "# 전역 변수로 사용하고 싶으면 global\n",
    "\n",
    "def fx():\n",
    "    # 전역변수 city\n",
    "    global city\n",
    "    city = 'london'\n",
    "    print(city)\n",
    "    \n",
    "    \n",
    "city = 'paris'\n",
    "fx()\n",
    "print(city, '== london?')"
   ]
  },
  {
   "cell_type": "markdown",
   "id": "fd332114-cc48-4ce9-908d-805bb72dd735",
   "metadata": {},
   "source": [
    "#### doc string\n",
    "- 함수를 설명하는 부분\n",
    "- 매개변수 타입, 의미, 함수의 역할, 기능 등 설명\n",
    "- 사용형식: 빈 주석처리 하는 방식\n",
    "```\n",
    "\"\"\"\n",
    "   독스트링 작성\n",
    "\"\"\"\n",
    "```"
   ]
  },
  {
   "cell_type": "code",
   "execution_count": 23,
   "id": "74f8d0f3-2d52-4308-818f-5f80200bd955",
   "metadata": {},
   "outputs": [
    {
     "name": "stdout",
     "output_type": "stream",
     "text": [
      "['a']\n",
      "['b']\n"
     ]
    }
   ],
   "source": [
    "def buggy(arg):\n",
    "    \"\"\"\n",
    "    arg의 타입: str\n",
    "    꽃 이름을 받는다.\n",
    "    result의 타입은 list\n",
    "    이 함수는 꽃 이름을 리스트에 추가한다.\n",
    "    \"\"\"\n",
    "    result=[]\n",
    "    result.append(arg)\n",
    "    print(result)\n",
    "    \n",
    "    \n",
    "a, b = 'a', 'b'\n",
    "buggy(a) \n",
    "buggy(b) "
   ]
  },
  {
   "cell_type": "code",
   "execution_count": 24,
   "id": "a3a30a74-9727-4d05-bb01-0bfd0c4ccd07",
   "metadata": {},
   "outputs": [
    {
     "name": "stdout",
     "output_type": "stream",
     "text": [
      "Help on function buggy in module __main__:\n",
      "\n",
      "buggy(arg)\n",
      "    arg의 타입: str\n",
      "    꽃 이름을 받는다.\n",
      "    result의 타입은 list\n",
      "    이 함수는 꽃 이름을 리스트에 추가한다.\n",
      "\n"
     ]
    }
   ],
   "source": [
    "# 함수를 사용할 때는 당연히 doc string이 나오지 않으므로\n",
    "# doc string을 확인하는 방법\n",
    "# 이때 buggy 뒤에 ()는 쓰지 않는다.\n",
    "\n",
    "help(buggy)"
   ]
  },
  {
   "cell_type": "code",
   "execution_count": 25,
   "id": "b33735d3-fd90-4203-8491-a380cbe2a738",
   "metadata": {},
   "outputs": [
    {
     "data": {
      "text/plain": [
       "'\\n    arg의 타입: str\\n    꽃 이름을 받는다.\\n    result의 타입은 list\\n    이 함수는 꽃 이름을 리스트에 추가한다.\\n    '"
      ]
     },
     "execution_count": 25,
     "metadata": {},
     "output_type": "execute_result"
    }
   ],
   "source": [
    "# 또다른 방법 - 던더바(__) 사용\n",
    "\n",
    "buggy.__doc__"
   ]
  },
  {
   "cell_type": "markdown",
   "id": "e84d85e7-b423-41d6-8115-216eb9f3bbb8",
   "metadata": {},
   "source": [
    "---\n",
    "#### `함수 실습1`\n",
    "- 나이를 입력받아 -> 태어난 연도로 바꾸기\n",
    "- 함수에서 정의할 것: 입력값=나이, 반환값=연도 (2022 - 나이 + 1)\n",
    "- 호출할 때 나이는 input으로 받기"
   ]
  },
  {
   "cell_type": "code",
   "execution_count": 27,
   "id": "247b9b5d-acdb-471e-9c15-cf136a94a800",
   "metadata": {},
   "outputs": [
    {
     "name": "stdin",
     "output_type": "stream",
     "text": [
      "나이를 입력하세요. 8\n"
     ]
    },
    {
     "name": "stdout",
     "output_type": "stream",
     "text": [
      "태어난 연도: 2015\n"
     ]
    }
   ],
   "source": [
    "def age_to_year(age):\n",
    "    this_year = 2022\n",
    "    return this_year - age + 1\n",
    "\n",
    "age = int(input('나이를 입력하세요.'))\n",
    "print(f'태어난 연도: {age_to_year(age)}')"
   ]
  },
  {
   "cell_type": "markdown",
   "id": "f81576d9-b2f1-42a7-9421-302e3666af86",
   "metadata": {},
   "source": [
    "---\n",
    "## 브라운 정제하기\n",
    "**해야할 것**\n",
    "1. 문장 분절\n",
    "2. 단어 분절\n",
    "3. 문장부호 제거\n",
    "4. 하이픈, 's, 'nt, 'd, ...\n",
    "5. 위의 것을 함수로 만들어라 (시험에서)"
   ]
  },
  {
   "cell_type": "code",
   "execution_count": 29,
   "id": "ce4c72c2-0c3c-4d8f-bdac-7b0fef8c1ab6",
   "metadata": {},
   "outputs": [
    {
     "name": "stderr",
     "output_type": "stream",
     "text": [
      "[nltk_data] Downloading package brown to /Users/haetbit/nltk_data...\n",
      "[nltk_data]   Package brown is already up-to-date!\n"
     ]
    }
   ],
   "source": [
    "import string\n",
    "import nltk\n",
    "\n",
    "nltk.download('brown')\n",
    "brown = nltk.corpus.brown\n",
    "romance = brown.raw(categories='romance')[:5000]"
   ]
  },
  {
   "cell_type": "markdown",
   "id": "6615e791-8730-4a10-9da0-f940d15b5627",
   "metadata": {},
   "source": [
    "---\n",
    "### 문장 분절"
   ]
  },
  {
   "cell_type": "code",
   "execution_count": 31,
   "id": "6f80a211-1cca-4ea9-988e-14885996cedd",
   "metadata": {},
   "outputs": [
    {
     "data": {
      "text/plain": [
       "'They/ppss neither/cc liked/vbd nor/cc disliked/vbd the/at Old/jj-tl Man/nn-tl'"
      ]
     },
     "execution_count": 31,
     "metadata": {},
     "output_type": "execute_result"
    }
   ],
   "source": [
    "# ./.\n",
    "# /. => 추천하는 분절 단위 => !, ? 처리 가능\n",
    "# \\n\n",
    "\n",
    "sentences = [sent.strip() for sent in romance.split('./.')]\n",
    "sentences = [s for s in sentences if s != '!'] # ! 삭제\n",
    "sentences[0]"
   ]
  },
  {
   "cell_type": "markdown",
   "id": "8281971b-97c9-4f4e-83df-9f1050b6e92b",
   "metadata": {},
   "source": [
    "---\n",
    "### 단어 분절\n",
    "- sentence에서 POS 제거하고, 단어 분절"
   ]
  },
  {
   "cell_type": "code",
   "execution_count": 32,
   "id": "3ba721e0-6982-4275-96cc-07bd8327e0ed",
   "metadata": {},
   "outputs": [],
   "source": [
    "# 자주쓰는 기호, 전체에서 쓰려면 대문자로 가져가기!\n",
    "\n",
    "SLASH = '/'"
   ]
  },
  {
   "cell_type": "code",
   "execution_count": 33,
   "id": "3589b509-1044-463f-b8e2-ae97347c5d2f",
   "metadata": {},
   "outputs": [
    {
     "data": {
      "text/plain": [
       "['They', 'neither', 'liked', 'nor', 'disliked', 'the', 'Old', 'Man']"
      ]
     },
     "execution_count": 33,
     "metadata": {},
     "output_type": "execute_result"
    }
   ],
   "source": [
    "example = sentences[0]\n",
    "[word[:word.find(SLASH)] if word[:word.find(SLASH)] else word for word in example.split()]"
   ]
  },
  {
   "cell_type": "code",
   "execution_count": 36,
   "id": "3872ac78-3696-42b0-9081-cdfd29739ed5",
   "metadata": {
    "tags": []
   },
   "outputs": [
    {
     "name": "stdout",
     "output_type": "stream",
     "text": [
      "[['They', 'neither', 'liked', 'nor', 'disliked', 'the', 'Old', 'Man'], ['To', 'them', 'he', 'could', 'have', 'been', 'the', 'broken', 'bell', 'in', 'the', 'church', 'tower', 'which', 'rang', 'before', 'and', 'after', 'Mass', ',', 'and', 'at', 'noon', ',', 'and', 'at', 'six', 'each', 'evening', '--', 'its', 'tone', ',', 'repetitive', ',', 'monotonous', ',', 'never', 'breaking', 'the', 'boredom', 'of', 'the', 'streets'], ['The', 'Old', 'Man', 'was', 'unimportant'], ['Yet', 'if', 'he', 'were', 'not', 'there', ',', 'they', 'would', 'have', 'missed', 'him', ',', 'as', 'they', 'would', 'have', 'missed', 'the', 'sounds', 'of', 'bees', 'buzzing', 'against', 'the', 'screen', 'door', 'in', 'early', 'June', ';', ';', 'or', 'the', 'smell', 'of', 'thick', 'tomato', 'paste', '--', 'the', 'ripe', 'smell', 'that', 'was', 'both', 'sweet', 'and', 'sour', '--', 'rising', 'up', 'from', 'aluminum', 'trays', 'wrapped', 'in', 'fly-dotted', 'cheesecloth'], ['Or', 'the', 'surging', 'whirling', 'sounds', 'of', 'bats', 'at', 'night', ',', 'when', 'their', 'black', 'bodies', 'dived', 'into', 'the', 'blackness', 'above', 'and', 'below', 'the', 'amber', 'street', 'lights'], ['Or', 'the', 'bay', 'of', 'female', 'dogs', 'in', 'heat'], ['They', 'never', 'called', 'him', 'by', 'name', ',', 'although', 'he', 'had', 'one'], ['Filippo', 'Rossi', ',', \"that's\", 'what', 'he', 'was', 'called', 'in', 'the', 'old', 'country', ';', ';', 'but', 'here', 'he', 'was', 'just', 'Signore', 'or', 'the', 'Old', 'Man'], ['But', 'this', 'was', 'not', 'unusual', ',', 'because', 'youth', 'in', 'these', 'quarters', 'was', 'always', 'pushed', 'at', 'a', 'distance', 'from', 'its', 'elders'], ['Youth', 'obeyed', 'when', 'commanded']]\n"
     ]
    }
   ],
   "source": [
    "# 전체 문장에 적용하기!\n",
    "\n",
    "sentences_tokens = [[word[:word.find(SLASH)] \\\n",
    "                     if word[:word.find(SLASH)] else word \\\n",
    "                     for word in example.split()] for example in sentences]\n",
    "\n",
    "print(sentences_tokens[:10])"
   ]
  },
  {
   "cell_type": "markdown",
   "id": "f16e3323-8925-43c7-8424-6f7521be8b33",
   "metadata": {},
   "source": [
    "---\n",
    "### punctuations"
   ]
  },
  {
   "cell_type": "code",
   "execution_count": 37,
   "id": "ac210fd4-cb9d-445f-9898-7840532e0040",
   "metadata": {},
   "outputs": [
    {
     "name": "stdout",
     "output_type": "stream",
     "text": [
      "['!', '\"', '#', '$', '%', '&', \"'\", '(', ')', '*', '+', ',', '-', '.', '/', ':', ';', '<', '=', '>', '?', '@', '[', '\\\\', ']', '^', '_', '`', '{', '|', '}', '~']\n"
     ]
    }
   ],
   "source": [
    "# 리스트화 하기\n",
    "\n",
    "punct = list(string.punctuation)\n",
    "print(punct)"
   ]
  },
  {
   "cell_type": "code",
   "execution_count": 40,
   "id": "75c9a486-4eb4-4fd4-8c9d-b2b89729a8af",
   "metadata": {
    "tags": []
   },
   "outputs": [
    {
     "data": {
      "text/plain": [
       "['They', 'neither', 'liked', 'nor', 'disliked', 'the', 'Old', 'Man']"
      ]
     },
     "execution_count": 40,
     "metadata": {},
     "output_type": "execute_result"
    }
   ],
   "source": [
    "# punctuation 골라내는 방법\n",
    "# fly-dotted의 '-', didn't의 '\\'' 살리면서 골라내기\n",
    "# word[0].isalnum() 사용\n",
    "\n",
    "[[word for word in sent \n",
    "  if word[0].isalnum() and word not in punct] \n",
    " for sent in sentences_tokens][0]"
   ]
  },
  {
   "cell_type": "code",
   "execution_count": 41,
   "id": "583b38b6-0e67-43c9-ae2d-cab6a4760690",
   "metadata": {},
   "outputs": [
    {
     "name": "stdout",
     "output_type": "stream",
     "text": [
      "{'``', \"''\", '--'}\n",
      "['!', '\"', '#', '$', '%', '&', \"'\", '(', ')', '*', '+', ',', '-', '.', '/', ':', ';', '<', '=', '>', '?', '@', '[', '\\\\', ']', '^', '_', '`', '{', '|', '}', '~', '``', \"''\", '--']\n"
     ]
    }
   ],
   "source": [
    "# punctuation에 없는 punctuation을 잡아서\n",
    "# my_punct로 저장한 뒤 punct에 extend하기\n",
    "\n",
    "my_punct = set([word \n",
    "                for sent in sentences_tokens \n",
    "                for word in sent \n",
    "                if (not word[0].isalnum()) and (word not in punct)])\n",
    "print(my_punct)\n",
    "\n",
    "punct.extend(list(my_punct))\n",
    "print(punct)"
   ]
  },
  {
   "cell_type": "markdown",
   "id": "9dbfb620-b33b-45da-a2f7-d3b203e08d96",
   "metadata": {},
   "source": [
    "---\n",
    "#### ! 하이픈 fur-piece\n",
    "- split한 뒤에 extend\n",
    "```\n",
    "'fur-piece'.split('-') \n",
    "```\n",
    "\n",
    "#### ! apostrophe 's\n",
    "- split으로 X\n",
    "- index로 가져간 뒤에 extend\n",
    "```\n",
    "word = 'she\\'s'\n",
    "index = word.find('\\'')\n",
    "word[:index], word[index:]\n",
    "```\n",
    "\n",
    "=> 결과: ('she', \"'s\")\n",
    "\n",
    "**(위 과정은 for loop으로 가져가기)**\n",
    "\n",
    "#### ! 해리포터에서 단어 중간에 '이 오는 경우\n",
    "- 예: myst'ry\n",
    "- 생각해보고 정의하기\n",
    "    - (조건1) 's, 'nt, 'd 는 처리하고\n",
    "    - 나머지는 그냥 붙인다."
   ]
  },
  {
   "cell_type": "markdown",
   "id": "7f5e3761-5b79-4115-8f5a-be3d8c2cec84",
   "metadata": {},
   "source": [
    "---\n",
    "#### `함수 실습2`\n",
    "```\n",
    "example = sentences[0]\n",
    "[word[:word.find(SLASH)] if word[:word.find(SLASH)] else word for word in example.split()]\n",
    "```\n",
    "- 단어 분절하는 부분을 함수로 만들어보기\n",
    "- 어떤 문장이 들어왔을 때 품사 제거하고, punct제거하고, 토큰 리스트로 반환"
   ]
  },
  {
   "cell_type": "code",
   "execution_count": 44,
   "id": "a35701b9-29b3-444a-9cda-2d82cf9d8d19",
   "metadata": {},
   "outputs": [
    {
     "name": "stdout",
     "output_type": "stream",
     "text": [
      "['Yet', 'if', 'he', 'were', 'not', 'there', 'they', 'would', 'have', 'missed', 'him', 'as', 'they', 'would', 'have', 'missed', 'the', 'sounds', 'of', 'bees', 'buzzing', 'against', 'the', 'screen', 'door', 'in', 'early', 'June', 'or', 'the', 'smell', 'of', 'thick', 'tomato', 'paste', 'the', 'ripe', 'smell', 'that', 'was', 'both', 'sweet', 'and', 'sour', 'rising', 'up', 'from', 'aluminum', 'trays', 'wrapped', 'in', 'fly-dotted', 'cheesecloth']\n"
     ]
    }
   ],
   "source": [
    "def tokenize_word(sent):\n",
    "    token_list = [word[:word.find(SLASH)] \n",
    "                  for word in sent.split() \n",
    "                  if (word[0].isalnum()) and (word not in punct)]\n",
    "    return token_list\n",
    "\n",
    "print(tokenize_word(sentences[3]))"
   ]
  }
 ],
 "metadata": {
  "kernelspec": {
   "display_name": "Python 3 (ipykernel)",
   "language": "python",
   "name": "python3"
  },
  "language_info": {
   "codemirror_mode": {
    "name": "ipython",
    "version": 3
   },
   "file_extension": ".py",
   "mimetype": "text/x-python",
   "name": "python",
   "nbconvert_exporter": "python",
   "pygments_lexer": "ipython3",
   "version": "3.9.7"
  }
 },
 "nbformat": 4,
 "nbformat_minor": 5
}
