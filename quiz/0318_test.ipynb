{
 "cells": [
  {
   "cell_type": "markdown",
   "id": "00ef8830-b0c8-45fb-8845-4c27ef6c1e4e",
   "metadata": {},
   "source": [
    "#### 1. 다음 중 True인 것은?\n",
    "```\n",
    "a) 0 and 1\n",
    "b) 0 or 1\n",
    "c) string = '0'\n",
    "d) A = []\n",
    "e) B = [0]\n",
    "```"
   ]
  },
  {
   "cell_type": "code",
   "execution_count": 1,
   "id": "dea89840-5807-4172-8150-8bf82c0724a7",
   "metadata": {},
   "outputs": [
    {
     "name": "stdout",
     "output_type": "stream",
     "text": [
      "False\n",
      "True\n",
      "False\n",
      "True\n",
      "True\n"
     ]
    }
   ],
   "source": [
    "print(bool([]))\n",
    "print(bool([0]))\n",
    "print(bool(0 and 1))\n",
    "print(bool('0'))\n",
    "print(bool(0 or 1))"
   ]
  },
  {
   "cell_type": "markdown",
   "id": "06718618-1e7f-49ac-901b-61209a72b074",
   "metadata": {},
   "source": [
    "#### 2. 편의점 매출 계산\n",
    "```\n",
    "조건1: 총 매출 = (소비자가 - 원가) * 개수\n",
    "조건2: 5개 이상 구매 시 전체 물품의 15% 할인\n",
    " (할인 적용 품목 범위는 둘다 가능함)\n",
    "한 고객이 다음과 같이 물건을 구입했다고 할 떄, 편의점의 매출을 계산하시오.\n",
    "출력 조건:\n",
    " - 최대한 모든 리터럴을 변수에 담을 것.\n",
    " - 출력값은 총 매출액(정수)\n",
    " 비요뜨 삼각김밥 콜라 바나나 홈런볼\n",
    "원가 480 900 380 1050 770\n",
    "소비자가 1300 2500 800 3200 1500\n",
    "개수 3 5 6 2 4\n",
    "```"
   ]
  },
  {
   "cell_type": "code",
   "execution_count": 2,
   "id": "3c339c95-19ab-497e-b49d-1eb77bd29c33",
   "metadata": {},
   "outputs": [
    {
     "name": "stdout",
     "output_type": "stream",
     "text": [
      "17170\n"
     ]
    }
   ],
   "source": [
    "tot = 0\n",
    "\n",
    "viyott = 1300 - 480\n",
    "gimbap = 2500 - 900\n",
    "coke = 800 - 380\n",
    "banana = 3200 - 1050\n",
    "snack = 1500 - 770\n",
    "\n",
    "buy_list = [viyott * 3, gimbap * 5, coke * 6, banana * 2, snack * 4]\n",
    "\n",
    "for elem in buy_list:\n",
    "    tot += elem\n",
    "\n",
    "if len(buy_list) >= 5:\n",
    "    tot *= 0.85\n",
    "\n",
    "print(int(tot))"
   ]
  },
  {
   "cell_type": "markdown",
   "id": "0a25f4c9-7306-40b2-8162-d27243776069",
   "metadata": {},
   "source": [
    "#### 3. 마이클이 흙을 나른다고 가정하자.\n",
    "```\n",
    "옮겨야 할 흙은 총 n킬로그램이고, 마이클은 3kg씩 혹은 5kg씩 나를 수 있다.\n",
    "최대한 적은 노력으로 모든 흙을 나를 수 있는 코드를 작성하라.\n",
    "(단, 나르는 흙의 양이 총량과 정확하게 떨어지지 않으면 총량을 살짝 넘겨야 한다.)\n",
    "출력 조건:\n",
    " - n은 랜덤으로 주어진다.\n",
    " - 출력값 = (3kg 나르는 횟수, 5kg 나르는 횟수)\n",
    "```\n",
    "- **참고용**\n",
    "```\n",
    "import random\n",
    "n = random.randint(10, 100)\n",
    "```\n"
   ]
  },
  {
   "cell_type": "code",
   "execution_count": 3,
   "id": "ef5558f7-9e3d-4a25-ac11-c79e1438c8f5",
   "metadata": {},
   "outputs": [
    {
     "name": "stdout",
     "output_type": "stream",
     "text": [
      "1 11\n"
     ]
    }
   ],
   "source": [
    "import random\n",
    "\n",
    "n = random.randint(10, 100)\n",
    "times_3kg = 0\n",
    "times_5kg = 0\n",
    "\n",
    "n_div, n_mod = divmod(n, 5)\n",
    "\n",
    "times_5kg = n_div\n",
    "\n",
    "if n_mod > 3:\n",
    "    times_5kg += 1\n",
    "else:\n",
    "    times_3kg += 1\n",
    "\n",
    "print(times_3kg, times_5kg)"
   ]
  },
  {
   "cell_type": "markdown",
   "id": "0ce7f53e-6f87-46c5-a9d3-c69a202dbf4e",
   "metadata": {},
   "source": [
    "#### 4. 달팽이가 높이 350미터인 나무 막대를 올라간다.\n",
    "```\n",
    "조건1: 달팽이는 낮에 5미터 올라간다.\n",
    "조건2: 밤에는 2미터 미끄러진다.\n",
    "조건3: 정상에 올라간 후에는 미끄러지지 않는다.\n",
    "달팽이가 막대기 정상에 올라가려면 며칠이 걸리는지 코드를 짜서 프린트하시오.\n",
    "(모든 리터럴은 변수에 담겨야 한다. 코드 및 정답을 모두 제출한다.)\n",
    "```\n"
   ]
  },
  {
   "cell_type": "code",
   "execution_count": 4,
   "id": "b14c6505-8ff9-48f0-9ac1-fe303bee0c1a",
   "metadata": {},
   "outputs": [
    {
     "name": "stdout",
     "output_type": "stream",
     "text": [
      "116\n"
     ]
    }
   ],
   "source": [
    "height = 350\n",
    "day = 5\n",
    "night = 2\n",
    "\n",
    "ans = 1\n",
    "while True:\n",
    "    # 아침\n",
    "    height -= day\n",
    "\n",
    "    if height <= 0:\n",
    "        break\n",
    "\n",
    "    # 밤\n",
    "    height += night\n",
    "\n",
    "    ans += 1\n",
    "\n",
    "print(ans)"
   ]
  },
  {
   "cell_type": "markdown",
   "id": "20af8eef-53ec-4258-8d53-4c6bf46e7f02",
   "metadata": {},
   "source": [
    "#### 5. 세 수를 입력 받고 가장 큰 수를 찾는 코드를 작성하시오.\n",
    "```\n",
    "예: 12, 14, 15 입력 받았다면 15\n",
    "* 조건식을 위한 문제이기 때문에 max() 함수는 인정하지 않음.\n",
    "```"
   ]
  },
  {
   "cell_type": "code",
   "execution_count": 5,
   "id": "8a87c1db-c0a7-482a-b2a5-798421e66db7",
   "metadata": {},
   "outputs": [
    {
     "name": "stdin",
     "output_type": "stream",
     "text": [
      " 12, 14, 15\n"
     ]
    },
    {
     "name": "stdout",
     "output_type": "stream",
     "text": [
      "15\n"
     ]
    }
   ],
   "source": [
    "import sys\n",
    "\n",
    "nums = map(int, input().split(','))\n",
    "\n",
    "max_num = -sys.maxsize\n",
    "for num in nums:\n",
    "    if num > max_num:\n",
    "        max_num = num\n",
    "    \n",
    "print(max_num)"
   ]
  }
 ],
 "metadata": {
  "kernelspec": {
   "display_name": "Python 3 (ipykernel)",
   "language": "python",
   "name": "python3"
  },
  "language_info": {
   "codemirror_mode": {
    "name": "ipython",
    "version": 3
   },
   "file_extension": ".py",
   "mimetype": "text/x-python",
   "name": "python",
   "nbconvert_exporter": "python",
   "pygments_lexer": "ipython3",
   "version": "3.9.7"
  }
 },
 "nbformat": 4,
 "nbformat_minor": 5
}
