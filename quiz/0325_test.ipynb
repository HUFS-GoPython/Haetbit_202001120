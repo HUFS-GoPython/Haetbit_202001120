{
 "cells": [
  {
   "cell_type": "markdown",
   "id": "c986a675-7901-4743-97f8-4c9022d246c0",
   "metadata": {},
   "source": [
    "#### 1. NLTK 임포트하고, text4에서 4자리 단어만 출력하세요."
   ]
  },
  {
   "cell_type": "code",
   "execution_count": 1,
   "id": "5b8b704d-bccb-46a8-ac07-b60f110ac5ae",
   "metadata": {},
   "outputs": [
    {
     "name": "stdout",
     "output_type": "stream",
     "text": [
      "*** Introductory Examples for the NLTK Book ***\n",
      "Loading text1, ..., text9 and sent1, ..., sent9\n",
      "Type the name of the text or sentence to view it.\n",
      "Type: 'texts()' or 'sents()' to list the materials.\n",
      "text1: Moby Dick by Herman Melville 1851\n",
      "text2: Sense and Sensibility by Jane Austen 1811\n",
      "text3: The Book of Genesis\n",
      "text4: Inaugural Address Corpus\n",
      "text5: Chat Corpus\n",
      "text6: Monty Python and the Holy Grail\n",
      "text7: Wall Street Journal\n",
      "text8: Personals Corpus\n",
      "text9: The Man Who Was Thursday by G . K . Chesterton 1908\n"
     ]
    }
   ],
   "source": [
    "from nltk.book import *"
   ]
  },
  {
   "cell_type": "code",
   "execution_count": 2,
   "id": "1e0c69ae-9425-4250-ac8a-f23f69d7f0f2",
   "metadata": {},
   "outputs": [
    {
     "name": "stdout",
     "output_type": "stream",
     "text": [
      "['duly', 'glow', 'stop', 'knew', 'also', 'hold', 'cast', 'duty', 'lash', 'deed']\n",
      "648\n"
     ]
    }
   ],
   "source": [
    "ans = set([word.lower() for word in text4 if len(word) == 4])\n",
    "ans = list(ans)\n",
    "\n",
    "# 너무 많아서 앞에서 10개만!\n",
    "print(ans[:10])\n",
    "\n",
    "# 4자리 단어의 개수 (중복 X)\n",
    "print(len(ans))"
   ]
  },
  {
   "cell_type": "markdown",
   "id": "22215610-a459-4539-ae34-232688e43bd4",
   "metadata": {},
   "source": [
    "#### 2. text 1~9 중 가장 어휘가 풍부한 코퍼스는?\n"
   ]
  },
  {
   "cell_type": "code",
   "execution_count": 3,
   "id": "1e548428-6be8-4902-8f6a-451a9afc0cbd",
   "metadata": {},
   "outputs": [
    {
     "name": "stdout",
     "output_type": "stream",
     "text": [
      "text8\n",
      "text8\n"
     ]
    }
   ],
   "source": [
    "text_list = [text1, text2, text3, text4, text5, text6, text7, text8, text9]\n",
    "\n",
    "# max 이용\n",
    "lexical_divs = []\n",
    "\n",
    "for txt in text_list:\n",
    "    lexical_divs.append(len(set(txt)) / len(txt))\n",
    "    \n",
    "ans = lexical_divs.index(max(lexical_divs))\n",
    "print(f'text{ans + 1}')\n",
    "\n",
    "# max 함수 이용 X\n",
    "max_lexical = 0\n",
    "for txt in text_list:\n",
    "    calc = len(set(txt)) / len(txt)\n",
    "    if calc > max_lexical:\n",
    "        max_lexical = calc\n",
    "        ans = txt\n",
    "\n",
    "print(f'text{text_list.index(ans) + 1}')"
   ]
  },
  {
   "cell_type": "markdown",
   "id": "459427c7-2113-4690-b696-dc77b2ad1a4a",
   "metadata": {},
   "source": [
    "#### 3. text4에서 democracy는 몇 번 나오는 지 출력하시오.\n"
   ]
  },
  {
   "cell_type": "code",
   "execution_count": 4,
   "id": "af50fcd7-07b3-4c1f-9368-76703d5254a4",
   "metadata": {},
   "outputs": [
    {
     "name": "stdout",
     "output_type": "stream",
     "text": [
      "65\n",
      "65\n"
     ]
    }
   ],
   "source": [
    "# fdist 이용\n",
    "fdist4 = FreqDist(text4)\n",
    "ans = fdist4['democracy']\n",
    "\n",
    "print(ans)\n",
    "\n",
    "# count 이용\n",
    "ans = text4.count('democracy')\n",
    "print(ans)"
   ]
  },
  {
   "cell_type": "markdown",
   "id": "614b306c-0862-4777-8669-5742ba5c16a3",
   "metadata": {},
   "source": [
    "#### 4. text4에서는 한 번 출현하지만, text3에서는 여러 번 출현하는 단어는 몇 개인지 출력하시오.\n"
   ]
  },
  {
   "cell_type": "code",
   "execution_count": 5,
   "id": "d000bbd9-3eaa-426e-a807-73cf2b6d8373",
   "metadata": {},
   "outputs": [
    {
     "name": "stdout",
     "output_type": "stream",
     "text": [
      "119\n"
     ]
    }
   ],
   "source": [
    "text4 = [word.lower() for word in text4]\n",
    "text3 = [word.lower() for word in text3]\n",
    "\n",
    "fdist4 = FreqDist(text4)\n",
    "fdist3 = FreqDist(text3)\n",
    "\n",
    "txt4 = set([word for word in fdist4.hapaxes() if word.isalpha()])\n",
    "txt3 = set([word for word in txt4 if fdist3[word] >= 2])\n",
    "\n",
    "print(len(txt3))"
   ]
  },
  {
   "cell_type": "markdown",
   "id": "c55c9954-57c6-4d0c-91ea-7f0b06c5072a",
   "metadata": {},
   "source": [
    "#### 5. text5에서 4번 출현하는 단어들을 중복되지 않게 오름차순으로 출력하시오.\n"
   ]
  },
  {
   "cell_type": "code",
   "execution_count": 6,
   "id": "617908f8-73d6-4db9-994e-0e23169295bf",
   "metadata": {},
   "outputs": [
    {
     "name": "stdout",
     "output_type": "stream",
     "text": [
      "['afternoon', 'ahh', 'alright', 'any', 'asses', 'barbie', 'beat', 'behind', 'between', 'bitch']\n",
      "183\n"
     ]
    }
   ],
   "source": [
    "fdist5 = FreqDist(text5)\n",
    "\n",
    "ans = set([word.lower() for word in text5 if fdist5[word] == 4 and word.isalpha()])\n",
    "ans = sorted(list(ans))\n",
    "\n",
    "\n",
    "# 너무 많아서 앞에서 10개만!!\n",
    "print(ans[:10])\n",
    "print(len(ans))"
   ]
  },
  {
   "cell_type": "markdown",
   "id": "4b108a5e-97a0-4fe3-b2b9-8419a38399a4",
   "metadata": {},
   "source": [
    "#### 6. text7에서 가장 긴 단어는 몇 자 인가?\n"
   ]
  },
  {
   "cell_type": "code",
   "execution_count": 7,
   "id": "ee6de10a-43ed-4c8b-b737-630323b6808b",
   "metadata": {},
   "outputs": [
    {
     "name": "stdout",
     "output_type": "stream",
     "text": [
      "24\n"
     ]
    }
   ],
   "source": [
    "ans = 0\n",
    "for elem in text7:\n",
    "    if len(elem) > ans:\n",
    "        ans = len(elem)\n",
    "        \n",
    "print(ans)"
   ]
  },
  {
   "cell_type": "markdown",
   "id": "dd55af74-e14e-4e3b-94cf-8551c3924bb0",
   "metadata": {},
   "source": [
    "#### 7. 다음은 문자열을 입력받아 역 순서의 문자열을 만들어 리턴하는 프로그램이다. 빈칸에 알맞는 코드를 작성하시오.\n",
    "```\n",
    "def reverse(L, a):\n",
    "    n = len(L)\n",
    "    if a < #1:\n",
    "        L[a], L[#2] = L[#3], L[a]\n",
    "        reverse(L, a+1)\n",
    "L = list(input('문자열을 입력하세요: ')) # 문자열 입력받기\n",
    "reverse(L, 0)\n",
    "print(''.join(str(x) for x in L) # 역 순서의 문자열 출력\n",
    "```\n",
    "\n",
    "[#1] : a//2\n",
    "\n",
    "[#2] : n – (a + 1)\n",
    "\n",
    "[#3] : n – (a + 1)"
   ]
  }
 ],
 "metadata": {
  "kernelspec": {
   "display_name": "Python 3 (ipykernel)",
   "language": "python",
   "name": "python3"
  },
  "language_info": {
   "codemirror_mode": {
    "name": "ipython",
    "version": 3
   },
   "file_extension": ".py",
   "mimetype": "text/x-python",
   "name": "python",
   "nbconvert_exporter": "python",
   "pygments_lexer": "ipython3",
   "version": "3.9.7"
  }
 },
 "nbformat": 4,
 "nbformat_minor": 5
}
