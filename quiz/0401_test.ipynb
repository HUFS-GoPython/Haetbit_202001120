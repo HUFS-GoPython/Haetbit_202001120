{
 "cells": [
  {
   "cell_type": "markdown",
   "id": "5355d361-eb03-4ffb-8e80-ddbfc8d14172",
   "metadata": {},
   "source": [
    "#### 1. 두 수의 최대공약수와 최소공배수를 구하는 함수를 짜시오. (함수를 각각 만들어서 활용해도 됨)\n",
    "- 공약수란 두 수 이상의 여러 수의 공통된 약수를 의미합니다. 최대공약수(GCD)란 두 수 이상의 여러 수의 공약수 중 최대인 수를 가리킵니다.\n",
    "- 두 수의 최소공배수는 두 수에서 서로 공통으로 존재하는 배수 중 가장 작은 수를 뜻합니다.\n",
    "\n",
    "힌트: 최소공배수 = (0이 아닌) 두 수의 곱 / 최대공약수"
   ]
  },
  {
   "cell_type": "code",
   "execution_count": 1,
   "id": "0e9dd72a-30ec-4742-a0bb-e1794df1ea91",
   "metadata": {},
   "outputs": [
    {
     "name": "stdout",
     "output_type": "stream",
     "text": [
      "5\n",
      "15\n"
     ]
    }
   ],
   "source": [
    "# 최대공약수\n",
    "def gcd(a, b):\n",
    "   while b:\n",
    "       a, b = b, a % b\n",
    "   return a\n",
    "\n",
    "\n",
    "# 최소공배수\n",
    "def lcm(a, b):\n",
    "    nums_gcd = gcd(a, b)\n",
    "    return int((a * b) / nums_gcd)\n",
    "\n",
    "print(gcd(5, 15))\n",
    "print(lcm(5, 15))"
   ]
  },
  {
   "cell_type": "markdown",
   "id": "c1d43c0e-8541-449b-ae47-81bd5873623e",
   "metadata": {},
   "source": [
    "#### 2. 팩토리얼을 구한 뒤, 결과값의 맨 마지막 자리에서 시작해서 처음으로 0이 아닌 숫자가 나올 때까지 0의 개수를 구하는 함수를 만드시오.\n",
    "예: 80000300 => 2개\n",
    "\n",
    "- 입력값=n\n",
    "- 출력값=결과값, 0 개수"
   ]
  },
  {
   "cell_type": "code",
   "execution_count": 2,
   "id": "420ed8c0-e72c-4dd9-8141-c82892a0e191",
   "metadata": {},
   "outputs": [
    {
     "name": "stdin",
     "output_type": "stream",
     "text": [
      " 7\n"
     ]
    },
    {
     "name": "stdout",
     "output_type": "stream",
     "text": [
      "5040, 1\n"
     ]
    }
   ],
   "source": [
    "n = int(input())\n",
    "\n",
    "res = 1\n",
    "for i in range(1, n + 1):\n",
    "    res *= i\n",
    "\n",
    "cnt = 0\n",
    "\n",
    "res_list = list(str(res))[::-1]\n",
    "\n",
    "for elem in res_list:\n",
    "    if elem != '0':\n",
    "        break\n",
    "    else:\n",
    "        cnt += 1\n",
    "\n",
    "print(f'{res}, {cnt}')"
   ]
  },
  {
   "cell_type": "markdown",
   "id": "5ad5688d-3491-43f3-9d6e-0c2fd856c715",
   "metadata": {},
   "source": [
    "#### 3. nltk.book 텍스트들을 순회하며\n",
    "- 각 코퍼스에서 what, when, where, who, why, which의 빈도수를 출력하는 코드를 작성하세요.\n",
    "- 단, 단어는 모두 소문자화함.\n",
    "- 전체 코드가 하나의 루프 안에 존재해야 함.\n",
    "- 프린트는 다음의 형식으로 맞춰야 함.\n",
    "    \n",
    "    - 텍스트1: what=3번, when=4번, where=6번, who=3번, why=11번, which=44번\n",
    "    - 텍스트2:...\n",
    "    - ...\n",
    "    - 텍스트9:...."
   ]
  },
  {
   "cell_type": "code",
   "execution_count": 3,
   "id": "b1edc99c-8ee9-4c2f-9a1c-588b3b222661",
   "metadata": {},
   "outputs": [
    {
     "name": "stdout",
     "output_type": "stream",
     "text": [
      "*** Introductory Examples for the NLTK Book ***\n",
      "Loading text1, ..., text9 and sent1, ..., sent9\n",
      "Type the name of the text or sentence to view it.\n",
      "Type: 'texts()' or 'sents()' to list the materials.\n",
      "text1: Moby Dick by Herman Melville 1851\n",
      "text2: Sense and Sensibility by Jane Austen 1811\n",
      "text3: The Book of Genesis\n",
      "text4: Inaugural Address Corpus\n",
      "text5: Chat Corpus\n",
      "text6: Monty Python and the Holy Grail\n",
      "text7: Wall Street Journal\n",
      "text8: Personals Corpus\n",
      "text9: The Man Who Was Thursday by G . K . Chesterton 1908\n",
      "텍스트1: what=618번, when=606번, where=220번, who=363번, why=119번, which=648번\n",
      "텍스트2: what=444번, when=306번, where=91번, who=269번, why=49번, which=593번\n",
      "텍스트3: what=46번, when=120번, where=25번, who=24번, why=8번, which=199번\n",
      "텍스트4: what=183번, when=221번, where=73번, who=381번, why=16번, which=1007번\n",
      "텍스트5: what=201번, when=54번, where=66번, who=106번, why=65번, which=6번\n",
      "텍스트6: what=92번, when=14번, where=14번, who=46번, why=7번, which=11번\n",
      "텍스트7: what=71번, when=98번, where=36번, who=167번, why=14번, which=225번\n",
      "텍스트8: what=0번, when=1번, where=0번, who=17번, why=0번, which=0번\n",
      "텍스트9: what=171번, when=140번, where=43번, who=177번, why=54번, which=199번\n"
     ]
    }
   ],
   "source": [
    "from nltk.book import *\n",
    "\n",
    "text_list = [text1, text2, text3, text4, text5, text6, text7, text8, text9]\n",
    "\n",
    "for i in range(len(text_list)):\n",
    "    text_list[i] = [word.lower() for word in text_list[i]]\n",
    "    fdist = FreqDist(text_list[i])\n",
    "    \n",
    "    print(f\"텍스트{i + 1}: what={fdist['what']}번, when={fdist['when']}번, where={fdist['where']}번, who={fdist['who']}번, why={fdist['why']}번, which={fdist['which']}번\")"
   ]
  },
  {
   "cell_type": "markdown",
   "id": "c4bde04c-46fc-4f99-a4aa-14c10d613578",
   "metadata": {},
   "source": [
    "#### 4. 문자열을 나눠 list에 저장하고, list를 이용하여 출력 예시와 같게 출력하기 위한 프로그램의 빈칸을 알맞게 채우시오.\n",
    "\n",
    "```\n",
    "book = 'Hamlet & Othello & King Lear & Macbeth'\n",
    "book_list = [#1]\n",
    "book_string = [#2]\n",
    "print([#3])\n",
    "```\n",
    "\n",
    "출력 예시) Shakespeare's Four Great Tragedies: Hamlet, Othello, King Lear, Macbeth"
   ]
  },
  {
   "cell_type": "code",
   "execution_count": 4,
   "id": "971d41d3-c7de-4114-9f9c-6d630d9a211d",
   "metadata": {},
   "outputs": [
    {
     "name": "stdout",
     "output_type": "stream",
     "text": [
      "Shakespeare's Four Great Tragedies: Hamlet, Othello, King Lear, Macbeth\n"
     ]
    }
   ],
   "source": [
    "book = 'Hamlet & Othello & King Lear & Macbeth'\n",
    "book_list = book.split(' & ')\n",
    "book_string = \"Shakespeare's Four Great Tragedies\"\n",
    "print(f\"{book_string}: {book_list[0]}, {book_list[1]}, {book_list[2]}, {book_list[3]}\")"
   ]
  },
  {
   "cell_type": "markdown",
   "id": "452f5183-6771-43c7-bb2c-a932097b630f",
   "metadata": {},
   "source": [
    "#### 5. text6에서 pt를 포함하는 단어 리스트를 출력하는 코드를 작성하시오.\n",
    "- 단, 대소문자 구분 없음. (예: Pt, pT, ...)\n",
    "- list comprehension 사용할 것\n",
    "- 숫자, 문장부호 제외할 것\n",
    "- 내림차순 정렬할 것"
   ]
  },
  {
   "cell_type": "code",
   "execution_count": 5,
   "id": "4b94931f-0c69-4d75-836d-aa6b2eb7c1a0",
   "metadata": {},
   "outputs": [
    {
     "name": "stdout",
     "output_type": "stream",
     "text": [
      "['Chapter', 'Thpppppt', 'Thppppt', 'Thpppt', 'Thppt', 'Thppt', 'aptly', 'empty', 'empty', 'excepting', 'ptoo', 'temptation', 'temptress']\n"
     ]
    }
   ],
   "source": [
    "from nltk.book import *\n",
    "\n",
    "ans = sorted([word for word in text6 \\\n",
    "              if word.isalpha() and ('pt' or 'Pt' or 'pT' or 'PT') in word])\n",
    "\n",
    "print(ans)"
   ]
  },
  {
   "cell_type": "markdown",
   "id": "dea0a0b2-7dbc-4a09-b8d3-a10c6d6dc31f",
   "metadata": {},
   "source": [
    "#### 6. 다음과 같은 규칙을 따르는 프로그램이 있다고 하자.\n",
    "A. 주어진 수가 10보다 작다면 앞에 0을 붙여 두 자리 수로 만들고, 각 자리의 숫자를 더한다.\n",
    "\n",
    "B. 그 다음, 주어진 수의 가장 오른쪽 자리 수와 앞에서 구한 합의 가장 오른쪽 자리 수를 이어 붙이면 새로운 수를 만들 수 있다.\n",
    "\n",
    "예를 들어, 26은 2 + 6 = 8이다. 새로운 수는 68이다. 6 + 8 =14이다. 새로운 수는 84이다. 8 + 4 = 12이다. 새로운 수는 42이다. 4 + 2 = 6이다. 새로운 수는 26이다. 26은 4번만에 원래 수로 돌아올 수 있다. 따라서 26의 사이클의 길이는 4이다.\n",
    "\n",
    "n이 주어졌을 때, n의 사이클의 길이를 구하는 프로그램을 작성하시오.\n",
    "\n",
    "- 입력: n (n은 0보다 크거나 같고, 99보다 작거나 같은 정수)\n",
    "- 출력: n의 사이클의 길이"
   ]
  },
  {
   "cell_type": "code",
   "execution_count": 6,
   "id": "1d57a70a-e7bf-40f7-8d9d-d13be8d7c909",
   "metadata": {},
   "outputs": [
    {
     "name": "stdin",
     "output_type": "stream",
     "text": [
      " 26\n"
     ]
    },
    {
     "name": "stdout",
     "output_type": "stream",
     "text": [
      "4\n"
     ]
    }
   ],
   "source": [
    "n = int(input())\n",
    "cycle = 0\n",
    "temp = n\n",
    "\n",
    "while True:\n",
    "    if temp == n and cycle != 0:\n",
    "        break\n",
    "\n",
    "    x = temp % 10\n",
    "    y = ((temp // 10) + x) % 10\n",
    "\n",
    "    temp = 10 * x + y\n",
    "    cycle += 1\n",
    "\n",
    "print(cycle)"
   ]
  },
  {
   "cell_type": "markdown",
   "id": "5ed6d4de-2b72-4f75-bf7d-f0c253de86b4",
   "metadata": {},
   "source": [
    "#### 7. 다음 조건에 맞게 별찍기 프로그램을 작성하시오.\n",
    "[조건]\n",
    "1. 첫째 줄에는 별 2*N-1개, 둘째 줄에는 별 2*N-3개, ..., N번째 줄에는 별 1개를 찍는다. \n",
    "2. 별은 가운데를 기준으로 대칭이어야 한다.\n",
    "\n",
    "- 입력값: n\n",
    "- 출력값: 첫째 줄부터 N번째 줄까지 차례대로 별을 출력\n",
    "\n",
    "출력 예시) 다음은 n=5일 때 출력 예시이다. 참고해서 프로그램을 작성하시오.\n",
    "```\n",
    "*********\n",
    " *******\n",
    "  *****\n",
    "   ***\n",
    "    *\n",
    "```"
   ]
  },
  {
   "cell_type": "code",
   "execution_count": 7,
   "id": "65618c3e-346e-466d-ab4f-722865f7bade",
   "metadata": {},
   "outputs": [
    {
     "name": "stdin",
     "output_type": "stream",
     "text": [
      " 5\n"
     ]
    },
    {
     "name": "stdout",
     "output_type": "stream",
     "text": [
      "*********\n",
      " *******\n",
      "  *****\n",
      "   ***\n",
      "    *\n"
     ]
    }
   ],
   "source": [
    "n = int(input())\n",
    "\n",
    "star = '*'\n",
    "space = ' '\n",
    "for i in range(n):\n",
    "    print(space * i + star * (2 * (n - i) - 1))"
   ]
  }
 ],
 "metadata": {
  "kernelspec": {
   "display_name": "Python 3 (ipykernel)",
   "language": "python",
   "name": "python3"
  },
  "language_info": {
   "codemirror_mode": {
    "name": "ipython",
    "version": 3
   },
   "file_extension": ".py",
   "mimetype": "text/x-python",
   "name": "python",
   "nbconvert_exporter": "python",
   "pygments_lexer": "ipython3",
   "version": "3.9.7"
  }
 },
 "nbformat": 4,
 "nbformat_minor": 5
}
