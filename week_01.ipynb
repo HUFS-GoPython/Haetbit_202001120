{
 "cells": [
  {
   "cell_type": "markdown",
   "id": "2745c6e0-88fc-4827-8d1a-cde4d33fa98b",
   "metadata": {
    "jp-MarkdownHeadingCollapsed": true,
    "tags": []
   },
   "source": [
    "## 프로그래밍 언어\n",
    "    - 프로그래밍 언어를 사용하여 프로그램을 개발하는 것\n",
    "    - 논리적인 사고를 가질 수 있다.\n",
    "## programming language?\n",
    "    - 프로그램을 개발할 때 사용하는 도구\n",
    "    - 인간이 원하는 것을 컴퓨터에게 명령할 때 사용하는 컴퓨터가 이해할 수 있는 언어\n",
    "## 파이썬?\n",
    "    - 쉽다. 간결하다.\n",
    "    - 라이브러리가 많다."
   ]
  },
  {
   "cell_type": "markdown",
   "id": "2ece1ec0-e145-4ff3-84b0-ca63a9edc734",
   "metadata": {},
   "source": [
    "## Chapter 2. Data: Types, Values, Variables, and Names"
   ]
  },
  {
   "cell_type": "code",
   "execution_count": 5,
   "id": "1e697538-5a25-4be8-bd73-83aa20518ad5",
   "metadata": {},
   "outputs": [
    {
     "data": {
      "text/plain": [
       "2"
      ]
     },
     "execution_count": 5,
     "metadata": {},
     "output_type": "execute_result"
    }
   ],
   "source": [
    "a = 2\n",
    "a"
   ]
  },
  {
   "cell_type": "code",
   "execution_count": 6,
   "id": "b260dda5-4ea1-4e0a-90f0-c2379b0d80c7",
   "metadata": {},
   "outputs": [
    {
     "data": {
      "text/plain": [
       "True"
      ]
     },
     "execution_count": 6,
     "metadata": {},
     "output_type": "execute_result"
    }
   ],
   "source": [
    "a == 2"
   ]
  },
  {
   "cell_type": "markdown",
   "id": "9f14b3fe-f909-4e88-a599-2939cb7b9a16",
   "metadata": {},
   "source": [
    "- 변수| variable: 특정 값을 저장하는 공간\n",
    "    a\n",
    "- 값| value\n",
    "    2\n",
    "- 할당하다| assign: 변수에 값을 넣는 과정\n",
    "    \"2를 a에 넣었다.\"\n",
    "    \n",
    "    *** a는 2다. a == 2\n",
    "- 자료형| type: 데이터의 형태\n",
    "    a 데이터의 형태? integer (int 타입이다.)"
   ]
  },
  {
   "cell_type": "code",
   "execution_count": 7,
   "id": "9b53f75b-bd11-4eb6-ab1b-8b961cc8786a",
   "metadata": {},
   "outputs": [
    {
     "name": "stdout",
     "output_type": "stream",
     "text": [
      "2\n"
     ]
    }
   ],
   "source": [
    "print(a)"
   ]
  },
  {
   "cell_type": "code",
   "execution_count": 8,
   "id": "a9f172a4-5c24-41f8-b6c4-22f727d64ef3",
   "metadata": {},
   "outputs": [
    {
     "data": {
      "text/plain": [
       "2"
      ]
     },
     "execution_count": 8,
     "metadata": {},
     "output_type": "execute_result"
    }
   ],
   "source": [
    "a"
   ]
  },
  {
   "cell_type": "code",
   "execution_count": 9,
   "id": "858cf2e8-1894-4a9a-b37b-4784cdf41b64",
   "metadata": {},
   "outputs": [
    {
     "data": {
      "text/plain": [
       "int"
      ]
     },
     "execution_count": 9,
     "metadata": {},
     "output_type": "execute_result"
    }
   ],
   "source": [
    "# type\n",
    "type(a)"
   ]
  },
  {
   "cell_type": "code",
   "execution_count": 10,
   "id": "c1a830d5-9d9c-44e1-8133-e3443ad1c85d",
   "metadata": {},
   "outputs": [
    {
     "data": {
      "text/plain": [
       "bool"
      ]
     },
     "execution_count": 10,
     "metadata": {},
     "output_type": "execute_result"
    }
   ],
   "source": [
    "type(a == 2) # bool, boolean T/F"
   ]
  },
  {
   "cell_type": "markdown",
   "id": "7e26b20a-21f8-4f18-93c6-87a9306dc175",
   "metadata": {},
   "source": [
    "### Type\n",
    "- integer| 정수: 1, 2, 3, ... (int)\n",
    "- floating point number| 부동소수점: 1.0, 2.0, ..., 0.4 (float)\n",
    "- string| 문자열: \"1\", 'apple' (str)\n",
    "- bool| 불리언: True, False (bool)"
   ]
  },
  {
   "cell_type": "code",
   "execution_count": 11,
   "id": "94013e8a-f6f4-4a46-bed7-1c896cfed8fc",
   "metadata": {},
   "outputs": [
    {
     "data": {
      "text/plain": [
       "str"
      ]
     },
     "execution_count": 11,
     "metadata": {},
     "output_type": "execute_result"
    }
   ],
   "source": [
    "type(\"1\")"
   ]
  },
  {
   "cell_type": "code",
   "execution_count": 12,
   "id": "6cbeb6bf-caa0-45ca-a84e-f03b3c453b5f",
   "metadata": {},
   "outputs": [
    {
     "data": {
      "text/plain": [
       "str"
      ]
     },
     "execution_count": 12,
     "metadata": {},
     "output_type": "execute_result"
    }
   ],
   "source": [
    "type('apple')"
   ]
  },
  {
   "cell_type": "code",
   "execution_count": 13,
   "id": "9b483100-9ab2-4e4e-8c2f-e941b2157de6",
   "metadata": {},
   "outputs": [
    {
     "ename": "NameError",
     "evalue": "name 'apple' is not defined",
     "output_type": "error",
     "traceback": [
      "\u001b[0;31m---------------------------------------------------------------------------\u001b[0m",
      "\u001b[0;31mNameError\u001b[0m                                 Traceback (most recent call last)",
      "\u001b[0;32m/var/folders/mj/8pckvyp56672pjbch70f49440000gn/T/ipykernel_15725/109752112.py\u001b[0m in \u001b[0;36m<module>\u001b[0;34m\u001b[0m\n\u001b[0;32m----> 1\u001b[0;31m \u001b[0mtype\u001b[0m\u001b[0;34m(\u001b[0m\u001b[0mapple\u001b[0m\u001b[0;34m)\u001b[0m \u001b[0;31m# 변수명\u001b[0m\u001b[0;34m\u001b[0m\u001b[0;34m\u001b[0m\u001b[0m\n\u001b[0m",
      "\u001b[0;31mNameError\u001b[0m: name 'apple' is not defined"
     ]
    }
   ],
   "source": [
    "type(apple) # 변수명"
   ]
  },
  {
   "cell_type": "code",
   "execution_count": 14,
   "id": "392a357d-880c-46b2-ab10-80e14c4bbb46",
   "metadata": {},
   "outputs": [
    {
     "data": {
      "text/plain": [
       "'kim'"
      ]
     },
     "execution_count": 14,
     "metadata": {},
     "output_type": "execute_result"
    }
   ],
   "source": [
    "name = 'kim'\n",
    "name"
   ]
  },
  {
   "cell_type": "code",
   "execution_count": 15,
   "id": "3bb701dc-30e3-4aa3-a7de-4b21f173f1dd",
   "metadata": {},
   "outputs": [
    {
     "name": "stdout",
     "output_type": "stream",
     "text": [
      "kim\n"
     ]
    }
   ],
   "source": [
    "print(name)"
   ]
  },
  {
   "cell_type": "code",
   "execution_count": 16,
   "id": "60a2d6fe-b3bf-436c-a136-fb691af01dcf",
   "metadata": {},
   "outputs": [
    {
     "name": "stdout",
     "output_type": "stream",
     "text": [
      "kim\n"
     ]
    }
   ],
   "source": [
    "print('kim') # 이런 방법은 지양, 변수에 넣어서 사용하는 것으로 함"
   ]
  },
  {
   "cell_type": "markdown",
   "id": "5a2f6339-9142-4b2e-9e8e-33916e053467",
   "metadata": {},
   "source": [
    "### 할당\n",
    "- = 이 기호를 사용한다.\n",
    "- 수학에서 '양변이 같다'라는 의미로 사용되지만, 프로그래밍에서는 '할당하다'라는 의미가 추가된다.\n",
    "- \"오른쪽의 값을 왼쪽에 할당한다.\"\n",
    "- 1. 오른쪽에 있는 모든 것은 값을 가져야 한다. (초기화를 해야 한다.)\n",
    "- 2. 같은 변수에 다른 값을 넣을 수 있다."
   ]
  },
  {
   "cell_type": "code",
   "execution_count": 18,
   "id": "4967328a-0e45-4bf7-9818-7d0c4387ac80",
   "metadata": {},
   "outputs": [],
   "source": [
    "x = 4 # 초기화\n",
    "y = x + 3"
   ]
  },
  {
   "cell_type": "code",
   "execution_count": 19,
   "id": "284f90c6-1204-461f-a92b-cb2a32417598",
   "metadata": {},
   "outputs": [
    {
     "data": {
      "text/plain": [
       "(4, 7)"
      ]
     },
     "execution_count": 19,
     "metadata": {},
     "output_type": "execute_result"
    }
   ],
   "source": [
    "x, y"
   ]
  },
  {
   "cell_type": "code",
   "execution_count": 20,
   "id": "46d65b97-a114-4a8e-be06-b4b7e12f98ba",
   "metadata": {},
   "outputs": [],
   "source": [
    "name = 'kim'\n",
    "name = 'lee'\n",
    "name = 'park'\n",
    "name = 4"
   ]
  },
  {
   "cell_type": "code",
   "execution_count": 21,
   "id": "3b0c02ed-c4e8-48fd-81b3-e700a951c062",
   "metadata": {},
   "outputs": [
    {
     "name": "stdout",
     "output_type": "stream",
     "text": [
      "4\n"
     ]
    }
   ],
   "source": [
    "print(name) # 변수명 동일하게 사용하지 말라"
   ]
  },
  {
   "cell_type": "code",
   "execution_count": null,
   "id": "83de9c10-c50b-4430-8f4c-69234b9e28a3",
   "metadata": {},
   "outputs": [],
   "source": [
    "text = 'abc'\n",
    "text = 'cde'"
   ]
  },
  {
   "cell_type": "markdown",
   "id": "a41aadd0-a810-448d-b874-b3596cb56753",
   "metadata": {},
   "source": [
    "### 변수명 정하기\n",
    "- 나쁜 변수명: a, b, c, a1, b1, ...\n",
    "- 의미있는 이름으로 선언해야 한다.\n",
    "- 소문자, 대문자, 숫자, 언더바를 사용한다. 예: name, name2, my_name, Name, NAME"
   ]
  },
  {
   "cell_type": "code",
   "execution_count": 23,
   "id": "6fcf523e-0505-4cdd-82af-623ac41d61e6",
   "metadata": {},
   "outputs": [
    {
     "name": "stdout",
     "output_type": "stream",
     "text": [
      "julietta,jessica,laura\n"
     ]
    }
   ],
   "source": [
    "name = 'julietta'\n",
    "name1 = 'jessica'\n",
    "my_name = 'laura'\n",
    "# myName 카멜 표기법\n",
    "\n",
    "print(name, name1, my_name, sep = ',')"
   ]
  },
  {
   "cell_type": "markdown",
   "id": "120af216-7160-459e-be19-4d6e9dcba10a",
   "metadata": {},
   "source": [
    "- 안되는 것\n",
    "    - 숫자로 시작할 수 없다.\n",
    "        예: 22name, 22_name\n",
    "    - 예약어로 선언할 수 없다.\n",
    "        예: def, False, ..."
   ]
  },
  {
   "cell_type": "code",
   "execution_count": 24,
   "id": "db20cd5a-6ab8-495e-90d3-d821de382882",
   "metadata": {},
   "outputs": [
    {
     "name": "stdout",
     "output_type": "stream",
     "text": [
      "\n",
      "Here is a list of the Python keywords.  Enter any keyword to get more help.\n",
      "\n",
      "False               break               for                 not\n",
      "None                class               from                or\n",
      "True                continue            global              pass\n",
      "__peg_parser__      def                 if                  raise\n",
      "and                 del                 import              return\n",
      "as                  elif                in                  try\n",
      "assert              else                is                  while\n",
      "async               except              lambda              with\n",
      "await               finally             nonlocal            yield\n",
      "\n"
     ]
    }
   ],
   "source": [
    "# if = 'kim'\n",
    "help(\"keywords\")"
   ]
  },
  {
   "cell_type": "markdown",
   "id": "caa9c639-a2ff-4eae-9193-0f2f5d71bdaf",
   "metadata": {},
   "source": [
    "- 조심할 것: 특별한 용도가 있기 때문에\n",
    "    - 언더바로 시작하는 변수명: _name (클래스 내부의 변수명 지칭)\n",
    "    - 더블 언더바로 시작하는 변수명: __name__\n",
    "    - 대문자로 시작하는 변수명: Name\n",
    "    - 전체 대문자: NAME"
   ]
  },
  {
   "cell_type": "code",
   "execution_count": 25,
   "id": "a2e0de21-866b-4fc9-be14-1218fde87cc7",
   "metadata": {},
   "outputs": [],
   "source": [
    "# 변수명은 대소문자 구분한다.\n",
    "num = 43\n",
    "Num = 44"
   ]
  },
  {
   "cell_type": "code",
   "execution_count": 26,
   "id": "9806bd9a-d5d6-4621-8233-e9075bb2b6d2",
   "metadata": {},
   "outputs": [
    {
     "data": {
      "text/plain": [
       "False"
      ]
     },
     "execution_count": 26,
     "metadata": {},
     "output_type": "execute_result"
    }
   ],
   "source": [
    "num == Num"
   ]
  },
  {
   "cell_type": "code",
   "execution_count": 27,
   "id": "ddf2bc2b-4376-42d0-b6fd-95383236674f",
   "metadata": {},
   "outputs": [
    {
     "data": {
      "text/plain": [
       "False"
      ]
     },
     "execution_count": 27,
     "metadata": {},
     "output_type": "execute_result"
    }
   ],
   "source": [
    "num = 'number'\n",
    "Num = 'Number'\n",
    "\n",
    "num == Num"
   ]
  },
  {
   "cell_type": "code",
   "execution_count": 28,
   "id": "aea8e75b-90f9-4b7c-a0ea-24e232fc1231",
   "metadata": {},
   "outputs": [
    {
     "data": {
      "text/plain": [
       "True"
      ]
     },
     "execution_count": 28,
     "metadata": {},
     "output_type": "execute_result"
    }
   ],
   "source": [
    "num != Num"
   ]
  },
  {
   "cell_type": "code",
   "execution_count": null,
   "id": "6adf7a82-73c6-4223-9bb9-c744a1df3b6b",
   "metadata": {},
   "outputs": [],
   "source": []
  }
 ],
 "metadata": {
  "kernelspec": {
   "display_name": "Python 3 (ipykernel)",
   "language": "python",
   "name": "python3"
  },
  "language_info": {
   "codemirror_mode": {
    "name": "ipython",
    "version": 3
   },
   "file_extension": ".py",
   "mimetype": "text/x-python",
   "name": "python",
   "nbconvert_exporter": "python",
   "pygments_lexer": "ipython3",
   "version": "3.9.7"
  }
 },
 "nbformat": 4,
 "nbformat_minor": 5
}
