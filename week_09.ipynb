{
 "cells": [
  {
   "cell_type": "markdown",
   "id": "db9a843c-eedf-435d-b2c2-5061a4562e37",
   "metadata": {},
   "source": [
    "# 9주차 (0429) Review\n",
    "---"
   ]
  },
  {
   "cell_type": "markdown",
   "id": "8f1d1bb9-af97-4d23-918c-51410a7d88c8",
   "metadata": {},
   "source": [
    "## Dictionary\n",
    "- 영어 사전과 같은 구조로 생각하면 된다.\n",
    "    - 단어: 뜻 \n",
    "    - 키: 값\n",
    "    - ':'으로 짝 지어져 있는 형태의 자료구조\n",
    "- 순서가 없다. => `인덱싱 불가능`\n",
    "    - `키`로 값을 찾는다.\n",
    "        - 이때, 키로 값을 찾기 때문에, 키는 `중복되지 않는 고유한 값`\n",
    "- 가변 타입으로 수정, 삭제, 추가가 가능하다.\n",
    "- 타입은 dict이다.\n",
    "- 형 변환은 `dict()`로 하면 된다.\n",
    "- 중괄호를 사용하며 {}, 콤마로 구분한다.\n",
    "- **중요** 값에 다양한 자료구조가 올 수 있다.\n",
    "    - 단순히 a:1 뿐만이 아니라, a:[1, 2, 3, 4]와 같이 리스트도 올 수 있다."
   ]
  },
  {
   "cell_type": "code",
   "execution_count": 1,
   "id": "0e6b4648-8847-4337-b2d4-2cb8b22ca854",
   "metadata": {},
   "outputs": [
    {
     "name": "stdout",
     "output_type": "stream",
     "text": [
      "<class 'dict'>\n",
      "<class 'set'>\n"
     ]
    }
   ],
   "source": [
    "# 빈 딕셔너리 선언하는 방법\n",
    "empty = dict()\n",
    "empty_dict = {}\n",
    "print(type(empty_dict))\n",
    "\n",
    "# set과 헷갈리지 말자!\n",
    "empty_set = set()\n",
    "print(type(empty_set))"
   ]
  },
  {
   "cell_type": "code",
   "execution_count": 2,
   "id": "78f01e1b-fa81-44ae-9c22-3828d1e9cce8",
   "metadata": {},
   "outputs": [
    {
     "data": {
      "text/plain": [
       "({1, 2, 3}, {1: 'apple', 2: 'banana', 3: 'kiwi'})"
      ]
     },
     "execution_count": 2,
     "metadata": {},
     "output_type": "execute_result"
    }
   ],
   "source": [
    "# 이렇게 초기화하면 set\n",
    "a = {1, 2, 3} \n",
    "\n",
    "# 이렇게 초기화 해야 dict\n",
    "b = {1:'apple', 2:'banana', 3:'kiwi'} # 이렇게 초기화 해야 dict\n",
    "\n",
    "a, b"
   ]
  },
  {
   "cell_type": "code",
   "execution_count": 3,
   "id": "87071165-2d12-4913-9d04-1b6b5a317efe",
   "metadata": {},
   "outputs": [
    {
     "data": {
      "text/plain": [
       "{'apple': 'a', 'banana': 'b', 'kiwi': 'c'}"
      ]
     },
     "execution_count": 3,
     "metadata": {},
     "output_type": "execute_result"
    }
   ],
   "source": [
    "# :로 딕셔너리 만들기 귀찮은 경우\n",
    "c = {'':'', '':'', '':''}\n",
    "\n",
    "# 이런 식으로 선언하는 방식도 가능\n",
    "# 이 경우 키 값은 '' 안 해도 됨\n",
    "c = dict(apple='a', banana='b', kiwi='c')\n",
    "c"
   ]
  },
  {
   "cell_type": "markdown",
   "id": "392a30e1-b174-4123-809f-a4049c79198f",
   "metadata": {},
   "source": [
    "#### `딕셔너리 실습1`\n",
    "\n",
    "- 출석부로 딕셔너리 만들기\n",
    "- 이름, 학번, 학과\n",
    "```\n",
    "james 202201 경제학과\n",
    "laura 202203 스페인어과\n",
    "louis 202202 컴공과\n",
    "```"
   ]
  },
  {
   "cell_type": "code",
   "execution_count": 4,
   "id": "a0366cb0-276c-4b56-8117-bb7e03512947",
   "metadata": {},
   "outputs": [
    {
     "data": {
      "text/plain": [
       "{202201: ['james', '경제학과'],\n",
       " 202203: ['laura', '스페인어과'],\n",
       " 202202: ['louis', '컴공과']}"
      ]
     },
     "execution_count": 4,
     "metadata": {},
     "output_type": "execute_result"
    }
   ],
   "source": [
    "# 무엇을 키 값으로 잡아야 하나? -> 중복이 안 되는 것을 기준으로!\n",
    "# value 값에는 다양한 자료구조를 넣을 수 있음.\n",
    "# 이유? 이 값을 하나하나 활용하기 위해서!\n",
    "\n",
    "{202201:['james', '경제학과'], 202203:['laura', '스페인어과'], 202202:['louis', '컴공과']}"
   ]
  },
  {
   "cell_type": "markdown",
   "id": "0ddb4cae-a802-4d76-b746-047438c97552",
   "metadata": {},
   "source": [
    "### 형 변환\n",
    "- key, value 값이 쌍으로 있을 때 가능"
   ]
  },
  {
   "cell_type": "code",
   "execution_count": 5,
   "id": "420cd4df-a1eb-4151-8d57-326709878a7e",
   "metadata": {},
   "outputs": [
    {
     "data": {
      "text/plain": [
       "{1: 2, 2: 3, 3: 4}"
      ]
     },
     "execution_count": 5,
     "metadata": {},
     "output_type": "execute_result"
    }
   ],
   "source": [
    "# [] 안에 []가 쌍으로 존재할 때\n",
    "# 튜플이어도 가능함!\n",
    "\n",
    "ex1 = [[1, 2], [2, 3], [3, 4]]\n",
    "dict(ex1)"
   ]
  },
  {
   "cell_type": "code",
   "execution_count": 6,
   "id": "db1490f3-6f50-4d00-acaa-b89ff6afba24",
   "metadata": {},
   "outputs": [
    {
     "data": {
      "text/plain": [
       "{1: 3, 2: 3}"
      ]
     },
     "execution_count": 6,
     "metadata": {},
     "output_type": "execute_result"
    }
   ],
   "source": [
    "# 만약 키가 똑같다면, 마지막 것을 기준으로!\n",
    "\n",
    "ex2 = [[1, 2], [2, 3], [1, 3]]\n",
    "dict(ex2)"
   ]
  },
  {
   "cell_type": "code",
   "execution_count": 7,
   "id": "5d0cf576-10b1-488a-9546-0b6e4b7b9ee3",
   "metadata": {},
   "outputs": [
    {
     "data": {
      "text/plain": [
       "{'a': 'b', 'b': 'c', 'c': 'd'}"
      ]
     },
     "execution_count": 7,
     "metadata": {},
     "output_type": "execute_result"
    }
   ],
   "source": [
    "# 문자열도 가능한데, 딱 두자리만 있어야 함. \n",
    "# 세 자리가 되는 순간 오류!\n",
    "\n",
    "ex3 = ['ab', 'bc', 'cd']\n",
    "dict(ex3)"
   ]
  },
  {
   "cell_type": "markdown",
   "id": "36c916b6-1ed8-4481-9c6d-1c00d79ceae9",
   "metadata": {},
   "source": [
    "### 항목 조회 & 변경 & 추가 & 삭제"
   ]
  },
  {
   "cell_type": "code",
   "execution_count": 8,
   "id": "c85a3056-a969-41db-bba9-c73f6d05dda5",
   "metadata": {},
   "outputs": [],
   "source": [
    "# 성과 이름이 담긴 딕셔너리\n",
    "\n",
    "pythons = { \n",
    "    'Chapman': 'Graham',\n",
    "    'Cleese': 'john',\n",
    "    'Idle': 'Eric',\n",
    "    'Jones': 'Terry',\n",
    "    'Palin':'Michael',\n",
    "}"
   ]
  },
  {
   "cell_type": "code",
   "execution_count": 9,
   "id": "1eba5bb3-f8a9-4176-a9a0-01d8cab9f0a5",
   "metadata": {},
   "outputs": [
    {
     "data": {
      "text/plain": [
       "'Eric'"
      ]
     },
     "execution_count": 9,
     "metadata": {},
     "output_type": "execute_result"
    }
   ],
   "source": [
    "# 조회(key로 value를 찾음)\n",
    "# 없는 값이면 예외가 생김\n",
    "pythons['Idle']"
   ]
  },
  {
   "cell_type": "code",
   "execution_count": 10,
   "id": "401f77c6-548e-4d29-ba79-b0ec6b6e670b",
   "metadata": {},
   "outputs": [
    {
     "name": "stdout",
     "output_type": "stream",
     "text": [
      "False\n",
      "None\n",
      "0\n"
     ]
    }
   ],
   "source": [
    "# 예외 없이 가는 방법(오류가 뜨지 않게!)\n",
    "\n",
    "# 1. 값이 있는지 없는지 확인한 다음에 하기\n",
    "print('Hwa' in pythons)\n",
    "\n",
    "# 2. get()\n",
    "# 있으면 값을 반환, 없으면 None을 반환\n",
    "print(pythons.get('Lee'))\n",
    "\n",
    "# 내가 원하는 반환값 설정도 가능함\n",
    "print(pythons.get('Lee', 0))"
   ]
  },
  {
   "cell_type": "code",
   "execution_count": 11,
   "id": "4b38105f-b977-48a2-bc63-80295e7b04f3",
   "metadata": {},
   "outputs": [
    {
     "data": {
      "text/plain": [
       "{'Chapman': 'Graham',\n",
       " 'Cleese': 'john',\n",
       " 'Idle': 'james',\n",
       " 'Jones': 'Terry',\n",
       " 'Palin': 'Michael'}"
      ]
     },
     "execution_count": 11,
     "metadata": {},
     "output_type": "execute_result"
    }
   ],
   "source": [
    "# 변경(key를 찾아서 다른 value를 넣음)\n",
    "pythons['Idle'] = 'james'\n",
    "pythons"
   ]
  },
  {
   "cell_type": "code",
   "execution_count": 12,
   "id": "456311c9-8e1c-4561-8e5c-8439b89fa2e2",
   "metadata": {},
   "outputs": [
    {
     "data": {
      "text/plain": [
       "{'Chapman': 'Graham',\n",
       " 'Cleese': 'john',\n",
       " 'Idle': 'james',\n",
       " 'Jones': 'Terry',\n",
       " 'Palin': 'Michael',\n",
       " 'Hwa': 'Chloe'}"
      ]
     },
     "execution_count": 12,
     "metadata": {},
     "output_type": "execute_result"
    }
   ],
   "source": [
    "# 추가(없는 값에 하면 추가 됨)\n",
    "pythons['Hwa'] = 'Chloe'\n",
    "pythons"
   ]
  },
  {
   "cell_type": "code",
   "execution_count": 13,
   "id": "08e979a9-4374-4628-8a41-97b3b2e3ba65",
   "metadata": {},
   "outputs": [
    {
     "data": {
      "text/plain": [
       "{'Chapman': 'Graham',\n",
       " 'Cleese': 'john',\n",
       " 'Idle': 'james',\n",
       " 'Jones': 'Terry',\n",
       " 'Palin': 'Michael',\n",
       " 'Hwa': 'Chloe',\n",
       " 'Marx': 'Groucho',\n",
       " 'Howard': 'Moe'}"
      ]
     },
     "execution_count": 13,
     "metadata": {},
     "output_type": "execute_result"
    }
   ],
   "source": [
    "# 여러 개를 추가하는 경우 update (병합)\n",
    "# 만약 원래 있던 key 였다면, 마지막의 값을 기준으로 update\n",
    "others = {\n",
    "    'Marx': 'Groucho',\n",
    "    'Howard': 'Moe'\n",
    "}\n",
    "\n",
    "pythons.update(others)\n",
    "pythons"
   ]
  },
  {
   "cell_type": "code",
   "execution_count": 14,
   "id": "23cedecb-bcd4-48d4-8dc7-70e0666c10a9",
   "metadata": {},
   "outputs": [
    {
     "name": "stdout",
     "output_type": "stream",
     "text": [
      "{'Chapman': 'Graham', 'Cleese': 'john', 'Idle': 'james', 'Jones': 'Terry', 'Palin': 'Michael', 'Hwa': 'Chloe', 'Marx': 'Groucho', 'Howard': 'Moe', 'Kim': 'Haetbit', 'Park': 'Woori'}\n",
      "{'Kim': 'Haetbit', 'Park': 'Woori', 'Chapman': 'Graham', 'Cleese': 'john', 'Idle': 'james', 'Jones': 'Terry', 'Palin': 'Michael', 'Hwa': 'Chloe', 'Marx': 'Groucho', 'Howard': 'Moe'}\n"
     ]
    }
   ],
   "source": [
    "# py3에서만 가능한 추가 방법!\n",
    "new = {\n",
    "    'Kim': 'Haetbit',\n",
    "    'Park': 'Woori'\n",
    "}\n",
    "\n",
    "# new가 뒤에 붙음\n",
    "print({**pythons, **new})\n",
    "\n",
    "# new가 앞에 붙음\n",
    "print({**new, **pythons})"
   ]
  },
  {
   "cell_type": "code",
   "execution_count": 15,
   "id": "b19c1172-2a93-445c-a3c4-63085f0fcaf9",
   "metadata": {},
   "outputs": [
    {
     "data": {
      "text/plain": [
       "{'Chapman': 'Graham',\n",
       " 'Cleese': 'john',\n",
       " 'Idle': 'james',\n",
       " 'Jones': 'Terry',\n",
       " 'Palin': 'Michael',\n",
       " 'Marx': 'Groucho',\n",
       " 'Howard': 'Moe'}"
      ]
     },
     "execution_count": 15,
     "metadata": {},
     "output_type": "execute_result"
    }
   ],
   "source": [
    "# 삭제\n",
    "del pythons['Hwa']\n",
    "pythons"
   ]
  },
  {
   "cell_type": "code",
   "execution_count": 16,
   "id": "74b90bc9-6f43-4ebf-9882-d868cdcf3959",
   "metadata": {},
   "outputs": [
    {
     "data": {
      "text/plain": [
       "'Groucho'"
      ]
     },
     "execution_count": 16,
     "metadata": {},
     "output_type": "execute_result"
    }
   ],
   "source": [
    "# 없는 것을 삭제할 때는 예외가 발생하기 때문에, \n",
    "# 앞의 get()처럼 사용하는 함수가 pop()\n",
    "# 값을 반환한 뒤 삭제 됨\n",
    "pythons.pop('Marx')"
   ]
  },
  {
   "cell_type": "code",
   "execution_count": 17,
   "id": "168c115e-19f3-44c4-b1c9-7acdf60aaf72",
   "metadata": {},
   "outputs": [
    {
     "data": {
      "text/plain": [
       "0"
      ]
     },
     "execution_count": 17,
     "metadata": {},
     "output_type": "execute_result"
    }
   ],
   "source": [
    "# pythons.pop('Lee') # 출력 값을 지정하지 않으면 예외\n",
    "\n",
    "# 출력 값을 지정!\n",
    "pythons.pop('Lee', 0) "
   ]
  },
  {
   "cell_type": "code",
   "execution_count": 18,
   "id": "2ce40e42-c046-4b58-b47f-f9cd0f0a053f",
   "metadata": {},
   "outputs": [
    {
     "data": {
      "text/plain": [
       "{}"
      ]
     },
     "execution_count": 18,
     "metadata": {},
     "output_type": "execute_result"
    }
   ],
   "source": [
    "# 전체 삭제\n",
    "\n",
    "# 방법1\n",
    "pythons.clear() \n",
    "\n",
    "# 방법2\n",
    "pythons = {} \n",
    "\n",
    "pythons"
   ]
  },
  {
   "cell_type": "markdown",
   "id": "988942cd-27c3-4823-8260-4222e6a360ed",
   "metadata": {},
   "source": [
    "### 전체 조회\n",
    "- keys()\n",
    "- values()\n",
    "- items()"
   ]
  },
  {
   "cell_type": "code",
   "execution_count": 19,
   "id": "2b023d29-548e-4554-875a-b630e9b66495",
   "metadata": {},
   "outputs": [
    {
     "data": {
      "text/plain": [
       "dict_keys([])"
      ]
     },
     "execution_count": 19,
     "metadata": {},
     "output_type": "execute_result"
    }
   ],
   "source": [
    "pythons.keys()"
   ]
  },
  {
   "cell_type": "code",
   "execution_count": 20,
   "id": "4eef114a-4fa6-4623-852c-e08857fd446a",
   "metadata": {},
   "outputs": [
    {
     "data": {
      "text/plain": [
       "dict_values([])"
      ]
     },
     "execution_count": 20,
     "metadata": {},
     "output_type": "execute_result"
    }
   ],
   "source": [
    "pythons.values()"
   ]
  },
  {
   "cell_type": "code",
   "execution_count": 21,
   "id": "a211b4b5-0134-4ae0-aa00-ede7d053213e",
   "metadata": {},
   "outputs": [
    {
     "data": {
      "text/plain": [
       "dict_items([])"
      ]
     },
     "execution_count": 21,
     "metadata": {},
     "output_type": "execute_result"
    }
   ],
   "source": [
    "# 다 조회, (키, 값) 튜플 형태로 => 순회할 때 많이 사용\n",
    "pythons.items() "
   ]
  },
  {
   "cell_type": "code",
   "execution_count": 22,
   "id": "419c0c16-2b5a-488f-a42c-27eb9fd7ced8",
   "metadata": {},
   "outputs": [
    {
     "name": "stdout",
     "output_type": "stream",
     "text": [
      "<class 'dict_keys'>\n",
      "[]\n"
     ]
    }
   ],
   "source": [
    "# 이런 아이들은 타입이 dict_ 이기 때문에\n",
    "# 메모리를 적게 사용하려면 리스트로 형 변환해주는 것이 좋음\n",
    "\n",
    "print(type(pythons.keys()))\n",
    "print(list(pythons.keys()))"
   ]
  },
  {
   "cell_type": "code",
   "execution_count": 23,
   "id": "12412bea-873d-4e23-b005-d65ce7f116f7",
   "metadata": {},
   "outputs": [
    {
     "name": "stdout",
     "output_type": "stream",
     "text": [
      "\n"
     ]
    },
    {
     "data": {
      "text/plain": [
       "[]"
      ]
     },
     "execution_count": 23,
     "metadata": {},
     "output_type": "execute_result"
    }
   ],
   "source": [
    "# item 순회\n",
    "for k, v, in pythons.items():\n",
    "    print(f'{k} = {v}')\n",
    "    \n",
    "print()\n",
    "    \n",
    "# 리스트 컴프리헨션\n",
    "[(k, v) for k, v in pythons.items()]"
   ]
  },
  {
   "cell_type": "code",
   "execution_count": 24,
   "id": "cbc5f16c-a8fc-4932-8af0-ba32d63937d6",
   "metadata": {},
   "outputs": [
    {
     "data": {
      "text/plain": [
       "[]"
      ]
     },
     "execution_count": 24,
     "metadata": {},
     "output_type": "execute_result"
    }
   ],
   "source": [
    "# items()는 튜플의 형태로 들어있기 때문에\n",
    "# 각각 인덱스로 접근이 가능\n",
    "\n",
    "# 0은 key 값, 1은 value 값\n",
    "[k[0] for k in pythons.items()] "
   ]
  },
  {
   "cell_type": "markdown",
   "id": "5c50aa12-1a15-413c-9db1-b50fe875f2b8",
   "metadata": {},
   "source": [
    "#### `딕셔너리 실습2`\n",
    "- animal: num_leg 딕셔너리 만들기\n",
    "```\n",
    "animal = 'cat snake monkey ant spider'.split()\n",
    "legs = 4, 0, 2, 4, 8\n",
    "```"
   ]
  },
  {
   "cell_type": "code",
   "execution_count": 25,
   "id": "fd84f579-7f3e-4306-909f-7f0c8b98c62b",
   "metadata": {},
   "outputs": [
    {
     "name": "stdout",
     "output_type": "stream",
     "text": [
      "{'cat': 4, 'snake': 0, 'monkey': 2, 'ant': 4, 'spider': 8}\n",
      "{'cat': 4, 'snake': 0, 'monkey': 2, 'ant': 4, 'spider': 8}\n",
      "{'cat': 4, 'snake': 0, 'monkey': 2, 'ant': 4, 'spider': 8}\n"
     ]
    }
   ],
   "source": [
    "animal = 'cat snake monkey ant spider'.split()\n",
    "legs = 4, 0, 2, 4, 8\n",
    "\n",
    "# 방법1\n",
    "print(dict([(key, value) for key, value in zip(animal, legs)]))\n",
    "\n",
    "# 방법2\n",
    "num_leg = {}\n",
    "for k, v in zip(animal, legs):\n",
    "    num_leg[k] = v \n",
    "print(num_leg)\n",
    "\n",
    "# 방법3 - 딕셔너리 컴프리헨션 사용\n",
    "print({key:value for key, value in zip(animal, legs)})"
   ]
  },
  {
   "cell_type": "markdown",
   "id": "bb57bb1b-abaf-47dc-bc5c-514cd227b34a",
   "metadata": {},
   "source": [
    "#### `딕셔너리 실습3`\n",
    "- pythons에서 성: 이름\n",
    "    - 성은 첫 글자만, 이름은 글자 개수로 이뤄진 튜플(성, 이름) 리스트로 반환하기"
   ]
  },
  {
   "cell_type": "code",
   "execution_count": 26,
   "id": "e0ffdabe-131b-46e2-a72c-dd2876b8e230",
   "metadata": {},
   "outputs": [
    {
     "data": {
      "text/plain": [
       "{'Chapman': 'Graham',\n",
       " 'Cleese': 'john',\n",
       " 'Idle': 'Eric',\n",
       " 'Jones': 'Terry',\n",
       " 'Palin': 'Michael'}"
      ]
     },
     "execution_count": 26,
     "metadata": {},
     "output_type": "execute_result"
    }
   ],
   "source": [
    "pythons = { \n",
    "    'Chapman': 'Graham',\n",
    "    'Cleese': 'john',\n",
    "    'Idle': 'Eric',\n",
    "    'Jones': 'Terry',\n",
    "    'Palin':'Michael',\n",
    "}\n",
    "\n",
    "pythons"
   ]
  },
  {
   "cell_type": "code",
   "execution_count": 27,
   "id": "11a83ded-ea8a-414c-83b1-e6bfc517de5b",
   "metadata": {},
   "outputs": [
    {
     "name": "stdout",
     "output_type": "stream",
     "text": [
      "[('C', 6), ('C', 4), ('I', 4), ('J', 5), ('P', 7)]\n",
      "[('C', 6), ('C', 4), ('I', 4), ('J', 5), ('P', 7)]\n"
     ]
    }
   ],
   "source": [
    "# 방법1\n",
    "print([(key[0], len(value)) for key, value in pythons.items()])\n",
    "\n",
    "# 방법2\n",
    "print([(k[0][0], len(k[1]))for k in pythons.items()])"
   ]
  },
  {
   "cell_type": "markdown",
   "id": "e94d0aef-0eb2-4533-8646-8bd9f1b2c761",
   "metadata": {},
   "source": [
    "### 복제\n",
    "- 리스트와 같은 방식으로 하면 됨.\n",
    "- 할당: b = a || 같은 주소 참조 \n",
    "- 얕은 복사: c = a.copy() || 다른 객체 생성\n",
    "- 깊은 복사"
   ]
  },
  {
   "cell_type": "code",
   "execution_count": 28,
   "id": "2c92300d-e727-456d-80fe-33ce28405be0",
   "metadata": {},
   "outputs": [
    {
     "name": "stdout",
     "output_type": "stream",
     "text": [
      "{1: 45, 2: 2, 3: 3} {1: 45, 2: 2, 3: 3}\n",
      "{1: 45, 2: 22, 3: 3} {1: 45, 2: 2, 3: 3}\n"
     ]
    }
   ],
   "source": [
    "a = {1:1, 2:2, 3:3}\n",
    "b = a\n",
    "\n",
    "a[1] = 45\n",
    "\n",
    "# 할당의 문제: b도 값이 변환다.\n",
    "# 왜? 복사한 가변객체이기 때문에\n",
    "print(a, b)\n",
    "\n",
    "# 따라서 다른 객체 생성 - 얕은 복사\n",
    "c = a.copy()\n",
    "a[2] = 22\n",
    "\n",
    "print(a, c)"
   ]
  },
  {
   "cell_type": "code",
   "execution_count": 29,
   "id": "221f168b-b2ca-41d4-a390-e774e6f71b2b",
   "metadata": {},
   "outputs": [
    {
     "data": {
      "text/plain": [
       "({1: [100, 2, 3], 2: [2, 3, 4]}, {1: [100, 2, 3], 2: [2, 3, 4]})"
      ]
     },
     "execution_count": 29,
     "metadata": {},
     "output_type": "execute_result"
    }
   ],
   "source": [
    "# 얕은 복사의 문제점\n",
    "# 가변객체에 대해서 또 참조가 되는 문제\n",
    "\n",
    "a = {1:[1, 2, 3], 2:[2, 3, 4]}\n",
    "d = a.copy()\n",
    "a[1][0] = 100\n",
    "\n",
    "a, d"
   ]
  },
  {
   "cell_type": "code",
   "execution_count": 30,
   "id": "f25531a7-4777-43d0-9fc1-4132a4ec50d1",
   "metadata": {},
   "outputs": [
    {
     "data": {
      "text/plain": [
       "({1: [100, 999, 3], 2: [2, 3, 4]}, {1: [100, 2, 3], 2: [2, 3, 4]})"
      ]
     },
     "execution_count": 30,
     "metadata": {},
     "output_type": "execute_result"
    }
   ],
   "source": [
    "import copy\n",
    "\n",
    "e = copy.deepcopy(a)\n",
    "a[1][1] = 999\n",
    "\n",
    "# 깊은 복사, 변하지 않음!\n",
    "a, e"
   ]
  },
  {
   "cell_type": "markdown",
   "id": "cffefd79-e534-4172-893d-f7f477c1af81",
   "metadata": {},
   "source": [
    "### 비교\n",
    "- 같다, 다르다만 가능하다.\n",
    "- 크고 작고는 안 됨.\n",
    "- 즉, 비교할 일이 없다."
   ]
  },
  {
   "cell_type": "code",
   "execution_count": 31,
   "id": "86561ac0-4bd5-4f74-90e0-8472deb08b4b",
   "metadata": {},
   "outputs": [
    {
     "data": {
      "text/plain": [
       "True"
      ]
     },
     "execution_count": 31,
     "metadata": {},
     "output_type": "execute_result"
    }
   ],
   "source": [
    "a != b"
   ]
  },
  {
   "cell_type": "markdown",
   "id": "91ad964e-d5a7-4618-832a-9bb18ad4ddb1",
   "metadata": {},
   "source": [
    "#### `딕셔너리 실습4`\n",
    "1. 두 개의 리스트로 하나의 딕셔너리 생성\n",
    "2. 명왕성=pluto 추가하기\n",
    "3. '성'으로 끝나지 않는 키 삭제하기\n",
    "    ```\n",
    "    del dict1['태양'] # 이런 방법은 지양\n",
    "    ```\n",
    "4. sorted이용해서 값 정렬하기 i)key기준, ii)value 기준"
   ]
  },
  {
   "cell_type": "code",
   "execution_count": 32,
   "id": "fbf5144b-1e09-4e27-98d2-1700d908d8ff",
   "metadata": {},
   "outputs": [],
   "source": [
    "solar_kor = '태양 수성 금성 지구 화성 목성 토성 천왕성 해왕성'.split()\n",
    "solar_eng = 'sun mercury venus earth mars jupiter saturn uranus neptune'.split()"
   ]
  },
  {
   "cell_type": "code",
   "execution_count": 33,
   "id": "38632f53-5cf0-49d9-a6f2-6f8c0702ca9c",
   "metadata": {},
   "outputs": [
    {
     "name": "stdout",
     "output_type": "stream",
     "text": [
      "['금성', '명왕성', '목성', '수성', '천왕성', '토성', '해왕성', '화성']\n",
      "['jupiter', 'mars', 'mercury', 'neptune', 'pluto', 'saturn', 'uranus', 'venus']\n"
     ]
    }
   ],
   "source": [
    "# 1.\n",
    "solar_dict = {}\n",
    "for k, v in zip(solar_kor, solar_eng):\n",
    "     solar_dict[k] = v\n",
    "\n",
    "# 2.\n",
    "# 넣을 것이 하나일 때는 update를 가져갈 필요가 없음.\n",
    "# solar_dict.update({'명왕성':'pluto'})\n",
    "solar_dict['명왕성'] = 'pluto'\n",
    "\n",
    "# 3.\n",
    "for key in list(solar_dict):\n",
    "    if not key.endswith('성'):\n",
    "        del solar_dict[key]\n",
    "\n",
    "# 4.\n",
    "# key 기준\n",
    "print(sorted(solar_dict.keys()))\n",
    "# value 기준\n",
    "print(sorted(solar_dict.values()))"
   ]
  },
  {
   "cell_type": "code",
   "execution_count": 34,
   "id": "d20fd8a2-e1d5-47e3-9de3-d7aca699c5b6",
   "metadata": {},
   "outputs": [
    {
     "name": "stdout",
     "output_type": "stream",
     "text": [
      "['금성', '명왕성', '목성', '수성', '천왕성', '토성', '해왕성', '화성']\n",
      "['jupiter', 'mars', 'mercury', 'neptune', 'pluto', 'saturn', 'uranus', 'venus']\n"
     ]
    }
   ],
   "source": [
    "# '성'으로 끝나지 않는 것을 삭제할 때\n",
    "# for문 X => 리스트 컴프리헨션 사용\n",
    "\n",
    "# 1.\n",
    "solar_dict = {}\n",
    "for k, v in zip(solar_kor, solar_eng):\n",
    "     solar_dict[k] = v\n",
    "\n",
    "# 2.\n",
    "solar_dict['명왕성'] = 'pluto'\n",
    "\n",
    "# 3.\n",
    "solar_dict = dict([(key, value) \n",
    "                   for key, value in solar_dict.items() \n",
    "                   if key.endswith('성')])\n",
    "\n",
    "# 4.\n",
    "# key 기준\n",
    "print(sorted(solar_dict.keys()))\n",
    "# value 기준\n",
    "print(sorted(solar_dict.values()))"
   ]
  },
  {
   "cell_type": "markdown",
   "id": "d3741b0f-7721-43c3-ba11-50e62b8fdd9c",
   "metadata": {},
   "source": [
    "### Dictionary Comprehension\n",
    "- 리스트 컴프리헨션한 다음에 딕셔너리 감싸는 것이 비효율적임.\n",
    "- 그래서 등장한 딕셔너리 컴프리헨션"
   ]
  },
  {
   "cell_type": "code",
   "execution_count": 35,
   "id": "d62ddf86-1c10-498c-84ef-0af120e91ebd",
   "metadata": {},
   "outputs": [
    {
     "data": {
      "text/plain": [
       "{'a': 1, 'p': 2, 'l': 1, 'e': 1}"
      ]
     },
     "execution_count": 35,
     "metadata": {},
     "output_type": "execute_result"
    }
   ],
   "source": [
    "letter = 'apple'\n",
    "\n",
    "# a: 1, p:2, l:1, e:1 의 형태로!\n",
    "{ch: letter.count(ch) for ch in letter}"
   ]
  },
  {
   "cell_type": "code",
   "execution_count": 36,
   "id": "25248d12-7aea-44ab-b783-f1419f918928",
   "metadata": {},
   "outputs": [
    {
     "name": "stdout",
     "output_type": "stream",
     "text": [
      "{'i': 1, 'a': 2, 'e': 1, 'o': 4}\n",
      "{'i': 1, 'e': 1, 'a': 2, 'o': 4}\n"
     ]
    }
   ],
   "source": [
    "# 단어의 모음세기\n",
    "vowels = 'aeiou'\n",
    "word = 'onomatopoeia'\n",
    "\n",
    "# word 순회\n",
    "print({w: word.count(w) for w in set(word) if w in vowels})\n",
    "\n",
    "# vowels 순회\n",
    "print({v: word.count(v) for v in set(vowels) if v in word})"
   ]
  },
  {
   "cell_type": "code",
   "execution_count": 37,
   "id": "6233921f-5adb-4511-b02b-0e757508a87f",
   "metadata": {},
   "outputs": [
    {
     "data": {
      "text/plain": [
       "{'수성': 'mercury',\n",
       " '금성': 'venus',\n",
       " '화성': 'mars',\n",
       " '목성': 'jupiter',\n",
       " '토성': 'saturn',\n",
       " '천왕성': 'uranus',\n",
       " '해왕성': 'neptune',\n",
       " '명왕성': 'pluto'}"
      ]
     },
     "execution_count": 37,
     "metadata": {},
     "output_type": "execute_result"
    }
   ],
   "source": [
    "# 위의 실습4에서 #3을 딕셔너리 컴프리헨션으로!\n",
    "# {key:value}\n",
    "\n",
    "# solar_dict = dict([(key, value) \n",
    "#                    for key, value in solar_dict.items() \n",
    "#                    if key.endswith('성')])\n",
    "\n",
    "solar_dict = {key:value \n",
    "              for key, value in solar_dict.items() \n",
    "              if key.endswith('성')}\n",
    "\n",
    "solar_dict"
   ]
  },
  {
   "cell_type": "markdown",
   "id": "6e8f317f-3f9b-4b0b-8802-ef701b0d4921",
   "metadata": {},
   "source": [
    "### sorting"
   ]
  },
  {
   "cell_type": "code",
   "execution_count": 38,
   "id": "6578a23b-5830-4757-87e4-39290a63ce95",
   "metadata": {},
   "outputs": [
    {
     "data": {
      "text/plain": [
       "['금성', '명왕성', '목성', '수성', '천왕성', '토성', '해왕성', '화성']"
      ]
     },
     "execution_count": 38,
     "metadata": {},
     "output_type": "execute_result"
    }
   ],
   "source": [
    "# 그냥 sorted를 하면 key만 가져감\n",
    "\n",
    "sorted(solar_dict)"
   ]
  },
  {
   "cell_type": "code",
   "execution_count": 39,
   "id": "c4959d8d-1f1e-4c77-ac9d-3a84d9d3e97b",
   "metadata": {},
   "outputs": [
    {
     "data": {
      "text/plain": [
       "[('금성', 'venus'),\n",
       " ('명왕성', 'pluto'),\n",
       " ('목성', 'jupiter'),\n",
       " ('수성', 'mercury'),\n",
       " ('천왕성', 'uranus'),\n",
       " ('토성', 'saturn'),\n",
       " ('해왕성', 'neptune'),\n",
       " ('화성', 'mars')]"
      ]
     },
     "execution_count": 39,
     "metadata": {},
     "output_type": "execute_result"
    }
   ],
   "source": [
    "def fx(x):\n",
    "    # 0은 key 기준, 1은 value 기준\n",
    "    return x[0] \n",
    "\n",
    "\n",
    "# 첫 번째는 한글기준, 두 번째는 영어 기준으로 정렬하고 싶을 때?\n",
    "# 나만의 함수를 정의해서 key에 넣음\n",
    "sorted(solar_dict.items(), key=fx)"
   ]
  },
  {
   "cell_type": "code",
   "execution_count": 40,
   "id": "869a94f2-a315-42ff-928e-7226d9341846",
   "metadata": {},
   "outputs": [
    {
     "data": {
      "text/plain": [
       "[('금성', 'venus'),\n",
       " ('명왕성', 'pluto'),\n",
       " ('목성', 'jupiter'),\n",
       " ('수성', 'mercury'),\n",
       " ('천왕성', 'uranus'),\n",
       " ('토성', 'saturn'),\n",
       " ('해왕성', 'neptune'),\n",
       " ('화성', 'mars')]"
      ]
     },
     "execution_count": 40,
     "metadata": {},
     "output_type": "execute_result"
    }
   ],
   "source": [
    "# 익명함수 lambda\n",
    "# 함수에서 이름 짓는 부분과 예약어를 빼고 익명으로 함수를 구현하는 것\n",
    "# 나중에 더 자세히 배움!\n",
    "\n",
    "sorted(solar_dict.items(), key=lambda x: x[0])"
   ]
  },
  {
   "cell_type": "markdown",
   "id": "c1fc98c4-f007-4de3-9fe7-c684c6724c21",
   "metadata": {},
   "source": [
    "---\n",
    "## Set\n",
    "- 딕셔너리에서 키만 가지고 있다. = `중복이 없다.`\n",
    "- 수학의 집합 개념 => 교집합, 합집합, 차집합, ...\n",
    "- 중복과 순서가 없는 bag이라고 생각하자, 인덱싱도 없다."
   ]
  },
  {
   "cell_type": "code",
   "execution_count": 41,
   "id": "832e7e81-10b8-49c2-9b29-59bd6b34e683",
   "metadata": {},
   "outputs": [
    {
     "data": {
      "text/plain": [
       "set()"
      ]
     },
     "execution_count": 41,
     "metadata": {},
     "output_type": "execute_result"
    }
   ],
   "source": [
    "# set 만드는 방법\n",
    "empty = set()\n",
    "empty"
   ]
  },
  {
   "cell_type": "code",
   "execution_count": 42,
   "id": "60ddece6-a6ed-4bdd-9482-27c52862164c",
   "metadata": {},
   "outputs": [
    {
     "data": {
      "text/plain": [
       "({1, 2, 3}, {1, 2, 3})"
      ]
     },
     "execution_count": 42,
     "metadata": {},
     "output_type": "execute_result"
    }
   ],
   "source": [
    "# 값이 있을 때는 그냥 넣으면 됨.\n",
    "a = {1, 2, 3}\n",
    "\n",
    "# 시퀀스이기 때문에 튜플이나 리스트로 묶어주고 넣어야 한다.\n",
    "# b = set(1, 2, 3) => 오류\n",
    "b = set((1, 2, 3))\n",
    "\n",
    "a, b"
   ]
  },
  {
   "cell_type": "code",
   "execution_count": 43,
   "id": "ec0979ce-d110-4051-ad8b-05824b9d5978",
   "metadata": {},
   "outputs": [
    {
     "name": "stdout",
     "output_type": "stream",
     "text": [
      "{1, 2, 3, 4}\n",
      "{1, 2, 3}\n"
     ]
    }
   ],
   "source": [
    "# 추가\n",
    "a.add(4)\n",
    "print(a)\n",
    "\n",
    "# 삭제\n",
    "a.remove(4)\n",
    "print(a)"
   ]
  },
  {
   "cell_type": "code",
   "execution_count": 44,
   "id": "523bbd95-b41f-46df-911a-2eb1eccd0485",
   "metadata": {},
   "outputs": [
    {
     "name": "stdout",
     "output_type": "stream",
     "text": [
      "martini\n",
      "black russian\n",
      "white russian\n",
      "screwdriver\n",
      "\n",
      "black russian\n",
      "screwdriver\n"
     ]
    }
   ],
   "source": [
    "drinks = {\n",
    "    'martini':{'vodka', 'vermouth'},\n",
    "    'black russian':{'vodka', 'kahlua'},\n",
    "    'white russian':{'vodka', 'kahlua', 'cream'},\n",
    "    'screwdriver':{'orange juice', 'vodka'}\n",
    "}\n",
    "\n",
    "# 1. vodka가 포함된 술 출력하기\n",
    "for k, v in drinks.items():\n",
    "    if 'vodka' in v:\n",
    "        print(k)\n",
    "\n",
    "print()\n",
    "\n",
    "# 2. vodka는 있지만 cream, vermouth 없는 술 출력\n",
    "for k, v in drinks.items():\n",
    "    if ('vodka' in v) and not('cream' in v or 'vermouth' in v):\n",
    "        print(k)"
   ]
  },
  {
   "cell_type": "markdown",
   "id": "acf5d9a0-479b-4d0f-aa9f-77a35bb127c3",
   "metadata": {},
   "source": [
    "#### set 활용 \n",
    "- 교집합 | intersection\n",
    "- 합집합 | union\n",
    "- 차집합 | difference"
   ]
  },
  {
   "cell_type": "code",
   "execution_count": 45,
   "id": "5352fb90-d254-437b-b728-b7a284a4eed8",
   "metadata": {},
   "outputs": [
    {
     "name": "stdout",
     "output_type": "stream",
     "text": [
      "{2, 3}\n",
      "{2, 3}\n",
      "\n",
      "{1, 2, 3, 4}\n",
      "{1, 2, 3, 4}\n",
      "\n",
      "{1}\n",
      "{4}\n",
      "{1} {4}\n"
     ]
    }
   ],
   "source": [
    "a = {1, 2, 3}\n",
    "b = {2, 3, 4}\n",
    "\n",
    "# 교집합\n",
    "print(a.intersection(b))\n",
    "print(a & b)\n",
    "print()\n",
    "\n",
    "# 합집합\n",
    "print(a.union(b))\n",
    "print(a | b)\n",
    "print()\n",
    "\n",
    "# 차집합\n",
    "print(a.difference(b))\n",
    "print(b.difference(a))\n",
    "print(a - b, b - a)"
   ]
  },
  {
   "cell_type": "code",
   "execution_count": 46,
   "id": "abedf386-b10d-48b1-8fcb-91812ac0e6cb",
   "metadata": {},
   "outputs": [
    {
     "name": "stdout",
     "output_type": "stream",
     "text": [
      "black russian\n",
      "screwdriver\n",
      "\n",
      "black russian\n",
      "screwdriver\n"
     ]
    }
   ],
   "source": [
    "# vodka는 있지만 cream, vermouth 없는 술 출력 => set을 활용하여 바꾸기\n",
    "for k, v in drinks.items():\n",
    "    if ('vodka' in v) and not('cream' in v or 'vermouth' in v):\n",
    "        print(k)\n",
    "\n",
    "print()\n",
    "\n",
    "for k, v in drinks.items():\n",
    "    if 'vodka' in v and not (v & {'cream', 'vermouth'}):\n",
    "        print(k)"
   ]
  },
  {
   "cell_type": "code",
   "execution_count": 47,
   "id": "3027bce8-4d94-482e-aa34-760023c14c5e",
   "metadata": {},
   "outputs": [
    {
     "data": {
      "text/plain": [
       "{0, 1, 2, 3, 4}"
      ]
     },
     "execution_count": 47,
     "metadata": {},
     "output_type": "execute_result"
    }
   ],
   "source": [
    "# set comprehension\n",
    "{s for s in range(5)}"
   ]
  },
  {
   "cell_type": "code",
   "execution_count": 48,
   "id": "6af21f55-8ce2-4a01-9a48-2d47a6502904",
   "metadata": {},
   "outputs": [
    {
     "data": {
      "text/plain": [
       "frozenset({1, 2})"
      ]
     },
     "execution_count": 48,
     "metadata": {},
     "output_type": "execute_result"
    }
   ],
   "source": [
    "# frozenset | 가변 객체를 불변 객체로 만들어 주는 것\n",
    "set([1, 2])\n",
    "frozenset([1, 2])"
   ]
  },
  {
   "cell_type": "markdown",
   "id": "bcb888a3-a6de-456c-a3b1-8f5476c342af",
   "metadata": {},
   "source": [
    "---\n",
    "#### 팀 단위 프로젝트\n",
    "**과제를 풀어서**\n",
    "- 테스크 해결\n",
    "- 수업 30분 동안 랜덤 코드 설명 (퀴즈 X, 다음주 부터는 12시에 접속!)\n",
    "- 만약 시켰는데 이해 못했거나 못한게 보이면 점수 안 줌\n",
    "- 제출은 수요일 자정까지\n",
    "- 코드는 최대한 구글링보다는 팀원과 상의하는 것으로!\n",
    "- 설명은 음성으로, 어떤 문제가 있었는지, 이 부분은 이런 방법이 더 괜찮았다 등\n",
    "- 내가 이 코드를 100% 이해했다고 보여주면 됨.\n",
    "- 코드는 같이 짜되, 발표 준비는 각자 알아서 열심히 해라.\n",
    "- 코드 설명 시 교수님께서 질문할 수도 있음.."
   ]
  },
  {
   "cell_type": "code",
   "execution_count": null,
   "id": "bdca7e80-e07e-46d6-b26f-117ed9677a15",
   "metadata": {},
   "outputs": [],
   "source": [
    "## 디버깅 방법\n",
    "# pylint 설치\n",
    "!pip install pylint\n",
    "# 어떤 코드에 오류가 있었는지 설명 (점수도 뜸)\n",
    "!pylint example.py\n",
    "\n",
    "\n",
    "## 독스트링 스타일\n",
    "# pydocstyle 설치\n",
    "!pip install pydocstyle\n",
    "# 몇 번째 줄이 잘못 되었는지가 뜸\n",
    "!pydocstyle example.py"
   ]
  }
 ],
 "metadata": {
  "kernelspec": {
   "display_name": "Python 3 (ipykernel)",
   "language": "python",
   "name": "python3"
  },
  "language_info": {
   "codemirror_mode": {
    "name": "ipython",
    "version": 3
   },
   "file_extension": ".py",
   "mimetype": "text/x-python",
   "name": "python",
   "nbconvert_exporter": "python",
   "pygments_lexer": "ipython3",
   "version": "3.9.7"
  }
 },
 "nbformat": 4,
 "nbformat_minor": 5
}
