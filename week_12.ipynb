{
 "cells": [
  {
   "cell_type": "markdown",
   "id": "16e18a78-2833-4bb6-b310-3106efaa0e2d",
   "metadata": {
    "tags": []
   },
   "source": [
    "# 12주차 (0520) Review\n",
    "---"
   ]
  },
  {
   "cell_type": "markdown",
   "id": "4264ad88-f745-468a-9839-143fb640a10f",
   "metadata": {},
   "source": [
    "### project3\n",
    "- Store, Item, Customer\n",
    "    - 서로 상호작용을 하지만, 상속하는/받는 관계는 아님\n",
    "    - 예) AbCustomer를 만들었다 -> Customer이 AbCustomer를 상속 \n",
    "    - Person <- Customer 상속은 가능\n",
    "        - Customer(Person)은 등록된 사람\n",
    "    - 구현했어야 했던 것 : has-a 관계"
   ]
  },
  {
   "cell_type": "code",
   "execution_count": null,
   "id": "cb8473c7-9a71-4ea0-9c09-403e19b4db8b",
   "metadata": {},
   "outputs": [],
   "source": [
    "class Customer(Person): # is-a 관계\n",
    "    pass\n",
    "\n",
    "\n",
    "class Store:\n",
    "    def __init__(customer):\n",
    "        self.customer = customer # Customer 타입; has-a 관계\n",
    "        self.item = item # Item 객체를 받음\n",
    "        self.item_list = (self.item.name, self.item.price) # 딕셔너리로 가져갈 것은 아님\n",
    "        \n",
    "        \n",
    "class Item:\n",
    "    name\n",
    "    cnt\n",
    "    price\n",
    "    \n",
    "    pass\n",
    "\n",
    "\n",
    "class Seller:\n",
    "    pass"
   ]
  },
  {
   "cell_type": "markdown",
   "id": "cd86deab-9de6-447b-82c3-f092d980b3c5",
   "metadata": {},
   "source": [
    "---\n",
    "### 매직 메소드\n",
    "- special method\n",
    "- 던더로 시작해서 던더로 끝나는 형식 \n",
    "```\n",
    "__<name>__\n",
    "```\n",
    "- ```\n",
    "__str__, __repr__\n",
    "```\n",
    "- 외에도 매직 메소드 더 많음."
   ]
  },
  {
   "cell_type": "code",
   "execution_count": 1,
   "id": "29cf67e1-47d4-4dc9-987a-2997bd40bb83",
   "metadata": {},
   "outputs": [
    {
     "name": "stdout",
     "output_type": "stream",
     "text": [
      "kim\n",
      "kim\n",
      "Customer(kim)\n"
     ]
    },
    {
     "data": {
      "text/plain": [
       "Customer(kim)"
      ]
     },
     "execution_count": 1,
     "metadata": {},
     "output_type": "execute_result"
    }
   ],
   "source": [
    "class Customer: # object\n",
    "    def __init__(self, name):\n",
    "        self.name = name\n",
    "        \n",
    "    def __str__(self):\n",
    "        # print() 함수로 나온 출력값을 변경하는 것\n",
    "        return self.name\n",
    "\n",
    "    def __repr__(self):\n",
    "        # 설정을 안 하면 __str__과 동일함\n",
    "        # 인스턴스를 출력하는 방식에 관한 것이기 때문에 \n",
    "        # 사용자가 이해하는 객체의 모습을 표현함.\n",
    "        return f'Customer({self.name})' # Customer(객체 이름)\n",
    "    \n",
    "c = Customer('kim')\n",
    "\n",
    "print(c)\n",
    "print(str(c))\n",
    "print(repr(c))\n",
    "c"
   ]
  },
  {
   "cell_type": "markdown",
   "id": "d8973695-5195-48f8-b47d-c1e54703d603",
   "metadata": {},
   "source": [
    "### NamedTuple, DataClass\n",
    "- 객체보다 효율적 (간단한 속성만 가진 클래스일 경우 활용)\n",
    "- 딕셔너리의 키처럼 사용 가능\n",
    "- 불변 객체\n",
    "- dataclass는 python 3.7 이상에서만 가능!"
   ]
  },
  {
   "cell_type": "code",
   "execution_count": 2,
   "id": "ffaf3b25-b561-4f19-860f-5ae19bb90b1f",
   "metadata": {},
   "outputs": [
    {
     "data": {
      "text/plain": [
       "'이름은 woori, 태어난 연도는 2015, 종은 ShihTzu'"
      ]
     },
     "execution_count": 2,
     "metadata": {},
     "output_type": "execute_result"
    }
   ],
   "source": [
    "from collections import namedtuple\n",
    "\n",
    "# 형식 : ('클래스 명', '들어갈 변수')\n",
    "# 이때, 변수는 공백으로 구분함.\n",
    "Customer = namedtuple('Customer', 'name year breed') \n",
    "\n",
    "a = Customer('woori', 2015, 'ShihTzu')\n",
    "f'이름은 {a.name}, 태어난 연도는 {a.year}, 종은 {a.breed}'"
   ]
  },
  {
   "cell_type": "code",
   "execution_count": 3,
   "id": "eee52f1c-aa60-4d84-b44f-e7d08318a4c7",
   "metadata": {},
   "outputs": [
    {
     "data": {
      "text/plain": [
       "'이름은 Deokgu, 태어난 연도는 2017, 종은 Rottweiler'"
      ]
     },
     "execution_count": 3,
     "metadata": {},
     "output_type": "execute_result"
    }
   ],
   "source": [
    "from dataclasses import dataclass\n",
    "\n",
    "@dataclass\n",
    "class Customer2:\n",
    "    name: str\n",
    "    year: int\n",
    "    breed: str\n",
    "    \n",
    "b = Customer2('Deokgu', 2017, 'Rottweiler')\n",
    "f'이름은 {b.name}, 태어난 연도는 {b.year}, 종은 {b.breed}'"
   ]
  },
  {
   "cell_type": "markdown",
   "id": "5124a415-db4b-43d6-840c-e627c1bf3cc9",
   "metadata": {},
   "source": [
    "---\n",
    "## 함수 II\n",
    "\n",
    "- *, **\n",
    "- 일급객체\n",
    "- 내부함수, 클로저\n",
    "- 익명함수\n",
    "- 제너레이터\n",
    "- 재귀함수"
   ]
  },
  {
   "cell_type": "markdown",
   "id": "0df5a14c-8bf0-4428-90df-ea0448542fd7",
   "metadata": {},
   "source": [
    "### asterisk: *\n",
    "- 기능: 여러 개가 들어왔을 때, 이것을 하나로 묶어주는 역할(패킹)\n",
    "- 무한대로 받기 가능"
   ]
  },
  {
   "cell_type": "code",
   "execution_count": 4,
   "id": "9996b958-bff9-48a5-b33a-50a1c9ef697e",
   "metadata": {},
   "outputs": [
    {
     "name": "stdout",
     "output_type": "stream",
     "text": [
      "(1, 2, 3, 4, 5, 6)\n"
     ]
    }
   ],
   "source": [
    "def print_arg(*args):\n",
    "    print(args)\n",
    "    \n",
    "print_arg(1, 2, 3, 4, 5, 6)"
   ]
  },
  {
   "cell_type": "code",
   "execution_count": 5,
   "id": "45dd44ce-22de-428d-a244-78cc4f07bbdb",
   "metadata": {},
   "outputs": [
    {
     "name": "stdout",
     "output_type": "stream",
     "text": [
      "1 2 3 4 5 6\n"
     ]
    }
   ],
   "source": [
    "def print_arg(*args):\n",
    "    print(*args) # 각각이 다르게 인식, 언패킹된 것\n",
    "    \n",
    "print_arg(1, 2, 3, 4, 5, 6)"
   ]
  },
  {
   "cell_type": "code",
   "execution_count": 6,
   "id": "7eebc787-55a5-4b5d-9e8c-c6c1c7e95157",
   "metadata": {},
   "outputs": [
    {
     "name": "stdout",
     "output_type": "stream",
     "text": [
      "나머지 인자는 없어도 돌아감!\n",
      "1 2\n",
      "optional\n",
      "\n",
      "나머지 인자를 넣은 예시\n",
      "3 4\n",
      "5 6 7 optional\n"
     ]
    }
   ],
   "source": [
    "def print_more(num1, num2, *args): # 앞의 두 인수는 꼭 있어야 하는 것, 나머지는 선택\n",
    "    print(num1, num2)\n",
    "    print(*args, 'optional')\n",
    "    \n",
    "print('나머지 인자는 없어도 돌아감!')\n",
    "print_more(1, 2) \n",
    "print()\n",
    "print('나머지 인자를 넣은 예시')\n",
    "print_more(3, 4, 5, 6, 7)"
   ]
  },
  {
   "cell_type": "code",
   "execution_count": 7,
   "id": "6682bbd1-3986-4f02-96bd-363cdf3aa5cb",
   "metadata": {},
   "outputs": [
    {
     "name": "stdout",
     "output_type": "stream",
     "text": [
      "0 1 2 3 4 5 6 7 8 9\n"
     ]
    }
   ],
   "source": [
    "# 함수 내부에서만 쓸 수 있는 것만은 아니다!\n",
    "\n",
    "empty = list(range(10))\n",
    "print(*empty) # 리스트로 반환이 되는 것이 아니라, 각 요소가 풀려서 출력됨."
   ]
  },
  {
   "cell_type": "code",
   "execution_count": 8,
   "id": "c30eb0a1-a840-46de-b4dc-b3b617f59579",
   "metadata": {},
   "outputs": [
    {
     "name": "stdout",
     "output_type": "stream",
     "text": [
      "(1, 3, 5)\n",
      "(2, 4, 6)\n"
     ]
    }
   ],
   "source": [
    "# 행렬, 테이블 데이터\n",
    "\n",
    "matrix = [\n",
    "    [1, 2],\n",
    "    [3, 4],\n",
    "    [5, 6]\n",
    "]\n",
    "\n",
    "# 1, 3, 5 / 2, 4, 6 => 열만 타고 싶을 때!\n",
    "for item in zip(*matrix): # 각각의 첫번째와 두번째를 탈 수 있음!\n",
    "    print(item)"
   ]
  },
  {
   "cell_type": "code",
   "execution_count": 9,
   "id": "43f25858-4d4c-47af-8c3f-afab69a74603",
   "metadata": {},
   "outputs": [
    {
     "name": "stdout",
     "output_type": "stream",
     "text": [
      "(1, 3, 5)\n",
      "(2, 4, 6)\n"
     ]
    }
   ],
   "source": [
    "# 위와 같은 코드를 풀어 놓은 것!\n",
    "for item in zip([1, 2], [3, 4], [5, 6]):\n",
    "    print(item)"
   ]
  },
  {
   "cell_type": "code",
   "execution_count": 10,
   "id": "4a7b6fa5-0d5c-44b2-8d91-aa1d9953f6b8",
   "metadata": {},
   "outputs": [
    {
     "name": "stdout",
     "output_type": "stream",
     "text": [
      "0\n",
      "1\n",
      "2\n",
      "3\n"
     ]
    }
   ],
   "source": [
    "# 키워드 전용 인수 선언 시 사용\n",
    "\n",
    "# start와 end는 꼭 키워드로 받고 싶은 경우\n",
    "# 앞에 '*'을 아래와 같이 넣어줌!\n",
    "def print_data(data, *, start, end): \n",
    "    for item in data[start:end]:\n",
    "        print(item)\n",
    "        \n",
    "print_data(empty, start=0, end=4)\n",
    "# print_data(empty, 0, 1) # 이렇게 X"
   ]
  },
  {
   "cell_type": "markdown",
   "id": "2c2146a4-f040-4371-b567-5990719eff37",
   "metadata": {},
   "source": [
    "### kargs : **"
   ]
  },
  {
   "cell_type": "code",
   "execution_count": 11,
   "id": "9a543418-530d-4518-838d-56024d9eaf4b",
   "metadata": {},
   "outputs": [
    {
     "name": "stdout",
     "output_type": "stream",
     "text": [
      "{'wine': 'crianza', 'drink': 'water'}\n"
     ]
    }
   ],
   "source": [
    "def print_kargs(**kargs): # 키:값 => 딕셔너리로 반환\n",
    "    print(kargs)\n",
    "    # print(**kargs) # 이 방법은 안됨, 언패킹 기능이 없기 때문!\n",
    "    \n",
    "print_kargs(wine='crianza', drink='water')"
   ]
  },
  {
   "cell_type": "code",
   "execution_count": 12,
   "id": "bba659e1-d3b0-4f0f-9e30-992dcaa20188",
   "metadata": {},
   "outputs": [
    {
     "name": "stdout",
     "output_type": "stream",
     "text": [
      "{'wine': 'cabernet', 'drink': 'water'}\n",
      "{'wine': 'crianza', 'drink': 'water'}\n",
      "{'wine': 'shiraz', 'drink': 'water'}\n"
     ]
    }
   ],
   "source": [
    "for wine in ['cabernet', 'crianza', 'shiraz']:\n",
    "    print_kargs(wine=wine, drink='water')"
   ]
  },
  {
   "cell_type": "code",
   "execution_count": 13,
   "id": "c15c5bc9-5e2b-4368-8aaf-327359e0b789",
   "metadata": {},
   "outputs": [
    {
     "name": "stdout",
     "output_type": "stream",
     "text": [
      "{'wine': 'crianza', 'drink': 'water'}\n"
     ]
    }
   ],
   "source": [
    "def print_kargs(**kargs):\n",
    "    kargs['wine'] = 'crianza' # 키가 없는 경우 오류, get()이용하는 것이 좋다.\n",
    "    print(kargs)\n",
    "    \n",
    "print_kargs(wine='crianza', drink='water')"
   ]
  },
  {
   "cell_type": "code",
   "execution_count": 14,
   "id": "fd7ac41c-dd40-403b-a535-05f8175f6a01",
   "metadata": {},
   "outputs": [
    {
     "name": "stdout",
     "output_type": "stream",
     "text": [
      "1 2\n",
      "18\n",
      "{'num': 7}\n"
     ]
    }
   ],
   "source": [
    "# 이렇게 같이 쓸 수도 있다!\n",
    "def print_all(num1, num2, *args, **kargs):\n",
    "    print(num1, num2)\n",
    "    print(sum(args))\n",
    "    print(kargs)\n",
    "    \n",
    "# karg와 parg 이름이 같은 경우, 오류\n",
    "# print_all(1, 2, 3, 4, 5, 6, num1=7, num2=8)\n",
    "\n",
    "# 아래와 같이 다르게 설정해주어야 한다.\n",
    "print_all(1, 2, 3, 4, 5, 6, num=7) "
   ]
  },
  {
   "cell_type": "code",
   "execution_count": 15,
   "id": "ce5ca542-299b-49c7-92e8-4498aed45e9d",
   "metadata": {},
   "outputs": [],
   "source": [
    "# 딕셔너리를 조인할 때 사용\n",
    "\n",
    "a = {1:'a', 2:'b'}\n",
    "b = {2:'c', 3:'d'}\n",
    "c = {**a, **b}"
   ]
  }
 ],
 "metadata": {
  "kernelspec": {
   "display_name": "Python 3 (ipykernel)",
   "language": "python",
   "name": "python3"
  },
  "language_info": {
   "codemirror_mode": {
    "name": "ipython",
    "version": 3
   },
   "file_extension": ".py",
   "mimetype": "text/x-python",
   "name": "python",
   "nbconvert_exporter": "python",
   "pygments_lexer": "ipython3",
   "version": "3.9.7"
  }
 },
 "nbformat": 4,
 "nbformat_minor": 5
}
