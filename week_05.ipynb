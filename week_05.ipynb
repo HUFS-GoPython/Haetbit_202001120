{
 "cells": [
  {
   "cell_type": "markdown",
   "id": "30baa704-47ce-4eec-b9c8-d1fc97846da4",
   "metadata": {},
   "source": [
    "# 5주차 (0401) Review"
   ]
  },
  {
   "cell_type": "markdown",
   "id": "26e76a8f-a6c0-4d77-ac71-73142242de39",
   "metadata": {},
   "source": [
    "---\n",
    "## `ch05.for.ex02`"
   ]
  },
  {
   "cell_type": "markdown",
   "id": "cc7e4451-2872-4ac8-aba9-33d0f4c073c9",
   "metadata": {},
   "source": [
    "## 반복문\n",
    "- while, for loop\n",
    "- 반복문: 자료구조를 순회할 때 사용\n",
    "- 정해진 동작을 반복해야 할 때 내리는 명령어\n",
    "- for loop: 시작, 종료 그리고 수행명령\n",
    "\n",
    "### while loop\n",
    "- 어떤 `조건`이 만족하는 동안 명령 블록을 수행\n",
    "- if와 for loop이 합쳐진 형태!\n",
    "- 해당 조건이 거짓이면 멈춤 => 따라서 `언제 멈추는지` 그 시점을 정확히 파악\n",
    "\n",
    "### for vs. while \n",
    "- 좋고 나쁜 것은 없고, 용도가 다르다.\n",
    "- for: 반복 횟수가 정해져 있고, 정확하며, 변하지 않음\n",
    "    - 예: 성적 산출\n",
    "- while: 반복 횟수는 중요하지 않고(정해져 있지 x), 어떤 조건을 만족시킬 때 빠져나오게 하는 게 중요할 때 사용\n",
    "    - 예: 가위바위보 이겼을 때 끝내는 것!"
   ]
  },
  {
   "cell_type": "code",
   "execution_count": 2,
   "id": "a639f66e-d8e9-47af-9d61-6adff53e8d3b",
   "metadata": {},
   "outputs": [
    {
     "name": "stdout",
     "output_type": "stream",
     "text": [
      "0\n",
      "1\n",
      "2\n",
      "3\n",
      "4\n",
      "5\n",
      "6\n",
      "7\n",
      "8\n",
      "9\n"
     ]
    }
   ],
   "source": [
    "# 지난번 했던 for loop\n",
    "for i in range(10):\n",
    "    print(i)"
   ]
  },
  {
   "cell_type": "code",
   "execution_count": 3,
   "id": "90708e6d-27ca-496e-84b1-f5e5c0c68c24",
   "metadata": {},
   "outputs": [
    {
     "name": "stdout",
     "output_type": "stream",
     "text": [
      "0\n",
      "1\n",
      "2\n",
      "3\n",
      "4\n",
      "5\n",
      "6\n",
      "7\n",
      "8\n",
      "9\n"
     ]
    }
   ],
   "source": [
    "# 위 코드를 while 문으로 변경\n",
    "\n",
    "j = 0 # 초기화\n",
    "while j < 10:\n",
    "    print(j)\n",
    "    j += 1 # 변화"
   ]
  },
  {
   "cell_type": "code",
   "execution_count": 4,
   "id": "b2a5b573-02e0-4a1a-aa7d-d1567b642038",
   "metadata": {},
   "outputs": [
    {
     "name": "stdout",
     "output_type": "stream",
     "text": [
      "1\n",
      "2\n",
      "3\n"
     ]
    }
   ],
   "source": [
    "j = 0 \n",
    "\n",
    "# j의 값의 변화를 머릿속에 가지고 있어야 함.\n",
    "while j < 3: # 0, 1, 2, False(종료!)\n",
    "    j += 1 # 변화\n",
    "    print(j)"
   ]
  },
  {
   "cell_type": "code",
   "execution_count": 5,
   "id": "4f739313-3061-4f08-9b35-70dc74fa6370",
   "metadata": {},
   "outputs": [
    {
     "data": {
      "text/plain": [
       "3"
      ]
     },
     "execution_count": 5,
     "metadata": {},
     "output_type": "execute_result"
    }
   ],
   "source": [
    "# 이때의 j값은 3!\n",
    "j"
   ]
  },
  {
   "cell_type": "code",
   "execution_count": 8,
   "id": "cd88eaae-ae55-4adc-97ab-6a0e0331b2fa",
   "metadata": {},
   "outputs": [
    {
     "name": "stdout",
     "output_type": "stream",
     "text": [
      "=> for문 버전\n",
      "a\n",
      "b\n",
      "c\n",
      "d\n",
      "\n",
      "=> while문 버전\n",
      "a\n",
      "b\n",
      "c\n",
      "d\n"
     ]
    }
   ],
   "source": [
    "print('=> for문 버전')\n",
    "abcd = ['a', 'b', 'c', 'd']\n",
    "\n",
    "for ch in abcd:\n",
    "    print(ch)\n",
    "    \n",
    "print()\n",
    "print('=> while문 버전')\n",
    "i = 0\n",
    "while i < len(abcd):\n",
    "    print(abcd[i])\n",
    "    i += 1"
   ]
  },
  {
   "cell_type": "markdown",
   "id": "f74a9843-fa8f-4fdd-9d06-793e956ab21f",
   "metadata": {},
   "source": [
    "### 반복문 제어\n",
    "- **되도록 사용하지 않는다.** \n",
    "    - 이유: 생각치 못할 때 코드가 종료될 수 있기 때문! `의도치 않은 오류`를 방지하기 위해!\n",
    "- break : 논리적으로 반복을 종료시킬 때 사용\n",
    "- else : 어떤 조건이 완전히 끝났을 때 한번 더 실행함. break 시에는 실행이 안 됨! \n",
    "    - 어느 지점에서 종료되었는지 확인할 때\n",
    "    - for, while과 같은 코드라인에 사용\n",
    "- continue : 특정 조건을 건너뛰고 다음 조건 실행"
   ]
  },
  {
   "cell_type": "code",
   "execution_count": 9,
   "id": "02645a74-3882-4ef7-8149-14f2c9a56651",
   "metadata": {},
   "outputs": [
    {
     "name": "stdout",
     "output_type": "stream",
     "text": [
      "0\n",
      "1\n",
      "2\n",
      "3\n",
      "4\n",
      "5\n",
      "6\n"
     ]
    }
   ],
   "source": [
    "j = 0\n",
    "\n",
    "while j < 10:\n",
    "    print(j)\n",
    "    if j == 6: \n",
    "        break\n",
    "    j += 1\n",
    "\n",
    "# else 아래 코드는 \n",
    "# break 시에는 실행되지 않으므로 ended는 출력 안 됨!\n",
    "# 다 돌고 끝난 것인지 확인하기 위한 용도\n",
    "else:\n",
    "    print('ended')"
   ]
  },
  {
   "cell_type": "code",
   "execution_count": 10,
   "id": "39548a58-1dbc-4255-ae0c-4ad63e4f3d39",
   "metadata": {},
   "outputs": [
    {
     "name": "stdout",
     "output_type": "stream",
     "text": [
      "0\n",
      "1\n",
      "2\n",
      "3\n",
      "4\n",
      "5\n"
     ]
    }
   ],
   "source": [
    "for i in range(10):\n",
    "    if i == 6: \n",
    "        break\n",
    "    # break하고 끝났으므로, 6 출력 안 함.\n",
    "    print(i) \n",
    "    \n",
    "# else 아래 코드는 \n",
    "# break 시에는 실행되지 않으므로 출력 안 됨!\n",
    "# 다 돌고 끝난 것인지 확인하기 위한 용도\n",
    "else:\n",
    "    print('fin')"
   ]
  },
  {
   "cell_type": "code",
   "execution_count": 11,
   "id": "d8b1994e-8ad4-448d-be4c-94d2a86697cc",
   "metadata": {},
   "outputs": [
    {
     "name": "stdout",
     "output_type": "stream",
     "text": [
      "0\n",
      "1\n",
      "2\n",
      "3\n",
      "4\n",
      "5\n",
      "7\n",
      "8\n",
      "9\n",
      "fin\n"
     ]
    }
   ],
   "source": [
    "for i in range(10):\n",
    "    # 6만 print가 되지 않을 것!\n",
    "    if i == 6: \n",
    "        continue\n",
    "    print(i) \n",
    "    \n",
    "else:\n",
    "    print('fin')"
   ]
  },
  {
   "cell_type": "markdown",
   "id": "70383a10-6f79-41f0-9120-3997aa504164",
   "metadata": {},
   "source": [
    "### gugudan\n",
    "변수는 입력을 받아서 사용함.\n",
    "- 1.n단 출력\n",
    "- 2.1-n단까지 출력\n",
    "    - n > 10 경우 대비\n",
    "- 3.n, m 모두 입력 받아서 출력\n",
    "    - n > m\n",
    "- 4.프로그램으로 만든다.\n",
    "    - 메뉴: 1) n단 출력, 2) 1-n단 출력, 3) n-m단 출력\n",
    "    - 메뉴에 없는 옵션 선택할 때 고려\n",
    "- print할 때 format 사용할 것!"
   ]
  },
  {
   "cell_type": "code",
   "execution_count": 17,
   "id": "097a354e-115d-4b00-a1a0-bd321a0c1c36",
   "metadata": {},
   "outputs": [
    {
     "name": "stdout",
     "output_type": "stream",
     "text": [
      "구구단 출력 프로그램 입니다.\n",
      "메뉴: 1) n단 출력, 2) 1~n단 출력, 3) n~m단 출력, 4) 종료\n"
     ]
    },
    {
     "name": "stdin",
     "output_type": "stream",
     "text": [
      "메뉴를 선택해주세요.:  1\n"
     ]
    },
    {
     "name": "stdout",
     "output_type": "stream",
     "text": [
      "\n",
      "1) n단 출력\n"
     ]
    },
    {
     "name": "stdin",
     "output_type": "stream",
     "text": [
      "몇 단을 출력할까요? (1~9까지 입력하세요.) 12\n"
     ]
    },
    {
     "name": "stdout",
     "output_type": "stream",
     "text": [
      "구구단은 1~9까지만 출력할 수 있습니다. 다시 입력해주세요.\n",
      "\n"
     ]
    },
    {
     "name": "stdin",
     "output_type": "stream",
     "text": [
      "몇 단을 출력할까요? (1~9까지 입력하세요.) 7\n"
     ]
    },
    {
     "name": "stdout",
     "output_type": "stream",
     "text": [
      "\n",
      "=== 7 단===\n",
      "7 X 1 =  7\n",
      "7 X 2 = 14\n",
      "7 X 3 = 21\n",
      "7 X 4 = 28\n",
      "7 X 5 = 35\n",
      "7 X 6 = 42\n",
      "7 X 7 = 49\n",
      "7 X 8 = 56\n",
      "7 X 9 = 63\n",
      "\n",
      "구구단 출력 프로그램 입니다.\n",
      "메뉴: 1) n단 출력, 2) 1~n단 출력, 3) n~m단 출력, 4) 종료\n"
     ]
    },
    {
     "name": "stdin",
     "output_type": "stream",
     "text": [
      "메뉴를 선택해주세요.:  2\n"
     ]
    },
    {
     "name": "stdout",
     "output_type": "stream",
     "text": [
      "\n",
      "2) 1~n단 출력\n"
     ]
    },
    {
     "name": "stdin",
     "output_type": "stream",
     "text": [
      "몇 단까지 출력할까요? (1~9까지 입력하세요.) 12\n"
     ]
    },
    {
     "name": "stdout",
     "output_type": "stream",
     "text": [
      "구구단은 1~9까지만 출력할 수 있습니다. 다시 입력해주세요.\n",
      "\n"
     ]
    },
    {
     "name": "stdin",
     "output_type": "stream",
     "text": [
      "몇 단까지 출력할까요? (1~9까지 입력하세요.) 3\n"
     ]
    },
    {
     "name": "stdout",
     "output_type": "stream",
     "text": [
      "\n",
      "=== 1 단===\n",
      "1 X 1 =  1\n",
      "1 X 2 =  2\n",
      "1 X 3 =  3\n",
      "1 X 4 =  4\n",
      "1 X 5 =  5\n",
      "1 X 6 =  6\n",
      "1 X 7 =  7\n",
      "1 X 8 =  8\n",
      "1 X 9 =  9\n",
      "\n",
      "=== 2 단===\n",
      "2 X 1 =  2\n",
      "2 X 2 =  4\n",
      "2 X 3 =  6\n",
      "2 X 4 =  8\n",
      "2 X 5 = 10\n",
      "2 X 6 = 12\n",
      "2 X 7 = 14\n",
      "2 X 8 = 16\n",
      "2 X 9 = 18\n",
      "\n",
      "=== 3 단===\n",
      "3 X 1 =  3\n",
      "3 X 2 =  6\n",
      "3 X 3 =  9\n",
      "3 X 4 = 12\n",
      "3 X 5 = 15\n",
      "3 X 6 = 18\n",
      "3 X 7 = 21\n",
      "3 X 8 = 24\n",
      "3 X 9 = 27\n",
      "\n",
      "구구단 출력 프로그램 입니다.\n",
      "메뉴: 1) n단 출력, 2) 1~n단 출력, 3) n~m단 출력, 4) 종료\n"
     ]
    },
    {
     "name": "stdin",
     "output_type": "stream",
     "text": [
      "메뉴를 선택해주세요.:  3\n"
     ]
    },
    {
     "name": "stdout",
     "output_type": "stream",
     "text": [
      "\n",
      "3) n~m단 출력\n"
     ]
    },
    {
     "name": "stdin",
     "output_type": "stream",
     "text": [
      "몇 단부터 출력할까요? (1~9까지 입력하세요.) 8\n",
      "몇 단까지 출력할까요? (1~9까지 입력하세요.) 19\n"
     ]
    },
    {
     "name": "stdout",
     "output_type": "stream",
     "text": [
      "구구단은 1~9까지만 출력할 수 있습니다. 다시 입력해주세요.\n",
      "\n"
     ]
    },
    {
     "name": "stdin",
     "output_type": "stream",
     "text": [
      "몇 단부터 출력할까요? (1~9까지 입력하세요.) 9\n",
      "몇 단까지 출력할까요? (1~9까지 입력하세요.) 2\n"
     ]
    },
    {
     "name": "stdout",
     "output_type": "stream",
     "text": [
      "시작하는 단이 끝나는 단보다 작아야 합니다. 다시 입력하세요.\n",
      "\n"
     ]
    },
    {
     "name": "stdin",
     "output_type": "stream",
     "text": [
      "몇 단부터 출력할까요? (1~9까지 입력하세요.) 5\n",
      "몇 단까지 출력할까요? (1~9까지 입력하세요.) 7\n"
     ]
    },
    {
     "name": "stdout",
     "output_type": "stream",
     "text": [
      "\n",
      "=== 5 단===\n",
      "5 X 1 =  5\n",
      "5 X 2 = 10\n",
      "5 X 3 = 15\n",
      "5 X 4 = 20\n",
      "5 X 5 = 25\n",
      "5 X 6 = 30\n",
      "5 X 7 = 35\n",
      "5 X 8 = 40\n",
      "5 X 9 = 45\n",
      "\n",
      "=== 6 단===\n",
      "6 X 1 =  6\n",
      "6 X 2 = 12\n",
      "6 X 3 = 18\n",
      "6 X 4 = 24\n",
      "6 X 5 = 30\n",
      "6 X 6 = 36\n",
      "6 X 7 = 42\n",
      "6 X 8 = 48\n",
      "6 X 9 = 54\n",
      "\n",
      "=== 7 단===\n",
      "7 X 1 =  7\n",
      "7 X 2 = 14\n",
      "7 X 3 = 21\n",
      "7 X 4 = 28\n",
      "7 X 5 = 35\n",
      "7 X 6 = 42\n",
      "7 X 7 = 49\n",
      "7 X 8 = 56\n",
      "7 X 9 = 63\n",
      "\n",
      "구구단 출력 프로그램 입니다.\n",
      "메뉴: 1) n단 출력, 2) 1~n단 출력, 3) n~m단 출력, 4) 종료\n"
     ]
    },
    {
     "name": "stdin",
     "output_type": "stream",
     "text": [
      "메뉴를 선택해주세요.:  5\n"
     ]
    },
    {
     "name": "stdout",
     "output_type": "stream",
     "text": [
      "\n",
      "잘못 입력하셨습니다.\n",
      "초기 화면으로 돌아갑니다.\n",
      "\n",
      "구구단 출력 프로그램 입니다.\n",
      "메뉴: 1) n단 출력, 2) 1~n단 출력, 3) n~m단 출력, 4) 종료\n"
     ]
    },
    {
     "name": "stdin",
     "output_type": "stream",
     "text": [
      "메뉴를 선택해주세요.:  4\n"
     ]
    },
    {
     "name": "stdout",
     "output_type": "stream",
     "text": [
      "\n",
      "프로그램을 종료합니다.\n"
     ]
    }
   ],
   "source": [
    "gugudan = True\n",
    "while gugudan:\n",
    "    print('구구단 출력 프로그램 입니다.')\n",
    "    print('메뉴: 1) n단 출력, 2) 1~n단 출력, 3) n~m단 출력, 4) 종료')\n",
    "    menu = int(input('메뉴를 선택해주세요.: '))\n",
    "    print()\n",
    "    \n",
    "    if menu == 1:\n",
    "        print('1) n단 출력')\n",
    "        \n",
    "        dan_input = True\n",
    "        while dan_input:\n",
    "            dan = int(input('몇 단을 출력할까요? (1~9까지 입력하세요.)'))\n",
    "            \n",
    "            if not(1 <= dan <= 9):\n",
    "                print('구구단은 1~9까지만 출력할 수 있습니다. 다시 입력해주세요.')\n",
    "                print()\n",
    "            else:\n",
    "                print()\n",
    "                print(f'=== {dan} 단===')\n",
    "                for i in range(1, 10):\n",
    "                    print(f'{dan} X {i} = {dan * i:2d}')\n",
    "                print()\n",
    "                dan_input = False\n",
    "                \n",
    "    elif menu == 2:\n",
    "        print('2) 1~n단 출력')\n",
    "        \n",
    "        dan_input = True\n",
    "        while dan_input:\n",
    "            n = int(input('몇 단까지 출력할까요? (1~9까지 입력하세요.)'))\n",
    "\n",
    "            if not(1 <= n <= 9):\n",
    "                print('구구단은 1~9까지만 출력할 수 있습니다. 다시 입력해주세요.')\n",
    "                print()\n",
    "            else:\n",
    "                print()\n",
    "                for i in range(1, n + 1):\n",
    "                    print(f'=== {i} 단===')\n",
    "                    for j in range(1, 10):\n",
    "                        print(f'{i} X {j} = {i * j:2d}')\n",
    "                    print()\n",
    "                dan_input = False\n",
    "                \n",
    "    elif menu == 3:\n",
    "        print('3) n~m단 출력')\n",
    "        \n",
    "        dan_input = True\n",
    "        while dan_input:\n",
    "            n = int(input('몇 단부터 출력할까요? (1~9까지 입력하세요.)'))\n",
    "            m = int(input('몇 단까지 출력할까요? (1~9까지 입력하세요.)'))\n",
    "\n",
    "            if not (1 <= n <= 9) or not (1 <= m <= 9):\n",
    "                print(f'구구단은 1~9까지만 출력할 수 있습니다. 다시 입력해주세요.')\n",
    "                print()\n",
    "            elif m <= n:\n",
    "                print(f'시작하는 단이 끝나는 단보다 작아야 합니다. 다시 입력하세요.')\n",
    "                print()\n",
    "            else:\n",
    "                print()\n",
    "                for i in range(n, m + 1):\n",
    "                    print(f'=== {i} 단===')\n",
    "                    for j in range(1, 10):\n",
    "                        print(f'{i} X {j} = {i * j:2d}')\n",
    "                    print()\n",
    "                dan_input = False\n",
    "                \n",
    "    elif menu == 4:\n",
    "        print('프로그램을 종료합니다.')\n",
    "        gugudan = False\n",
    "        \n",
    "    else:\n",
    "        print('잘못 입력하셨습니다.')\n",
    "        print('초기 화면으로 돌아갑니다.')\n",
    "        print()"
   ]
  },
  {
   "cell_type": "markdown",
   "id": "7d61a593-473f-48ea-9fc7-ae68a31c48b9",
   "metadata": {},
   "source": [
    "---\n",
    "## `nltk`"
   ]
  },
  {
   "cell_type": "code",
   "execution_count": 18,
   "id": "917b5ee5-172b-4eff-99f3-ca27fa10897e",
   "metadata": {},
   "outputs": [
    {
     "name": "stdout",
     "output_type": "stream",
     "text": [
      "*** Introductory Examples for the NLTK Book ***\n",
      "Loading text1, ..., text9 and sent1, ..., sent9\n",
      "Type the name of the text or sentence to view it.\n",
      "Type: 'texts()' or 'sents()' to list the materials.\n",
      "text1: Moby Dick by Herman Melville 1851\n",
      "text2: Sense and Sensibility by Jane Austen 1811\n",
      "text3: The Book of Genesis\n",
      "text4: Inaugural Address Corpus\n",
      "text5: Chat Corpus\n",
      "text6: Monty Python and the Holy Grail\n",
      "text7: Wall Street Journal\n",
      "text8: Personals Corpus\n",
      "text9: The Man Who Was Thursday by G . K . Chesterton 1908\n"
     ]
    },
    {
     "data": {
      "text/plain": [
       "True"
      ]
     },
     "execution_count": 18,
     "metadata": {},
     "output_type": "execute_result"
    }
   ],
   "source": [
    "# nltk import\n",
    "\n",
    "import nltk\n",
    "from nltk.book import *\n",
    "nltk.download('book',quiet=True)"
   ]
  },
  {
   "cell_type": "markdown",
   "id": "d2a5ed84-b491-4b1c-8dbb-579988cc0fbd",
   "metadata": {},
   "source": [
    "### text1 ~ 9 가져오기! (리스트에 전부 쓰는 방법말고!)\n",
    "- text1(기능이 포함되어 있는 변수) vs. 'text1'(str)\n",
    "- text1 - 9를 string으로 가져오기\n",
    "- string에서 기능이 있는 것(fx)으로 바꿔줘야! \n",
    "    - getattribute(library, 'string_name')"
   ]
  },
  {
   "cell_type": "code",
   "execution_count": 19,
   "id": "25be3c4d-ca16-4dc6-a8f4-22297bb3d467",
   "metadata": {},
   "outputs": [
    {
     "data": {
      "text/plain": [
       "['text1',\n",
       " 'text2',\n",
       " 'text3',\n",
       " 'text4',\n",
       " 'text5',\n",
       " 'text6',\n",
       " 'text7',\n",
       " 'text8',\n",
       " 'text9']"
      ]
     },
     "execution_count": 19,
     "metadata": {},
     "output_type": "execute_result"
    }
   ],
   "source": [
    "# 1. text1~9를 str으로 가져오는 작업\n",
    "texts = [f'text{i}' for i in range(1, 10)]\n",
    "texts"
   ]
  },
  {
   "cell_type": "code",
   "execution_count": 20,
   "id": "2c937a76-ac6b-4ade-87a4-581b6178b7fe",
   "metadata": {},
   "outputs": [
    {
     "data": {
      "text/plain": [
       "[<Text: Moby Dick by Herman Melville 1851>,\n",
       " <Text: Sense and Sensibility by Jane Austen 1811>,\n",
       " <Text: The Book of Genesis>,\n",
       " <Text: Inaugural Address Corpus>,\n",
       " <Text: Chat Corpus>,\n",
       " <Text: Monty Python and the Holy Grail>,\n",
       " <Text: Wall Street Journal>,\n",
       " <Text: Personals Corpus>,\n",
       " <Text: The Man Who Was Thursday by G . K . Chesterton 1908>]"
      ]
     },
     "execution_count": 20,
     "metadata": {},
     "output_type": "execute_result"
    }
   ],
   "source": [
    "# 2. str => 기능을 가진 것으로 바꿔주기\n",
    "texts = [getattr(nltk.book, f'text{i}') for i in range(1, 10)]\n",
    "texts"
   ]
  },
  {
   "cell_type": "code",
   "execution_count": 23,
   "id": "52d77146-f414-41ff-ac19-63d8167f07b2",
   "metadata": {},
   "outputs": [
    {
     "data": {
      "text/plain": [
       "<Text: Monty Python and the Holy Grail>"
      ]
     },
     "execution_count": 23,
     "metadata": {},
     "output_type": "execute_result"
    }
   ],
   "source": [
    "# text6: Monty Python and the Holy Grail\n",
    "\n",
    "texts[5]"
   ]
  },
  {
   "cell_type": "markdown",
   "id": "4e6637f0-9176-4a6b-a284-c23d12f59234",
   "metadata": {},
   "source": [
    "### NLTK corpus\n",
    "- 코퍼스 + 테마\n",
    "- 소설뿐만 아니라 다양\n",
    "- import하는 방식은 동일\n",
    "- 종류\n",
    "    - brown\n",
    "    - gutenberg: 저작권 만료된 소설을 모아놓은 코퍼스\n",
    "    - in augural\n",
    "- methods (str으로 반환)\n",
    "    - words(fileid): nltk의 tokens와 같은 기능\n",
    "    - sents(fileid)\n",
    "    - raw(fileid)\n",
    "    - fileid()"
   ]
  },
  {
   "cell_type": "code",
   "execution_count": 24,
   "id": "4bc040d0-7507-4be9-92a3-41ea87fc090f",
   "metadata": {},
   "outputs": [
    {
     "name": "stderr",
     "output_type": "stream",
     "text": [
      "[nltk_data] Downloading package brown to /Users/haetbit/nltk_data...\n",
      "[nltk_data]   Package brown is already up-to-date!\n",
      "[nltk_data] Downloading package gutenberg to\n",
      "[nltk_data]     /Users/haetbit/nltk_data...\n",
      "[nltk_data]   Package gutenberg is already up-to-date!\n",
      "[nltk_data] Downloading package inaugural to\n",
      "[nltk_data]     /Users/haetbit/nltk_data...\n",
      "[nltk_data]   Package inaugural is already up-to-date!\n"
     ]
    },
    {
     "data": {
      "text/plain": [
       "True"
      ]
     },
     "execution_count": 24,
     "metadata": {},
     "output_type": "execute_result"
    }
   ],
   "source": [
    "# nltk.corpus에서 gutenberg를 가져오기\n",
    "from nltk.corpus import gutenberg\n",
    "\n",
    "# 셋 다 download\n",
    "nltk.download(['brown', 'gutenberg', 'inaugural'])"
   ]
  },
  {
   "cell_type": "code",
   "execution_count": 27,
   "id": "9985e6eb-3ed2-4975-94e1-92c83bcca23c",
   "metadata": {},
   "outputs": [
    {
     "data": {
      "text/plain": [
       "<PlaintextCorpusReader in '/Users/haetbit/nltk_data/corpora/gutenberg'>"
      ]
     },
     "execution_count": 27,
     "metadata": {},
     "output_type": "execute_result"
    }
   ],
   "source": [
    "# gutenberg를 import할 때 이렇게 해도 됨!\n",
    "gutenberg = nltk.corpus.gutenberg\n",
    "\n",
    "gutenberg"
   ]
  },
  {
   "cell_type": "code",
   "execution_count": 28,
   "id": "32044a22-0644-411f-b9de-981aecf9e72e",
   "metadata": {},
   "outputs": [
    {
     "data": {
      "text/plain": [
       "['austen-emma.txt',\n",
       " 'austen-persuasion.txt',\n",
       " 'austen-sense.txt',\n",
       " 'bible-kjv.txt',\n",
       " 'blake-poems.txt',\n",
       " 'bryant-stories.txt',\n",
       " 'burgess-busterbrown.txt',\n",
       " 'carroll-alice.txt',\n",
       " 'chesterton-ball.txt',\n",
       " 'chesterton-brown.txt',\n",
       " 'chesterton-thursday.txt',\n",
       " 'edgeworth-parents.txt',\n",
       " 'melville-moby_dick.txt',\n",
       " 'milton-paradise.txt',\n",
       " 'shakespeare-caesar.txt',\n",
       " 'shakespeare-hamlet.txt',\n",
       " 'shakespeare-macbeth.txt',\n",
       " 'whitman-leaves.txt']"
      ]
     },
     "execution_count": 28,
     "metadata": {},
     "output_type": "execute_result"
    }
   ],
   "source": [
    "gutenberg.fileids() "
   ]
  },
  {
   "cell_type": "markdown",
   "id": "a1512c88-7b71-458e-86b0-7d848697e375",
   "metadata": {},
   "source": [
    "#### `Quiz` \n",
    "- 각 파일마다 character(글자 수), word(단어 수), sents(문장 수) 개수 출력하기"
   ]
  },
  {
   "cell_type": "code",
   "execution_count": 29,
   "id": "7e963f26-5d69-4d41-85e4-d1440a55a6b3",
   "metadata": {},
   "outputs": [
    {
     "data": {
      "text/plain": [
       "['[', 'Alice', \"'\", 's', 'Adventures', 'in', ...]"
      ]
     },
     "execution_count": 29,
     "metadata": {},
     "output_type": "execute_result"
    }
   ],
   "source": [
    "# 1개만 가져오고 싶을 때,\n",
    "gutenberg.words(fileids='carroll-alice.txt')\n",
    "\n",
    "# 여러 개를 가져오고 싶으면 list 사용!\n",
    "gutenberg.words(fileids=['carroll-alice.txt', 'whitman-leaves.txt'])"
   ]
  },
  {
   "cell_type": "code",
   "execution_count": 35,
   "id": "1baa449a-95c0-42ef-b503-a27da26e4b62",
   "metadata": {},
   "outputs": [
    {
     "name": "stdout",
     "output_type": "stream",
     "text": [
      "austen-emma | 글자 수=887071개, 단어 수=192427개, 문장 수=7752개\n",
      "austen-persuasion | 글자 수=466292개, 단어 수=98171개, 문장 수=3747개\n",
      "austen-sense | 글자 수=673022개, 단어 수=141576개, 문장 수=4999개\n",
      "bible-kjv | 글자 수=4332554개, 단어 수=1010654개, 문장 수=30103개\n",
      "blake-poems | 글자 수=38153개, 단어 수=8354개, 문장 수=438개\n",
      "bryant-stories | 글자 수=249439개, 단어 수=55563개, 문장 수=2863개\n",
      "burgess-busterbrown | 글자 수=84663개, 단어 수=18963개, 문장 수=1054개\n",
      "carroll-alice | 글자 수=144395개, 단어 수=34110개, 문장 수=1703개\n",
      "chesterton-ball | 글자 수=457450개, 단어 수=96996개, 문장 수=4779개\n",
      "chesterton-brown | 글자 수=406629개, 단어 수=86063개, 문장 수=3806개\n",
      "chesterton-thursday | 글자 수=320525개, 단어 수=69213개, 문장 수=3742개\n",
      "edgeworth-parents | 글자 수=935158개, 단어 수=210663개, 문장 수=10230개\n",
      "melville-moby_dick | 글자 수=1242990개, 단어 수=260819개, 문장 수=10059개\n",
      "milton-paradise | 글자 수=468220개, 단어 수=96825개, 문장 수=1851개\n",
      "shakespeare-caesar | 글자 수=112310개, 단어 수=25833개, 문장 수=2163개\n",
      "shakespeare-hamlet | 글자 수=162881개, 단어 수=37360개, 문장 수=3106개\n",
      "shakespeare-macbeth | 글자 수=100351개, 단어 수=23140개, 문장 수=1907개\n",
      "whitman-leaves | 글자 수=711215개, 단어 수=154883개, 문장 수=4250개\n"
     ]
    }
   ],
   "source": [
    "for txt in gutenberg.fileids():\n",
    "    char_num = len(gutenberg.raw(txt))\n",
    "    word_num = len(gutenberg.words(txt))\n",
    "    sent_num = len(gutenberg.sents(txt))\n",
    "    print(f'{txt[:-4:]} | 글자 수={char_num}개, 단어 수={word_num}개, 문장 수={sent_num}개')"
   ]
  },
  {
   "cell_type": "markdown",
   "id": "9dd88617-bbae-4075-877a-54ec7bb88d81",
   "metadata": {},
   "source": [
    "### Gutenberg\n",
    "\n",
    "#### `Quiz`\n",
    "\n",
    "- 1.shakespeare-caesar의 중복된 단어를 거르고 각 단어의 길이를 출력하시오.\n",
    "- 2.chesterton-thursday에서 길이가 4자 이하인 알파벳 중 ie를 포함하는 단어를 소문자로 출력하고, 개수를 세어라.\n",
    "- 3.bryant-stories에서 ch로 끝나는 단어를 출력하는데, 중복 없이, 첫글자(모두 소문자)와 끝 ch만 남기고 가운데 글자들은 모두 -로 가려라. \n",
    "  예: much -> m-ch"
   ]
  },
  {
   "cell_type": "code",
   "execution_count": 40,
   "id": "d5ed8999-3ac4-423f-930d-9e11016866d2",
   "metadata": {},
   "outputs": [
    {
     "name": "stdout",
     "output_type": "stream",
     "text": [
      "[11, 6, 2, 6, 3, 8, 6, 9, 9, 7]\n"
     ]
    }
   ],
   "source": [
    "# 1. 너무 많아서 10개만 출력!\n",
    "file = [word.lower() for word in gutenberg.words('shakespeare-caesar.txt')]\n",
    "word_length = [len(word) for word in set(file)]\n",
    "\n",
    "print(word_length[:10])"
   ]
  },
  {
   "cell_type": "code",
   "execution_count": 41,
   "id": "5e33b451-47d9-4475-9551-d7c2152b5eb4",
   "metadata": {},
   "outputs": [
    {
     "name": "stdout",
     "output_type": "stream",
     "text": [
      "{'view', 'lie', 'tied', 'pier', 'pie', 'died', 'lies', 'dies', 'die', 'foie', 'erie', 'tie'}\n",
      "12\n"
     ]
    }
   ],
   "source": [
    "# 2.\n",
    "txt = gutenberg.words('chesterton-thursday.txt')\n",
    "\n",
    "ie_in_word = set([word.lower() for word in txt \\\n",
    "           if word.isalpha() and (len(word) <= 4) and ('ie' in word)])\n",
    "\n",
    "print(ie_in_word)\n",
    "print(len(ie_in_word))"
   ]
  },
  {
   "cell_type": "code",
   "execution_count": 52,
   "id": "8a87938c-456d-44a9-87a0-7d870f6975d1",
   "metadata": {},
   "outputs": [
    {
     "name": "stdout",
     "output_type": "stream",
     "text": [
      "t---ch\n",
      "b---ch\n",
      "p--ch\n",
      "r--ch\n",
      "s----ch\n",
      "r-ch\n",
      "w--ch\n",
      "p--ch\n",
      "t--ch\n",
      "s---ch\n",
      "s-ch\n",
      "b--ch\n",
      "f--ch\n",
      "l--ch\n",
      "c--ch\n",
      "s----ch\n",
      "e-ch\n",
      "c--ch\n",
      "b--ch\n",
      "m-ch\n",
      "s----ch\n",
      "s---ch\n",
      "s----ch\n",
      "a-ch\n",
      "f---ch\n",
      "b--ch\n",
      "w--ch\n",
      "t--ch\n",
      "p--ch\n",
      "c---ch\n",
      "p--ch\n",
      "p--ch\n",
      "32\n"
     ]
    }
   ],
   "source": [
    "# 3.\n",
    "txt = gutenberg.words('bryant-stories.txt')\n",
    "\n",
    "ch_word = set([word.lower() for word in txt if word.endswith('ch')])\n",
    "\n",
    "for word in ch_word:\n",
    "    print(word.replace(word[1:-2], '-' * len(word[1:-2])))\n",
    "    \n",
    "print(len(ch_word))"
   ]
  },
  {
   "cell_type": "markdown",
   "id": "cf76d1c0-dd17-4dae-93d7-672c8c81657e",
   "metadata": {},
   "source": [
    "### Brown\n",
    "- categories()"
   ]
  },
  {
   "cell_type": "code",
   "execution_count": 50,
   "id": "bc083092-fa11-4374-ac88-2db251889423",
   "metadata": {},
   "outputs": [],
   "source": [
    "brown = nltk.corpus.brown"
   ]
  },
  {
   "cell_type": "code",
   "execution_count": 51,
   "id": "690240ac-8172-4e4a-b750-ee733cd657fd",
   "metadata": {},
   "outputs": [
    {
     "data": {
      "text/plain": [
       "['adventure',\n",
       " 'belles_lettres',\n",
       " 'editorial',\n",
       " 'fiction',\n",
       " 'government',\n",
       " 'hobbies',\n",
       " 'humor',\n",
       " 'learned',\n",
       " 'lore',\n",
       " 'mystery',\n",
       " 'news',\n",
       " 'religion',\n",
       " 'reviews',\n",
       " 'romance',\n",
       " 'science_fiction']"
      ]
     },
     "execution_count": 51,
     "metadata": {},
     "output_type": "execute_result"
    }
   ],
   "source": [
    "brown.categories()"
   ]
  },
  {
   "cell_type": "code",
   "execution_count": 53,
   "id": "2b0bdef6-f846-4f5b-93bb-a014257d61b2",
   "metadata": {},
   "outputs": [],
   "source": [
    "# gutenberg는 받는 인자가 fileid 밖에 없어서, txt를 그냥 넣어줘도 되는데,\n",
    "# brown은 categories='adventure'와 같이 꼭 categories를 써줘야 한다!\n",
    "# brown에는 categories 외에도 fileid도 넣어줄 수 있기 때문,,\n",
    "\n",
    "fdist = nltk.FreqDist([word.lower() for word in brown.words(categories='adventure')])"
   ]
  },
  {
   "cell_type": "code",
   "execution_count": 54,
   "id": "f7ca205a-d05f-40b3-acc7-69149c611589",
   "metadata": {},
   "outputs": [
    {
     "data": {
      "text/plain": [
       "83"
      ]
     },
     "execution_count": 54,
     "metadata": {},
     "output_type": "execute_result"
    }
   ],
   "source": [
    "fdist['men']"
   ]
  },
  {
   "cell_type": "code",
   "execution_count": 55,
   "id": "57aab3d4-43af-44b3-b2cd-de03493b9c72",
   "metadata": {},
   "outputs": [
    {
     "name": "stdout",
     "output_type": "stream",
     "text": [
      "can 48\n",
      "could 154\n",
      "will 51\n",
      "would 194\n",
      "may 7\n",
      "might 59\n"
     ]
    }
   ],
   "source": [
    "# 조동사 modal verbs \n",
    "modals = ['can', 'could', 'will', 'would', 'may', 'might']\n",
    "\n",
    "for verb in modals:\n",
    "    print(verb, fdist[verb])"
   ]
  },
  {
   "cell_type": "markdown",
   "id": "099b5053-e312-46de-a34a-45b8ebec2760",
   "metadata": {},
   "source": [
    "### conditional frequency distribution\n",
    "- 조건에 따른 fdist\n",
    "- brown에서 만든 class"
   ]
  },
  {
   "cell_type": "code",
   "execution_count": 57,
   "id": "683cfd2b-be2d-4c25-b326-a4fdfca0124f",
   "metadata": {},
   "outputs": [],
   "source": [
    "cfd = nltk.ConditionalFreqDist(\n",
    "    # 각 장르에 따른 frequency distribution을 만들기\n",
    "    (genre, word.lower())\n",
    "    for genre in brown.categories()\n",
    "    for word in brown.words(categories=genre)\n",
    ")"
   ]
  },
  {
   "cell_type": "code",
   "execution_count": 58,
   "id": "9b41987d-51dd-41ee-bac5-ba7fe9be2350",
   "metadata": {},
   "outputs": [
    {
     "data": {
      "text/plain": [
       "FreqDist({',': 3899, '.': 3736, 'the': 2988, 'and': 1905, 'to': 1517, 'a': 1383, 'of': 1202, 'he': 1068, '``': 1045, \"''\": 1044, ...})"
      ]
     },
     "execution_count": 58,
     "metadata": {},
     "output_type": "execute_result"
    }
   ],
   "source": [
    "# cfd에서 각 장르를 뽑을 수 있음!\n",
    "cfd['romance']"
   ]
  },
  {
   "cell_type": "code",
   "execution_count": 59,
   "id": "1d49ef02-672b-44f0-b120-6508f06ffe1d",
   "metadata": {},
   "outputs": [
    {
     "data": {
      "text/plain": [
       "[(',', 3899),\n",
       " ('.', 3736),\n",
       " ('the', 2988),\n",
       " ('and', 1905),\n",
       " ('to', 1517),\n",
       " ('a', 1383),\n",
       " ('of', 1202),\n",
       " ('he', 1068),\n",
       " ('``', 1045),\n",
       " (\"''\", 1044)]"
      ]
     },
     "execution_count": 59,
     "metadata": {},
     "output_type": "execute_result"
    }
   ],
   "source": [
    "cfd['romance'].most_common(10)"
   ]
  },
  {
   "cell_type": "code",
   "execution_count": 60,
   "id": "e63520b4-2bd1-4873-a25a-84e755147b25",
   "metadata": {},
   "outputs": [
    {
     "data": {
      "text/plain": [
       "36"
      ]
     },
     "execution_count": 60,
     "metadata": {},
     "output_type": "execute_result"
    }
   ],
   "source": [
    "# romance에서 love가 몇 번 나왔나?\n",
    "cfd['romance']['love']"
   ]
  },
  {
   "cell_type": "markdown",
   "id": "10ce9990-7a86-4c86-af7c-56105411099b",
   "metadata": {},
   "source": [
    "- gutenberg, brown에서 연습 많이 해보기\n",
    "- 시험은 for loop, fdist 등 다양하게 출제"
   ]
  }
 ],
 "metadata": {
  "kernelspec": {
   "display_name": "Python 3 (ipykernel)",
   "language": "python",
   "name": "python3"
  },
  "language_info": {
   "codemirror_mode": {
    "name": "ipython",
    "version": 3
   },
   "file_extension": ".py",
   "mimetype": "text/x-python",
   "name": "python",
   "nbconvert_exporter": "python",
   "pygments_lexer": "ipython3",
   "version": "3.9.7"
  }
 },
 "nbformat": 4,
 "nbformat_minor": 5
}
