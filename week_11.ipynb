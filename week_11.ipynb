{
 "cells": [
  {
   "cell_type": "markdown",
   "id": "c71ba590-53c2-4d7e-81fa-6f328fedd155",
   "metadata": {},
   "source": [
    "# 11주차 (0513) Review\n",
    "---"
   ]
  },
  {
   "cell_type": "markdown",
   "id": "8a0e50f2-a8b6-475f-af1a-c9d9893fec9c",
   "metadata": {},
   "source": [
    "## 객체 II\n",
    "- 상속 (inheritance)\n",
    "- 재사용을 할 때, 클래스 A, 클래스 B. \n",
    "    - A와 B가 아주 비슷한 경우\n",
    "    - `A의 대부분을 쓰고 나머지를 추가, 변경하고 싶다.`\n",
    "    - 모든 것을 복사 붙여넣기 => 싫을 때!\n",
    "    - 부모의 모든 속성을 그대로 가져와서 사용하겠다.\n",
    "- 반복되는 부분을 쓰지 않고, 물려받겠다.\n",
    "- A <- B \n",
    "    - A : `부모, 슈퍼, 베이스` + 클래스\n",
    "    - B : `자식, 서브, derived` + 클래스\n",
    "- 자식 클래스는 부모 클래스를 구체화한다.\n",
    "- is-a 관계 : Car is-a Vehicle (포함된다는 개념)"
   ]
  },
  {
   "cell_type": "code",
   "execution_count": 1,
   "id": "ce722d38-04e7-44e7-bee6-db208083c58a",
   "metadata": {},
   "outputs": [],
   "source": [
    "# parent, super class\n",
    "class Vehicle: \n",
    "    def __init__(self, speed):\n",
    "        self.speed = speed\n",
    "        \n",
    "    def go(self):\n",
    "        print(f'{self.speed}의 속도로 달린다.')\n",
    "        \n",
    "\n",
    "# child, sub class\n",
    "class Car(Vehicle):\n",
    "    pass"
   ]
  },
  {
   "cell_type": "code",
   "execution_count": 2,
   "id": "b5bfb5d3-97d2-4012-a58e-3062ab13b72c",
   "metadata": {},
   "outputs": [
    {
     "name": "stdout",
     "output_type": "stream",
     "text": [
      "20km/h의 속도로 달린다.\n"
     ]
    }
   ],
   "source": [
    "car = Car('20km/h')\n",
    "car.go() # 부모의 메서드를 탄다, 부모를 제대로 상속했음!"
   ]
  },
  {
   "cell_type": "markdown",
   "id": "05414dcf-cf3b-4bab-954f-288cb138b4be",
   "metadata": {},
   "source": [
    "### 변수 추가, 변경\n",
    "- 접근: super()\n",
    "- ```\n",
    "super().__init__(부모의 변수 중에서 가져올 것을 선택)\n",
    "```"
   ]
  },
  {
   "cell_type": "code",
   "execution_count": 3,
   "id": "7add2102-3f74-46da-98b5-d7df6a16cebb",
   "metadata": {},
   "outputs": [],
   "source": [
    "class Car(Vehicle):\n",
    "    def __init__(self, speed, brand):\n",
    "        # speed => 부모 것\n",
    "        super().__init__(speed) # Vehicle().speed와 동일\n",
    "        \n",
    "        # brand => 자식 것\n",
    "        self.brand = brand # 나의 고유한 특성"
   ]
  },
  {
   "cell_type": "code",
   "execution_count": 4,
   "id": "3b24946d-31a7-43e6-87c9-16ae90aab9bd",
   "metadata": {},
   "outputs": [
    {
     "name": "stdout",
     "output_type": "stream",
     "text": [
      "20km/h의 속도로 달린다.\n"
     ]
    },
    {
     "data": {
      "text/plain": [
       "'kia'"
      ]
     },
     "execution_count": 4,
     "metadata": {},
     "output_type": "execute_result"
    }
   ],
   "source": [
    "car2 = Car('20km/h', 'kia')\n",
    "\n",
    "car2.go()\n",
    "car2.brand"
   ]
  },
  {
   "cell_type": "code",
   "execution_count": 5,
   "id": "3a8ab601-be34-4db1-a437-4f8531561b70",
   "metadata": {},
   "outputs": [
    {
     "ename": "AttributeError",
     "evalue": "'Vehicle' object has no attribute 'brand'",
     "output_type": "error",
     "traceback": [
      "\u001b[0;31m---------------------------------------------------------------------------\u001b[0m",
      "\u001b[0;31mAttributeError\u001b[0m                            Traceback (most recent call last)",
      "\u001b[0;32m/var/folders/mj/8pckvyp56672pjbch70f49440000gn/T/ipykernel_14449/338417260.py\u001b[0m in \u001b[0;36m<module>\u001b[0;34m\u001b[0m\n\u001b[1;32m      1\u001b[0m \u001b[0mv\u001b[0m \u001b[0;34m=\u001b[0m \u001b[0mVehicle\u001b[0m\u001b[0;34m(\u001b[0m\u001b[0;34m'33km/h'\u001b[0m\u001b[0;34m)\u001b[0m\u001b[0;34m\u001b[0m\u001b[0;34m\u001b[0m\u001b[0m\n\u001b[0;32m----> 2\u001b[0;31m \u001b[0mv\u001b[0m\u001b[0;34m.\u001b[0m\u001b[0mbrand\u001b[0m \u001b[0;31m# 부모는 brand가 없으므로 오류!\u001b[0m\u001b[0;34m\u001b[0m\u001b[0;34m\u001b[0m\u001b[0m\n\u001b[0m",
      "\u001b[0;31mAttributeError\u001b[0m: 'Vehicle' object has no attribute 'brand'"
     ]
    }
   ],
   "source": [
    "v = Vehicle('33km/h')\n",
    "v.brand # 부모는 brand가 없으므로 오류!"
   ]
  },
  {
   "cell_type": "markdown",
   "id": "4ba370be-ccfe-47a4-84c6-fa262bd2e27c",
   "metadata": {},
   "source": [
    "### 메소드 추가, 변경\n",
    "- override하면 부모의 메서드가 잊힌다."
   ]
  },
  {
   "cell_type": "code",
   "execution_count": 6,
   "id": "9dfb9a92-0bf8-4ff0-aa7c-6a3189a83e53",
   "metadata": {},
   "outputs": [],
   "source": [
    "class Car(Vehicle):\n",
    "    def __init__(self, speed, brand):\n",
    "        # self.speed를 쓰지 않는 이유?\n",
    "        # 부모 것을 가져올 것이기 때문!\n",
    "        super().__init__(speed)  \n",
    "        self.brand = brand\n",
    "        \n",
    "    # 오버라이드(override): 재정의\n",
    "    # 부모 클래스에 있던 함수를 다시 정의하는 것\n",
    "    def go(self):\n",
    "        # Q. 부모의 go도 함께 가져가고 싶다면?\n",
    "        super().go()\n",
    "        print(f'차종 {self.brand}의 속도 {self.speed}')\n",
    "        \n",
    "    # 메소드 추가\n",
    "    def stop():\n",
    "        pass"
   ]
  },
  {
   "cell_type": "code",
   "execution_count": 7,
   "id": "b337f5d8-fe0c-437d-af4e-6ec198385b2e",
   "metadata": {},
   "outputs": [
    {
     "name": "stdout",
     "output_type": "stream",
     "text": [
      "33km/h의 속도로 달린다.\n",
      "차종 mini의 속도 33km/h\n"
     ]
    }
   ],
   "source": [
    "car3 = Car('33km/h', 'mini')\n",
    "car3.go()"
   ]
  },
  {
   "cell_type": "markdown",
   "id": "223c454d-c6d6-4aa8-b6cf-ec4f5b3565b7",
   "metadata": {},
   "source": [
    "#### `실습`"
   ]
  },
  {
   "cell_type": "code",
   "execution_count": 8,
   "id": "8ed54651-fa7b-4ed3-bac7-65416215a935",
   "metadata": {},
   "outputs": [
    {
     "name": "stdout",
     "output_type": "stream",
     "text": [
      "Dr.pablo\n",
      "Mr.pablo\n",
      "Mrs.pablo\n"
     ]
    }
   ],
   "source": [
    "class Person:\n",
    "    def __init__(self, name):\n",
    "        self.name = name # pablo\n",
    "        \n",
    "# ---------------------------\n",
    "class Doctor(Person): # Dr.pablo\n",
    "    def __init__(self, name):\n",
    "        super().__init__(name)\n",
    "        self.name = \"Dr.\" + name\n",
    "        # 위 두 가지를 합친 버전\n",
    "        # super().__init__(f'Dr. {name}')\n",
    "\n",
    "class Male(Person): # Mr.pablo\n",
    "    def __init__(self, name):\n",
    "        super().__init__('Mr.' + name)\n",
    "\n",
    "class Female(Person): # Mrs.pablo\n",
    "    def __init__(self, name):\n",
    "        super().__init__(f'Mrs.{name}')\n",
    "        \n",
    "        \n",
    "doctor = Doctor('pablo')\n",
    "print(doctor.name)\n",
    "\n",
    "male = Male('pablo')\n",
    "print(male.name)\n",
    "\n",
    "female = Female('pablo')\n",
    "print(female.name)"
   ]
  },
  {
   "cell_type": "markdown",
   "id": "c91fd8de-68c7-448e-95d0-e7899ab9af9e",
   "metadata": {},
   "source": [
    "### 다중상속\n",
    "- 부모가 여럿인 경우\n",
    "- 누구 것을 가지고 올 것인가?\n",
    "- method resolution order(MRO)\n",
    "- ```\n",
    "Animal <- Horse\n",
    "         <- Donkey\n",
    "             <- Mule (Donkey > Horse) # Donkey의 속성이 강함\n",
    "             <- Hinny (Horse > Donkey) # Horse의 속성이 강함\n",
    "```"
   ]
  },
  {
   "cell_type": "code",
   "execution_count": 9,
   "id": "9252c662-127c-4f41-8eb2-1b38873cfc64",
   "metadata": {},
   "outputs": [
    {
     "name": "stdout",
     "output_type": "stream",
     "text": [
      "히이호\n",
      "히히힝\n"
     ]
    },
    {
     "data": {
      "text/plain": [
       "[__main__.Mule, __main__.Donkey, __main__.Horse, __main__.Animal, object]"
      ]
     },
     "execution_count": 9,
     "metadata": {},
     "output_type": "execute_result"
    }
   ],
   "source": [
    "class Animal:\n",
    "    def says(self):\n",
    "        return '동물이 운다.'\n",
    "    \n",
    "    \n",
    "# 자식\n",
    "class Horse(Animal):\n",
    "    def says(self):\n",
    "        # super().says() # => 할머니를 기억하는 코드!\n",
    "        return '히히힝'\n",
    "    \n",
    "    \n",
    "class Donkey(Animal):\n",
    "    def says(self):\n",
    "        return '히이호'\n",
    "\n",
    "# 손주\n",
    "# 다중 상속의 경우 가까운 부모부터!\n",
    "class Mule(Donkey, Horse):\n",
    "    pass\n",
    "\n",
    "class Hinny(Horse, Donkey):\n",
    "    pass\n",
    "\n",
    "\n",
    "print(Mule().says()) # Donkey의 속성을 먼저!\n",
    "print(Hinny().says()) # Horse의 속성을 먼저!\n",
    "\n",
    "# 계층 구조가 불분명할 때, 뭐가 가장 가까운지 나오는 코드\n",
    "# 클래스 이름 + mro\n",
    "Mule.mro()"
   ]
  },
  {
   "cell_type": "markdown",
   "id": "f2d28330-153d-4a7c-9161-3a5227c85bab",
   "metadata": {},
   "source": [
    "### 다형성\n",
    "- 형태는 다르지만, 기능은 같다.\n",
    "- 객체가 다른데도, 같은 메소드를 가지고 있으면 같은 기능 수행 가능!"
   ]
  },
  {
   "cell_type": "code",
   "execution_count": 10,
   "id": "1761f08f-781d-4a03-beaa-3cad21d9f740",
   "metadata": {},
   "outputs": [
    {
     "name": "stdout",
     "output_type": "stream",
     "text": [
      "히이호\n",
      "히이호\n",
      "동물이 운다.\n"
     ]
    }
   ],
   "source": [
    "# 다른 객체일지라도 다 같은 기능을 할 수 있다!\n",
    "for animal in [Mule(), Donkey(), Animal()]:\n",
    "    print(animal.says())"
   ]
  },
  {
   "cell_type": "markdown",
   "id": "8810b724-af38-42f9-b9c2-93b040203d78",
   "metadata": {},
   "source": [
    "### 메서드 타입 I\n",
    "- 인스턴스 메서드\n",
    "    - 우리가 지금 쓰고 있는 메서드\n",
    "    - self가 1번 인자\n",
    "    - 객체 생성 -> 사용 가능\n",
    "- 클래스 메서드\n",
    "    - 객체를 생성하지 않아도 사용이 가능한 메서드\n",
    "    - 인스턴스에 접근하는 것이 아니라, 클래스에 접근을 하는 메서드 \n",
    "    - `@classmethod` 데코레이터 사용\n",
    "    - 예약어는 cls\n",
    "    - 함수(cls)가 1번 인자\n",
    "    - class Person, cls는 Person 자체!"
   ]
  },
  {
   "cell_type": "code",
   "execution_count": 11,
   "id": "116f6708-39ff-449b-8ea3-36293978b9b3",
   "metadata": {},
   "outputs": [
    {
     "data": {
      "text/plain": [
       "'히이호'"
      ]
     },
     "execution_count": 11,
     "metadata": {},
     "output_type": "execute_result"
    }
   ],
   "source": [
    "# 1. 인스턴스 메서드\n",
    "a = Mule() # 객체 생성\n",
    "a.says() # 사용 "
   ]
  },
  {
   "cell_type": "code",
   "execution_count": 12,
   "id": "cf586d0f-a78d-462b-a835-9336be13a214",
   "metadata": {},
   "outputs": [
    {
     "ename": "TypeError",
     "evalue": "says() missing 1 required positional argument: 'self'",
     "output_type": "error",
     "traceback": [
      "\u001b[0;31m---------------------------------------------------------------------------\u001b[0m",
      "\u001b[0;31mTypeError\u001b[0m                                 Traceback (most recent call last)",
      "\u001b[0;32m/var/folders/mj/8pckvyp56672pjbch70f49440000gn/T/ipykernel_14449/1455567425.py\u001b[0m in \u001b[0;36m<module>\u001b[0;34m\u001b[0m\n\u001b[1;32m      1\u001b[0m \u001b[0;31m# 오류, 바로 객체 생성 불가, 왜냐면 self가 없기 때문!\u001b[0m\u001b[0;34m\u001b[0m\u001b[0;34m\u001b[0m\u001b[0m\n\u001b[0;32m----> 2\u001b[0;31m \u001b[0mMule\u001b[0m\u001b[0;34m.\u001b[0m\u001b[0msays\u001b[0m\u001b[0;34m(\u001b[0m\u001b[0;34m)\u001b[0m\u001b[0;34m\u001b[0m\u001b[0;34m\u001b[0m\u001b[0m\n\u001b[0m",
      "\u001b[0;31mTypeError\u001b[0m: says() missing 1 required positional argument: 'self'"
     ]
    }
   ],
   "source": [
    "# 오류, 바로 객체 생성 불가, 왜냐면 self가 없기 때문!\n",
    "Mule.says()"
   ]
  },
  {
   "cell_type": "code",
   "execution_count": 13,
   "id": "aa81e409-df73-45d3-88e5-501d5c01bfde",
   "metadata": {},
   "outputs": [
    {
     "data": {
      "text/plain": [
       "0"
      ]
     },
     "execution_count": 13,
     "metadata": {},
     "output_type": "execute_result"
    }
   ],
   "source": [
    "# 2. 클래스 메서드\n",
    "class A:\n",
    "    cnt = 0\n",
    "    \n",
    "    @classmethod\n",
    "    def move(cls):\n",
    "        return cls.cnt\n",
    "    \n",
    "\n",
    "A.move() # 이렇게 바로 접근이 가능!"
   ]
  },
  {
   "cell_type": "code",
   "execution_count": 14,
   "id": "10fb4d98-1fb9-4934-9eca-a4a1280f018e",
   "metadata": {},
   "outputs": [
    {
     "name": "stdout",
     "output_type": "stream",
     "text": [
      "kim\n",
      "24\n"
     ]
    }
   ],
   "source": [
    "class Person:\n",
    "    def __init__(self, name, age):\n",
    "        self.name = name\n",
    "        self.age = age\n",
    "        \n",
    "    @classmethod\n",
    "    def tuple_object(cls, args):\n",
    "        # cls(arg1, arg2)로도 갈 수 있다.\n",
    "        return cls(args[0], args[1])\n",
    "    \n",
    "\n",
    "name = 'kim'\n",
    "age = 24\n",
    "p = Person(name, age)\n",
    "\n",
    "# p객체 생성할 때 튜플로 넣어도 객체가 만들어짐! \n",
    "info = name, age\n",
    "p = Person.tuple_object(info) \n",
    "\n",
    "\n",
    "print(p.name)\n",
    "print(p.age)"
   ]
  },
  {
   "cell_type": "code",
   "execution_count": 15,
   "id": "03471e6a-1d15-4288-ab8e-21a1e0909f57",
   "metadata": {},
   "outputs": [
    {
     "data": {
      "text/plain": [
       "'객체 수 : 3'"
      ]
     },
     "execution_count": 15,
     "metadata": {},
     "output_type": "execute_result"
    }
   ],
   "source": [
    "# 주의!\n",
    "class A:\n",
    "    # 붕어빵 몇 개?\n",
    "    # cnt += 1의 위치는?\n",
    "    \n",
    "    cnt = 0\n",
    "    \n",
    "    def __init__(self):\n",
    "        A.cnt += 1 # 이 부분이 예외!\n",
    "    \n",
    "    \n",
    "    @classmethod\n",
    "    def count(cls):\n",
    "        return f'객체 수 : {cls.cnt}'\n",
    "    \n",
    "    \n",
    "A()\n",
    "A()\n",
    "A()\n",
    "A.count() # 3"
   ]
  },
  {
   "cell_type": "markdown",
   "id": "1e9c14c1-aa5f-4d04-b21f-24ca31363c8e",
   "metadata": {},
   "source": [
    "### 메서드 타입 II\n",
    "- 정적 메서드\n",
    "    - 클래스 메서드와의 공통점: 객체를 생성하지 않아도 됨!\n",
    "    - 클래스랑 전혀 상관이 없기 때문에 접근이 가능한 것!\n",
    "    - 내용이나 기능이 클래스와 비슷하여 클래스 내에 묶어 두었음.\n",
    "- 추상 메서드\n",
    "    - 추상 클래스를 선언을 하고 사용\n",
    "    - abstract 이름만 존재함!\n",
    "    - 설계도 역할;\n",
    "        - 클래스 안의 메서드와 변수가 엄청 많은데, \n",
    "        - 이것을 한 줄로 일목요연하게 표현할 수 있는 기능\n",
    "    - 추상클래스를 상속하는 자식클래스는 반드시 구현해야하는 메소드를 정의한다."
   ]
  },
  {
   "cell_type": "code",
   "execution_count": 16,
   "id": "4544b23f-ed46-4bb4-8af6-b4ec2cb1835d",
   "metadata": {},
   "outputs": [
    {
     "name": "stdout",
     "output_type": "stream",
     "text": [
      "hi\n"
     ]
    }
   ],
   "source": [
    "# 3. 정적 메서드\n",
    "class Coyote:\n",
    "    @staticmethod\n",
    "    def says(): # self 없음! 딕셔너리에 저장하는 것과 비슷\n",
    "        print('hi')\n",
    "        \n",
    "Coyote.says()"
   ]
  },
  {
   "cell_type": "code",
   "execution_count": 17,
   "id": "efcddbb1-e971-487a-86c6-3a323040fc74",
   "metadata": {},
   "outputs": [
    {
     "data": {
      "text/plain": [
       "<__main__.Car at 0x7ff120574fd0>"
      ]
     },
     "execution_count": 17,
     "metadata": {},
     "output_type": "execute_result"
    }
   ],
   "source": [
    "# 4. 추상 메서드\n",
    "from abc import *\n",
    "\n",
    "# 추상 클래스 설정하는 방법! metaclass=ABCMeta\n",
    "class Vehicle(metaclass=ABCMeta):\n",
    "    speed = '속도'\n",
    "    \n",
    "    @abstractmethod\n",
    "    def go(self):\n",
    "        print('탈 것이 간다.')\n",
    "        \n",
    "    \"\"\"\n",
    "    def stop(self):\n",
    "        pass\n",
    "    \"\"\"\n",
    "    \n",
    "# go를 override하지 않으면 인스턴스를 만들 수 없다.\n",
    "class Car(Vehicle):\n",
    "    # go를 선언해줘야 만들어진다! (의무)\n",
    "    def go(self):\n",
    "        print(\"\")\n",
    "        \n",
    "\n",
    "Car()"
   ]
  }
 ],
 "metadata": {
  "kernelspec": {
   "display_name": "Python 3 (ipykernel)",
   "language": "python",
   "name": "python3"
  },
  "language_info": {
   "codemirror_mode": {
    "name": "ipython",
    "version": 3
   },
   "file_extension": ".py",
   "mimetype": "text/x-python",
   "name": "python",
   "nbconvert_exporter": "python",
   "pygments_lexer": "ipython3",
   "version": "3.9.7"
  }
 },
 "nbformat": 4,
 "nbformat_minor": 5
}
